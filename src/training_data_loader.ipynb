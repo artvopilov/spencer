{
 "cells": [
  {
   "cell_type": "code",
   "execution_count": 92,
   "metadata": {},
   "outputs": [],
   "source": [
    "import os\n",
    "import time\n",
    "import importlib\n",
    "\n",
    "from matplotlib.pyplot import figure\n",
    "import matplotlib.pyplot as plt\n",
    "import pandas as pd\n",
    "import tqdm\n",
    "\n",
    "from alpha_vantage.timeseries import TimeSeries\n",
    "from alpha_vantage.techindicators import TechIndicators\n",
    "\n",
    "import common\n",
    "importlib.reload(common)\n",
    "from common import get_daily_time_series_df, get_technical_indicators_df\n"
   ]
  },
  {
   "cell_type": "markdown",
   "metadata": {},
   "source": [
    "## Prepare API"
   ]
  },
  {
   "cell_type": "code",
   "execution_count": 93,
   "metadata": {},
   "outputs": [],
   "source": [
    "# Your key here\n",
    "key = 'MXSJTESP5AWNK9TI'\n",
    "# key2 = 'ZREY69EDDAF2TRSB'\n",
    "# key3 = '4Q11GLKMBNKWBAXQ'\n",
    "# key4 = 'JWTALK9R7TRD05NY'\n",
    "# key5 = 'WSR1YG7T6LSBKMVE'"
   ]
  },
  {
   "cell_type": "code",
   "execution_count": 94,
   "metadata": {},
   "outputs": [],
   "source": [
    "ts = TimeSeries(key, output_format='pandas')\n",
    "ti = TechIndicators(key, output_format='pandas')"
   ]
  },
  {
   "cell_type": "markdown",
   "metadata": {},
   "source": [
    "## Get S&P 500 companies' symbols"
   ]
  },
  {
   "cell_type": "code",
   "execution_count": 95,
   "metadata": {},
   "outputs": [],
   "source": [
    "with open('../sp_500_symbols.txt', 'r') as f:\n",
    "    sp_500_symbols = f.read().split('\\n')[:-1]"
   ]
  },
  {
   "cell_type": "code",
   "execution_count": 96,
   "metadata": {},
   "outputs": [
    {
     "name": "stdout",
     "output_type": "stream",
     "text": [
      "505\n",
      "['MMM', 'AOS', 'ABT', 'ABBV', 'ACN']\n"
     ]
    }
   ],
   "source": [
    "print(len(sp_500_symbols))\n",
    "print(sp_500_symbols[:5])"
   ]
  },
  {
   "cell_type": "markdown",
   "metadata": {},
   "source": [
    "## Load training data"
   ]
  },
  {
   "cell_type": "code",
   "execution_count": 87,
   "metadata": {},
   "outputs": [],
   "source": [
    "time_series_dir = '../time_series_data'\n",
    "tech_ind_dir = '../tech_ind_data'\n",
    "\n",
    "if not os.path.exists(time_series_dir):\n",
    "    os.mkdir(time_series_dir)\n",
    "if not os.path.exists(tech_ind_dir):\n",
    "    os.mkdir(tech_ind_dir)"
   ]
  },
  {
   "cell_type": "code",
   "execution_count": 89,
   "metadata": {},
   "outputs": [],
   "source": [
    "def load_training_data(ts, ti, symbols):\n",
    "    for stock in tqdm.tqdm(symbols):\n",
    "        stock_ts_df = get_daily_time_series_df(ts, stock)\n",
    "        stock_ts_df.to_csv('{}/{}_time_series.csv'.format(time_series_dir, stock))\n",
    "        time.sleep(61)  # API calls frequency restrictions\n",
    "        stock_ti_df = get_technical_indicators_df(ti, stock)\n",
    "        stock_ti_df.to_csv('{}/{}_tech_ind.csv'.format(tech_ind_dir, stock))\n",
    "        time.sleep(61)  # API calls frequency restrictions"
   ]
  },
  {
   "cell_type": "code",
   "execution_count": 91,
   "metadata": {},
   "outputs": [],
   "source": [
    "load_training_data(ts, ti, sp_500_symbols)"
   ]
  },
  {
   "cell_type": "code",
   "execution_count": null,
   "metadata": {},
   "outputs": [],
   "source": []
  }
 ],
 "metadata": {
  "kernelspec": {
   "display_name": "Python 3",
   "language": "python",
   "name": "python3"
  },
  "language_info": {
   "codemirror_mode": {
    "name": "ipython",
    "version": 3
   },
   "file_extension": ".py",
   "mimetype": "text/x-python",
   "name": "python",
   "nbconvert_exporter": "python",
   "pygments_lexer": "ipython3",
   "version": "3.6.9"
  }
 },
 "nbformat": 4,
 "nbformat_minor": 2
}
