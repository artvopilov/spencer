{
 "cells": [
  {
   "cell_type": "code",
   "execution_count": 22,
   "metadata": {},
   "outputs": [],
   "source": [
    "import numpy as np\n",
    "import pandas as pd\n",
    "import matplotlib.pyplot as plt\n",
    "import seaborn as sns\n",
    "sns.set(style=\"darkgrid\")"
   ]
  },
  {
   "cell_type": "code",
   "execution_count": 46,
   "metadata": {},
   "outputs": [],
   "source": [
    "def get_hp(torque, rpm):\n",
    "    return torque * rpm / 9549 * 1.36\n",
    "\n",
    "def rpm_to_torque(rpm, max_torque, max_torque_rpm, factor=1):\n",
    "    diff_rpm_abs = abs(max_torque_rpm - rpm)\n",
    "    \n",
    "    if rpm < max_torque_rpm:\n",
    "        return max_torque * (1 - diff_rpm_abs / max_torque_rpm * factor)\n",
    "    else:\n",
    "        return max_torque * (1 - diff_rpm_abs / max_torque_rpm)"
   ]
  },
  {
   "cell_type": "code",
   "execution_count": 47,
   "metadata": {},
   "outputs": [],
   "source": [
    "# 300; 6000; 256;\n",
    "# 400; 4000; 227"
   ]
  },
  {
   "cell_type": "code",
   "execution_count": 48,
   "metadata": {},
   "outputs": [],
   "source": [
    "rpm_list = [i for i in range(1000, 7500, 500)]"
   ]
  },
  {
   "cell_type": "code",
   "execution_count": 49,
   "metadata": {},
   "outputs": [],
   "source": [
    "torque_list_1 = list(map(lambda i: rpm_to_torque(i, 300, 6000), rpm_list))\n",
    "hp_list_1 = list(map(lambda i: get_hp(i[0], i[1]), zip(torque_list_1, rpm_list)))\n",
    "\n",
    "torque_list_2 = list(map(lambda i: rpm_to_torque(i, 400, 4000, .1), rpm_list))\n",
    "hp_list_2 = list(map(lambda i: get_hp(i[0], i[1]), zip(torque_list_2, rpm_list)))"
   ]
  },
  {
   "cell_type": "code",
   "execution_count": 65,
   "metadata": {},
   "outputs": [
    {
     "data": {
      "text/html": [
       "<div>\n",
       "<style scoped>\n",
       "    .dataframe tbody tr th:only-of-type {\n",
       "        vertical-align: middle;\n",
       "    }\n",
       "\n",
       "    .dataframe tbody tr th {\n",
       "        vertical-align: top;\n",
       "    }\n",
       "\n",
       "    .dataframe thead th {\n",
       "        text-align: right;\n",
       "    }\n",
       "</style>\n",
       "<table border=\"1\" class=\"dataframe\">\n",
       "  <thead>\n",
       "    <tr style=\"text-align: right;\">\n",
       "      <th></th>\n",
       "      <th>rpm_list</th>\n",
       "      <th>signal</th>\n",
       "      <th>car</th>\n",
       "      <th>signal_type</th>\n",
       "    </tr>\n",
       "  </thead>\n",
       "  <tbody>\n",
       "    <tr>\n",
       "      <th>0</th>\n",
       "      <td>1000</td>\n",
       "      <td>50.0</td>\n",
       "      <td>1</td>\n",
       "      <td>torque</td>\n",
       "    </tr>\n",
       "    <tr>\n",
       "      <th>1</th>\n",
       "      <td>1500</td>\n",
       "      <td>75.0</td>\n",
       "      <td>1</td>\n",
       "      <td>torque</td>\n",
       "    </tr>\n",
       "    <tr>\n",
       "      <th>2</th>\n",
       "      <td>2000</td>\n",
       "      <td>100.0</td>\n",
       "      <td>1</td>\n",
       "      <td>torque</td>\n",
       "    </tr>\n",
       "    <tr>\n",
       "      <th>3</th>\n",
       "      <td>2500</td>\n",
       "      <td>125.0</td>\n",
       "      <td>1</td>\n",
       "      <td>torque</td>\n",
       "    </tr>\n",
       "    <tr>\n",
       "      <th>4</th>\n",
       "      <td>3000</td>\n",
       "      <td>150.0</td>\n",
       "      <td>1</td>\n",
       "      <td>torque</td>\n",
       "    </tr>\n",
       "  </tbody>\n",
       "</table>\n",
       "</div>"
      ],
      "text/plain": [
       "   rpm_list  signal  car signal_type\n",
       "0      1000    50.0    1      torque\n",
       "1      1500    75.0    1      torque\n",
       "2      2000   100.0    1      torque\n",
       "3      2500   125.0    1      torque\n",
       "4      3000   150.0    1      torque"
      ]
     },
     "execution_count": 65,
     "metadata": {},
     "output_type": "execute_result"
    }
   ],
   "source": [
    "l = len(rpm_list)\n",
    "df = pd.DataFrame(dict(rpm_list=rpm_list * 4, \n",
    "                       signal=torque_list_1 +  hp_list_1 + torque_list_2 + hp_list_2, \n",
    "                       car=[1] * l * 2 + [2] * l * 2,\n",
    "                       signal_type=['torque'] * l + ['hp'] * l + ['torque'] * l +['hp'] * l))\n",
    "df.head()"
   ]
  },
  {
   "cell_type": "code",
   "execution_count": 68,
   "metadata": {},
   "outputs": [
    {
     "data": {
      "image/png": "[encoded data removed]",
      "text/plain": [
       "<Figure size 462.6x360 with 1 Axes>"
      ]
     },
     "metadata": {},
     "output_type": "display_data"
    }
   ],
   "source": [
    "sns.relplot(x=\"rpm_list\", y=\"signal\", hue=\"signal_type\", style=\"car\", kind=\"line\", data=df);"
   ]
  },
  {
   "cell_type": "code",
   "execution_count": null,
   "metadata": {},
   "outputs": [],
   "source": []
  }
 ],
 "metadata": {
  "kernelspec": {
   "display_name": "Python 3",
   "language": "python",
   "name": "python3"
  },
  "language_info": {
   "codemirror_mode": {
    "name": "ipython",
    "version": 3
   },
   "file_extension": ".py",
   "mimetype": "text/x-python",
   "name": "python",
   "nbconvert_exporter": "python",
   "pygments_lexer": "ipython3",
   "version": "3.6.9"
  }
 },
 "nbformat": 4,
 "nbformat_minor": 2
}
