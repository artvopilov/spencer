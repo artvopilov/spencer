{
 "cells": [
  {
   "cell_type": "code",
   "execution_count": 1,
   "metadata": {},
   "outputs": [],
   "source": [
    "import os\n",
    "import time\n",
    "import importlib\n",
    "import tqdm\n",
    "\n",
    "import alpha_vantage\n",
    "from alpha_vantage.timeseries import TimeSeries\n",
    "from alpha_vantage.techindicators import TechIndicators\n",
    "\n",
    "import catboost\n",
    "from catboost import CatBoostClassifier\n",
    "import pandas as pd\n",
    "\n",
    "import common\n",
    "importlib.reload(common)\n",
    "from common import chech_if_should_buy, get_technical_indicators_df"
   ]
  },
  {
   "cell_type": "markdown",
   "metadata": {},
   "source": [
    "# Prepare API"
   ]
  },
  {
   "cell_type": "code",
   "execution_count": 2,
   "metadata": {},
   "outputs": [],
   "source": [
    "key = 'W79HC61KBLPCXW6C'"
   ]
  },
  {
   "cell_type": "code",
   "execution_count": 3,
   "metadata": {},
   "outputs": [],
   "source": [
    "ti = TechIndicators(key, output_format='pandas')\n",
    "ts = TimeSeries(key, output_format='pandas')"
   ]
  },
  {
   "cell_type": "markdown",
   "metadata": {},
   "source": [
    "# Get S&P 500 companies' symbols"
   ]
  },
  {
   "cell_type": "code",
   "execution_count": 4,
   "metadata": {},
   "outputs": [],
   "source": [
    "with open('../sp_500_symbols.txt', 'r') as f:\n",
    "    sp_500_symbols = f.read().split('\\n')[:-1]"
   ]
  },
  {
   "cell_type": "code",
   "execution_count": 5,
   "metadata": {},
   "outputs": [
    {
     "name": "stdout",
     "output_type": "stream",
     "text": [
      "505\n",
      "['MMM', 'AOS', 'ABT', 'ABBV', 'ACN']\n"
     ]
    }
   ],
   "source": [
    "print(len(sp_500_symbols))\n",
    "print(sp_500_symbols[:5])"
   ]
  },
  {
   "cell_type": "markdown",
   "metadata": {},
   "source": [
    "# Identify stocks to buy "
   ]
  },
  {
   "cell_type": "code",
   "execution_count": 6,
   "metadata": {},
   "outputs": [
    {
     "data": {
      "text/plain": [
       "<catboost.core.CatBoostClassifier at 0x7f8f1dc08ba8>"
      ]
     },
     "execution_count": 6,
     "metadata": {},
     "output_type": "execute_result"
    }
   ],
   "source": [
    "classifier = CatBoostClassifier()\n",
    "models_path = 'models'\n",
    "model_path = os.path.join(models_path, 'model_v3')\n",
    "classifier.load_model(model_path)"
   ]
  },
  {
   "cell_type": "code",
   "execution_count": 7,
   "metadata": {},
   "outputs": [],
   "source": [
    "tech_ind_df_offset = pd.read_csv(os.path.join(models_path, 'model_v3_offset'), header = None, \n",
    "                                 index_col = 0, squeeze = True).drop('target')\n",
    "tech_ind_df_scale = pd.read_csv(os.path.join(models_path, 'model_v3_scale'), header = None, \n",
    "                                index_col = 0, squeeze = True).drop('target')"
   ]
  },
  {
   "cell_type": "code",
   "execution_count": 14,
   "metadata": {},
   "outputs": [
    {
     "data": {
      "text/plain": [
       "0\n",
       "adx_14         2.428294e+01\n",
       "adx_7          3.362053e+01\n",
       "aroon_down     4.499704e+01\n",
       "aroon_up       5.367336e+01\n",
       "cci_14         1.158711e+01\n",
       "cci_7          7.983719e+00\n",
       "chaikin_a/d    9.838181e+07\n",
       "dema_13        6.863500e+01\n",
       "dema_26        6.863493e+01\n",
       "mfi_14         5.217659e+01\n",
       "mfi_7          5.221155e+01\n",
       "mom_15         2.196574e-01\n",
       "mom_8          1.178061e-01\n",
       "obv            8.236932e+07\n",
       "rsi_14         5.201486e+01\n",
       "rsi_7          5.225535e+01\n",
       "slowd          5.468428e+01\n",
       "slowk          5.468183e+01\n",
       "sma_13         6.854891e+01\n",
       "sma_26         6.845607e+01\n",
       "sma_9          6.857816e+01\n",
       "Name: 1, dtype: float64"
      ]
     },
     "execution_count": 14,
     "metadata": {},
     "output_type": "execute_result"
    }
   ],
   "source": [
    "tech_ind_df_offset"
   ]
  },
  {
   "cell_type": "code",
   "execution_count": 15,
   "metadata": {},
   "outputs": [
    {
     "data": {
      "text/plain": [
       "0\n",
       "adx_14         9.698831e+00\n",
       "adx_7          1.279796e+01\n",
       "aroon_down     3.618896e+01\n",
       "aroon_up       3.643883e+01\n",
       "cci_14         1.087209e+02\n",
       "cci_7          1.001543e+02\n",
       "chaikin_a/d    8.296707e+08\n",
       "dema_13        1.305306e+02\n",
       "dema_26        1.305731e+02\n",
       "mfi_14         1.608732e+01\n",
       "mfi_7          2.206016e+01\n",
       "mom_15         1.320058e+01\n",
       "mom_8          9.824388e+00\n",
       "obv            5.100615e+08\n",
       "rsi_14         1.208676e+01\n",
       "rsi_7          1.680107e+01\n",
       "slowd          2.716099e+01\n",
       "slowk          2.799890e+01\n",
       "sma_13         1.302688e+02\n",
       "sma_26         1.300528e+02\n",
       "sma_9          1.303411e+02\n",
       "Name: 1, dtype: float64"
      ]
     },
     "execution_count": 15,
     "metadata": {},
     "output_type": "execute_result"
    }
   ],
   "source": [
    "tech_ind_df_scale"
   ]
  },
  {
   "cell_type": "code",
   "execution_count": 16,
   "metadata": {},
   "outputs": [
    {
     "data": {
      "text/plain": [
       "['adx_14',\n",
       " 'adx_7',\n",
       " 'aroon_down',\n",
       " 'aroon_up',\n",
       " 'cci_14',\n",
       " 'cci_7',\n",
       " 'chaikin_a/d',\n",
       " 'dema_13',\n",
       " 'dema_26',\n",
       " 'mfi_14',\n",
       " 'mfi_7',\n",
       " 'mom_15',\n",
       " 'mom_8',\n",
       " 'obv',\n",
       " 'rsi_14',\n",
       " 'rsi_7',\n",
       " 'slowd',\n",
       " 'slowk',\n",
       " 'sma_13',\n",
       " 'sma_26',\n",
       " 'sma_9']"
      ]
     },
     "execution_count": 16,
     "metadata": {},
     "output_type": "execute_result"
    }
   ],
   "source": [
    "classifier.feature_names_"
   ]
  },
  {
   "cell_type": "code",
   "execution_count": 47,
   "metadata": {},
   "outputs": [],
   "source": [
    "def identify_stocks_to_buy_with_model(ti, symbols, model, tech_ind_df_offset, tech_ind_df_scale):\n",
    "    should_process = True\n",
    "    first_stock_to_process = None\n",
    "#     first_stock_to_process = 'CBS'\n",
    "    \n",
    "    stocks_to_buy_ti = []\n",
    "    stocks_to_buy = []\n",
    "    predictions = []\n",
    "    for stock in tqdm.tqdm(symbols):\n",
    "        start = time.time()\n",
    "        print('Stock: {}'.format(stock))\n",
    "        \n",
    "        if not should_process or stock == 'BF.B':\n",
    "            if stock == first_stock_to_process:\n",
    "                should_process = True\n",
    "            print('Cannot process')\n",
    "            continue\n",
    "            \n",
    "        tech_ind = get_technical_indicators_df(ti, stock).drop(['mom_1'], axis=1)\n",
    "        data_x = (tech_ind.iloc[-1:] - tech_ind_df_offset) / tech_ind_df_scale\n",
    "        print(data_x)\n",
    "        \n",
    "        pred = classifier.predict_proba(data_x)[0][1]\n",
    "        print('Prediction: {}'.format(pred))\n",
    "        \n",
    "        should_buy = True if pred > 0.9 else False\n",
    "        if should_buy:\n",
    "            stocks_to_buy_ti.append(data_x)\n",
    "            stocks_to_buy.append(stock)\n",
    "            predictions.append(pred)\n",
    "            \n",
    "        end = time.time()\n",
    "        process_time = end - start\n",
    "        print('Time: {}'.format(process_time))\n",
    "        time.sleep(max(60 - process_time, 1))  # API calls frequency restrictions\n",
    "        \n",
    "    return stocks_to_buy_ti, stocks_to_buy, predictions"
   ]
  },
  {
   "cell_type": "code",
   "execution_count": 48,
   "metadata": {},
   "outputs": [
    {
     "name": "stderr",
     "output_type": "stream",
     "text": [
      "\n",
      "\n",
      "\n",
      "\n",
      "\n",
      "\n",
      "\n",
      "\n",
      "\n",
      "\n",
      "  0%|          | 0/505 [00:00<?, ?it/s]\u001b[A\u001b[A\u001b[A\u001b[A\u001b[A\u001b[A\u001b[A\u001b[A\u001b[A\u001b[A"
     ]
    },
    {
     "name": "stdout",
     "output_type": "stream",
     "text": [
      "Stock: MMM\n"
     ]
    },
    {
     "ename": "KeyboardInterrupt",
     "evalue": "",
     "output_type": "error",
     "traceback": [
      "\u001b[0;31m---------------------------------------------------------------------------\u001b[0m",
      "\u001b[0;31mKeyboardInterrupt\u001b[0m                         Traceback (most recent call last)",
      "\u001b[0;32m<ipython-input-48-e5ca49089a53>\u001b[0m in \u001b[0;36m<module>\u001b[0;34m\u001b[0m\n\u001b[1;32m      4\u001b[0m     \u001b[0mclassifier\u001b[0m\u001b[0;34m,\u001b[0m\u001b[0;34m\u001b[0m\u001b[0;34m\u001b[0m\u001b[0m\n\u001b[1;32m      5\u001b[0m     \u001b[0mtech_ind_df_offset\u001b[0m\u001b[0;34m,\u001b[0m\u001b[0;34m\u001b[0m\u001b[0;34m\u001b[0m\u001b[0m\n\u001b[0;32m----> 6\u001b[0;31m     \u001b[0mtech_ind_df_scale\u001b[0m\u001b[0;34m\u001b[0m\u001b[0;34m\u001b[0m\u001b[0m\n\u001b[0m\u001b[1;32m      7\u001b[0m )\n",
      "\u001b[0;32m<ipython-input-47-a3dd66f9f1e3>\u001b[0m in \u001b[0;36midentify_stocks_to_buy_with_model\u001b[0;34m(ti, symbols, model, tech_ind_df_offset, tech_ind_df_scale)\u001b[0m\n\u001b[1;32m     17\u001b[0m             \u001b[0;32mcontinue\u001b[0m\u001b[0;34m\u001b[0m\u001b[0;34m\u001b[0m\u001b[0m\n\u001b[1;32m     18\u001b[0m \u001b[0;34m\u001b[0m\u001b[0m\n\u001b[0;32m---> 19\u001b[0;31m         \u001b[0mtech_ind\u001b[0m \u001b[0;34m=\u001b[0m \u001b[0mget_technical_indicators_df\u001b[0m\u001b[0;34m(\u001b[0m\u001b[0mti\u001b[0m\u001b[0;34m,\u001b[0m \u001b[0mstock\u001b[0m\u001b[0;34m)\u001b[0m\u001b[0;34m.\u001b[0m\u001b[0mdrop\u001b[0m\u001b[0;34m(\u001b[0m\u001b[0;34m[\u001b[0m\u001b[0;34m'mom_1'\u001b[0m\u001b[0;34m]\u001b[0m\u001b[0;34m,\u001b[0m \u001b[0maxis\u001b[0m\u001b[0;34m=\u001b[0m\u001b[0;36m1\u001b[0m\u001b[0;34m)\u001b[0m\u001b[0;34m\u001b[0m\u001b[0;34m\u001b[0m\u001b[0m\n\u001b[0m\u001b[1;32m     20\u001b[0m         \u001b[0mdata_x\u001b[0m \u001b[0;34m=\u001b[0m \u001b[0;34m(\u001b[0m\u001b[0mtech_ind\u001b[0m\u001b[0;34m.\u001b[0m\u001b[0miloc\u001b[0m\u001b[0;34m[\u001b[0m\u001b[0;34m-\u001b[0m\u001b[0;36m1\u001b[0m\u001b[0;34m:\u001b[0m\u001b[0;34m]\u001b[0m \u001b[0;34m-\u001b[0m \u001b[0mtech_ind_df_offset\u001b[0m\u001b[0;34m)\u001b[0m \u001b[0;34m/\u001b[0m \u001b[0mtech_ind_df_scale\u001b[0m\u001b[0;34m\u001b[0m\u001b[0;34m\u001b[0m\u001b[0m\n\u001b[1;32m     21\u001b[0m         \u001b[0mprint\u001b[0m\u001b[0;34m(\u001b[0m\u001b[0mdata_x\u001b[0m\u001b[0;34m)\u001b[0m\u001b[0;34m\u001b[0m\u001b[0;34m\u001b[0m\u001b[0m\n",
      "\u001b[0;32m~/Documents/ML-DS/AlgorithmicTrading/src/common.py\u001b[0m in \u001b[0;36mget_technical_indicators_df\u001b[0;34m(ti, stock, time_sleep)\u001b[0m\n\u001b[1;32m     88\u001b[0m     \u001b[0mad\u001b[0m\u001b[0;34m,\u001b[0m \u001b[0mmeta_ad\u001b[0m \u001b[0;34m=\u001b[0m \u001b[0mti\u001b[0m\u001b[0;34m.\u001b[0m\u001b[0mget_ad\u001b[0m\u001b[0;34m(\u001b[0m\u001b[0mstock\u001b[0m\u001b[0;34m,\u001b[0m \u001b[0minterval\u001b[0m\u001b[0;34m=\u001b[0m\u001b[0;34m'daily'\u001b[0m\u001b[0;34m)\u001b[0m\u001b[0;34m\u001b[0m\u001b[0;34m\u001b[0m\u001b[0m\n\u001b[1;32m     89\u001b[0m     \u001b[0;31m# On Balance Volume (OBV)\u001b[0m\u001b[0;34m\u001b[0m\u001b[0;34m\u001b[0m\u001b[0;34m\u001b[0m\u001b[0m\n\u001b[0;32m---> 90\u001b[0;31m     \u001b[0mobv\u001b[0m\u001b[0;34m,\u001b[0m \u001b[0mmeta_obv\u001b[0m \u001b[0;34m=\u001b[0m \u001b[0mti\u001b[0m\u001b[0;34m.\u001b[0m\u001b[0mget_obv\u001b[0m\u001b[0;34m(\u001b[0m\u001b[0mstock\u001b[0m\u001b[0;34m,\u001b[0m \u001b[0minterval\u001b[0m\u001b[0;34m=\u001b[0m\u001b[0;34m'daily'\u001b[0m\u001b[0;34m)\u001b[0m\u001b[0;34m\u001b[0m\u001b[0;34m\u001b[0m\u001b[0m\n\u001b[0m\u001b[1;32m     91\u001b[0m \u001b[0;34m\u001b[0m\u001b[0m\n\u001b[1;32m     92\u001b[0m     ti_dfs = [sma_9,sma_13, sma_26, mom_1, mom_8, mom_15, rsi_7, rsi_14, stoch_14_3_3, \n",
      "\u001b[0;32m/usr/local/lib/python3.6/dist-packages/alpha_vantage/alphavantage.py\u001b[0m in \u001b[0;36m_format_wrapper\u001b[0;34m(self, *args, **kwargs)\u001b[0m\n\u001b[1;32m    159\u001b[0m         \u001b[0;32mdef\u001b[0m \u001b[0m_format_wrapper\u001b[0m\u001b[0;34m(\u001b[0m\u001b[0mself\u001b[0m\u001b[0;34m,\u001b[0m \u001b[0;34m*\u001b[0m\u001b[0margs\u001b[0m\u001b[0;34m,\u001b[0m \u001b[0;34m**\u001b[0m\u001b[0mkwargs\u001b[0m\u001b[0;34m)\u001b[0m\u001b[0;34m:\u001b[0m\u001b[0;34m\u001b[0m\u001b[0;34m\u001b[0m\u001b[0m\n\u001b[1;32m    160\u001b[0m             call_response, data_key, meta_data_key = func(\n\u001b[0;32m--> 161\u001b[0;31m                 self, *args, **kwargs)\n\u001b[0m\u001b[1;32m    162\u001b[0m             \u001b[0;32mif\u001b[0m \u001b[0;34m'json'\u001b[0m \u001b[0;32min\u001b[0m \u001b[0mself\u001b[0m\u001b[0;34m.\u001b[0m\u001b[0moutput_format\u001b[0m\u001b[0;34m.\u001b[0m\u001b[0mlower\u001b[0m\u001b[0;34m(\u001b[0m\u001b[0;34m)\u001b[0m \u001b[0;32mor\u001b[0m \u001b[0;34m'pandas'\u001b[0m\u001b[0;31m \u001b[0m\u001b[0;31m\\\u001b[0m\u001b[0;34m\u001b[0m\u001b[0;34m\u001b[0m\u001b[0m\n\u001b[1;32m    163\u001b[0m                     \u001b[0;32min\u001b[0m \u001b[0mself\u001b[0m\u001b[0;34m.\u001b[0m\u001b[0moutput_format\u001b[0m\u001b[0;34m.\u001b[0m\u001b[0mlower\u001b[0m\u001b[0;34m(\u001b[0m\u001b[0;34m)\u001b[0m\u001b[0;34m:\u001b[0m\u001b[0;34m\u001b[0m\u001b[0;34m\u001b[0m\u001b[0m\n",
      "\u001b[0;32m/usr/local/lib/python3.6/dist-packages/alpha_vantage/alphavantage.py\u001b[0m in \u001b[0;36m_call_wrapper\u001b[0;34m(self, *args, **kwargs)\u001b[0m\n\u001b[1;32m    144\u001b[0m             \u001b[0;32melse\u001b[0m\u001b[0;34m:\u001b[0m\u001b[0;34m\u001b[0m\u001b[0;34m\u001b[0m\u001b[0m\n\u001b[1;32m    145\u001b[0m                 \u001b[0murl\u001b[0m \u001b[0;34m=\u001b[0m \u001b[0;34m'{}&apikey={}'\u001b[0m\u001b[0;34m.\u001b[0m\u001b[0mformat\u001b[0m\u001b[0;34m(\u001b[0m\u001b[0murl\u001b[0m\u001b[0;34m,\u001b[0m \u001b[0mself\u001b[0m\u001b[0;34m.\u001b[0m\u001b[0mkey\u001b[0m\u001b[0;34m)\u001b[0m\u001b[0;34m\u001b[0m\u001b[0;34m\u001b[0m\u001b[0m\n\u001b[0;32m--> 146\u001b[0;31m             \u001b[0;32mreturn\u001b[0m \u001b[0mself\u001b[0m\u001b[0;34m.\u001b[0m\u001b[0m_handle_api_call\u001b[0m\u001b[0;34m(\u001b[0m\u001b[0murl\u001b[0m\u001b[0;34m)\u001b[0m\u001b[0;34m,\u001b[0m \u001b[0mdata_key\u001b[0m\u001b[0;34m,\u001b[0m \u001b[0mmeta_data_key\u001b[0m\u001b[0;34m\u001b[0m\u001b[0;34m\u001b[0m\u001b[0m\n\u001b[0m\u001b[1;32m    147\u001b[0m         \u001b[0;32mreturn\u001b[0m \u001b[0m_call_wrapper\u001b[0m\u001b[0;34m\u001b[0m\u001b[0;34m\u001b[0m\u001b[0m\n\u001b[1;32m    148\u001b[0m \u001b[0;34m\u001b[0m\u001b[0m\n",
      "\u001b[0;32m/usr/local/lib/python3.6/dist-packages/alpha_vantage/alphavantage.py\u001b[0m in \u001b[0;36m_handle_api_call\u001b[0;34m(self, url)\u001b[0m\n\u001b[1;32m    269\u001b[0m             \u001b[0mof\u001b[0m \u001b[0mthe\u001b[0m \u001b[0mjson\u001b[0m \u001b[0mobject\u001b[0m\u001b[0;34m\u001b[0m\u001b[0;34m\u001b[0m\u001b[0m\n\u001b[1;32m    270\u001b[0m         \"\"\"\n\u001b[0;32m--> 271\u001b[0;31m         \u001b[0mresponse\u001b[0m \u001b[0;34m=\u001b[0m \u001b[0mrequests\u001b[0m\u001b[0;34m.\u001b[0m\u001b[0mget\u001b[0m\u001b[0;34m(\u001b[0m\u001b[0murl\u001b[0m\u001b[0;34m,\u001b[0m \u001b[0mproxies\u001b[0m\u001b[0;34m=\u001b[0m\u001b[0mself\u001b[0m\u001b[0;34m.\u001b[0m\u001b[0mproxy\u001b[0m\u001b[0;34m)\u001b[0m\u001b[0;34m\u001b[0m\u001b[0;34m\u001b[0m\u001b[0m\n\u001b[0m\u001b[1;32m    272\u001b[0m         \u001b[0;32mif\u001b[0m \u001b[0;34m'json'\u001b[0m \u001b[0;32min\u001b[0m \u001b[0mself\u001b[0m\u001b[0;34m.\u001b[0m\u001b[0moutput_format\u001b[0m\u001b[0;34m.\u001b[0m\u001b[0mlower\u001b[0m\u001b[0;34m(\u001b[0m\u001b[0;34m)\u001b[0m \u001b[0;32mor\u001b[0m \u001b[0;34m'pandas'\u001b[0m \u001b[0;32min\u001b[0m\u001b[0;31m \u001b[0m\u001b[0;31m\\\u001b[0m\u001b[0;34m\u001b[0m\u001b[0;34m\u001b[0m\u001b[0m\n\u001b[1;32m    273\u001b[0m                 \u001b[0mself\u001b[0m\u001b[0;34m.\u001b[0m\u001b[0moutput_format\u001b[0m\u001b[0;34m.\u001b[0m\u001b[0mlower\u001b[0m\u001b[0;34m(\u001b[0m\u001b[0;34m)\u001b[0m\u001b[0;34m:\u001b[0m\u001b[0;34m\u001b[0m\u001b[0;34m\u001b[0m\u001b[0m\n",
      "\u001b[0;32m/usr/local/lib/python3.6/dist-packages/requests/api.py\u001b[0m in \u001b[0;36mget\u001b[0;34m(url, params, **kwargs)\u001b[0m\n\u001b[1;32m     73\u001b[0m \u001b[0;34m\u001b[0m\u001b[0m\n\u001b[1;32m     74\u001b[0m     \u001b[0mkwargs\u001b[0m\u001b[0;34m.\u001b[0m\u001b[0msetdefault\u001b[0m\u001b[0;34m(\u001b[0m\u001b[0;34m'allow_redirects'\u001b[0m\u001b[0;34m,\u001b[0m \u001b[0;32mTrue\u001b[0m\u001b[0;34m)\u001b[0m\u001b[0;34m\u001b[0m\u001b[0;34m\u001b[0m\u001b[0m\n\u001b[0;32m---> 75\u001b[0;31m     \u001b[0;32mreturn\u001b[0m \u001b[0mrequest\u001b[0m\u001b[0;34m(\u001b[0m\u001b[0;34m'get'\u001b[0m\u001b[0;34m,\u001b[0m \u001b[0murl\u001b[0m\u001b[0;34m,\u001b[0m \u001b[0mparams\u001b[0m\u001b[0;34m=\u001b[0m\u001b[0mparams\u001b[0m\u001b[0;34m,\u001b[0m \u001b[0;34m**\u001b[0m\u001b[0mkwargs\u001b[0m\u001b[0;34m)\u001b[0m\u001b[0;34m\u001b[0m\u001b[0;34m\u001b[0m\u001b[0m\n\u001b[0m\u001b[1;32m     76\u001b[0m \u001b[0;34m\u001b[0m\u001b[0m\n\u001b[1;32m     77\u001b[0m \u001b[0;34m\u001b[0m\u001b[0m\n",
      "\u001b[0;32m/usr/local/lib/python3.6/dist-packages/requests/api.py\u001b[0m in \u001b[0;36mrequest\u001b[0;34m(method, url, **kwargs)\u001b[0m\n\u001b[1;32m     58\u001b[0m     \u001b[0;31m# cases, and look like a memory leak in others.\u001b[0m\u001b[0;34m\u001b[0m\u001b[0;34m\u001b[0m\u001b[0;34m\u001b[0m\u001b[0m\n\u001b[1;32m     59\u001b[0m     \u001b[0;32mwith\u001b[0m \u001b[0msessions\u001b[0m\u001b[0;34m.\u001b[0m\u001b[0mSession\u001b[0m\u001b[0;34m(\u001b[0m\u001b[0;34m)\u001b[0m \u001b[0;32mas\u001b[0m \u001b[0msession\u001b[0m\u001b[0;34m:\u001b[0m\u001b[0;34m\u001b[0m\u001b[0;34m\u001b[0m\u001b[0m\n\u001b[0;32m---> 60\u001b[0;31m         \u001b[0;32mreturn\u001b[0m \u001b[0msession\u001b[0m\u001b[0;34m.\u001b[0m\u001b[0mrequest\u001b[0m\u001b[0;34m(\u001b[0m\u001b[0mmethod\u001b[0m\u001b[0;34m=\u001b[0m\u001b[0mmethod\u001b[0m\u001b[0;34m,\u001b[0m \u001b[0murl\u001b[0m\u001b[0;34m=\u001b[0m\u001b[0murl\u001b[0m\u001b[0;34m,\u001b[0m \u001b[0;34m**\u001b[0m\u001b[0mkwargs\u001b[0m\u001b[0;34m)\u001b[0m\u001b[0;34m\u001b[0m\u001b[0;34m\u001b[0m\u001b[0m\n\u001b[0m\u001b[1;32m     61\u001b[0m \u001b[0;34m\u001b[0m\u001b[0m\n\u001b[1;32m     62\u001b[0m \u001b[0;34m\u001b[0m\u001b[0m\n",
      "\u001b[0;32m/usr/local/lib/python3.6/dist-packages/requests/sessions.py\u001b[0m in \u001b[0;36mrequest\u001b[0;34m(self, method, url, params, data, headers, cookies, files, auth, timeout, allow_redirects, proxies, hooks, stream, verify, cert, json)\u001b[0m\n\u001b[1;32m    531\u001b[0m         }\n\u001b[1;32m    532\u001b[0m         \u001b[0msend_kwargs\u001b[0m\u001b[0;34m.\u001b[0m\u001b[0mupdate\u001b[0m\u001b[0;34m(\u001b[0m\u001b[0msettings\u001b[0m\u001b[0;34m)\u001b[0m\u001b[0;34m\u001b[0m\u001b[0;34m\u001b[0m\u001b[0m\n\u001b[0;32m--> 533\u001b[0;31m         \u001b[0mresp\u001b[0m \u001b[0;34m=\u001b[0m \u001b[0mself\u001b[0m\u001b[0;34m.\u001b[0m\u001b[0msend\u001b[0m\u001b[0;34m(\u001b[0m\u001b[0mprep\u001b[0m\u001b[0;34m,\u001b[0m \u001b[0;34m**\u001b[0m\u001b[0msend_kwargs\u001b[0m\u001b[0;34m)\u001b[0m\u001b[0;34m\u001b[0m\u001b[0;34m\u001b[0m\u001b[0m\n\u001b[0m\u001b[1;32m    534\u001b[0m \u001b[0;34m\u001b[0m\u001b[0m\n\u001b[1;32m    535\u001b[0m         \u001b[0;32mreturn\u001b[0m \u001b[0mresp\u001b[0m\u001b[0;34m\u001b[0m\u001b[0;34m\u001b[0m\u001b[0m\n",
      "\u001b[0;32m/usr/local/lib/python3.6/dist-packages/requests/sessions.py\u001b[0m in \u001b[0;36msend\u001b[0;34m(self, request, **kwargs)\u001b[0m\n\u001b[1;32m    644\u001b[0m \u001b[0;34m\u001b[0m\u001b[0m\n\u001b[1;32m    645\u001b[0m         \u001b[0;31m# Send the request\u001b[0m\u001b[0;34m\u001b[0m\u001b[0;34m\u001b[0m\u001b[0;34m\u001b[0m\u001b[0m\n\u001b[0;32m--> 646\u001b[0;31m         \u001b[0mr\u001b[0m \u001b[0;34m=\u001b[0m \u001b[0madapter\u001b[0m\u001b[0;34m.\u001b[0m\u001b[0msend\u001b[0m\u001b[0;34m(\u001b[0m\u001b[0mrequest\u001b[0m\u001b[0;34m,\u001b[0m \u001b[0;34m**\u001b[0m\u001b[0mkwargs\u001b[0m\u001b[0;34m)\u001b[0m\u001b[0;34m\u001b[0m\u001b[0;34m\u001b[0m\u001b[0m\n\u001b[0m\u001b[1;32m    647\u001b[0m \u001b[0;34m\u001b[0m\u001b[0m\n\u001b[1;32m    648\u001b[0m         \u001b[0;31m# Total elapsed time of the request (approximately)\u001b[0m\u001b[0;34m\u001b[0m\u001b[0;34m\u001b[0m\u001b[0;34m\u001b[0m\u001b[0m\n",
      "\u001b[0;32m/usr/local/lib/python3.6/dist-packages/requests/adapters.py\u001b[0m in \u001b[0;36msend\u001b[0;34m(self, request, stream, timeout, verify, cert, proxies)\u001b[0m\n\u001b[1;32m    447\u001b[0m                     \u001b[0mdecode_content\u001b[0m\u001b[0;34m=\u001b[0m\u001b[0;32mFalse\u001b[0m\u001b[0;34m,\u001b[0m\u001b[0;34m\u001b[0m\u001b[0;34m\u001b[0m\u001b[0m\n\u001b[1;32m    448\u001b[0m                     \u001b[0mretries\u001b[0m\u001b[0;34m=\u001b[0m\u001b[0mself\u001b[0m\u001b[0;34m.\u001b[0m\u001b[0mmax_retries\u001b[0m\u001b[0;34m,\u001b[0m\u001b[0;34m\u001b[0m\u001b[0;34m\u001b[0m\u001b[0m\n\u001b[0;32m--> 449\u001b[0;31m                     \u001b[0mtimeout\u001b[0m\u001b[0;34m=\u001b[0m\u001b[0mtimeout\u001b[0m\u001b[0;34m\u001b[0m\u001b[0;34m\u001b[0m\u001b[0m\n\u001b[0m\u001b[1;32m    450\u001b[0m                 )\n\u001b[1;32m    451\u001b[0m \u001b[0;34m\u001b[0m\u001b[0m\n",
      "\u001b[0;32m~/.local/lib/python3.6/site-packages/urllib3/connectionpool.py\u001b[0m in \u001b[0;36murlopen\u001b[0;34m(self, method, url, body, headers, retries, redirect, assert_same_host, timeout, pool_timeout, release_conn, chunked, body_pos, **response_kw)\u001b[0m\n\u001b[1;32m    598\u001b[0m                                                   \u001b[0mtimeout\u001b[0m\u001b[0;34m=\u001b[0m\u001b[0mtimeout_obj\u001b[0m\u001b[0;34m,\u001b[0m\u001b[0;34m\u001b[0m\u001b[0;34m\u001b[0m\u001b[0m\n\u001b[1;32m    599\u001b[0m                                                   \u001b[0mbody\u001b[0m\u001b[0;34m=\u001b[0m\u001b[0mbody\u001b[0m\u001b[0;34m,\u001b[0m \u001b[0mheaders\u001b[0m\u001b[0;34m=\u001b[0m\u001b[0mheaders\u001b[0m\u001b[0;34m,\u001b[0m\u001b[0;34m\u001b[0m\u001b[0;34m\u001b[0m\u001b[0m\n\u001b[0;32m--> 600\u001b[0;31m                                                   chunked=chunked)\n\u001b[0m\u001b[1;32m    601\u001b[0m \u001b[0;34m\u001b[0m\u001b[0m\n\u001b[1;32m    602\u001b[0m             \u001b[0;31m# If we're going to release the connection in ``finally:``, then\u001b[0m\u001b[0;34m\u001b[0m\u001b[0;34m\u001b[0m\u001b[0;34m\u001b[0m\u001b[0m\n",
      "\u001b[0;32m~/.local/lib/python3.6/site-packages/urllib3/connectionpool.py\u001b[0m in \u001b[0;36m_make_request\u001b[0;34m(self, conn, method, url, timeout, chunked, **httplib_request_kw)\u001b[0m\n\u001b[1;32m    341\u001b[0m         \u001b[0;31m# Trigger any extra validation we need to do.\u001b[0m\u001b[0;34m\u001b[0m\u001b[0;34m\u001b[0m\u001b[0;34m\u001b[0m\u001b[0m\n\u001b[1;32m    342\u001b[0m         \u001b[0;32mtry\u001b[0m\u001b[0;34m:\u001b[0m\u001b[0;34m\u001b[0m\u001b[0;34m\u001b[0m\u001b[0m\n\u001b[0;32m--> 343\u001b[0;31m             \u001b[0mself\u001b[0m\u001b[0;34m.\u001b[0m\u001b[0m_validate_conn\u001b[0m\u001b[0;34m(\u001b[0m\u001b[0mconn\u001b[0m\u001b[0;34m)\u001b[0m\u001b[0;34m\u001b[0m\u001b[0;34m\u001b[0m\u001b[0m\n\u001b[0m\u001b[1;32m    344\u001b[0m         \u001b[0;32mexcept\u001b[0m \u001b[0;34m(\u001b[0m\u001b[0mSocketTimeout\u001b[0m\u001b[0;34m,\u001b[0m \u001b[0mBaseSSLError\u001b[0m\u001b[0;34m)\u001b[0m \u001b[0;32mas\u001b[0m \u001b[0me\u001b[0m\u001b[0;34m:\u001b[0m\u001b[0;34m\u001b[0m\u001b[0;34m\u001b[0m\u001b[0m\n\u001b[1;32m    345\u001b[0m             \u001b[0;31m# Py2 raises this as a BaseSSLError, Py3 raises it as socket timeout.\u001b[0m\u001b[0;34m\u001b[0m\u001b[0;34m\u001b[0m\u001b[0;34m\u001b[0m\u001b[0m\n",
      "\u001b[0;32m~/.local/lib/python3.6/site-packages/urllib3/connectionpool.py\u001b[0m in \u001b[0;36m_validate_conn\u001b[0;34m(self, conn)\u001b[0m\n\u001b[1;32m    837\u001b[0m         \u001b[0;31m# Force connect early to allow us to validate the connection.\u001b[0m\u001b[0;34m\u001b[0m\u001b[0;34m\u001b[0m\u001b[0;34m\u001b[0m\u001b[0m\n\u001b[1;32m    838\u001b[0m         \u001b[0;32mif\u001b[0m \u001b[0;32mnot\u001b[0m \u001b[0mgetattr\u001b[0m\u001b[0;34m(\u001b[0m\u001b[0mconn\u001b[0m\u001b[0;34m,\u001b[0m \u001b[0;34m'sock'\u001b[0m\u001b[0;34m,\u001b[0m \u001b[0;32mNone\u001b[0m\u001b[0;34m)\u001b[0m\u001b[0;34m:\u001b[0m  \u001b[0;31m# AppEngine might not have  `.sock`\u001b[0m\u001b[0;34m\u001b[0m\u001b[0;34m\u001b[0m\u001b[0m\n\u001b[0;32m--> 839\u001b[0;31m             \u001b[0mconn\u001b[0m\u001b[0;34m.\u001b[0m\u001b[0mconnect\u001b[0m\u001b[0;34m(\u001b[0m\u001b[0;34m)\u001b[0m\u001b[0;34m\u001b[0m\u001b[0;34m\u001b[0m\u001b[0m\n\u001b[0m\u001b[1;32m    840\u001b[0m \u001b[0;34m\u001b[0m\u001b[0m\n\u001b[1;32m    841\u001b[0m         \u001b[0;32mif\u001b[0m \u001b[0;32mnot\u001b[0m \u001b[0mconn\u001b[0m\u001b[0;34m.\u001b[0m\u001b[0mis_verified\u001b[0m\u001b[0;34m:\u001b[0m\u001b[0;34m\u001b[0m\u001b[0;34m\u001b[0m\u001b[0m\n",
      "\u001b[0;32m~/.local/lib/python3.6/site-packages/urllib3/connection.py\u001b[0m in \u001b[0;36mconnect\u001b[0;34m(self)\u001b[0m\n\u001b[1;32m    342\u001b[0m             \u001b[0mca_cert_dir\u001b[0m\u001b[0;34m=\u001b[0m\u001b[0mself\u001b[0m\u001b[0;34m.\u001b[0m\u001b[0mca_cert_dir\u001b[0m\u001b[0;34m,\u001b[0m\u001b[0;34m\u001b[0m\u001b[0;34m\u001b[0m\u001b[0m\n\u001b[1;32m    343\u001b[0m             \u001b[0mserver_hostname\u001b[0m\u001b[0;34m=\u001b[0m\u001b[0mserver_hostname\u001b[0m\u001b[0;34m,\u001b[0m\u001b[0;34m\u001b[0m\u001b[0;34m\u001b[0m\u001b[0m\n\u001b[0;32m--> 344\u001b[0;31m             ssl_context=context)\n\u001b[0m\u001b[1;32m    345\u001b[0m \u001b[0;34m\u001b[0m\u001b[0m\n\u001b[1;32m    346\u001b[0m         \u001b[0;32mif\u001b[0m \u001b[0mself\u001b[0m\u001b[0;34m.\u001b[0m\u001b[0massert_fingerprint\u001b[0m\u001b[0;34m:\u001b[0m\u001b[0;34m\u001b[0m\u001b[0;34m\u001b[0m\u001b[0m\n",
      "\u001b[0;32m~/.local/lib/python3.6/site-packages/urllib3/util/ssl_.py\u001b[0m in \u001b[0;36mssl_wrap_socket\u001b[0;34m(sock, keyfile, certfile, cert_reqs, ca_certs, server_hostname, ssl_version, ciphers, ssl_context, ca_cert_dir)\u001b[0m\n\u001b[1;32m    342\u001b[0m             or IS_SECURETRANSPORT):\n\u001b[1;32m    343\u001b[0m         \u001b[0;32mif\u001b[0m \u001b[0mHAS_SNI\u001b[0m \u001b[0;32mand\u001b[0m \u001b[0mserver_hostname\u001b[0m \u001b[0;32mis\u001b[0m \u001b[0;32mnot\u001b[0m \u001b[0;32mNone\u001b[0m\u001b[0;34m:\u001b[0m\u001b[0;34m\u001b[0m\u001b[0;34m\u001b[0m\u001b[0m\n\u001b[0;32m--> 344\u001b[0;31m             \u001b[0;32mreturn\u001b[0m \u001b[0mcontext\u001b[0m\u001b[0;34m.\u001b[0m\u001b[0mwrap_socket\u001b[0m\u001b[0;34m(\u001b[0m\u001b[0msock\u001b[0m\u001b[0;34m,\u001b[0m \u001b[0mserver_hostname\u001b[0m\u001b[0;34m=\u001b[0m\u001b[0mserver_hostname\u001b[0m\u001b[0;34m)\u001b[0m\u001b[0;34m\u001b[0m\u001b[0;34m\u001b[0m\u001b[0m\n\u001b[0m\u001b[1;32m    345\u001b[0m \u001b[0;34m\u001b[0m\u001b[0m\n\u001b[1;32m    346\u001b[0m         warnings.warn(\n",
      "\u001b[0;32m/usr/lib/python3.6/ssl.py\u001b[0m in \u001b[0;36mwrap_socket\u001b[0;34m(self, sock, server_side, do_handshake_on_connect, suppress_ragged_eofs, server_hostname, session)\u001b[0m\n\u001b[1;32m    405\u001b[0m                          \u001b[0msuppress_ragged_eofs\u001b[0m\u001b[0;34m=\u001b[0m\u001b[0msuppress_ragged_eofs\u001b[0m\u001b[0;34m,\u001b[0m\u001b[0;34m\u001b[0m\u001b[0;34m\u001b[0m\u001b[0m\n\u001b[1;32m    406\u001b[0m                          \u001b[0mserver_hostname\u001b[0m\u001b[0;34m=\u001b[0m\u001b[0mserver_hostname\u001b[0m\u001b[0;34m,\u001b[0m\u001b[0;34m\u001b[0m\u001b[0;34m\u001b[0m\u001b[0m\n\u001b[0;32m--> 407\u001b[0;31m                          _context=self, _session=session)\n\u001b[0m\u001b[1;32m    408\u001b[0m \u001b[0;34m\u001b[0m\u001b[0m\n\u001b[1;32m    409\u001b[0m     def wrap_bio(self, incoming, outgoing, server_side=False,\n",
      "\u001b[0;32m/usr/lib/python3.6/ssl.py\u001b[0m in \u001b[0;36m__init__\u001b[0;34m(self, sock, keyfile, certfile, server_side, cert_reqs, ssl_version, ca_certs, do_handshake_on_connect, family, type, proto, fileno, suppress_ragged_eofs, npn_protocols, ciphers, server_hostname, _context, _session)\u001b[0m\n\u001b[1;32m    815\u001b[0m                         \u001b[0;31m# non-blocking\u001b[0m\u001b[0;34m\u001b[0m\u001b[0;34m\u001b[0m\u001b[0;34m\u001b[0m\u001b[0m\n\u001b[1;32m    816\u001b[0m                         \u001b[0;32mraise\u001b[0m \u001b[0mValueError\u001b[0m\u001b[0;34m(\u001b[0m\u001b[0;34m\"do_handshake_on_connect should not be specified for non-blocking sockets\"\u001b[0m\u001b[0;34m)\u001b[0m\u001b[0;34m\u001b[0m\u001b[0;34m\u001b[0m\u001b[0m\n\u001b[0;32m--> 817\u001b[0;31m                     \u001b[0mself\u001b[0m\u001b[0;34m.\u001b[0m\u001b[0mdo_handshake\u001b[0m\u001b[0;34m(\u001b[0m\u001b[0;34m)\u001b[0m\u001b[0;34m\u001b[0m\u001b[0;34m\u001b[0m\u001b[0m\n\u001b[0m\u001b[1;32m    818\u001b[0m \u001b[0;34m\u001b[0m\u001b[0m\n\u001b[1;32m    819\u001b[0m             \u001b[0;32mexcept\u001b[0m \u001b[0;34m(\u001b[0m\u001b[0mOSError\u001b[0m\u001b[0;34m,\u001b[0m \u001b[0mValueError\u001b[0m\u001b[0;34m)\u001b[0m\u001b[0;34m:\u001b[0m\u001b[0;34m\u001b[0m\u001b[0;34m\u001b[0m\u001b[0m\n",
      "\u001b[0;32m/usr/lib/python3.6/ssl.py\u001b[0m in \u001b[0;36mdo_handshake\u001b[0;34m(self, block)\u001b[0m\n\u001b[1;32m   1075\u001b[0m             \u001b[0;32mif\u001b[0m \u001b[0mtimeout\u001b[0m \u001b[0;34m==\u001b[0m \u001b[0;36m0.0\u001b[0m \u001b[0;32mand\u001b[0m \u001b[0mblock\u001b[0m\u001b[0;34m:\u001b[0m\u001b[0;34m\u001b[0m\u001b[0;34m\u001b[0m\u001b[0m\n\u001b[1;32m   1076\u001b[0m                 \u001b[0mself\u001b[0m\u001b[0;34m.\u001b[0m\u001b[0msettimeout\u001b[0m\u001b[0;34m(\u001b[0m\u001b[0;32mNone\u001b[0m\u001b[0;34m)\u001b[0m\u001b[0;34m\u001b[0m\u001b[0;34m\u001b[0m\u001b[0m\n\u001b[0;32m-> 1077\u001b[0;31m             \u001b[0mself\u001b[0m\u001b[0;34m.\u001b[0m\u001b[0m_sslobj\u001b[0m\u001b[0;34m.\u001b[0m\u001b[0mdo_handshake\u001b[0m\u001b[0;34m(\u001b[0m\u001b[0;34m)\u001b[0m\u001b[0;34m\u001b[0m\u001b[0;34m\u001b[0m\u001b[0m\n\u001b[0m\u001b[1;32m   1078\u001b[0m         \u001b[0;32mfinally\u001b[0m\u001b[0;34m:\u001b[0m\u001b[0;34m\u001b[0m\u001b[0;34m\u001b[0m\u001b[0m\n\u001b[1;32m   1079\u001b[0m             \u001b[0mself\u001b[0m\u001b[0;34m.\u001b[0m\u001b[0msettimeout\u001b[0m\u001b[0;34m(\u001b[0m\u001b[0mtimeout\u001b[0m\u001b[0;34m)\u001b[0m\u001b[0;34m\u001b[0m\u001b[0;34m\u001b[0m\u001b[0m\n",
      "\u001b[0;32m/usr/lib/python3.6/ssl.py\u001b[0m in \u001b[0;36mdo_handshake\u001b[0;34m(self)\u001b[0m\n\u001b[1;32m    687\u001b[0m     \u001b[0;32mdef\u001b[0m \u001b[0mdo_handshake\u001b[0m\u001b[0;34m(\u001b[0m\u001b[0mself\u001b[0m\u001b[0;34m)\u001b[0m\u001b[0;34m:\u001b[0m\u001b[0;34m\u001b[0m\u001b[0;34m\u001b[0m\u001b[0m\n\u001b[1;32m    688\u001b[0m         \u001b[0;34m\"\"\"Start the SSL/TLS handshake.\"\"\"\u001b[0m\u001b[0;34m\u001b[0m\u001b[0;34m\u001b[0m\u001b[0m\n\u001b[0;32m--> 689\u001b[0;31m         \u001b[0mself\u001b[0m\u001b[0;34m.\u001b[0m\u001b[0m_sslobj\u001b[0m\u001b[0;34m.\u001b[0m\u001b[0mdo_handshake\u001b[0m\u001b[0;34m(\u001b[0m\u001b[0;34m)\u001b[0m\u001b[0;34m\u001b[0m\u001b[0;34m\u001b[0m\u001b[0m\n\u001b[0m\u001b[1;32m    690\u001b[0m         \u001b[0;32mif\u001b[0m \u001b[0mself\u001b[0m\u001b[0;34m.\u001b[0m\u001b[0mcontext\u001b[0m\u001b[0;34m.\u001b[0m\u001b[0mcheck_hostname\u001b[0m\u001b[0;34m:\u001b[0m\u001b[0;34m\u001b[0m\u001b[0;34m\u001b[0m\u001b[0m\n\u001b[1;32m    691\u001b[0m             \u001b[0;32mif\u001b[0m \u001b[0;32mnot\u001b[0m \u001b[0mself\u001b[0m\u001b[0;34m.\u001b[0m\u001b[0mserver_hostname\u001b[0m\u001b[0;34m:\u001b[0m\u001b[0;34m\u001b[0m\u001b[0;34m\u001b[0m\u001b[0m\n",
      "\u001b[0;31mKeyboardInterrupt\u001b[0m: "
     ]
    }
   ],
   "source": [
    "stocks_to_buy_ti, stocks_to_buy, predictions = identify_stocks_to_buy_with_model(\n",
    "    ti, \n",
    "    sp_500_symbols, \n",
    "    classifier, \n",
    "    tech_ind_df_offset, \n",
    "    tech_ind_df_scale\n",
    ")"
   ]
  },
  {
   "cell_type": "code",
   "execution_count": 33,
   "metadata": {},
   "outputs": [
    {
     "name": "stdout",
     "output_type": "stream",
     "text": [
      "Stock: b | Pred: 4\n",
      "Stock: c | Pred: 3\n",
      "Stock: a | Pred: 1\n"
     ]
    }
   ],
   "source": [
    "stock_pred = sorted(zip(stocks_to_buy, predictions), key=lambda x: x[1], reverse=True)\n",
    "for s, p in stock_pred:\n",
    "    print('Stock: {} | Pred: {}'.format(s, p))"
   ]
  },
  {
   "cell_type": "markdown",
   "metadata": {},
   "source": [
    "### Intuition"
   ]
  },
  {
   "cell_type": "code",
   "execution_count": 33,
   "metadata": {},
   "outputs": [],
   "source": [
    "def identify_stocks_to_buy(ti, symbols):\n",
    "    should_process = False\n",
    "    first_stock_to_process = 'AVGO'\n",
    "    \n",
    "    stocks_to_buy_ti = []\n",
    "    stocks_to_buy = []\n",
    "    for stock in tqdm.tqdm(symbols):\n",
    "        if not should_process:\n",
    "            if stock == first_stock_to_process:\n",
    "                should_process = True\n",
    "            continue\n",
    "        \n",
    "        stock_ti_df, should_buy = chech_if_should_buy(ti, stock)\n",
    "        if should_buy:\n",
    "            stocks_to_buy_ti.append(stock_ti_df)\n",
    "            stocks_to_buy.append(stock)\n",
    "            print(stock)\n",
    "#         time.sleep(30)  # API calls frequency restrictions\n",
    "        \n",
    "    return stocks_to_buy_ti, stocks_to_buy"
   ]
  },
  {
   "cell_type": "code",
   "execution_count": 34,
   "metadata": {},
   "outputs": [
    {
     "name": "stderr",
     "output_type": "stream",
     "text": [
      "\n",
      "\n",
      "  0%|          | 0/505 [00:00<?, ?it/s]\u001b[A\u001b[A\n",
      "\n",
      " 17%|█▋        | 84/505 [00:00<00:03, 121.12it/s]\u001b[A\u001b[A"
     ]
    },
    {
     "name": "stdout",
     "output_type": "stream",
     "text": [
      "Stock: BF.B - error\n",
      "Stock: CHRW\n",
      "              macd  macd_hist  macd_signal      rsi   chaikin_a/d\n",
      "date                                                             \n",
      "2020-12-07 -0.5993     0.2858      -0.8851  48.3171  3.069651e+08\n",
      "2020-12-08 -0.4540     0.3449      -0.7989  52.0560  3.074221e+08\n",
      "Stock: CA\n",
      "            macd_hist    macd  macd_signal      rsi   chaikin_a/d\n",
      "date                                                             \n",
      "2018-11-05     0.0623  0.1497       0.0874  63.3076  5.771658e+08\n",
      "2018-11-06     0.0574  0.1591       0.1017  63.3076  5.771658e+08\n",
      "Stock: COG\n",
      "              macd  macd_hist  macd_signal      rsi   chaikin_a/d\n",
      "date                                                             \n",
      "2020-12-07 -0.2967    -0.0667      -0.2300  42.2530  1.508906e+08\n",
      "2020-12-08 -0.3191    -0.0713      -0.2478  41.3278  1.510525e+08\n"
     ]
    },
    {
     "name": "stderr",
     "output_type": "stream",
     "text": [
      "\n",
      "\n",
      " 17%|█▋        | 88/505 [00:18<09:24,  1.35s/it] \u001b[A\u001b[A"
     ]
    },
    {
     "name": "stdout",
     "output_type": "stream",
     "text": [
      "Stock: CDNS\n",
      "            macd_hist    macd  macd_signal      rsi   chaikin_a/d\n",
      "date                                                             \n",
      "2020-12-07     0.3942  1.2239       0.8297  59.7701  8.999582e+08\n",
      "2020-12-08     0.3947  1.3231       0.9283  58.1552  9.000313e+08\n"
     ]
    },
    {
     "name": "stderr",
     "output_type": "stream",
     "text": [
      "\n",
      "\n",
      " 18%|█▊        | 89/505 [00:23<15:41,  2.26s/it]\u001b[A\u001b[A"
     ]
    },
    {
     "name": "stdout",
     "output_type": "stream",
     "text": [
      "Stock: CPB\n",
      "            macd_signal  macd_hist    macd      rsi   chaikin_a/d\n",
      "date                                                             \n",
      "2020-12-07       0.3003    -0.1138  0.1864  46.4807  2.929840e+08\n",
      "2020-12-08       0.2640    -0.1451  0.1189  46.0973  2.942180e+08\n"
     ]
    },
    {
     "name": "stderr",
     "output_type": "stream",
     "text": [
      "\n",
      "\n",
      " 18%|█▊        | 90/505 [00:27<20:35,  2.98s/it]\u001b[A\u001b[A"
     ]
    },
    {
     "name": "stdout",
     "output_type": "stream",
     "text": [
      "Stock: COF\n",
      "            macd_signal    macd  macd_hist      rsi   chaikin_a/d\n",
      "date                                                             \n",
      "2020-12-07       3.1414  3.3800     0.2386  64.6769  3.329778e+08\n",
      "2020-12-08       3.1910  3.3894     0.1984  63.8154  3.340652e+08\n"
     ]
    },
    {
     "name": "stderr",
     "output_type": "stream",
     "text": [
      "\n",
      "\n",
      " 18%|█▊        | 91/505 [00:32<24:11,  3.51s/it]\u001b[A\u001b[A"
     ]
    },
    {
     "name": "stdout",
     "output_type": "stream",
     "text": [
      "Stock: CAH\n",
      "              macd  macd_hist  macd_signal      rsi   chaikin_a/d\n",
      "date                                                             \n",
      "2020-12-07  1.2835    -0.0057       1.2892  57.2196  2.778887e+08\n",
      "2020-12-08  1.3229     0.0269       1.2959  60.3119  2.790568e+08\n",
      "CAH\n"
     ]
    },
    {
     "name": "stderr",
     "output_type": "stream",
     "text": [
      "\n",
      "\n",
      " 18%|█▊        | 92/505 [00:37<26:57,  3.92s/it]\u001b[A\u001b[A"
     ]
    },
    {
     "name": "stdout",
     "output_type": "stream",
     "text": [
      "Stock: KMX\n",
      "            macd_hist    macd  macd_signal      rsi   chaikin_a/d\n",
      "date                                                             \n",
      "2020-12-07     0.1533  0.7441       0.5909  54.0439  1.693012e+08\n",
      "2020-12-08     0.0039  0.5958       0.5919  48.8352  1.687090e+08\n"
     ]
    },
    {
     "name": "stderr",
     "output_type": "stream",
     "text": [
      "\n",
      "\n",
      " 18%|█▊        | 93/505 [00:42<28:37,  4.17s/it]\u001b[A\u001b[A"
     ]
    },
    {
     "name": "stdout",
     "output_type": "stream",
     "text": [
      "Stock: CCL\n",
      "            macd_signal  macd_hist    macd      rsi   chaikin_a/d\n",
      "date                                                             \n",
      "2020-12-07       1.5293     0.4338  1.9631  68.7957  1.182694e+08\n",
      "2020-12-08       1.6309     0.4063  2.0372  69.7436  1.301731e+08\n"
     ]
    },
    {
     "name": "stderr",
     "output_type": "stream",
     "text": [
      "\n",
      "\n",
      " 19%|█▊        | 94/505 [00:46<29:29,  4.31s/it]\u001b[A\u001b[A"
     ]
    },
    {
     "name": "stdout",
     "output_type": "stream",
     "text": [
      "Stock: CAT\n",
      "              macd  macd_signal  macd_hist      rsi   chaikin_a/d\n",
      "date                                                             \n",
      "2020-12-07  3.8948       3.8052     0.0897  61.5392  1.002610e+09\n",
      "2020-12-08  3.8945       3.8230     0.0715  61.6896  1.002264e+09\n"
     ]
    },
    {
     "name": "stderr",
     "output_type": "stream",
     "text": [
      "\n",
      "\n",
      " 19%|█▉        | 95/505 [00:50<28:05,  4.11s/it]\u001b[A\u001b[A"
     ]
    },
    {
     "name": "stdout",
     "output_type": "stream",
     "text": [
      "Stock: CBOE\n",
      "            macd_hist  macd_signal    macd      rsi   chaikin_a/d\n",
      "date                                                             \n",
      "2020-12-07     0.2833       1.9866  2.2699  65.7779  7.345748e+07\n",
      "2020-12-08     0.0669       2.0033  2.0702  56.4844  7.281138e+07\n"
     ]
    },
    {
     "name": "stderr",
     "output_type": "stream",
     "text": [
      "\n",
      "\n",
      " 19%|█▉        | 96/505 [00:53<25:11,  3.70s/it]\u001b[A\u001b[A"
     ]
    },
    {
     "name": "stdout",
     "output_type": "stream",
     "text": [
      "Stock: CBRE\n",
      "              macd  macd_hist  macd_signal      rsi   chaikin_a/d\n",
      "date                                                             \n",
      "2020-12-07  3.3472     0.3375       3.0097  77.6870  1.774606e+07\n",
      "2020-12-08  3.4721     0.3699       3.1022  78.4122  1.980257e+07\n"
     ]
    },
    {
     "name": "stderr",
     "output_type": "stream",
     "text": [
      "\n",
      "\n",
      " 19%|█▉        | 97/505 [00:53<19:03,  2.80s/it]\u001b[A\u001b[A"
     ]
    },
    {
     "name": "stdout",
     "output_type": "stream",
     "text": [
      "Stock: CBS - error\n"
     ]
    },
    {
     "name": "stderr",
     "output_type": "stream",
     "text": [
      "\n",
      "\n",
      " 19%|█▉        | 98/505 [00:58<22:37,  3.33s/it]\u001b[A\u001b[A"
     ]
    },
    {
     "name": "stdout",
     "output_type": "stream",
     "text": [
      "Stock: CELG\n",
      "            macd_hist  macd_signal    macd      rsi   chaikin_a/d\n",
      "date                                                             \n",
      "2019-11-20     -0.364       2.1479  1.7839  60.8739  1.614863e+09\n",
      "2019-11-22     -0.426       2.0414  1.6154  60.8739  1.614863e+09\n"
     ]
    },
    {
     "name": "stderr",
     "output_type": "stream",
     "text": [
      "\n",
      "\n",
      " 20%|█▉        | 99/505 [01:02<24:59,  3.69s/it]\u001b[A\u001b[A"
     ]
    },
    {
     "name": "stdout",
     "output_type": "stream",
     "text": [
      "Stock: CNC\n",
      "            macd_hist  macd_signal    macd      rsi   chaikin_a/d\n",
      "date                                                             \n",
      "2020-12-07    -0.1312      -0.1695 -0.3007  50.6867  5.733654e+08\n",
      "2020-12-08    -0.0285      -0.1767 -0.2051  52.2596  5.744795e+08\n"
     ]
    },
    {
     "name": "stderr",
     "output_type": "stream",
     "text": [
      "\n",
      "\n",
      " 20%|█▉        | 100/505 [01:07<26:18,  3.90s/it]\u001b[A\u001b[A"
     ]
    },
    {
     "name": "stdout",
     "output_type": "stream",
     "text": [
      "Stock: CNP\n",
      "            macd_hist  macd_signal    macd      rsi   chaikin_a/d\n",
      "date                                                             \n",
      "2020-12-07    -0.2377       0.4871  0.2494  51.3903  7.248540e+08\n",
      "2020-12-08    -0.2553       0.4233  0.1680  45.2963  7.213147e+08\n"
     ]
    },
    {
     "name": "stderr",
     "output_type": "stream",
     "text": [
      "\n",
      "\n",
      " 20%|██        | 101/505 [01:11<27:33,  4.09s/it]\u001b[A\u001b[A"
     ]
    },
    {
     "name": "stdout",
     "output_type": "stream",
     "text": [
      "Stock: CTL\n",
      "            macd_hist  macd_signal    macd      rsi   chaikin_a/d\n",
      "date                                                             \n",
      "2020-12-07     0.0087       0.2541  0.2628  48.2037  2.397015e+07\n",
      "2020-12-08    -0.0043       0.2530  0.2487  55.9500  3.829085e+07\n"
     ]
    },
    {
     "name": "stderr",
     "output_type": "stream",
     "text": [
      "\n",
      "\n",
      " 20%|██        | 102/505 [01:16<28:22,  4.22s/it]\u001b[A\u001b[A"
     ]
    },
    {
     "name": "stdout",
     "output_type": "stream",
     "text": [
      "Stock: CERN\n",
      "            macd_hist    macd  macd_signal      rsi   chaikin_a/d\n",
      "date                                                             \n",
      "2020-12-07    -0.1388  0.3352       0.4740  45.1218  7.246881e+08\n",
      "2020-12-08    -0.1268  0.3156       0.4423  52.0690  7.264983e+08\n"
     ]
    },
    {
     "name": "stderr",
     "output_type": "stream",
     "text": [
      "\n",
      "\n",
      " 20%|██        | 103/505 [01:20<27:58,  4.18s/it]\u001b[A\u001b[A"
     ]
    },
    {
     "name": "stdout",
     "output_type": "stream",
     "text": [
      "Stock: CF\n",
      "            macd_hist    macd  macd_signal      rsi   chaikin_a/d\n",
      "date                                                             \n",
      "2020-12-07     0.3339  2.5161       2.1822  67.6509  3.017402e+08\n",
      "2020-12-08     0.2253  2.4638       2.2386  68.3378  3.026026e+08\n"
     ]
    },
    {
     "name": "stderr",
     "output_type": "stream",
     "text": [
      "\n",
      "\n",
      " 21%|██        | 104/505 [01:25<29:12,  4.37s/it]\u001b[A\u001b[A"
     ]
    },
    {
     "name": "stdout",
     "output_type": "stream",
     "text": [
      "Stock: SCHW\n",
      "            macd_signal  macd_hist    macd      rsi   chaikin_a/d\n",
      "date                                                             \n",
      "2020-12-07       2.5201    -0.0104  2.5098  69.3835  1.535210e+09\n",
      "2020-12-08       2.4986    -0.0860  2.4127  67.9976  1.535028e+09\n"
     ]
    },
    {
     "name": "stderr",
     "output_type": "stream",
     "text": [
      "\n",
      "\n",
      " 21%|██        | 105/505 [01:29<28:04,  4.21s/it]\u001b[A\u001b[A"
     ]
    },
    {
     "name": "stdout",
     "output_type": "stream",
     "text": [
      "Stock: CHTR\n",
      "            macd_signal     macd  macd_hist      rsi   chaikin_a/d\n",
      "date                                                              \n",
      "2020-12-07       10.817  13.3304     2.5134  67.9136  1.180556e+08\n",
      "2020-12-08       11.181  12.6373     1.4563  57.6776  1.171947e+08\n"
     ]
    },
    {
     "name": "stderr",
     "output_type": "stream",
     "text": [
      "\n",
      "\n",
      " 21%|██        | 106/505 [01:34<29:33,  4.44s/it]\u001b[A\u001b[A"
     ]
    },
    {
     "name": "stdout",
     "output_type": "stream",
     "text": [
      "Stock: CVX\n",
      "              macd  macd_hist  macd_signal      rsi   chaikin_a/d\n",
      "date                                                             \n",
      "2020-12-07  4.1699    -0.0322       4.2021  60.8153  1.011865e+09\n",
      "2020-12-08  4.0639    -0.1105       4.1744  61.8589  1.013304e+09\n"
     ]
    },
    {
     "name": "stderr",
     "output_type": "stream",
     "text": [
      "\n",
      "\n",
      " 21%|██        | 107/505 [01:38<29:40,  4.47s/it]\u001b[A\u001b[A"
     ]
    },
    {
     "name": "stdout",
     "output_type": "stream",
     "text": [
      "Stock: CMG\n",
      "            macd_signal  macd_hist     macd      rsi   chaikin_a/d\n",
      "date                                                              \n",
      "2020-12-07       5.9107     6.5841  12.4948  59.7129  6.213679e+07\n",
      "2020-12-08       7.6731     7.0495  14.7225  59.4760  6.234000e+07\n"
     ]
    },
    {
     "name": "stderr",
     "output_type": "stream",
     "text": [
      "\n",
      "\n",
      " 21%|██▏       | 108/505 [01:43<30:30,  4.61s/it]\u001b[A\u001b[A"
     ]
    },
    {
     "name": "stdout",
     "output_type": "stream",
     "text": [
      "Stock: CB\n",
      "            macd_signal  macd_hist    macd      rsi   chaikin_a/d\n",
      "date                                                             \n",
      "2020-12-07       5.7885    -0.5827  5.2058  60.2921  3.806012e+08\n",
      "2020-12-08       5.6107    -0.7115  4.8992  60.3674  3.807692e+08\n"
     ]
    },
    {
     "name": "stderr",
     "output_type": "stream",
     "text": [
      "\n",
      "\n",
      " 22%|██▏       | 109/505 [01:48<30:55,  4.69s/it]\u001b[A\u001b[A"
     ]
    },
    {
     "name": "stdout",
     "output_type": "stream",
     "text": [
      "Stock: CHD\n",
      "            macd_signal  macd_hist    macd      rsi   chaikin_a/d\n",
      "date                                                             \n",
      "2020-12-07      -0.9753     0.2461 -0.7292  47.2085  4.013218e+08\n",
      "2020-12-08      -0.9077     0.2707 -0.6369  48.6844  4.021409e+08\n"
     ]
    },
    {
     "name": "stderr",
     "output_type": "stream",
     "text": [
      "\n",
      "\n",
      " 22%|██▏       | 110/505 [01:54<32:57,  5.01s/it]\u001b[A\u001b[A"
     ]
    },
    {
     "name": "stdout",
     "output_type": "stream",
     "text": [
      "Stock: CI\n",
      "            macd_signal  macd_hist    macd      rsi   chaikin_a/d\n",
      "date                                                             \n",
      "2020-12-07       6.7566    -0.5507  6.2059  63.5538  1.951963e+08\n",
      "2020-12-08       6.6593    -0.3891  6.2702  63.6138  1.957873e+08\n"
     ]
    },
    {
     "name": "stderr",
     "output_type": "stream",
     "text": [
      "\n",
      "\n",
      " 22%|██▏       | 111/505 [01:58<32:07,  4.89s/it]\u001b[A\u001b[A"
     ]
    },
    {
     "name": "stdout",
     "output_type": "stream",
     "text": [
      "Stock: XEC\n",
      "              macd  macd_hist  macd_signal      rsi   chaikin_a/d\n",
      "date                                                             \n",
      "2020-12-07  2.5511    -0.0570       2.6081  65.6641  1.453295e+08\n",
      "2020-12-08  2.4813    -0.1015       2.5828  66.4439  1.450465e+08\n"
     ]
    },
    {
     "name": "stderr",
     "output_type": "stream",
     "text": [
      "\n",
      "\n",
      " 22%|██▏       | 112/505 [02:04<33:41,  5.14s/it]\u001b[A\u001b[A"
     ]
    },
    {
     "name": "stdout",
     "output_type": "stream",
     "text": [
      "Stock: CINF\n",
      "            macd_signal  macd_hist    macd      rsi   chaikin_a/d\n",
      "date                                                             \n",
      "2020-12-07       0.5033     0.2305  0.7338  52.4783  1.636658e+08\n",
      "2020-12-08       0.5608     0.2298  0.7906  54.7180  1.639361e+08\n"
     ]
    },
    {
     "name": "stderr",
     "output_type": "stream",
     "text": [
      "\n",
      "\n",
      " 22%|██▏       | 113/505 [02:08<32:09,  4.92s/it]\u001b[A\u001b[A"
     ]
    },
    {
     "name": "stdout",
     "output_type": "stream",
     "text": [
      "Stock: CTAS\n",
      "            macd_signal    macd  macd_hist      rsi   chaikin_a/d\n",
      "date                                                             \n",
      "2020-12-07       5.9055  4.5944    -1.3111  49.7367  1.673486e+08\n",
      "2020-12-08       5.5963  4.3597    -1.2366  54.4115  1.676456e+08\n"
     ]
    },
    {
     "name": "stderr",
     "output_type": "stream",
     "text": [
      "\n",
      "\n",
      " 23%|██▎       | 114/505 [02:13<31:22,  4.81s/it]\u001b[A\u001b[A"
     ]
    },
    {
     "name": "stdout",
     "output_type": "stream",
     "text": [
      "Stock: CSCO\n",
      "              macd  macd_signal  macd_hist      rsi   chaikin_a/d\n",
      "date                                                             \n",
      "2020-12-07  1.4189       1.1679     0.2510  74.0579 -4.321499e+09\n",
      "2020-12-08  1.4231       1.2189     0.2042  74.1457 -4.315106e+09\n"
     ]
    },
    {
     "name": "stderr",
     "output_type": "stream",
     "text": [
      "\n",
      "\n",
      " 23%|██▎       | 115/505 [02:18<30:56,  4.76s/it]\u001b[A\u001b[A"
     ]
    },
    {
     "name": "stdout",
     "output_type": "stream",
     "text": [
      "Stock: C\n",
      "            macd_signal    macd  macd_hist      rsi   chaikin_a/d\n",
      "date                                                             \n",
      "2020-12-07       2.9942  3.3214     0.3272  72.4701 -1.840821e+09\n",
      "2020-12-08       3.0569  3.3077     0.2508  72.9233 -1.826503e+09\n"
     ]
    },
    {
     "name": "stderr",
     "output_type": "stream",
     "text": [
      "\n",
      "\n",
      " 23%|██▎       | 116/505 [02:21<28:06,  4.33s/it]\u001b[A\u001b[A"
     ]
    },
    {
     "name": "stdout",
     "output_type": "stream",
     "text": [
      "Stock: CFG\n",
      "              macd  macd_hist  macd_signal      rsi   chaikin_a/d\n",
      "date                                                             \n",
      "2020-12-07  1.6045     0.0313       1.5732  64.0059  2.758369e+07\n",
      "2020-12-08  1.6160     0.0343       1.5817  64.9055  2.957510e+07\n"
     ]
    },
    {
     "name": "stderr",
     "output_type": "stream",
     "text": [
      "\n",
      "\n",
      " 23%|██▎       | 117/505 [02:25<28:17,  4.37s/it]\u001b[A\u001b[A"
     ]
    },
    {
     "name": "stdout",
     "output_type": "stream",
     "text": [
      "Stock: CTXS\n",
      "              macd  macd_hist  macd_signal     rsi   chaikin_a/d\n",
      "date                                                            \n",
      "2020-12-07  1.4644     1.7763      -0.3118  69.330  1.533228e+08\n",
      "2020-12-08  1.8103     1.6977       0.1126  67.647  1.536001e+08\n"
     ]
    },
    {
     "name": "stderr",
     "output_type": "stream",
     "text": [
      "\n",
      "\n",
      " 23%|██▎       | 118/505 [02:30<28:13,  4.38s/it]\u001b[A\u001b[A"
     ]
    },
    {
     "name": "stdout",
     "output_type": "stream",
     "text": [
      "Stock: CME\n",
      "            macd_hist    macd  macd_signal      rsi   chaikin_a/d\n",
      "date                                                             \n",
      "2020-12-07     1.5602  5.4567       3.8965  71.9932  4.938118e+08\n",
      "2020-12-08     1.3455  5.5784       4.2329  72.1958  4.947745e+08\n"
     ]
    },
    {
     "name": "stderr",
     "output_type": "stream",
     "text": [
      "\n",
      "\n",
      " 24%|██▎       | 119/505 [02:34<28:32,  4.44s/it]\u001b[A\u001b[A"
     ]
    },
    {
     "name": "stdout",
     "output_type": "stream",
     "text": [
      "Stock: CMS\n",
      "              macd  macd_signal  macd_hist      rsi   chaikin_a/d\n",
      "date                                                             \n",
      "2020-12-07 -0.8656      -0.5958    -0.2697  40.8323  8.333923e+08\n",
      "2020-12-08 -0.9142      -0.6595    -0.2547  38.8627  8.333528e+08\n"
     ]
    },
    {
     "name": "stderr",
     "output_type": "stream",
     "text": [
      "\n",
      "\n",
      " 24%|██▍       | 120/505 [02:41<33:06,  5.16s/it]\u001b[A\u001b[A"
     ]
    },
    {
     "name": "stdout",
     "output_type": "stream",
     "text": [
      "Stock: KO\n",
      "            macd_signal    macd  macd_hist      rsi   chaikin_a/d\n",
      "date                                                             \n",
      "2020-12-07       0.7057  0.6785    -0.0272  57.9604  3.073240e+09\n",
      "2020-12-08       0.7003  0.6784    -0.0219  59.0262  3.074947e+09\n"
     ]
    },
    {
     "name": "stderr",
     "output_type": "stream",
     "text": [
      "\n",
      "\n",
      " 24%|██▍       | 121/505 [02:46<31:47,  4.97s/it]\u001b[A\u001b[A"
     ]
    },
    {
     "name": "stdout",
     "output_type": "stream",
     "text": [
      "Stock: CTSH\n",
      "              macd  macd_hist  macd_signal      rsi   chaikin_a/d\n",
      "date                                                             \n",
      "2020-12-07  1.7849     0.1811       1.6039  67.3074  1.919949e+09\n",
      "2020-12-08  1.7618     0.1264       1.6355  63.6039  1.920609e+09\n"
     ]
    },
    {
     "name": "stderr",
     "output_type": "stream",
     "text": [
      "\n",
      "\n",
      " 24%|██▍       | 122/505 [02:50<31:12,  4.89s/it]\u001b[A\u001b[A"
     ]
    },
    {
     "name": "stdout",
     "output_type": "stream",
     "text": [
      "Stock: CL\n",
      "              macd  macd_hist  macd_signal      rsi   chaikin_a/d\n",
      "date                                                             \n",
      "2020-12-07  1.1543    -0.2111       1.3654  60.0866  7.516652e+08\n",
      "2020-12-08  1.0745    -0.2328       1.3072  58.3961  7.531786e+08\n"
     ]
    },
    {
     "name": "stderr",
     "output_type": "stream",
     "text": [
      "\n",
      "\n",
      " 24%|██▍       | 123/505 [02:55<30:35,  4.80s/it]\u001b[A\u001b[A"
     ]
    },
    {
     "name": "stdout",
     "output_type": "stream",
     "text": [
      "Stock: CMCSA\n",
      "            macd_hist    macd  macd_signal      rsi   chaikin_a/d\n",
      "date                                                             \n",
      "2020-12-07     0.0410  1.6120       1.5710  67.4394  3.281553e+09\n",
      "2020-12-08    -0.0225  1.5429       1.5654  63.4117  3.277253e+09\n"
     ]
    },
    {
     "name": "stderr",
     "output_type": "stream",
     "text": [
      "\n",
      "\n",
      " 25%|██▍       | 124/505 [03:01<32:15,  5.08s/it]\u001b[A\u001b[A"
     ]
    },
    {
     "name": "stdout",
     "output_type": "stream",
     "text": [
      "Stock: CMA\n",
      "              macd  macd_signal  macd_hist      rsi   chaikin_a/d\n",
      "date                                                             \n",
      "2020-12-07  1.8365       1.9665    -0.1299  57.6687  1.246198e+08\n",
      "2020-12-08  1.7475       1.9227    -0.1751  56.1011  1.238988e+08\n"
     ]
    },
    {
     "name": "stderr",
     "output_type": "stream",
     "text": [
      "\n",
      "\n",
      " 25%|██▍       | 125/505 [03:06<31:35,  4.99s/it]\u001b[A\u001b[A"
     ]
    },
    {
     "name": "stdout",
     "output_type": "stream",
     "text": [
      "Stock: CAG\n",
      "              macd  macd_signal  macd_hist      rsi   chaikin_a/d\n",
      "date                                                             \n",
      "2020-12-07 -0.1465      -0.1191    -0.0274  45.6633  6.272088e+08\n",
      "2020-12-08 -0.1335      -0.1220    -0.0115  48.8619  6.296589e+08\n"
     ]
    },
    {
     "name": "stderr",
     "output_type": "stream",
     "text": [
      "\n",
      "\n",
      " 25%|██▍       | 126/505 [03:10<29:32,  4.68s/it]\u001b[A\u001b[A"
     ]
    },
    {
     "name": "stdout",
     "output_type": "stream",
     "text": [
      "Stock: CXO\n",
      "              macd  macd_hist  macd_signal      rsi   chaikin_a/d\n",
      "date                                                             \n",
      "2020-12-07  3.7665     0.1382       3.6284  63.2763  4.944757e+07\n",
      "2020-12-08  3.7009     0.0581       3.6429  62.8603  4.968134e+07\n"
     ]
    },
    {
     "name": "stderr",
     "output_type": "stream",
     "text": [
      "\n",
      "\n",
      " 25%|██▌       | 127/505 [03:14<28:56,  4.59s/it]\u001b[A\u001b[A"
     ]
    },
    {
     "name": "stdout",
     "output_type": "stream",
     "text": [
      "Stock: COP\n",
      "              macd  macd_signal  macd_hist      rsi   chaikin_a/d\n",
      "date                                                             \n",
      "2020-12-07  2.3737       2.2328     0.1409  62.5212  7.125298e+08\n",
      "2020-12-08  2.3351       2.2533     0.0818  62.0222  7.138669e+08\n"
     ]
    },
    {
     "name": "stderr",
     "output_type": "stream",
     "text": [
      "\n",
      "\n",
      " 25%|██▌       | 128/505 [03:18<28:21,  4.51s/it]\u001b[A\u001b[A"
     ]
    },
    {
     "name": "stdout",
     "output_type": "stream",
     "text": [
      "Stock: ED\n",
      "              macd  macd_signal  macd_hist      rsi   chaikin_a/d\n",
      "date                                                             \n",
      "2020-12-07 -0.9300      -0.5369    -0.3932  36.9964  5.307922e+08\n",
      "2020-12-08 -1.0434      -0.6382    -0.4053  36.1086  5.301419e+08\n"
     ]
    },
    {
     "name": "stderr",
     "output_type": "stream",
     "text": [
      "\n",
      "\n",
      " 26%|██▌       | 129/505 [03:23<27:52,  4.45s/it]\u001b[A\u001b[A"
     ]
    },
    {
     "name": "stdout",
     "output_type": "stream",
     "text": [
      "Stock: STZ\n",
      "            macd_signal  macd_hist    macd      rsi   chaikin_a/d\n",
      "date                                                             \n",
      "2020-12-07       6.0371     0.3239  6.3611  66.9836  4.305207e+08\n",
      "2020-12-08       6.1125     0.3015  6.4140  67.8432  4.304518e+08\n"
     ]
    },
    {
     "name": "stderr",
     "output_type": "stream",
     "text": [
      "\n",
      "\n",
      " 26%|██▌       | 130/505 [03:27<27:46,  4.45s/it]\u001b[A\u001b[A"
     ]
    },
    {
     "name": "stdout",
     "output_type": "stream",
     "text": [
      "Stock: GLW\n",
      "              macd  macd_hist  macd_signal      rsi   chaikin_a/d\n",
      "date                                                             \n",
      "2020-12-07  0.9051     0.0100       0.8952  61.3528  1.600776e+06\n",
      "2020-12-08  0.9019     0.0054       0.8965  63.4122  3.988115e+06\n"
     ]
    },
    {
     "name": "stderr",
     "output_type": "stream",
     "text": [
      "\n",
      "\n",
      " 26%|██▌       | 131/505 [03:31<27:37,  4.43s/it]\u001b[A\u001b[A"
     ]
    },
    {
     "name": "stdout",
     "output_type": "stream",
     "text": [
      "Stock: COST\n",
      "            macd_hist  macd_signal    macd      rsi   chaikin_a/d\n",
      "date                                                             \n",
      "2020-12-07    -0.7072       4.9381  4.2309  52.4664  5.384172e+08\n",
      "2020-12-08    -0.6966       4.7639  4.0673  56.6839  5.399249e+08\n"
     ]
    },
    {
     "name": "stderr",
     "output_type": "stream",
     "text": [
      "\n",
      "\n",
      " 26%|██▌       | 132/505 [03:35<25:38,  4.13s/it]\u001b[A\u001b[A"
     ]
    },
    {
     "name": "stdout",
     "output_type": "stream",
     "text": [
      "Stock: COTY\n",
      "              macd  macd_hist  macd_signal      rsi   chaikin_a/d\n",
      "date                                                             \n",
      "2020-12-07  0.9940     0.0677       0.9263  69.7321 -2.701914e+08\n",
      "2020-12-08  0.9394     0.0105       0.9289  64.8921 -2.603215e+08\n"
     ]
    },
    {
     "name": "stderr",
     "output_type": "stream",
     "text": [
      "\n",
      "\n",
      " 26%|██▋       | 133/505 [03:40<26:47,  4.32s/it]\u001b[A\u001b[A"
     ]
    },
    {
     "name": "stdout",
     "output_type": "stream",
     "text": [
      "Stock: CCI\n",
      "            macd_signal  macd_hist    macd      rsi   chaikin_a/d\n",
      "date                                                             \n",
      "2020-12-07       1.0206    -0.4690  0.5516  44.7788  5.146246e+08\n",
      "2020-12-08       0.8479    -0.6911  0.1568  42.9334  5.127666e+08\n"
     ]
    },
    {
     "name": "stderr",
     "output_type": "stream",
     "text": [
      "\n",
      "\n",
      " 27%|██▋       | 134/505 [03:42<23:35,  3.82s/it]\u001b[A\u001b[A"
     ]
    },
    {
     "name": "stdout",
     "output_type": "stream",
     "text": [
      "Stock: CSRA\n",
      "              macd  macd_hist  macd_signal      rsi   chaikin_a/d\n",
      "date                                                             \n",
      "2018-04-03  0.7831    -0.2082       0.9913  75.4122 -8.821218e+07\n",
      "2018-04-04  0.7346    -0.2054       0.9399  75.4122 -8.821218e+07\n"
     ]
    },
    {
     "name": "stderr",
     "output_type": "stream",
     "text": [
      "\n",
      "\n",
      " 27%|██▋       | 135/505 [03:55<40:56,  6.64s/it]\u001b[A\u001b[A"
     ]
    },
    {
     "name": "stdout",
     "output_type": "stream",
     "text": [
      "Stock: CSX\n",
      "            macd_hist    macd  macd_signal      rsi   chaikin_a/d\n",
      "date                                                             \n",
      "2020-12-07    -0.4107  2.0749       2.4856  63.8815  1.666224e+09\n",
      "2020-12-08    -0.4159  1.9657       2.3816  61.1513  1.665990e+09\n"
     ]
    },
    {
     "name": "stderr",
     "output_type": "stream",
     "text": [
      "\n",
      "\n",
      " 27%|██▋       | 136/505 [04:00<37:11,  6.05s/it]\u001b[A\u001b[A"
     ]
    },
    {
     "name": "stdout",
     "output_type": "stream",
     "text": [
      "Stock: CMI\n",
      "            macd_hist    macd  macd_signal      rsi   chaikin_a/d\n",
      "date                                                             \n",
      "2020-12-07     -2.071 -0.2619       1.8091  39.3772  1.720464e+08\n",
      "2020-12-08     -1.967 -0.6497       1.3173  42.6725  1.722069e+08\n"
     ]
    },
    {
     "name": "stderr",
     "output_type": "stream",
     "text": [
      "\n",
      "\n",
      " 27%|██▋       | 137/505 [04:05<34:05,  5.56s/it]\u001b[A\u001b[A"
     ]
    },
    {
     "name": "stdout",
     "output_type": "stream",
     "text": [
      "Stock: CVS\n",
      "              macd  macd_hist  macd_signal      rsi   chaikin_a/d\n",
      "date                                                             \n",
      "2020-12-07  2.6038     0.3754       2.2284  68.8895  7.805387e+08\n",
      "2020-12-08  2.7195     0.3929       2.3266  69.3068  7.858484e+08\n"
     ]
    },
    {
     "name": "stderr",
     "output_type": "stream",
     "text": [
      "\n",
      "\n",
      " 27%|██▋       | 138/505 [04:09<32:07,  5.25s/it]\u001b[A\u001b[A"
     ]
    },
    {
     "name": "stdout",
     "output_type": "stream",
     "text": [
      "Stock: DHI\n",
      "            macd_signal    macd  macd_hist      rsi   chaikin_a/d\n",
      "date                                                             \n",
      "2020-12-07       0.2115  0.0115    -0.2001  51.8104  2.105157e+08\n",
      "2020-12-08       0.1379 -0.1565    -0.2944  46.2361  2.079266e+08\n"
     ]
    },
    {
     "name": "stderr",
     "output_type": "stream",
     "text": [
      "\n",
      "\n",
      " 28%|██▊       | 139/505 [04:15<33:38,  5.51s/it]\u001b[A\u001b[A"
     ]
    },
    {
     "name": "stdout",
     "output_type": "stream",
     "text": [
      "Stock: DHR\n",
      "              macd  macd_hist  macd_signal      rsi   chaikin_a/d\n",
      "date                                                             \n",
      "2020-12-07 -1.1449    -0.1272      -1.0177  50.7325  8.459630e+08\n",
      "2020-12-08 -1.1421    -0.0995      -1.0426  46.9829  8.442099e+08\n"
     ]
    },
    {
     "name": "stderr",
     "output_type": "stream",
     "text": [
      "\n",
      "\n",
      " 28%|██▊       | 140/505 [04:20<31:54,  5.24s/it]\u001b[A\u001b[A"
     ]
    },
    {
     "name": "stdout",
     "output_type": "stream",
     "text": [
      "Stock: DRI\n",
      "            macd_hist  macd_signal    macd      rsi   chaikin_a/d\n",
      "date                                                             \n",
      "2020-12-07    -0.0842       3.0510  2.9668  57.2092  1.967092e+08\n",
      "2020-12-08    -0.1855       3.0046  2.8191  56.3686  1.971772e+08\n"
     ]
    },
    {
     "name": "stderr",
     "output_type": "stream",
     "text": [
      "\n",
      "\n",
      " 28%|██▊       | 141/505 [04:25<31:21,  5.17s/it]\u001b[A\u001b[A"
     ]
    },
    {
     "name": "stdout",
     "output_type": "stream",
     "text": [
      "Stock: DVA\n",
      "            macd_signal  macd_hist    macd      rsi   chaikin_a/d\n",
      "date                                                             \n",
      "2020-12-07       4.1865    -0.8948  3.2917  59.7324  2.557550e+08\n",
      "2020-12-08       3.9949    -0.7663  3.2286  63.2591  2.561574e+08\n"
     ]
    },
    {
     "name": "stderr",
     "output_type": "stream",
     "text": [
      "\n",
      "\n",
      " 28%|██▊       | 142/505 [04:30<30:37,  5.06s/it]\u001b[A\u001b[A"
     ]
    },
    {
     "name": "stdout",
     "output_type": "stream",
     "text": [
      "Stock: DE\n",
      "            macd_signal    macd  macd_hist      rsi   chaikin_a/d\n",
      "date                                                             \n",
      "2020-12-07       5.8499  4.1816    -1.6683  51.5135  6.411756e+08\n",
      "2020-12-08       5.4119  3.6600    -1.7519  52.1636  6.408432e+08\n"
     ]
    },
    {
     "name": "stderr",
     "output_type": "stream",
     "text": [
      "\n",
      "\n",
      " 28%|██▊       | 143/505 [04:34<28:38,  4.75s/it]\u001b[A\u001b[A"
     ]
    },
    {
     "name": "stdout",
     "output_type": "stream",
     "text": [
      "Stock: DAL\n",
      "            macd_hist    macd  macd_signal      rsi   chaikin_a/d\n",
      "date                                                             \n",
      "2020-12-07     0.2133  2.3966       2.1833  68.7016  2.542142e+07\n",
      "2020-12-08     0.1514  2.3725       2.2211  68.8606  2.718732e+07\n"
     ]
    },
    {
     "name": "stderr",
     "output_type": "stream",
     "text": [
      "\n",
      "\n",
      " 29%|██▊       | 144/505 [04:38<28:11,  4.69s/it]\u001b[A\u001b[A"
     ]
    },
    {
     "name": "stdout",
     "output_type": "stream",
     "text": [
      "Stock: XRAY\n",
      "              macd  macd_hist  macd_signal      rsi   chaikin_a/d\n",
      "date                                                             \n",
      "2020-12-07  1.4775     0.2063       1.2712  62.3707  3.643423e+08\n",
      "2020-12-08  1.5689     0.2381       1.3307  64.1437  3.649130e+08\n"
     ]
    },
    {
     "name": "stderr",
     "output_type": "stream",
     "text": [
      "\n",
      "\n",
      " 29%|██▊       | 145/505 [04:43<28:33,  4.76s/it]\u001b[A\u001b[A"
     ]
    },
    {
     "name": "stdout",
     "output_type": "stream",
     "text": [
      "Stock: DVN\n",
      "            macd_signal  macd_hist    macd      rsi   chaikin_a/d\n",
      "date                                                             \n",
      "2020-12-07       1.2712     0.1584  1.4296  68.3450  1.851170e+08\n",
      "2020-12-08       1.3025     0.1253  1.4278  68.4279  1.822348e+08\n"
     ]
    },
    {
     "name": "stderr",
     "output_type": "stream",
     "text": [
      "\n",
      "\n",
      " 29%|██▉       | 146/505 [04:47<27:35,  4.61s/it]\u001b[A\u001b[A"
     ]
    },
    {
     "name": "stdout",
     "output_type": "stream",
     "text": [
      "Stock: DLR\n",
      "              macd  macd_hist  macd_signal      rsi   chaikin_a/d\n",
      "date                                                             \n",
      "2020-12-07 -3.4282    -0.0909      -3.3373  40.2303  3.170707e+08\n",
      "2020-12-08 -3.4195    -0.0658      -3.3537  37.4217  3.154805e+08\n"
     ]
    },
    {
     "name": "stderr",
     "output_type": "stream",
     "text": [
      "\n",
      "\n",
      " 29%|██▉       | 147/505 [04:51<26:32,  4.45s/it]\u001b[A\u001b[A"
     ]
    },
    {
     "name": "stdout",
     "output_type": "stream",
     "text": [
      "Stock: DFS\n",
      "              macd  macd_hist  macd_signal      rsi   chaikin_a/d\n",
      "date                                                             \n",
      "2020-12-07  3.7596     0.0351       3.7245  65.0586  3.416175e+08\n",
      "2020-12-08  3.6766    -0.0383       3.7149  63.6810  3.416175e+08\n"
     ]
    },
    {
     "name": "stderr",
     "output_type": "stream",
     "text": [
      "\n",
      "\n",
      " 29%|██▉       | 148/505 [04:56<26:27,  4.45s/it]\u001b[A\u001b[A"
     ]
    },
    {
     "name": "stdout",
     "output_type": "stream",
     "text": [
      "Stock: DISCA\n",
      "            macd_hist    macd  macd_signal      rsi   chaikin_a/d\n",
      "date                                                             \n",
      "2020-12-07     0.2456  1.7706       1.5249  77.0147  5.744004e+08\n",
      "2020-12-08     0.1515  1.7143       1.5628  69.4249  5.690513e+08\n"
     ]
    },
    {
     "name": "stderr",
     "output_type": "stream",
     "text": [
      "\n",
      "\n",
      " 30%|██▉       | 149/505 [05:00<25:18,  4.26s/it]\u001b[A\u001b[A"
     ]
    },
    {
     "name": "stdout",
     "output_type": "stream",
     "text": [
      "Stock: DISCK\n",
      "            macd_signal  macd_hist    macd      rsi   chaikin_a/d\n",
      "date                                                             \n",
      "2020-12-07       1.2940     0.1747  1.4687  74.7778  8.124153e+07\n",
      "2020-12-08       1.3172     0.0927  1.4099  67.6157  7.971514e+07\n"
     ]
    },
    {
     "name": "stderr",
     "output_type": "stream",
     "text": [
      "\n",
      "\n",
      " 30%|██▉       | 150/505 [05:05<26:19,  4.45s/it]\u001b[A\u001b[A"
     ]
    },
    {
     "name": "stdout",
     "output_type": "stream",
     "text": [
      "Stock: DISH\n",
      "              macd  macd_hist  macd_signal      rsi   chaikin_a/d\n",
      "date                                                             \n",
      "2020-12-07  2.1351     0.1282       2.0069  73.6819  2.592459e+08\n",
      "2020-12-08  2.0420     0.0281       2.0139  70.2655  2.596598e+08\n"
     ]
    },
    {
     "name": "stderr",
     "output_type": "stream",
     "text": [
      "\n",
      "\n",
      " 30%|██▉       | 151/505 [05:08<25:02,  4.25s/it]\u001b[A\u001b[A"
     ]
    },
    {
     "name": "stdout",
     "output_type": "stream",
     "text": [
      "Stock: DG\n",
      "            macd_signal    macd  macd_hist      rsi   chaikin_a/d\n",
      "date                                                             \n",
      "2020-12-07       0.6282  0.6262    -0.0020  48.4669  7.327649e+07\n",
      "2020-12-08       0.5640  0.3068    -0.2571  44.8331  7.308571e+07\n"
     ]
    },
    {
     "name": "stderr",
     "output_type": "stream",
     "text": [
      "\n",
      "\n",
      " 30%|███       | 152/505 [05:13<25:09,  4.28s/it]\u001b[A\u001b[A"
     ]
    },
    {
     "name": "stdout",
     "output_type": "stream",
     "text": [
      "Stock: DLTR\n",
      "            macd_hist  macd_signal    macd      rsi   chaikin_a/d\n",
      "date                                                             \n",
      "2020-12-07     1.0713       3.9748  5.0461  72.7727  3.582339e+08\n",
      "2020-12-08     0.6565       4.1389  4.7954  64.8802  3.568771e+08\n"
     ]
    },
    {
     "name": "stderr",
     "output_type": "stream",
     "text": [
      "\n",
      "\n",
      " 30%|███       | 153/505 [05:17<25:14,  4.30s/it]\u001b[A\u001b[A"
     ]
    },
    {
     "name": "stdout",
     "output_type": "stream",
     "text": [
      "Stock: D\n",
      "            macd_signal  macd_hist    macd      rsi   chaikin_a/d\n",
      "date                                                             \n",
      "2020-12-07      -0.6089    -0.4990 -1.1079  35.1523  8.356379e+08\n",
      "2020-12-08      -0.7529    -0.5761 -1.3290  31.4930  8.292004e+08\n"
     ]
    },
    {
     "name": "stderr",
     "output_type": "stream",
     "text": [
      "\n",
      "\n",
      " 30%|███       | 154/505 [05:21<25:14,  4.31s/it]\u001b[A\u001b[A"
     ]
    },
    {
     "name": "stdout",
     "output_type": "stream",
     "text": [
      "Stock: DOV\n",
      "              macd  macd_hist  macd_signal      rsi   chaikin_a/d\n",
      "date                                                             \n",
      "2020-12-07  1.8220    -0.5074       2.3293  54.8199  3.581249e+08\n",
      "2020-12-08  1.6459    -0.5468       2.1926  53.9043  3.580895e+08\n"
     ]
    },
    {
     "name": "stderr",
     "output_type": "stream",
     "text": [
      "\n",
      "\n",
      " 31%|███       | 155/505 [05:24<21:57,  3.76s/it]\u001b[A\u001b[A"
     ]
    },
    {
     "name": "stdout",
     "output_type": "stream",
     "text": [
      "Stock: DWDP\n",
      "            macd_signal    macd  macd_hist      rsi   chaikin_a/d\n",
      "date                                                             \n",
      "2019-05-30      -1.4550 -1.2904     0.1646  37.5635 -3.032829e+08\n",
      "2019-05-31      -1.4172 -1.2663     0.1509  34.1528 -2.970496e+08\n"
     ]
    },
    {
     "name": "stderr",
     "output_type": "stream",
     "text": [
      "\n",
      "\n",
      " 31%|███       | 156/505 [05:27<21:37,  3.72s/it]\u001b[A\u001b[A"
     ]
    },
    {
     "name": "stdout",
     "output_type": "stream",
     "text": [
      "Stock: DPS\n",
      "            macd_hist    macd  macd_signal      rsi   chaikin_a/d\n",
      "date                                                             \n",
      "2018-07-06     0.1857  0.7161       0.5304  59.0463  2.213216e+08\n",
      "2018-07-09     0.2013  0.7820       0.5807  62.3880  2.259492e+08\n"
     ]
    },
    {
     "name": "stderr",
     "output_type": "stream",
     "text": [
      "\n",
      "\n",
      " 31%|███       | 157/505 [05:32<22:55,  3.95s/it]\u001b[A\u001b[A"
     ]
    },
    {
     "name": "stdout",
     "output_type": "stream",
     "text": [
      "Stock: DTE\n",
      "            macd_signal    macd  macd_hist      rsi   chaikin_a/d\n",
      "date                                                             \n",
      "2020-12-07       1.4203  0.4373    -0.9830  44.8686  3.490828e+08\n",
      "2020-12-08       1.1691  0.1642    -1.0049  44.4265  3.495967e+08\n"
     ]
    },
    {
     "name": "stderr",
     "output_type": "stream",
     "text": [
      "\n",
      "\n",
      " 31%|███▏      | 158/505 [05:36<23:48,  4.12s/it]\u001b[A\u001b[A"
     ]
    },
    {
     "name": "stdout",
     "output_type": "stream",
     "text": [
      "Stock: DUK\n",
      "            macd_hist   macd  macd_signal      rsi   chaikin_a/d\n",
      "date                                                            \n",
      "2020-12-07    -0.4654  0.158       0.6234  46.7117  7.122932e+08\n",
      "2020-12-08    -0.4772  0.027       0.5041  45.5505  7.131856e+08\n"
     ]
    },
    {
     "name": "stderr",
     "output_type": "stream",
     "text": [
      "\n",
      "\n",
      " 31%|███▏      | 159/505 [05:41<24:29,  4.25s/it]\u001b[A\u001b[A"
     ]
    },
    {
     "name": "stdout",
     "output_type": "stream",
     "text": [
      "Stock: DRE\n",
      "            macd_signal  macd_hist    macd      rsi   chaikin_a/d\n",
      "date                                                             \n",
      "2020-12-07      -0.0794    -0.0801 -0.1596  49.9415  6.146884e+08\n",
      "2020-12-08      -0.0924    -0.0519 -0.1443  49.0501  6.142116e+08\n"
     ]
    },
    {
     "name": "stderr",
     "output_type": "stream",
     "text": [
      "\n",
      "\n",
      " 32%|███▏      | 160/505 [05:44<22:41,  3.95s/it]\u001b[A\u001b[A"
     ]
    },
    {
     "name": "stdout",
     "output_type": "stream",
     "text": [
      "Stock: DXC\n",
      "            macd_hist    macd  macd_signal      rsi   chaikin_a/d\n",
      "date                                                             \n",
      "2020-12-07     0.1616  1.0942       0.9326  63.2702 -1.265765e+08\n",
      "2020-12-08     0.1449  1.1138       0.9688  63.4752 -1.262991e+08\n"
     ]
    },
    {
     "name": "stderr",
     "output_type": "stream",
     "text": [
      "\n",
      "\n",
      " 32%|███▏      | 161/505 [05:49<24:04,  4.20s/it]\u001b[A\u001b[A"
     ]
    },
    {
     "name": "stdout",
     "output_type": "stream",
     "text": [
      "Stock: ETFC\n",
      "            macd_signal  macd_hist    macd     rsi   chaikin_a/d\n",
      "date                                                            \n",
      "2020-10-01      -0.8502    -0.1833 -1.0334  41.518  1.770358e+08\n",
      "2020-10-02      -0.8837    -0.1342 -1.0179  41.518  1.770358e+08\n"
     ]
    },
    {
     "name": "stderr",
     "output_type": "stream",
     "text": [
      "\n",
      "\n",
      " 32%|███▏      | 162/505 [05:55<26:59,  4.72s/it]\u001b[A\u001b[A"
     ]
    },
    {
     "name": "stdout",
     "output_type": "stream",
     "text": [
      "Stock: EMN\n",
      "              macd  macd_hist  macd_signal      rsi   chaikin_a/d\n",
      "date                                                             \n",
      "2020-12-07  3.6419    -0.0799       3.7217  64.9267  3.193484e+08\n",
      "2020-12-08  3.7215    -0.0002       3.7217  67.0231  3.198951e+08\n"
     ]
    },
    {
     "name": "stderr",
     "output_type": "stream",
     "text": [
      "\n",
      "\n",
      " 32%|███▏      | 163/505 [06:00<26:43,  4.69s/it]\u001b[A\u001b[A"
     ]
    },
    {
     "name": "stdout",
     "output_type": "stream",
     "text": [
      "Stock: ETN\n",
      "            macd_signal    macd  macd_hist      rsi   chaikin_a/d\n",
      "date                                                             \n",
      "2020-12-07       3.2046  2.5875    -0.6171  54.1425  5.817175e+08\n",
      "2020-12-08       3.0336  2.3493    -0.6843  55.1277  5.823711e+08\n"
     ]
    },
    {
     "name": "stderr",
     "output_type": "stream",
     "text": [
      "\n",
      "\n",
      " 32%|███▏      | 164/505 [06:05<27:00,  4.75s/it]\u001b[A\u001b[A"
     ]
    },
    {
     "name": "stdout",
     "output_type": "stream",
     "text": [
      "Stock: EBAY\n",
      "            macd_signal    macd  macd_hist      rsi   chaikin_a/d\n",
      "date                                                             \n",
      "2020-12-07      -0.2053  0.0580     0.2634  49.4047  2.076667e+09\n",
      "2020-12-08      -0.1586  0.0286     0.1871  48.8077  2.078682e+09\n"
     ]
    },
    {
     "name": "stderr",
     "output_type": "stream",
     "text": [
      "\n",
      "\n",
      " 33%|███▎      | 165/505 [06:09<26:42,  4.71s/it]\u001b[A\u001b[A"
     ]
    },
    {
     "name": "stdout",
     "output_type": "stream",
     "text": [
      "Stock: ECL\n",
      "              macd  macd_hist  macd_signal      rsi   chaikin_a/d\n",
      "date                                                             \n",
      "2020-12-07  5.7755     0.5162       5.2593  60.7580  3.631235e+08\n",
      "2020-12-08  5.7708     0.4091       5.3616  62.1572  3.637340e+08\n"
     ]
    },
    {
     "name": "stderr",
     "output_type": "stream",
     "text": [
      "\n",
      "\n",
      " 33%|███▎      | 166/505 [06:14<26:06,  4.62s/it]\u001b[A\u001b[A"
     ]
    },
    {
     "name": "stdout",
     "output_type": "stream",
     "text": [
      "Stock: EIX\n",
      "            macd_hist    macd  macd_signal      rsi   chaikin_a/d\n",
      "date                                                             \n",
      "2020-12-07    -0.5254  0.8152       1.3406  52.2358  6.004217e+08\n",
      "2020-12-08    -0.4995  0.7163       1.2158  51.9879  6.008312e+08\n"
     ]
    },
    {
     "name": "stderr",
     "output_type": "stream",
     "text": [
      "\n",
      "\n",
      " 33%|███▎      | 167/505 [06:18<25:45,  4.57s/it]\u001b[A\u001b[A"
     ]
    },
    {
     "name": "stdout",
     "output_type": "stream",
     "text": [
      "Stock: EW\n",
      "            macd_signal    macd  macd_hist      rsi   chaikin_a/d\n",
      "date                                                             \n",
      "2020-12-07       1.2725  1.3605     0.0880  60.7316  7.930595e+08\n",
      "2020-12-08       1.2860  1.3402     0.0542  58.0781  7.935270e+08\n"
     ]
    },
    {
     "name": "stderr",
     "output_type": "stream",
     "text": [
      "\n",
      "\n",
      " 33%|███▎      | 168/505 [06:23<25:37,  4.56s/it]\u001b[A\u001b[A"
     ]
    },
    {
     "name": "stdout",
     "output_type": "stream",
     "text": [
      "Stock: EA\n",
      "            macd_hist    macd  macd_signal      rsi   chaikin_a/d\n",
      "date                                                             \n",
      "2020-12-07     1.3599  1.3981       0.0382  63.6714  4.376821e+08\n",
      "2020-12-08     1.3926  1.7790       0.3864  65.6676  4.397336e+08\n"
     ]
    },
    {
     "name": "stderr",
     "output_type": "stream",
     "text": [
      "\n",
      "\n",
      " 33%|███▎      | 169/505 [06:27<25:40,  4.58s/it]\u001b[A\u001b[A"
     ]
    },
    {
     "name": "stdout",
     "output_type": "stream",
     "text": [
      "Stock: EMR\n",
      "            macd_signal  macd_hist    macd      rsi   chaikin_a/d\n",
      "date                                                             \n",
      "2020-12-07       2.1182    -0.1247  1.9935  61.1320  3.251324e+08\n",
      "2020-12-08       2.1295     0.0453  2.1749  65.2472  3.287249e+08\n",
      "EMR\n"
     ]
    },
    {
     "name": "stderr",
     "output_type": "stream",
     "text": [
      "\n",
      "\n",
      " 34%|███▎      | 170/505 [06:32<25:51,  4.63s/it]\u001b[A\u001b[A"
     ]
    },
    {
     "name": "stdout",
     "output_type": "stream",
     "text": [
      "Stock: ETR\n",
      "            macd_hist  macd_signal    macd      rsi   chaikin_a/d\n",
      "date                                                             \n",
      "2020-12-07    -0.6903       1.1723  0.4820  46.1170  3.090460e+08\n",
      "2020-12-08    -0.7777       0.9779  0.2002  42.5148  3.080157e+08\n"
     ]
    },
    {
     "name": "stderr",
     "output_type": "stream",
     "text": [
      "\n",
      "\n",
      " 34%|███▍      | 171/505 [06:35<23:04,  4.14s/it]\u001b[A\u001b[A"
     ]
    },
    {
     "name": "stdout",
     "output_type": "stream",
     "text": [
      "Stock: EVHC\n",
      "            macd_hist    macd  macd_signal      rsi  chaikin_a/d\n",
      "date                                                            \n",
      "2018-12-13    -0.0054  0.0119       0.0173  72.9214 -27907756.06\n",
      "2018-12-14    -0.0050  0.0110       0.0161  72.9214 -27907756.06\n"
     ]
    },
    {
     "name": "stderr",
     "output_type": "stream",
     "text": [
      "\n",
      "\n",
      " 34%|███▍      | 172/505 [06:42<27:16,  4.91s/it]\u001b[A\u001b[A"
     ]
    },
    {
     "name": "stdout",
     "output_type": "stream",
     "text": [
      "Stock: EOG\n",
      "            macd_signal    macd  macd_hist      rsi   chaikin_a/d\n",
      "date                                                             \n",
      "2020-12-07       3.0137  3.1637     0.1499  63.2641  8.186719e+08\n",
      "2020-12-08       3.0510  3.2000     0.1490  64.1613  8.228533e+08\n"
     ]
    },
    {
     "name": "stderr",
     "output_type": "stream",
     "text": [
      "\n",
      "\n",
      " 34%|███▍      | 173/505 [06:46<26:26,  4.78s/it]\u001b[A\u001b[A"
     ]
    },
    {
     "name": "stdout",
     "output_type": "stream",
     "text": [
      "Stock: EQT\n",
      "            macd_signal    macd  macd_hist      rsi   chaikin_a/d\n",
      "date                                                             \n",
      "2020-12-07      -0.0375 -0.1667    -0.1292  43.2614 -6.478537e+07\n",
      "2020-12-08      -0.0785 -0.2421    -0.1637  39.8923 -6.956801e+07\n"
     ]
    },
    {
     "name": "stderr",
     "output_type": "stream",
     "text": [
      "\n",
      "\n",
      " 34%|███▍      | 174/505 [06:51<25:54,  4.69s/it]\u001b[A\u001b[A"
     ]
    },
    {
     "name": "stdout",
     "output_type": "stream",
     "text": [
      "Stock: EFX\n",
      "            macd_signal    macd  macd_hist      rsi   chaikin_a/d\n",
      "date                                                             \n",
      "2020-12-07       2.9988  2.8197    -0.1791  62.1442  2.917977e+08\n",
      "2020-12-08       3.2025  4.0174     0.8149  73.9227  2.921512e+08\n",
      "EFX\n"
     ]
    },
    {
     "name": "stderr",
     "output_type": "stream",
     "text": [
      "\n",
      "\n",
      " 35%|███▍      | 175/505 [06:56<27:06,  4.93s/it]\u001b[A\u001b[A"
     ]
    },
    {
     "name": "stdout",
     "output_type": "stream",
     "text": [
      "Stock: EQIX\n",
      "            macd_signal     macd  macd_hist      rsi   chaikin_a/d\n",
      "date                                                              \n",
      "2020-12-07     -17.0289 -17.7694    -0.7405  39.5523  1.406274e+08\n",
      "2020-12-08     -17.1231 -17.4997    -0.3766  38.9287  1.403739e+08\n"
     ]
    },
    {
     "name": "stderr",
     "output_type": "stream",
     "text": [
      "\n",
      "\n",
      " 35%|███▍      | 176/505 [07:01<27:03,  4.94s/it]\u001b[A\u001b[A"
     ]
    },
    {
     "name": "stdout",
     "output_type": "stream",
     "text": [
      "Stock: EQR\n",
      "            macd_signal    macd  macd_hist      rsi   chaikin_a/d\n",
      "date                                                             \n",
      "2020-12-07       1.8948  1.9559     0.0611  62.2612  6.663978e+08\n",
      "2020-12-08       1.9054  1.9477     0.0423  61.0927  6.664522e+08\n"
     ]
    },
    {
     "name": "stderr",
     "output_type": "stream",
     "text": [
      "\n",
      "\n",
      " 35%|███▌      | 177/505 [07:06<26:49,  4.91s/it]\u001b[A\u001b[A"
     ]
    },
    {
     "name": "stdout",
     "output_type": "stream",
     "text": [
      "Stock: ESS\n",
      "              macd  macd_hist  macd_signal      rsi   chaikin_a/d\n",
      "date                                                             \n",
      "2020-12-07  6.9810    -1.7753       8.7563  60.9801  1.239198e+08\n",
      "2020-12-08  6.6527    -1.6829       8.3356  60.3292  1.237452e+08\n"
     ]
    },
    {
     "name": "stderr",
     "output_type": "stream",
     "text": [
      "\n",
      "\n",
      " 35%|███▌      | 178/505 [07:11<26:37,  4.88s/it]\u001b[A\u001b[A"
     ]
    },
    {
     "name": "stdout",
     "output_type": "stream",
     "text": [
      "Stock: EL\n",
      "            macd_hist    macd  macd_signal      rsi   chaikin_a/d\n",
      "date                                                             \n",
      "2020-12-07    -1.0387  3.3470       4.3857  56.7109  6.028508e+08\n",
      "2020-12-08    -0.8124  3.3702       4.1826  60.0839  6.036384e+08\n"
     ]
    },
    {
     "name": "stderr",
     "output_type": "stream",
     "text": [
      "\n",
      "\n",
      " 35%|███▌      | 179/505 [07:15<26:00,  4.79s/it]\u001b[A\u001b[A"
     ]
    },
    {
     "name": "stdout",
     "output_type": "stream",
     "text": [
      "Stock: RE\n",
      "            macd_signal    macd  macd_hist      rsi   chaikin_a/d\n",
      "date                                                             \n",
      "2020-12-07       5.9804  4.8269    -1.1535  54.0256  7.793354e+07\n",
      "2020-12-08       5.7317  4.7367    -0.9950  57.6902  7.815708e+07\n"
     ]
    },
    {
     "name": "stderr",
     "output_type": "stream",
     "text": [
      "\n",
      "\n",
      " 36%|███▌      | 180/505 [07:20<26:21,  4.87s/it]\u001b[A\u001b[A"
     ]
    },
    {
     "name": "stdout",
     "output_type": "stream",
     "text": [
      "Stock: ES\n",
      "            macd_hist    macd  macd_signal      rsi   chaikin_a/d\n",
      "date                                                             \n",
      "2020-12-07    -0.4321 -1.0583      -0.6262  41.1387  5.289401e+08\n",
      "2020-12-08    -0.3814 -1.1029      -0.7215  40.0122  5.291583e+08\n"
     ]
    },
    {
     "name": "stderr",
     "output_type": "stream",
     "text": [
      "\n",
      "\n",
      " 36%|███▌      | 181/505 [07:25<26:42,  4.95s/it]\u001b[A\u001b[A"
     ]
    },
    {
     "name": "stdout",
     "output_type": "stream",
     "text": [
      "Stock: EXC\n",
      "            macd_signal  macd_hist    macd      rsi   chaikin_a/d\n",
      "date                                                             \n",
      "2020-12-07       0.3326    -0.2769  0.0557  47.7902  9.735781e+08\n",
      "2020-12-08       0.2727    -0.2397  0.0330  48.8174  9.769674e+08\n"
     ]
    },
    {
     "name": "stderr",
     "output_type": "stream",
     "text": [
      "\n",
      "\n",
      " 36%|███▌      | 182/505 [07:30<25:39,  4.77s/it]\u001b[A\u001b[A"
     ]
    },
    {
     "name": "stdout",
     "output_type": "stream",
     "text": [
      "Stock: EXPE\n",
      "              macd  macd_hist  macd_signal      rsi   chaikin_a/d\n",
      "date                                                             \n",
      "2020-12-07  5.9852    -0.4386       6.4238  63.8730  2.806071e+08\n",
      "2020-12-08  5.6693    -0.6036       6.2729  63.3598  2.811682e+08\n"
     ]
    },
    {
     "name": "stderr",
     "output_type": "stream",
     "text": [
      "\n",
      "\n",
      " 36%|███▌      | 183/505 [07:35<25:53,  4.82s/it]\u001b[A\u001b[A"
     ]
    },
    {
     "name": "stdout",
     "output_type": "stream",
     "text": [
      "Stock: EXPD\n",
      "            macd_signal  macd_hist    macd      rsi   chaikin_a/d\n",
      "date                                                             \n",
      "2020-12-07      -0.1563     0.1505 -0.0058  52.3804  4.894658e+08\n",
      "2020-12-08      -0.1133     0.1717  0.0584  53.8073  4.898904e+08\n"
     ]
    },
    {
     "name": "stderr",
     "output_type": "stream",
     "text": [
      "\n",
      "\n",
      " 36%|███▋      | 184/505 [07:39<25:15,  4.72s/it]\u001b[A\u001b[A"
     ]
    },
    {
     "name": "stdout",
     "output_type": "stream",
     "text": [
      "Stock: ESRX\n",
      "              macd  macd_signal  macd_hist      rsi   chaikin_a/d\n",
      "date                                                             \n",
      "2018-12-19 -0.2125       0.2045    -0.4170  44.3398  5.699319e+08\n",
      "2018-12-20 -0.5772       0.0482    -0.6254  35.1050  5.420184e+08\n"
     ]
    },
    {
     "name": "stderr",
     "output_type": "stream",
     "text": [
      "\n",
      "\n",
      " 37%|███▋      | 185/505 [07:44<24:36,  4.61s/it]\u001b[A\u001b[A"
     ]
    },
    {
     "name": "stdout",
     "output_type": "stream",
     "text": [
      "Stock: EXR\n",
      "            macd_signal  macd_hist    macd      rsi   chaikin_a/d\n",
      "date                                                             \n",
      "2020-12-07      -0.3066     0.1281 -0.1786  53.4535  1.832301e+08\n",
      "2020-12-08      -0.2747     0.1276 -0.1471  50.1292  1.828524e+08\n"
     ]
    },
    {
     "name": "stderr",
     "output_type": "stream",
     "text": [
      "\n",
      "\n",
      " 37%|███▋      | 186/505 [07:48<24:56,  4.69s/it]\u001b[A\u001b[A"
     ]
    },
    {
     "name": "stdout",
     "output_type": "stream",
     "text": [
      "Stock: XOM\n",
      "              macd  macd_hist  macd_signal      rsi   chaikin_a/d\n",
      "date                                                             \n",
      "2020-12-07  1.6396     0.1627       1.4769  61.2841  2.433461e+09\n",
      "2020-12-08  1.7341     0.2058       1.5283  64.7364  2.455430e+09\n"
     ]
    },
    {
     "name": "stderr",
     "output_type": "stream",
     "text": [
      "\n",
      "\n",
      " 37%|███▋      | 187/505 [07:53<25:07,  4.74s/it]\u001b[A\u001b[A"
     ]
    },
    {
     "name": "stdout",
     "output_type": "stream",
     "text": [
      "Stock: FFIV\n",
      "            macd_signal    macd  macd_hist      rsi   chaikin_a/d\n",
      "date                                                             \n",
      "2020-12-07       7.2864  6.7740    -0.5124  71.2810  4.065265e+07\n",
      "2020-12-08       7.1938  6.8232    -0.3706  72.5941  4.077612e+07\n"
     ]
    },
    {
     "name": "stderr",
     "output_type": "stream",
     "text": [
      "\n",
      "\n",
      " 37%|███▋      | 188/505 [07:57<22:56,  4.34s/it]\u001b[A\u001b[A"
     ]
    },
    {
     "name": "stdout",
     "output_type": "stream",
     "text": [
      "Stock: FB\n",
      "            macd_hist    macd  macd_signal      rsi   chaikin_a/d\n",
      "date                                                             \n",
      "2020-12-07     0.7128  2.6022       1.8894  56.7803  1.631613e+09\n",
      "2020-12-08     0.6195  2.6637       2.0442  54.7868  1.629019e+09\n"
     ]
    },
    {
     "name": "stderr",
     "output_type": "stream",
     "text": [
      "\n",
      "\n",
      " 37%|███▋      | 189/505 [08:02<23:43,  4.50s/it]\u001b[A\u001b[A"
     ]
    },
    {
     "name": "stdout",
     "output_type": "stream",
     "text": [
      "Stock: FAST\n",
      "            macd_hist    macd  macd_signal      rsi   chaikin_a/d\n",
      "date                                                             \n",
      "2020-12-07    -0.0299  0.7647       0.7946  59.3412  1.322517e+09\n",
      "2020-12-08     0.0088  0.8057       0.7968  61.1990  1.324171e+09\n",
      "FAST\n"
     ]
    },
    {
     "name": "stderr",
     "output_type": "stream",
     "text": [
      "\n",
      "\n",
      " 38%|███▊      | 190/505 [08:07<24:23,  4.64s/it]\u001b[A\u001b[A"
     ]
    },
    {
     "name": "stdout",
     "output_type": "stream",
     "text": [
      "Stock: FRT\n",
      "            macd_hist    macd  macd_signal      rsi   chaikin_a/d\n",
      "date                                                             \n",
      "2020-12-07    -0.3562  3.0395       3.3957  56.0203  1.480826e+08\n",
      "2020-12-08    -0.4807  2.7948       3.2755  54.8559  1.477533e+08\n"
     ]
    },
    {
     "name": "stderr",
     "output_type": "stream",
     "text": [
      "\n",
      "\n",
      " 38%|███▊      | 191/505 [08:12<24:44,  4.73s/it]\u001b[A\u001b[A"
     ]
    },
    {
     "name": "stdout",
     "output_type": "stream",
     "text": [
      "Stock: FDX\n",
      "            macd_hist    macd  macd_signal      rsi   chaikin_a/d\n",
      "date                                                             \n",
      "2020-12-07     0.8392  6.5802       5.7410  65.6001  1.934453e+08\n",
      "2020-12-08     1.0854  7.0977       6.0123  68.4535  1.941907e+08\n"
     ]
    },
    {
     "name": "stderr",
     "output_type": "stream",
     "text": [
      "\n",
      "\n",
      " 38%|███▊      | 192/505 [08:16<24:33,  4.71s/it]\u001b[A\u001b[A"
     ]
    },
    {
     "name": "stdout",
     "output_type": "stream",
     "text": [
      "Stock: FIS\n",
      "              macd  macd_hist  macd_signal      rsi   chaikin_a/d\n",
      "date                                                             \n",
      "2020-12-07  2.4790     0.3498       2.1292  60.6061  5.051024e+08\n",
      "2020-12-08  2.5609     0.3454       2.2156  61.5608  5.065568e+08\n"
     ]
    },
    {
     "name": "stderr",
     "output_type": "stream",
     "text": [
      "\n",
      "\n",
      " 38%|███▊      | 193/505 [08:21<24:37,  4.74s/it]\u001b[A\u001b[A"
     ]
    },
    {
     "name": "stdout",
     "output_type": "stream",
     "text": [
      "Stock: FITB\n",
      "            macd_signal    macd  macd_hist      rsi   chaikin_a/d\n",
      "date                                                             \n",
      "2020-12-07        0.786  0.8144     0.0285  61.4991  3.847480e+08\n",
      "2020-12-08        0.792  0.8162     0.0242  60.5537  3.857571e+08\n"
     ]
    },
    {
     "name": "stderr",
     "output_type": "stream",
     "text": [
      "\n",
      "\n",
      " 38%|███▊      | 194/505 [08:27<26:13,  5.06s/it]\u001b[A\u001b[A"
     ]
    },
    {
     "name": "stdout",
     "output_type": "stream",
     "text": [
      "Stock: FE\n",
      "              macd  macd_signal  macd_hist      rsi   chaikin_a/d\n",
      "date                                                             \n",
      "2020-12-07 -0.4419      -0.6617     0.2198  57.0114  5.690300e+08\n",
      "2020-12-08 -0.2377      -0.5769     0.3392  61.7856  5.745274e+08\n"
     ]
    },
    {
     "name": "stderr",
     "output_type": "stream",
     "text": [
      "\n",
      "\n",
      " 39%|███▊      | 195/505 [08:31<25:23,  4.91s/it]\u001b[A\u001b[A"
     ]
    },
    {
     "name": "stdout",
     "output_type": "stream",
     "text": [
      "Stock: FISV\n",
      "            macd_signal    macd  macd_hist      rsi   chaikin_a/d\n",
      "date                                                             \n",
      "2020-12-07       3.4662  3.6642      0.198  70.0203  1.077204e+09\n",
      "2020-12-08       3.5082  3.6763      0.168  71.8946  1.073481e+09\n"
     ]
    },
    {
     "name": "stderr",
     "output_type": "stream",
     "text": [
      "\n",
      "\n",
      " 39%|███▉      | 196/505 [08:36<25:29,  4.95s/it]\u001b[A\u001b[A"
     ]
    },
    {
     "name": "stdout",
     "output_type": "stream",
     "text": [
      "Stock: FLIR\n",
      "              macd  macd_hist  macd_signal      rsi   chaikin_a/d\n",
      "date                                                             \n",
      "2020-12-07  1.2213     0.2291       0.9922  61.5383  4.189582e+08\n",
      "2020-12-08  1.2625     0.2163       1.0462  62.8915  4.199869e+08\n"
     ]
    },
    {
     "name": "stderr",
     "output_type": "stream",
     "text": [
      "\n",
      "\n",
      " 39%|███▉      | 197/505 [08:41<25:01,  4.87s/it]\u001b[A\u001b[A"
     ]
    },
    {
     "name": "stdout",
     "output_type": "stream",
     "text": [
      "Stock: FLS\n",
      "            macd_signal  macd_hist    macd      rsi   chaikin_a/d\n",
      "date                                                             \n",
      "2020-12-07       1.1832    -0.0569  1.1263  59.3059  3.694753e+08\n",
      "2020-12-08       1.1802    -0.0123  1.1679  61.1811  3.701950e+08\n"
     ]
    },
    {
     "name": "stderr",
     "output_type": "stream",
     "text": [
      "\n",
      "\n",
      " 39%|███▉      | 198/505 [08:46<24:28,  4.78s/it]\u001b[A\u001b[A"
     ]
    },
    {
     "name": "stdout",
     "output_type": "stream",
     "text": [
      "Stock: FLR\n",
      "            macd_hist    macd  macd_signal      rsi   chaikin_a/d\n",
      "date                                                             \n",
      "2020-12-07     0.0891  1.5741       1.4850  69.2412  1.821552e+08\n",
      "2020-12-08     0.0766  1.5807       1.5041  72.5704  1.832265e+08\n"
     ]
    },
    {
     "name": "stderr",
     "output_type": "stream",
     "text": [
      "\n",
      "\n",
      " 39%|███▉      | 199/505 [08:50<24:24,  4.79s/it]\u001b[A\u001b[A"
     ]
    },
    {
     "name": "stdout",
     "output_type": "stream",
     "text": [
      "Stock: FMC\n",
      "            macd_hist    macd  macd_signal      rsi   chaikin_a/d\n",
      "date                                                             \n",
      "2020-12-07     0.3498  3.0193       2.6695  61.3392  2.667918e+08\n",
      "2020-12-08     0.2702  3.0073       2.7370  62.9732  2.671148e+08\n"
     ]
    },
    {
     "name": "stderr",
     "output_type": "stream",
     "text": [
      "\n",
      "\n",
      " 40%|███▉      | 200/505 [08:56<24:51,  4.89s/it]\u001b[A\u001b[A"
     ]
    },
    {
     "name": "stdout",
     "output_type": "stream",
     "text": [
      "Stock: FL\n",
      "              macd  macd_hist  macd_signal      rsi   chaikin_a/d\n",
      "date                                                             \n",
      "2020-12-07  0.8027     0.2069       0.5958  60.6195  1.871487e+08\n",
      "2020-12-08  0.9826     0.3094       0.6731  64.6637  1.894911e+08\n"
     ]
    },
    {
     "name": "stderr",
     "output_type": "stream",
     "text": [
      "\n",
      "\n",
      " 40%|███▉      | 201/505 [09:01<25:30,  5.04s/it]\u001b[A\u001b[A"
     ]
    },
    {
     "name": "stdout",
     "output_type": "stream",
     "text": [
      "Stock: F\n",
      "              macd  macd_signal  macd_hist      rsi   chaikin_a/d\n",
      "date                                                             \n",
      "2020-12-07  0.3601       0.3654    -0.0054  64.1555 -3.077701e+09\n",
      "2020-12-08  0.3477       0.3619    -0.0142  64.7180 -3.077701e+09\n"
     ]
    },
    {
     "name": "stderr",
     "output_type": "stream",
     "text": [
      "\n",
      "\n",
      " 40%|████      | 202/505 [09:04<22:10,  4.39s/it]\u001b[A\u001b[A"
     ]
    },
    {
     "name": "stdout",
     "output_type": "stream",
     "text": [
      "Stock: FTV\n",
      "            macd_signal  macd_hist    macd      rsi   chaikin_a/d\n",
      "date                                                             \n",
      "2020-12-07       1.2431    -0.3931  0.8501  50.0947 -3.459522e+07\n",
      "2020-12-08       1.1218    -0.4855  0.6363  46.6341 -3.771491e+07\n"
     ]
    },
    {
     "name": "stderr",
     "output_type": "stream",
     "text": [
      "\n",
      "\n",
      " 40%|████      | 203/505 [09:08<20:58,  4.17s/it]\u001b[A\u001b[A"
     ]
    },
    {
     "name": "stdout",
     "output_type": "stream",
     "text": [
      "Stock: FBHS\n",
      "            macd_signal    macd  macd_hist      rsi   chaikin_a/d\n",
      "date                                                             \n",
      "2020-12-07      -0.4239 -0.5986    -0.1747  48.8779  1.364515e+08\n",
      "2020-12-08      -0.4487 -0.5479    -0.0992  48.5022  1.367217e+08\n"
     ]
    },
    {
     "name": "stderr",
     "output_type": "stream",
     "text": [
      "\n",
      "\n",
      " 40%|████      | 204/505 [09:12<21:34,  4.30s/it]\u001b[A\u001b[A"
     ]
    },
    {
     "name": "stdout",
     "output_type": "stream",
     "text": [
      "Stock: BEN\n",
      "              macd  macd_hist  macd_signal      rsi   chaikin_a/d\n",
      "date                                                             \n",
      "2020-12-07  0.6328     0.2622       0.3706  65.6879  4.530803e+08\n",
      "2020-12-08  0.7088     0.2705       0.4382  67.8637  4.548349e+08\n"
     ]
    },
    {
     "name": "stderr",
     "output_type": "stream",
     "text": [
      "\n",
      "\n",
      " 41%|████      | 205/505 [09:17<22:44,  4.55s/it]\u001b[A\u001b[A"
     ]
    },
    {
     "name": "stdout",
     "output_type": "stream",
     "text": [
      "Stock: FCX\n",
      "            macd_signal    macd  macd_hist      rsi   chaikin_a/d\n",
      "date                                                             \n",
      "2020-12-07       1.4859  1.6560     0.1701  77.2537  6.234802e+08\n",
      "2020-12-08       1.5135  1.6241     0.1106  75.7397  6.234743e+08\n"
     ]
    },
    {
     "name": "stderr",
     "output_type": "stream",
     "text": [
      "\n",
      "\n",
      " 41%|████      | 206/505 [09:23<25:00,  5.02s/it]\u001b[A\u001b[A"
     ]
    },
    {
     "name": "stdout",
     "output_type": "stream",
     "text": [
      "Stock: GPS\n",
      "            macd_hist  macd_signal    macd      rsi   chaikin_a/d\n",
      "date                                                             \n",
      "2020-12-07    -0.4527       0.5525  0.0998  46.8784  7.079697e+07\n",
      "2020-12-08    -0.4035       0.4516  0.0482  47.9967  7.483511e+07\n"
     ]
    },
    {
     "name": "stderr",
     "output_type": "stream",
     "text": [
      "\n",
      "\n",
      " 41%|████      | 207/505 [09:31<28:12,  5.68s/it]\u001b[A\u001b[A"
     ]
    },
    {
     "name": "stdout",
     "output_type": "stream",
     "text": [
      "Stock: GRMN\n",
      "            macd_signal  macd_hist    macd      rsi   chaikin_a/d\n",
      "date                                                             \n",
      "2020-12-07       3.6312    -0.0023  3.6288  73.8140  2.321564e+08\n",
      "2020-12-08       3.6536     0.0897  3.7434  76.2728  2.327980e+08\n",
      "GRMN\n"
     ]
    },
    {
     "name": "stderr",
     "output_type": "stream",
     "text": [
      "\n",
      "\n",
      " 41%|████      | 208/505 [09:37<28:45,  5.81s/it]\u001b[A\u001b[A"
     ]
    },
    {
     "name": "stdout",
     "output_type": "stream",
     "text": [
      "Stock: IT\n",
      "              macd  macd_signal  macd_hist      rsi   chaikin_a/d\n",
      "date                                                             \n",
      "2020-12-07  4.2831       5.1829    -0.8999  63.6180  2.125473e+08\n",
      "2020-12-08  3.9802       4.9424    -0.9622  59.0155  2.123357e+08\n"
     ]
    },
    {
     "name": "stderr",
     "output_type": "stream",
     "text": [
      "\n",
      "\n",
      " 41%|████▏     | 209/505 [09:43<28:58,  5.87s/it]\u001b[A\u001b[A"
     ]
    },
    {
     "name": "stdout",
     "output_type": "stream",
     "text": [
      "Stock: GD\n",
      "            macd_signal  macd_hist    macd      rsi   chaikin_a/d\n",
      "date                                                             \n",
      "2020-12-07       2.8694     0.0462  2.9156  57.3677  3.218332e+08\n",
      "2020-12-08       2.8592    -0.0409  2.8183  58.2454  3.221498e+08\n"
     ]
    },
    {
     "name": "stderr",
     "output_type": "stream",
     "text": [
      "\n",
      "\n",
      " 42%|████▏     | 210/505 [09:49<29:14,  5.95s/it]\u001b[A\u001b[A"
     ]
    },
    {
     "name": "stdout",
     "output_type": "stream",
     "text": [
      "Stock: GE\n",
      "              macd  macd_hist  macd_signal      rsi   chaikin_a/d\n",
      "date                                                             \n",
      "2020-12-07  0.7495     0.0102       0.7393  80.1182 -6.173284e+09\n",
      "2020-12-08  0.7484     0.0073       0.7411  80.9508 -6.134377e+09\n"
     ]
    },
    {
     "name": "stderr",
     "output_type": "stream",
     "text": [
      "\n",
      "\n",
      " 42%|████▏     | 211/505 [09:55<29:02,  5.93s/it]\u001b[A\u001b[A"
     ]
    },
    {
     "name": "stdout",
     "output_type": "stream",
     "text": [
      "Stock: GGP\n",
      "            macd_hist    macd  macd_signal      rsi   chaikin_a/d\n",
      "date                                                             \n",
      "2018-08-27     0.0270  0.2291       0.2020  69.9471  4.619767e+08\n",
      "2018-08-28     0.0332  0.2436       0.2103  69.9471  4.619767e+08\n"
     ]
    },
    {
     "name": "stderr",
     "output_type": "stream",
     "text": [
      "\n",
      "\n",
      " 42%|████▏     | 212/505 [10:01<29:25,  6.03s/it]\u001b[A\u001b[A"
     ]
    },
    {
     "name": "stdout",
     "output_type": "stream",
     "text": [
      "Stock: GIS\n",
      "            macd_signal    macd  macd_hist      rsi   chaikin_a/d\n",
      "date                                                             \n",
      "2020-12-07      -0.0176 -0.0985     -0.081  43.9131  9.343107e+08\n",
      "2020-12-08      -0.0336 -0.0976     -0.064  48.7925  9.362110e+08\n"
     ]
    },
    {
     "name": "stderr",
     "output_type": "stream",
     "text": [
      "\n",
      "\n",
      " 42%|████▏     | 213/505 [10:05<26:48,  5.51s/it]\u001b[A\u001b[A"
     ]
    },
    {
     "name": "stdout",
     "output_type": "stream",
     "text": [
      "Stock: GM\n",
      "            macd_signal    macd  macd_hist      rsi   chaikin_a/d\n",
      "date                                                             \n",
      "2020-12-07       2.4547  2.1773    -0.2773  64.8891 -8.313927e+07\n",
      "2020-12-08       2.3663  2.0126    -0.3537  61.5477 -8.313927e+07\n"
     ]
    },
    {
     "name": "stderr",
     "output_type": "stream",
     "text": [
      "\n",
      "\n",
      " 42%|████▏     | 214/505 [10:11<27:19,  5.63s/it]\u001b[A\u001b[A"
     ]
    },
    {
     "name": "stdout",
     "output_type": "stream",
     "text": [
      "Stock: GPC\n",
      "              macd  macd_hist  macd_signal      rsi   chaikin_a/d\n",
      "date                                                             \n",
      "2020-12-07  0.4838     0.0109       0.4729  52.2517  1.832693e+08\n",
      "2020-12-08  0.3551    -0.0943       0.4494  48.5573  1.826219e+08\n"
     ]
    },
    {
     "name": "stderr",
     "output_type": "stream",
     "text": [
      "\n",
      "\n",
      " 43%|████▎     | 215/505 [10:16<25:29,  5.27s/it]\u001b[A\u001b[A"
     ]
    },
    {
     "name": "stdout",
     "output_type": "stream",
     "text": [
      "Stock: GILD\n",
      "            macd_hist    macd  macd_signal      rsi   chaikin_a/d\n",
      "date                                                             \n",
      "2020-12-07     0.1823  0.0504      -0.1319  51.2048  1.955671e+09\n",
      "2020-12-08     0.1721  0.0832      -0.0889  53.7247  1.960483e+09\n"
     ]
    },
    {
     "name": "stderr",
     "output_type": "stream",
     "text": [
      "\n",
      "\n",
      " 43%|████▎     | 216/505 [10:20<24:05,  5.00s/it]\u001b[A\u001b[A"
     ]
    },
    {
     "name": "stdout",
     "output_type": "stream",
     "text": [
      "Stock: GPN\n",
      "              macd  macd_hist  macd_signal      rsi   chaikin_a/d\n",
      "date                                                             \n",
      "2020-12-07  5.5184     0.1830       5.3354  65.8599  3.220158e+08\n",
      "2020-12-08  5.3911     0.0446       5.3465  64.5308  3.231226e+08\n"
     ]
    },
    {
     "name": "stderr",
     "output_type": "stream",
     "text": [
      "\n",
      "\n",
      " 43%|████▎     | 217/505 [10:25<23:18,  4.85s/it]\u001b[A\u001b[A"
     ]
    },
    {
     "name": "stdout",
     "output_type": "stream",
     "text": [
      "Stock: GS\n",
      "              macd  macd_hist  macd_signal      rsi   chaikin_a/d\n",
      "date                                                             \n",
      "2020-12-07  8.5209     0.6558       7.8651  68.8163  6.108968e+08\n",
      "2020-12-08  8.4311     0.4528       7.9783  69.1109  6.119007e+08\n"
     ]
    },
    {
     "name": "stderr",
     "output_type": "stream",
     "text": [
      "\n",
      "\n",
      " 43%|████▎     | 218/505 [10:29<22:51,  4.78s/it]\u001b[A\u001b[A"
     ]
    },
    {
     "name": "stdout",
     "output_type": "stream",
     "text": [
      "Stock: GT\n",
      "            macd_hist    macd  macd_signal      rsi   chaikin_a/d\n",
      "date                                                             \n",
      "2020-12-07    -0.0194  0.3013       0.3207  54.1956  2.920536e+07\n",
      "2020-12-08    -0.0220  0.2932       0.3152  55.1380  2.887858e+07\n"
     ]
    },
    {
     "name": "stderr",
     "output_type": "stream",
     "text": [
      "\n",
      "\n",
      " 43%|████▎     | 219/505 [10:34<22:36,  4.74s/it]\u001b[A\u001b[A"
     ]
    },
    {
     "name": "stdout",
     "output_type": "stream",
     "text": [
      "Stock: GWW\n",
      "            macd_signal    macd  macd_hist      rsi   chaikin_a/d\n",
      "date                                                             \n",
      "2020-12-07      10.0479  7.3672    -2.6806  53.9191  9.021465e+07\n",
      "2020-12-08       9.3821  6.7190    -2.6631  55.0944  9.030739e+07\n"
     ]
    },
    {
     "name": "stderr",
     "output_type": "stream",
     "text": [
      "\n",
      "\n",
      " 44%|████▎     | 220/505 [10:39<22:35,  4.76s/it]\u001b[A\u001b[A"
     ]
    },
    {
     "name": "stdout",
     "output_type": "stream",
     "text": [
      "Stock: HAL\n",
      "            macd_signal  macd_hist    macd      rsi   chaikin_a/d\n",
      "date                                                             \n",
      "2020-12-07       1.1512      0.214  1.3652  70.2867  7.458876e+08\n",
      "2020-12-08       1.2107      0.238  1.4488  73.1909  7.571592e+08\n"
     ]
    },
    {
     "name": "stderr",
     "output_type": "stream",
     "text": [
      "\n",
      "\n",
      " 44%|████▍     | 221/505 [10:43<21:38,  4.57s/it]\u001b[A\u001b[A"
     ]
    },
    {
     "name": "stdout",
     "output_type": "stream",
     "text": [
      "Stock: HBI\n",
      "            macd_signal  macd_hist    macd      rsi   chaikin_a/d\n",
      "date                                                             \n",
      "2020-12-07      -0.3689     0.1204 -0.2485  44.4506  3.650071e+08\n",
      "2020-12-08      -0.3427     0.1050 -0.2377  45.3044  3.663984e+08\n"
     ]
    },
    {
     "name": "stderr",
     "output_type": "stream",
     "text": [
      "\n",
      "\n",
      " 44%|████▍     | 222/505 [10:47<21:41,  4.60s/it]\u001b[A\u001b[A"
     ]
    },
    {
     "name": "stdout",
     "output_type": "stream",
     "text": [
      "Stock: HOG\n",
      "              macd  macd_signal  macd_hist      rsi   chaikin_a/d\n",
      "date                                                             \n",
      "2020-12-07  2.1233       2.3146    -0.1914  64.7217  3.955106e+08\n",
      "2020-12-08  1.9903       2.2498    -0.2595  64.8851  3.959620e+08\n"
     ]
    },
    {
     "name": "stderr",
     "output_type": "stream",
     "text": [
      "\n",
      "\n",
      " 44%|████▍     | 223/505 [10:52<21:40,  4.61s/it]\u001b[A\u001b[A"
     ]
    },
    {
     "name": "stdout",
     "output_type": "stream",
     "text": [
      "Stock: HRS\n",
      "              macd  macd_hist  macd_signal      rsi   chaikin_a/d\n",
      "date                                                             \n",
      "2020-12-07  3.6665    -0.8227       4.4892  55.2222  1.265615e+08\n",
      "2020-12-08  3.1415    -1.0781       4.2197  51.1501  1.256345e+08\n"
     ]
    },
    {
     "name": "stderr",
     "output_type": "stream",
     "text": [
      "\n",
      "\n",
      " 44%|████▍     | 224/505 [10:56<21:20,  4.56s/it]\u001b[A\u001b[A"
     ]
    },
    {
     "name": "stdout",
     "output_type": "stream",
     "text": [
      "Stock: HIG\n",
      "            macd_signal  macd_hist    macd      rsi   chaikin_a/d\n",
      "date                                                             \n",
      "2020-12-07       1.5850    -0.2258  1.3591  57.2836  8.318721e+07\n",
      "2020-12-08       1.5316    -0.2134  1.3182  59.7891  8.482537e+07\n"
     ]
    },
    {
     "name": "stderr",
     "output_type": "stream",
     "text": [
      "\n",
      "\n",
      " 45%|████▍     | 225/505 [11:01<21:14,  4.55s/it]\u001b[A\u001b[A"
     ]
    },
    {
     "name": "stdout",
     "output_type": "stream",
     "text": [
      "Stock: HAS\n",
      "              macd  macd_signal  macd_hist      rsi   chaikin_a/d\n",
      "date                                                             \n",
      "2020-12-07  1.7871       2.1521    -0.3650  49.4982  1.874599e+08\n",
      "2020-12-08  1.5000       2.0216    -0.5217  49.9301  1.873022e+08\n"
     ]
    },
    {
     "name": "stderr",
     "output_type": "stream",
     "text": [
      "\n",
      "\n",
      " 45%|████▍     | 226/505 [11:04<19:38,  4.22s/it]\u001b[A\u001b[A"
     ]
    },
    {
     "name": "stdout",
     "output_type": "stream",
     "text": [
      "Stock: HCA\n",
      "            macd_signal    macd  macd_hist      rsi   chaikin_a/d\n",
      "date                                                             \n",
      "2020-12-07       4.6388  4.5301    -0.1088  61.4881  3.096177e+08\n",
      "2020-12-08       4.6581  4.7352     0.0771  65.3917  3.107146e+08\n",
      "HCA\n"
     ]
    },
    {
     "name": "stderr",
     "output_type": "stream",
     "text": [
      "\n",
      "\n",
      " 45%|████▍     | 227/505 [11:09<20:09,  4.35s/it]\u001b[A\u001b[A"
     ]
    },
    {
     "name": "stdout",
     "output_type": "stream",
     "text": [
      "Stock: HCP\n",
      "            macd_signal    macd  macd_hist      rsi   chaikin_a/d\n",
      "date                                                             \n",
      "2020-12-07       0.5764  0.5310    -0.0454  60.2013  8.345048e+08\n",
      "2020-12-08       0.5726  0.5574    -0.0152  61.0893  8.340224e+08\n"
     ]
    },
    {
     "name": "stderr",
     "output_type": "stream",
     "text": [
      "\n",
      "\n",
      " 45%|████▌     | 228/505 [11:14<20:18,  4.40s/it]\u001b[A\u001b[A"
     ]
    },
    {
     "name": "stdout",
     "output_type": "stream",
     "text": [
      "Stock: HP\n",
      "            macd_signal  macd_hist    macd      rsi   chaikin_a/d\n",
      "date                                                             \n",
      "2020-12-07       2.0639     0.2210  2.2849  75.2405  2.558185e+08\n",
      "2020-12-08       2.1108     0.1877  2.2985  76.7337  2.571349e+08\n"
     ]
    },
    {
     "name": "stderr",
     "output_type": "stream",
     "text": [
      "\n",
      "\n",
      " 45%|████▌     | 229/505 [11:18<20:24,  4.44s/it]\u001b[A\u001b[A"
     ]
    },
    {
     "name": "stdout",
     "output_type": "stream",
     "text": [
      "Stock: HSIC\n",
      "            macd_signal  macd_hist    macd     rsi   chaikin_a/d\n",
      "date                                                            \n",
      "2020-12-07       0.6684     0.4179  1.0863  65.670  5.534058e+08\n",
      "2020-12-08       0.8085     0.5602  1.3686  69.778  5.542127e+08\n"
     ]
    },
    {
     "name": "stderr",
     "output_type": "stream",
     "text": [
      "\n",
      "\n",
      " 46%|████▌     | 230/505 [11:23<20:31,  4.48s/it]\u001b[A\u001b[A"
     ]
    },
    {
     "name": "stdout",
     "output_type": "stream",
     "text": [
      "Stock: HES\n",
      "            macd_hist    macd  macd_signal      rsi   chaikin_a/d\n",
      "date                                                             \n",
      "2020-12-07     0.3060  2.9582       2.6522  62.5267  3.578554e+08\n",
      "2020-12-08     0.2558  2.9720       2.7162  62.8789  3.582674e+08\n"
     ]
    },
    {
     "name": "stderr",
     "output_type": "stream",
     "text": [
      "\n",
      "\n",
      " 46%|████▌     | 231/505 [11:26<18:37,  4.08s/it]\u001b[A\u001b[A"
     ]
    },
    {
     "name": "stdout",
     "output_type": "stream",
     "text": [
      "Stock: HPE\n",
      "            macd_signal  macd_hist    macd      rsi   chaikin_a/d\n",
      "date                                                             \n",
      "2020-12-07       0.4987     0.1169  0.6156  70.2644  1.217718e+08\n",
      "2020-12-08       0.5267     0.1119  0.6387  71.4371  1.275953e+08\n"
     ]
    },
    {
     "name": "stderr",
     "output_type": "stream",
     "text": [
      "\n",
      "\n",
      " 46%|████▌     | 232/505 [11:29<17:33,  3.86s/it]\u001b[A\u001b[A"
     ]
    },
    {
     "name": "stdout",
     "output_type": "stream",
     "text": [
      "Stock: HLT\n",
      "            macd_hist    macd  macd_signal      rsi   chaikin_a/d\n",
      "date                                                             \n",
      "2020-12-07     0.1283  3.8278       3.6996  64.8616  3.697546e+07\n",
      "2020-12-08     0.0403  3.7500       3.7096  62.8978  3.588949e+07\n"
     ]
    },
    {
     "name": "stderr",
     "output_type": "stream",
     "text": [
      "\n",
      "\n",
      " 46%|████▌     | 233/505 [11:34<19:06,  4.21s/it]\u001b[A\u001b[A"
     ]
    },
    {
     "name": "stdout",
     "output_type": "stream",
     "text": [
      "Stock: HOLX\n",
      "            macd_signal  macd_hist    macd      rsi   chaikin_a/d\n",
      "date                                                             \n",
      "2020-12-07       0.4502     0.3235  0.7738  61.0191  5.553486e+08\n",
      "2020-12-08       0.5327     0.3299  0.8626  59.2730  5.554322e+08\n"
     ]
    },
    {
     "name": "stderr",
     "output_type": "stream",
     "text": [
      "\n",
      "\n",
      " 46%|████▋     | 234/505 [11:40<21:24,  4.74s/it]\u001b[A\u001b[A"
     ]
    },
    {
     "name": "stdout",
     "output_type": "stream",
     "text": [
      "Stock: HD\n",
      "            macd_signal    macd  macd_hist      rsi   chaikin_a/d\n",
      "date                                                             \n",
      "2020-12-07      -1.5558 -2.3697    -0.8139  36.5307  4.699804e+08\n",
      "2020-12-08      -1.8112 -2.8328    -1.0216  35.6082  4.731096e+08\n"
     ]
    },
    {
     "name": "stderr",
     "output_type": "stream",
     "text": [
      "\n",
      "\n",
      " 47%|████▋     | 235/505 [11:45<21:30,  4.78s/it]\u001b[A\u001b[A"
     ]
    },
    {
     "name": "stdout",
     "output_type": "stream",
     "text": [
      "Stock: HON\n",
      "            macd_signal    macd  macd_hist      rsi   chaikin_a/d\n",
      "date                                                             \n",
      "2020-12-07       8.1551  7.7370    -0.4181  67.3130  7.020148e+08\n",
      "2020-12-08       8.0448  7.6033    -0.4414  68.1493  7.028745e+08\n"
     ]
    },
    {
     "name": "stderr",
     "output_type": "stream",
     "text": [
      "\n",
      "\n",
      " 47%|████▋     | 236/505 [11:50<21:23,  4.77s/it]\u001b[A\u001b[A"
     ]
    },
    {
     "name": "stdout",
     "output_type": "stream",
     "text": [
      "Stock: HRL\n",
      "            macd_signal  macd_hist    macd      rsi   chaikin_a/d\n",
      "date                                                             \n",
      "2020-12-07      -0.5117    -0.2645 -0.7762  37.4999  4.282605e+08\n",
      "2020-12-08      -0.5605    -0.1953 -0.7559  40.5588  4.292312e+08\n"
     ]
    },
    {
     "name": "stderr",
     "output_type": "stream",
     "text": [
      "\n",
      "\n",
      " 47%|████▋     | 237/505 [11:55<21:48,  4.88s/it]\u001b[A\u001b[A"
     ]
    },
    {
     "name": "stdout",
     "output_type": "stream",
     "text": [
      "Stock: HST\n",
      "              macd  macd_signal  macd_hist      rsi   chaikin_a/d\n",
      "date                                                             \n",
      "2020-12-07  0.8823       0.8443     0.0380  63.8799  1.348740e+09\n",
      "2020-12-08  0.8575       0.8470     0.0106  63.5205  1.349686e+09\n"
     ]
    },
    {
     "name": "stderr",
     "output_type": "stream",
     "text": [
      "\n",
      "\n",
      " 47%|████▋     | 238/505 [12:00<21:43,  4.88s/it]\u001b[A\u001b[A"
     ]
    },
    {
     "name": "stdout",
     "output_type": "stream",
     "text": [
      "Stock: HPQ\n",
      "            macd_signal  macd_hist    macd      rsi   chaikin_a/d\n",
      "date                                                             \n",
      "2020-12-07       0.8582     0.2535  1.1117  77.8427  9.242167e+08\n",
      "2020-12-08       0.9146     0.2253  1.1399  78.0058  9.238716e+08\n"
     ]
    },
    {
     "name": "stderr",
     "output_type": "stream",
     "text": [
      "\n",
      "\n",
      " 47%|████▋     | 239/505 [12:05<21:23,  4.83s/it]\u001b[A\u001b[A"
     ]
    },
    {
     "name": "stdout",
     "output_type": "stream",
     "text": [
      "Stock: HUM\n",
      "            macd_hist    macd  macd_signal      rsi   chaikin_a/d\n",
      "date                                                             \n",
      "2020-12-07    -0.6049 -4.9413      -4.3364  43.5978  2.217781e+08\n",
      "2020-12-08    -0.1518 -4.5262      -4.3744  47.3102  2.223435e+08\n"
     ]
    },
    {
     "name": "stderr",
     "output_type": "stream",
     "text": [
      "\n",
      "\n",
      " 48%|████▊     | 240/505 [12:09<21:05,  4.78s/it]\u001b[A\u001b[A"
     ]
    },
    {
     "name": "stdout",
     "output_type": "stream",
     "text": [
      "Stock: HBAN\n",
      "            macd_signal    macd  macd_hist      rsi   chaikin_a/d\n",
      "date                                                             \n",
      "2020-12-07       0.5966  0.6211     0.0244  64.0561 -3.117134e+08\n",
      "2020-12-08       0.5980  0.6033     0.0053  62.3400 -3.136055e+08\n"
     ]
    },
    {
     "name": "stderr",
     "output_type": "stream",
     "text": [
      "\n",
      "\n",
      " 48%|████▊     | 241/505 [12:13<19:40,  4.47s/it]\u001b[A\u001b[A"
     ]
    },
    {
     "name": "stdout",
     "output_type": "stream",
     "text": [
      "Stock: HII\n",
      "              macd  macd_signal  macd_hist      rsi   chaikin_a/d\n",
      "date                                                             \n",
      "2020-12-07  3.9313        3.758     0.1733  63.6285  2.627523e+07\n",
      "2020-12-08  4.2227        3.851     0.3718  65.1151  2.641925e+07\n"
     ]
    },
    {
     "name": "stderr",
     "output_type": "stream",
     "text": [
      "\n",
      "\n",
      " 48%|████▊     | 242/505 [12:18<20:06,  4.59s/it]\u001b[A\u001b[A"
     ]
    },
    {
     "name": "stdout",
     "output_type": "stream",
     "text": [
      "Stock: IDXX\n",
      "            macd_signal    macd  macd_hist      rsi   chaikin_a/d\n",
      "date                                                             \n",
      "2020-12-07       8.6515  7.3055    -1.3460  55.4058  1.864867e+08\n",
      "2020-12-08       8.3249  7.0183    -1.3065  56.0508  1.867993e+08\n"
     ]
    },
    {
     "name": "stderr",
     "output_type": "stream",
     "text": [
      "\n",
      "\n",
      " 48%|████▊     | 243/505 [12:21<18:29,  4.24s/it]\u001b[A\u001b[A"
     ]
    },
    {
     "name": "stdout",
     "output_type": "stream",
     "text": [
      "Stock: INFO\n",
      "            macd_signal  macd_hist    macd      rsi   chaikin_a/d\n",
      "date                                                             \n",
      "2020-12-07       2.6490    -0.4692  2.1798  55.6905  1.673521e+08\n",
      "2020-12-08       2.5127    -0.5451  1.9677  53.8368  1.640729e+08\n"
     ]
    },
    {
     "name": "stderr",
     "output_type": "stream",
     "text": [
      "\n",
      "\n",
      " 48%|████▊     | 244/505 [12:26<18:56,  4.35s/it]\u001b[A\u001b[A"
     ]
    },
    {
     "name": "stdout",
     "output_type": "stream",
     "text": [
      "Stock: ITW\n",
      "              macd  macd_hist  macd_signal      rsi   chaikin_a/d\n",
      "date                                                             \n",
      "2020-12-07  0.2207    -1.1651       1.3859  44.2166  4.706162e+08\n",
      "2020-12-08  0.1511    -0.9878       1.1389  49.5186  4.717224e+08\n"
     ]
    },
    {
     "name": "stderr",
     "output_type": "stream",
     "text": [
      "\n",
      "\n",
      " 49%|████▊     | 245/505 [12:30<19:09,  4.42s/it]\u001b[A\u001b[A"
     ]
    },
    {
     "name": "stdout",
     "output_type": "stream",
     "text": [
      "Stock: ILMN\n",
      "              macd  macd_signal  macd_hist      rsi   chaikin_a/d\n",
      "date                                                             \n",
      "2020-12-07  8.4168       2.8877     5.5291  65.8445  4.488660e+08\n",
      "2020-12-08  8.9614       4.1024     4.8590  65.7553  4.496557e+08\n"
     ]
    },
    {
     "name": "stderr",
     "output_type": "stream",
     "text": [
      "\n",
      "\n",
      " 49%|████▊     | 246/505 [12:35<19:28,  4.51s/it]\u001b[A\u001b[A"
     ]
    },
    {
     "name": "stdout",
     "output_type": "stream",
     "text": [
      "Stock: INCY\n",
      "              macd  macd_signal  macd_hist      rsi   chaikin_a/d\n",
      "date                                                             \n",
      "2020-12-07 -0.9480      -1.3145     0.3666  46.6723  1.466452e+08\n",
      "2020-12-08 -0.8968      -1.2310     0.3342  46.0672  1.469027e+08\n"
     ]
    },
    {
     "name": "stderr",
     "output_type": "stream",
     "text": [
      "\n",
      "\n",
      " 49%|████▉     | 247/505 [12:38<17:22,  4.04s/it]\u001b[A\u001b[A"
     ]
    },
    {
     "name": "stdout",
     "output_type": "stream",
     "text": [
      "Stock: IR\n",
      "            macd_signal    macd  macd_hist      rsi   chaikin_a/d\n",
      "date                                                             \n",
      "2020-12-07       1.7112  1.4806    -0.2306  60.6080 -5.583642e+07\n",
      "2020-12-08       1.6473  1.3916    -0.2557  61.6533 -5.398923e+07\n"
     ]
    },
    {
     "name": "stderr",
     "output_type": "stream",
     "text": [
      "\n",
      "\n",
      " 49%|████▉     | 248/505 [12:43<18:43,  4.37s/it]\u001b[A\u001b[A"
     ]
    },
    {
     "name": "stdout",
     "output_type": "stream",
     "text": [
      "Stock: INTC\n",
      "            macd_hist    macd  macd_signal      rsi   chaikin_a/d\n",
      "date                                                             \n",
      "2020-12-07     0.7081  0.8217       0.1136  60.5507 -1.774212e+09\n",
      "2020-12-08     0.6327  0.9046       0.2718  62.3687 -1.747164e+09\n"
     ]
    },
    {
     "name": "stderr",
     "output_type": "stream",
     "text": [
      "\n",
      "\n",
      " 49%|████▉     | 249/505 [12:48<18:33,  4.35s/it]\u001b[A\u001b[A"
     ]
    },
    {
     "name": "stdout",
     "output_type": "stream",
     "text": [
      "Stock: ICE\n",
      "            macd_signal  macd_hist    macd      rsi   chaikin_a/d\n",
      "date                                                             \n",
      "2020-12-07       1.6857     0.8601  2.5458  75.9950  5.371108e+08\n",
      "2020-12-08       1.8889     0.8126  2.7014  74.8048  5.381730e+08\n"
     ]
    },
    {
     "name": "stderr",
     "output_type": "stream",
     "text": [
      "\n",
      "\n",
      " 50%|████▉     | 250/505 [12:52<19:10,  4.51s/it]\u001b[A\u001b[A"
     ]
    },
    {
     "name": "stdout",
     "output_type": "stream",
     "text": [
      "Stock: IBM\n",
      "            macd_signal  macd_hist    macd     rsi   chaikin_a/d\n",
      "date                                                            \n",
      "2020-12-07       1.7961     0.6457  2.4417  59.859  4.047713e+08\n",
      "2020-12-08       1.9342     0.5526  2.4868  61.613  4.062079e+08\n"
     ]
    },
    {
     "name": "stderr",
     "output_type": "stream",
     "text": [
      "\n",
      "\n",
      " 50%|████▉     | 251/505 [12:57<19:29,  4.60s/it]\u001b[A\u001b[A"
     ]
    },
    {
     "name": "stdout",
     "output_type": "stream",
     "text": [
      "Stock: IP\n",
      "              macd  macd_hist  macd_signal      rsi   chaikin_a/d\n",
      "date                                                             \n",
      "2020-12-07  1.0162    -0.3877       1.4039  52.7430  2.130089e+08\n",
      "2020-12-08  0.9301    -0.3790       1.3091  54.6407  2.150313e+08\n"
     ]
    },
    {
     "name": "stderr",
     "output_type": "stream",
     "text": [
      "\n",
      "\n",
      " 50%|████▉     | 252/505 [13:02<19:30,  4.63s/it]\u001b[A\u001b[A"
     ]
    },
    {
     "name": "stdout",
     "output_type": "stream",
     "text": [
      "Stock: IPG\n",
      "            macd_signal    macd  macd_hist      rsi   chaikin_a/d\n",
      "date                                                             \n",
      "2020-12-07       1.0911  1.1992     0.1081  71.6091  7.254231e+08\n",
      "2020-12-08       1.1091  1.1809     0.0718  69.2981  7.239125e+08\n"
     ]
    },
    {
     "name": "stderr",
     "output_type": "stream",
     "text": [
      "\n",
      "\n",
      " 50%|█████     | 253/505 [13:07<19:39,  4.68s/it]\u001b[A\u001b[A"
     ]
    },
    {
     "name": "stdout",
     "output_type": "stream",
     "text": [
      "Stock: IFF\n",
      "              macd  macd_hist  macd_signal      rsi   chaikin_a/d\n",
      "date                                                             \n",
      "2020-12-07  0.6213     0.4301       0.1912  56.1766  8.966509e+07\n",
      "2020-12-08  0.7588     0.4540       0.3047  57.3227  9.052564e+07\n"
     ]
    },
    {
     "name": "stderr",
     "output_type": "stream",
     "text": [
      "\n",
      "\n",
      " 50%|█████     | 254/505 [13:12<19:46,  4.73s/it]\u001b[A\u001b[A"
     ]
    },
    {
     "name": "stdout",
     "output_type": "stream",
     "text": [
      "Stock: INTU\n",
      "              macd  macd_signal  macd_hist      rsi   chaikin_a/d\n",
      "date                                                             \n",
      "2020-12-07  6.9135       5.6105     1.3030  65.1872  5.137465e+08\n",
      "2020-12-08  7.5236       5.9931     1.5304  65.3876  5.127473e+08\n"
     ]
    },
    {
     "name": "stderr",
     "output_type": "stream",
     "text": [
      "\n",
      "\n",
      " 50%|█████     | 255/505 [13:17<20:23,  4.89s/it]\u001b[A\u001b[A"
     ]
    },
    {
     "name": "stdout",
     "output_type": "stream",
     "text": [
      "Stock: ISRG\n",
      "            macd_signal  macd_hist     macd     rsi   chaikin_a/d\n",
      "date                                                             \n",
      "2020-12-07       6.1962     3.4207   9.6169  59.483  3.319231e+08\n",
      "2020-12-08       7.0243     3.3126  10.3369  59.753  3.321977e+08\n"
     ]
    },
    {
     "name": "stderr",
     "output_type": "stream",
     "text": [
      "\n",
      "\n",
      " 51%|█████     | 256/505 [13:21<19:44,  4.76s/it]\u001b[A\u001b[A"
     ]
    },
    {
     "name": "stdout",
     "output_type": "stream",
     "text": [
      "Stock: IVZ\n",
      "              macd  macd_signal  macd_hist      rsi   chaikin_a/d\n",
      "date                                                             \n",
      "2020-12-07  0.9890       0.9135     0.0755  72.3907  3.787166e+08\n",
      "2020-12-08  1.0094       0.9327     0.0767  72.6720  3.829514e+08\n"
     ]
    },
    {
     "name": "stderr",
     "output_type": "stream",
     "text": [
      "\n",
      "\n",
      " 51%|█████     | 257/505 [13:25<18:48,  4.55s/it]\u001b[A\u001b[A"
     ]
    },
    {
     "name": "stdout",
     "output_type": "stream",
     "text": [
      "Stock: IPGP\n",
      "              macd  macd_hist  macd_signal      rsi   chaikin_a/d\n",
      "date                                                             \n",
      "2020-12-07  4.9883     0.2995       4.6888  69.5604  4.700951e+07\n",
      "2020-12-08  5.3195     0.5045       4.8149  71.0774  4.704980e+07\n"
     ]
    },
    {
     "name": "stderr",
     "output_type": "stream",
     "text": [
      "\n",
      "\n",
      " 51%|█████     | 258/505 [13:29<17:36,  4.28s/it]\u001b[A\u001b[A"
     ]
    },
    {
     "name": "stdout",
     "output_type": "stream",
     "text": [
      "Stock: IQV\n",
      "            macd_signal    macd  macd_hist      rsi   chaikin_a/d\n",
      "date                                                             \n",
      "2020-12-07       1.5504  1.1869    -0.3634  53.1080  7.462920e+07\n",
      "2020-12-08       1.4847  1.2219    -0.2628  55.2185  7.604441e+07\n"
     ]
    },
    {
     "name": "stderr",
     "output_type": "stream",
     "text": [
      "\n",
      "\n",
      " 51%|█████▏    | 259/505 [13:34<17:53,  4.36s/it]\u001b[A\u001b[A"
     ]
    },
    {
     "name": "stdout",
     "output_type": "stream",
     "text": [
      "Stock: IRM\n",
      "            macd_hist  macd_signal    macd      rsi   chaikin_a/d\n",
      "date                                                             \n",
      "2020-12-07     0.3848       0.0628  0.4476  70.3930  3.483555e+08\n",
      "2020-12-08     0.4414       0.1732  0.6146  73.5443  3.528006e+08\n"
     ]
    },
    {
     "name": "stderr",
     "output_type": "stream",
     "text": [
      "\n",
      "\n",
      " 51%|█████▏    | 260/505 [13:38<17:53,  4.38s/it]\u001b[A\u001b[A"
     ]
    },
    {
     "name": "stdout",
     "output_type": "stream",
     "text": [
      "Stock: JBHT\n",
      "              macd  macd_hist  macd_signal      rsi   chaikin_a/d\n",
      "date                                                             \n",
      "2020-12-07  2.1741     0.4265       1.7476  65.9468  3.271165e+08\n",
      "2020-12-08  2.3765     0.5031       1.8734  67.9140  3.274109e+08\n"
     ]
    },
    {
     "name": "stderr",
     "output_type": "stream",
     "text": [
      "\n",
      "\n",
      " 52%|█████▏    | 261/505 [13:42<17:54,  4.40s/it]\u001b[A\u001b[A"
     ]
    },
    {
     "name": "stdout",
     "output_type": "stream",
     "text": [
      "Stock: JEC\n",
      "              macd  macd_signal  macd_hist      rsi   chaikin_a/d\n",
      "date                                                             \n",
      "2020-12-07  2.7193       2.5432     0.1761  64.9030  1.736520e+08\n",
      "2020-12-08  2.7274       2.5800     0.1474  64.0745  1.738359e+08\n"
     ]
    },
    {
     "name": "stderr",
     "output_type": "stream",
     "text": [
      "\n",
      "\n",
      " 52%|█████▏    | 262/505 [13:47<18:18,  4.52s/it]\u001b[A\u001b[A"
     ]
    },
    {
     "name": "stdout",
     "output_type": "stream",
     "text": [
      "Stock: SJM\n",
      "            macd_hist  macd_signal    macd      rsi   chaikin_a/d\n",
      "date                                                             \n",
      "2020-12-07    -0.1272       0.5162  0.3890  52.2213  1.083404e+08\n",
      "2020-12-08    -0.0767       0.4970  0.4204  53.5907  1.087399e+08\n"
     ]
    },
    {
     "name": "stderr",
     "output_type": "stream",
     "text": [
      "\n",
      "\n",
      " 52%|█████▏    | 263/505 [13:52<18:45,  4.65s/it]\u001b[A\u001b[A"
     ]
    },
    {
     "name": "stdout",
     "output_type": "stream",
     "text": [
      "Stock: JNJ\n",
      "            macd_hist  macd_signal    macd      rsi   chaikin_a/d\n",
      "date                                                             \n",
      "2020-12-07     0.4632       0.7404  1.2036  60.4461  1.012405e+09\n",
      "2020-12-08     0.5818       0.8859  1.4677  66.3123  1.016945e+09\n"
     ]
    },
    {
     "name": "stderr",
     "output_type": "stream",
     "text": [
      "\n",
      "\n",
      " 52%|█████▏    | 264/505 [13:57<18:48,  4.68s/it]\u001b[A\u001b[A"
     ]
    },
    {
     "name": "stdout",
     "output_type": "stream",
     "text": [
      "Stock: JCI\n",
      "            macd_signal  macd_hist    macd      rsi   chaikin_a/d\n",
      "date                                                             \n",
      "2020-12-07       0.7787    -0.1249  0.6538  52.3432  8.701751e+08\n",
      "2020-12-08       0.7380    -0.1630  0.5749  52.4150  8.689427e+08\n"
     ]
    },
    {
     "name": "stderr",
     "output_type": "stream",
     "text": [
      "\n",
      "\n",
      " 52%|█████▏    | 265/505 [14:02<19:06,  4.78s/it]\u001b[A\u001b[A"
     ]
    },
    {
     "name": "stdout",
     "output_type": "stream",
     "text": [
      "Stock: JPM\n",
      "            macd_hist    macd  macd_signal      rsi   chaikin_a/d\n",
      "date                                                             \n",
      "2020-12-07    -0.1193  4.4144       4.5337  63.9881  8.708801e+08\n",
      "2020-12-08    -0.2043  4.2783       4.4826  64.1608  8.764398e+08\n"
     ]
    },
    {
     "name": "stderr",
     "output_type": "stream",
     "text": [
      "\n",
      "\n",
      " 53%|█████▎    | 266/505 [14:07<19:33,  4.91s/it]\u001b[A\u001b[A"
     ]
    },
    {
     "name": "stdout",
     "output_type": "stream",
     "text": [
      "Stock: JNPR\n",
      "            macd_signal  macd_hist    macd     rsi   chaikin_a/d\n",
      "date                                                            \n",
      "2020-12-07       0.1083     0.0452  0.1535  57.340 -6.353482e+08\n",
      "2020-12-08       0.1143     0.0238  0.1381  51.452 -6.324414e+08\n"
     ]
    },
    {
     "name": "stderr",
     "output_type": "stream",
     "text": [
      "\n",
      "\n",
      " 53%|█████▎    | 267/505 [14:12<19:26,  4.90s/it]\u001b[A\u001b[A"
     ]
    },
    {
     "name": "stdout",
     "output_type": "stream",
     "text": [
      "Stock: KSU\n",
      "              macd  macd_signal  macd_hist      rsi   chaikin_a/d\n",
      "date                                                             \n",
      "2020-12-07  2.3256       1.8806     0.4450  65.6478  2.239564e+08\n",
      "2020-12-08  2.5948       2.0235     0.5713  65.9776  2.239857e+08\n"
     ]
    },
    {
     "name": "stderr",
     "output_type": "stream",
     "text": [
      "\n",
      "\n",
      " 53%|█████▎    | 268/505 [14:18<20:03,  5.08s/it]\u001b[A\u001b[A"
     ]
    },
    {
     "name": "stdout",
     "output_type": "stream",
     "text": [
      "Stock: K\n",
      "            macd_signal  macd_hist    macd      rsi   chaikin_a/d\n",
      "date                                                             \n",
      "2020-12-07      -0.3578    -0.1551 -0.5129  40.0679  3.848065e+08\n",
      "2020-12-08      -0.3898    -0.1277 -0.5174  44.0536  3.872801e+08\n"
     ]
    },
    {
     "name": "stderr",
     "output_type": "stream",
     "text": [
      "\n",
      "\n",
      " 53%|█████▎    | 269/505 [14:23<19:52,  5.05s/it]\u001b[A\u001b[A"
     ]
    },
    {
     "name": "stdout",
     "output_type": "stream",
     "text": [
      "Stock: KEY\n",
      "              macd  macd_hist  macd_signal      rsi   chaikin_a/d\n",
      "date                                                             \n",
      "2020-12-07  0.6674    -0.0546       0.7220  58.7621  2.543802e+08\n",
      "2020-12-08  0.6363    -0.0685       0.7049  59.5116  2.607072e+08\n"
     ]
    },
    {
     "name": "stderr",
     "output_type": "stream",
     "text": [
      "\n",
      "\n",
      " 53%|█████▎    | 270/505 [14:27<19:27,  4.97s/it]\u001b[A\u001b[A"
     ]
    },
    {
     "name": "stdout",
     "output_type": "stream",
     "text": [
      "Stock: KMB\n",
      "              macd  macd_signal  macd_hist      rsi   chaikin_a/d\n",
      "date                                                             \n",
      "2020-12-07 -0.5646      -0.6004     0.0358  44.6869  3.273350e+08\n",
      "2020-12-08 -0.6518      -0.6107    -0.0411  43.8282  3.276323e+08\n"
     ]
    },
    {
     "name": "stderr",
     "output_type": "stream",
     "text": [
      "\n",
      "\n",
      " 54%|█████▎    | 271/505 [14:33<19:44,  5.06s/it]\u001b[A\u001b[A"
     ]
    },
    {
     "name": "stdout",
     "output_type": "stream",
     "text": [
      "Stock: KIM\n",
      "            macd_signal  macd_hist    macd      rsi   chaikin_a/d\n",
      "date                                                             \n",
      "2020-12-07       0.8686    -0.0630  0.8056  60.0558  8.781791e+08\n",
      "2020-12-08       0.8450    -0.0941  0.7509  58.7030  8.768668e+08\n"
     ]
    },
    {
     "name": "stderr",
     "output_type": "stream",
     "text": [
      "\n",
      "\n",
      " 54%|█████▍    | 272/505 [14:36<17:58,  4.63s/it]\u001b[A\u001b[A"
     ]
    },
    {
     "name": "stdout",
     "output_type": "stream",
     "text": [
      "Stock: KMI\n",
      "              macd  macd_hist  macd_signal      rsi   chaikin_a/d\n",
      "date                                                             \n",
      "2020-12-07  0.5614     0.0225       0.5388  63.8734  9.925501e+07\n",
      "2020-12-08  0.5494     0.0085       0.5409  63.1742  9.228167e+07\n"
     ]
    },
    {
     "name": "stderr",
     "output_type": "stream",
     "text": [
      "\n",
      "\n",
      " 54%|█████▍    | 273/505 [14:41<18:21,  4.75s/it]\u001b[A\u001b[A"
     ]
    },
    {
     "name": "stdout",
     "output_type": "stream",
     "text": [
      "Stock: KLAC\n",
      "            macd_signal     macd  macd_hist      rsi   chaikin_a/d\n",
      "date                                                              \n",
      "2020-12-07       11.631  12.3984     0.7673  78.5526  3.536467e+08\n",
      "2020-12-08       11.814  12.5461     0.7320  78.6640  3.537259e+08\n"
     ]
    },
    {
     "name": "stderr",
     "output_type": "stream",
     "text": [
      "\n",
      "\n",
      " 54%|█████▍    | 274/505 [14:46<18:50,  4.89s/it]\u001b[A\u001b[A"
     ]
    },
    {
     "name": "stdout",
     "output_type": "stream",
     "text": [
      "Stock: KSS\n",
      "            macd_signal  macd_hist    macd      rsi   chaikin_a/d\n",
      "date                                                             \n",
      "2020-12-07       3.4082     0.9682  4.3765  78.1190  9.244066e+07\n",
      "2020-12-08       3.6145     0.8249  4.4393  76.5803  8.962811e+07\n"
     ]
    },
    {
     "name": "stderr",
     "output_type": "stream",
     "text": [
      "\n",
      "\n",
      " 54%|█████▍    | 275/505 [14:50<16:43,  4.36s/it]\u001b[A\u001b[A"
     ]
    },
    {
     "name": "stdout",
     "output_type": "stream",
     "text": [
      "Stock: KHC\n",
      "            macd_signal    macd  macd_hist      rsi   chaikin_a/d\n",
      "date                                                             \n",
      "2020-12-07       0.5336  0.7017     0.1682  61.8687  7.523271e+07\n",
      "2020-12-08       0.5798  0.7647     0.1849  66.0283  8.043858e+07\n"
     ]
    },
    {
     "name": "stderr",
     "output_type": "stream",
     "text": [
      "\n",
      "\n",
      " 55%|█████▍    | 276/505 [14:55<17:27,  4.57s/it]\u001b[A\u001b[A"
     ]
    },
    {
     "name": "stdout",
     "output_type": "stream",
     "text": [
      "Stock: KR\n",
      "            macd_signal  macd_hist    macd      rsi   chaikin_a/d\n",
      "date                                                             \n",
      "2020-12-07      -0.1991    -0.1481 -0.3472  39.3501  8.918657e+08\n",
      "2020-12-08      -0.2324    -0.1332 -0.3655  42.7122  9.039794e+08\n"
     ]
    },
    {
     "name": "stderr",
     "output_type": "stream",
     "text": [
      "\n",
      "\n",
      " 55%|█████▍    | 277/505 [15:00<18:02,  4.75s/it]\u001b[A\u001b[A"
     ]
    },
    {
     "name": "stdout",
     "output_type": "stream",
     "text": [
      "Stock: LB\n",
      "            macd_signal    macd  macd_hist      rsi   chaikin_a/d\n",
      "date                                                             \n",
      "2020-12-07       1.5347  1.5534     0.0187  67.5537  2.507848e+08\n",
      "2020-12-08       1.5567  1.6443     0.0876  69.7315  2.527988e+08\n"
     ]
    },
    {
     "name": "stderr",
     "output_type": "stream",
     "text": [
      "\n",
      "\n",
      " 55%|█████▌    | 278/505 [15:04<17:43,  4.68s/it]\u001b[A\u001b[A"
     ]
    },
    {
     "name": "stdout",
     "output_type": "stream",
     "text": [
      "Stock: LLL\n",
      "            macd_hist  macd_signal    macd      rsi   chaikin_a/d\n",
      "date                                                             \n",
      "2019-06-27    -1.2707       4.9655  3.6948  48.5553  7.765017e+07\n",
      "2019-06-28    -1.6181       4.5610  2.9429  47.1150  7.575011e+07\n"
     ]
    },
    {
     "name": "stderr",
     "output_type": "stream",
     "text": [
      "\n",
      "\n",
      " 55%|█████▌    | 279/505 [15:10<18:46,  4.99s/it]\u001b[A\u001b[A"
     ]
    },
    {
     "name": "stdout",
     "output_type": "stream",
     "text": [
      "Stock: LH\n",
      "            macd_hist    macd  macd_signal      rsi   chaikin_a/d\n",
      "date                                                             \n",
      "2020-12-07    -0.6147 -0.6574      -0.0427  46.1672  2.685925e+08\n",
      "2020-12-08    -0.2721 -0.3828      -0.1107  52.8965  2.691082e+08\n"
     ]
    },
    {
     "name": "stderr",
     "output_type": "stream",
     "text": [
      "\n",
      "\n",
      " 55%|█████▌    | 280/505 [15:15<18:34,  4.95s/it]\u001b[A\u001b[A"
     ]
    },
    {
     "name": "stdout",
     "output_type": "stream",
     "text": [
      "Stock: LRCX\n",
      "            macd_hist     macd  macd_signal      rsi   chaikin_a/d\n",
      "date                                                              \n",
      "2020-12-07     4.2772  29.5644      25.2872  82.5985  2.716767e+08\n",
      "2020-12-08     4.5466  30.9704      26.4238  83.2456  2.718318e+08\n"
     ]
    },
    {
     "name": "stderr",
     "output_type": "stream",
     "text": [
      "\n",
      "\n",
      " 56%|█████▌    | 281/505 [15:20<18:30,  4.96s/it]\u001b[A\u001b[A"
     ]
    },
    {
     "name": "stdout",
     "output_type": "stream",
     "text": [
      "Stock: LEG\n",
      "            macd_hist    macd  macd_signal      rsi   chaikin_a/d\n",
      "date                                                             \n",
      "2020-12-07     0.1185  0.3855       0.2670  54.6491  1.917684e+08\n",
      "2020-12-08    -0.0012  0.2655       0.2667  46.6811  1.903102e+08\n"
     ]
    },
    {
     "name": "stderr",
     "output_type": "stream",
     "text": [
      "\n",
      "\n",
      " 56%|█████▌    | 282/505 [15:24<17:59,  4.84s/it]\u001b[A\u001b[A"
     ]
    },
    {
     "name": "stdout",
     "output_type": "stream",
     "text": [
      "Stock: LEN\n",
      "            macd_signal  macd_hist    macd      rsi   chaikin_a/d\n",
      "date                                                             \n",
      "2020-12-07      -0.5331    -0.0059 -0.5390  51.0977 -2.370661e+07\n",
      "2020-12-08      -0.5697    -0.1466 -0.7163  44.1299 -2.613733e+07\n"
     ]
    },
    {
     "name": "stderr",
     "output_type": "stream",
     "text": [
      "\n",
      "\n",
      " 56%|█████▌    | 283/505 [15:29<17:15,  4.66s/it]\u001b[A\u001b[A"
     ]
    },
    {
     "name": "stdout",
     "output_type": "stream",
     "text": [
      "Stock: LUK\n",
      "            macd_signal  macd_hist    macd      rsi   chaikin_a/d\n",
      "date                                                             \n",
      "2018-05-22       0.0044    -0.1512 -0.1468  43.6437  9.739441e+07\n",
      "2018-05-23      -0.0286    -0.1322 -0.1609  43.1255  9.888475e+07\n"
     ]
    },
    {
     "name": "stderr",
     "output_type": "stream",
     "text": [
      "\n",
      "\n",
      " 56%|█████▌    | 284/505 [15:33<16:55,  4.60s/it]\u001b[A\u001b[A"
     ]
    },
    {
     "name": "stdout",
     "output_type": "stream",
     "text": [
      "Stock: LLY\n",
      "              macd  macd_hist  macd_signal      rsi   chaikin_a/d\n",
      "date                                                             \n",
      "2020-12-07  1.2635     0.4746       0.7890  56.5287  9.216816e+08\n",
      "2020-12-08  1.4869     0.5584       0.9285  59.4666  9.230035e+08\n"
     ]
    },
    {
     "name": "stderr",
     "output_type": "stream",
     "text": [
      "\n",
      "\n",
      " 56%|█████▋    | 285/505 [15:38<17:19,  4.73s/it]\u001b[A\u001b[A"
     ]
    },
    {
     "name": "stdout",
     "output_type": "stream",
     "text": [
      "Stock: LNC\n",
      "              macd  macd_signal  macd_hist      rsi   chaikin_a/d\n",
      "date                                                             \n",
      "2020-12-07  4.1309       3.5957     0.5352  68.9947  1.857948e+08\n",
      "2020-12-08  4.1025       3.6971     0.4055  68.6016  1.862179e+08\n"
     ]
    },
    {
     "name": "stderr",
     "output_type": "stream",
     "text": [
      "\n",
      "\n",
      " 57%|█████▋    | 286/505 [15:42<16:41,  4.57s/it]\u001b[A\u001b[A"
     ]
    },
    {
     "name": "stdout",
     "output_type": "stream",
     "text": [
      "Stock: LKQ\n",
      "              macd  macd_signal  macd_hist      rsi   chaikin_a/d\n",
      "date                                                             \n",
      "2020-12-07  0.9206       0.9814    -0.0608  61.1124  4.072609e+08\n",
      "2020-12-08  0.9163       0.9684    -0.0521  60.2052  4.076622e+08\n"
     ]
    },
    {
     "name": "stderr",
     "output_type": "stream",
     "text": [
      "\n",
      "\n",
      " 57%|█████▋    | 287/505 [15:48<17:42,  4.87s/it]\u001b[A\u001b[A"
     ]
    },
    {
     "name": "stdout",
     "output_type": "stream",
     "text": [
      "Stock: LMT\n",
      "              macd  macd_hist  macd_signal      rsi   chaikin_a/d\n",
      "date                                                             \n",
      "2020-12-07 -1.4197    -0.6329      -0.7868  44.3330  3.385638e+08\n",
      "2020-12-08 -1.8746    -0.8703      -1.0044  41.8944  3.371052e+08\n"
     ]
    },
    {
     "name": "stderr",
     "output_type": "stream",
     "text": [
      "\n",
      "\n",
      " 57%|█████▋    | 288/505 [15:52<16:59,  4.70s/it]\u001b[A\u001b[A"
     ]
    },
    {
     "name": "stdout",
     "output_type": "stream",
     "text": [
      "Stock: L\n",
      "              macd  macd_signal  macd_hist      rsi   chaikin_a/d\n",
      "date                                                             \n",
      "2020-12-07  1.2912       1.5687    -0.2775  57.2282  2.117408e+08\n",
      "2020-12-08  1.2487       1.5047    -0.2560  59.6961  2.126073e+08\n"
     ]
    },
    {
     "name": "stderr",
     "output_type": "stream",
     "text": [
      "\n",
      "\n",
      " 57%|█████▋    | 289/505 [15:56<16:21,  4.55s/it]\u001b[A\u001b[A"
     ]
    },
    {
     "name": "stdout",
     "output_type": "stream",
     "text": [
      "Stock: LOW\n",
      "              macd  macd_hist  macd_signal      rsi   chaikin_a/d\n",
      "date                                                             \n",
      "2020-12-07 -3.0433     0.0394      -3.0827  42.2648  1.769734e+08\n",
      "2020-12-08 -2.9878     0.0759      -3.0637  41.2247  1.743257e+08\n"
     ]
    },
    {
     "name": "stderr",
     "output_type": "stream",
     "text": [
      "\n",
      "\n",
      " 57%|█████▋    | 290/505 [16:00<15:16,  4.26s/it]\u001b[A\u001b[A"
     ]
    },
    {
     "name": "stdout",
     "output_type": "stream",
     "text": [
      "Stock: LYB\n",
      "            macd_hist    macd  macd_signal      rsi   chaikin_a/d\n",
      "date                                                             \n",
      "2020-12-07     0.2554  3.3778       3.1224  60.4117  2.077152e+08\n",
      "2020-12-08     0.1722  3.3377       3.1655  61.5635  2.080211e+08\n"
     ]
    },
    {
     "name": "stderr",
     "output_type": "stream",
     "text": [
      "\n",
      "\n",
      " 58%|█████▊    | 291/505 [16:04<15:17,  4.29s/it]\u001b[A\u001b[A"
     ]
    },
    {
     "name": "stdout",
     "output_type": "stream",
     "text": [
      "Stock: MTB\n",
      "            macd_hist    macd  macd_signal      rsi   chaikin_a/d\n",
      "date                                                             \n",
      "2020-12-07     0.1754  4.9447       4.7693  62.4868  1.658462e+08\n",
      "2020-12-08     0.1006  4.8951       4.7945  60.9312  1.657620e+08\n"
     ]
    },
    {
     "name": "stderr",
     "output_type": "stream",
     "text": [
      "\n",
      "\n",
      " 58%|█████▊    | 292/505 [16:09<15:29,  4.37s/it]\u001b[A\u001b[A"
     ]
    },
    {
     "name": "stdout",
     "output_type": "stream",
     "text": [
      "Stock: MAC\n",
      "            macd_hist    macd  macd_signal      rsi   chaikin_a/d\n",
      "date                                                             \n",
      "2020-12-07     0.1416  0.9532       0.8117  71.6831  1.038634e+08\n",
      "2020-12-08     0.1482  0.9970       0.8487  73.4844  1.066734e+08\n"
     ]
    },
    {
     "name": "stderr",
     "output_type": "stream",
     "text": [
      "\n",
      "\n",
      " 58%|█████▊    | 293/505 [16:14<15:55,  4.51s/it]\u001b[A\u001b[A"
     ]
    },
    {
     "name": "stdout",
     "output_type": "stream",
     "text": [
      "Stock: M\n",
      "              macd  macd_hist  macd_signal      rsi   chaikin_a/d\n",
      "date                                                             \n",
      "2020-12-07  1.1942     0.1546       1.0396  76.1181 -2.537154e+08\n",
      "2020-12-08  1.1848     0.1161       1.0687  73.7098 -2.729098e+08\n"
     ]
    },
    {
     "name": "stderr",
     "output_type": "stream",
     "text": [
      "\n",
      "\n",
      " 58%|█████▊    | 294/505 [16:19<16:37,  4.73s/it]\u001b[A\u001b[A"
     ]
    },
    {
     "name": "stdout",
     "output_type": "stream",
     "text": [
      "Stock: MRO\n",
      "            macd_signal    macd  macd_hist      rsi   chaikin_a/d\n",
      "date                                                             \n",
      "2020-12-07       0.4592  0.5144     0.0552  69.8402  1.062059e+09\n",
      "2020-12-08       0.4775  0.5511     0.0736  73.4770  1.088348e+09\n"
     ]
    },
    {
     "name": "stderr",
     "output_type": "stream",
     "text": [
      "\n",
      "\n",
      " 58%|█████▊    | 295/505 [16:22<15:14,  4.35s/it]\u001b[A\u001b[A"
     ]
    },
    {
     "name": "stdout",
     "output_type": "stream",
     "text": [
      "Stock: MPC\n",
      "            macd_hist  macd_signal    macd      rsi   chaikin_a/d\n",
      "date                                                             \n",
      "2020-12-07    -0.0136       2.4782  2.4646  63.8245  6.853996e+07\n",
      "2020-12-08    -0.0285       2.4710  2.4426  64.3642  6.876563e+07\n"
     ]
    },
    {
     "name": "stderr",
     "output_type": "stream",
     "text": [
      "\n",
      "\n",
      " 59%|█████▊    | 296/505 [16:28<16:41,  4.79s/it]\u001b[A\u001b[A"
     ]
    },
    {
     "name": "stdout",
     "output_type": "stream",
     "text": [
      "Stock: MAR\n",
      "            macd_signal    macd  macd_hist      rsi   chaikin_a/d\n",
      "date                                                             \n",
      "2020-12-07       7.1849  7.4918     0.3068  69.1569  3.111981e+08\n",
      "2020-12-08       7.2079  7.2997     0.0918  68.3244  3.111384e+08\n"
     ]
    },
    {
     "name": "stderr",
     "output_type": "stream",
     "text": [
      "\n",
      "\n",
      " 59%|█████▉    | 297/505 [16:33<16:52,  4.87s/it]\u001b[A\u001b[A"
     ]
    },
    {
     "name": "stdout",
     "output_type": "stream",
     "text": [
      "Stock: MMC\n",
      "            macd_signal    macd  macd_hist      rsi   chaikin_a/d\n",
      "date                                                             \n",
      "2020-12-07       0.9556  1.2688     0.3132  57.1985  5.295071e+08\n",
      "2020-12-08       1.0224  1.2897     0.2673  58.9833  5.309833e+08\n"
     ]
    },
    {
     "name": "stderr",
     "output_type": "stream",
     "text": [
      "\n",
      "\n",
      " 59%|█████▉    | 298/505 [16:39<17:46,  5.15s/it]\u001b[A\u001b[A"
     ]
    },
    {
     "name": "stdout",
     "output_type": "stream",
     "text": [
      "Stock: MLM\n",
      "            macd_signal    macd  macd_hist      rsi   chaikin_a/d\n",
      "date                                                             \n",
      "2020-12-07       5.1115  6.2157     1.1042  64.8673  2.955214e+07\n",
      "2020-12-08       5.3617  6.3627     1.0010  62.4701  2.942327e+07\n"
     ]
    },
    {
     "name": "stderr",
     "output_type": "stream",
     "text": [
      "\n",
      "\n",
      " 59%|█████▉    | 299/505 [16:44<17:50,  5.20s/it]\u001b[A\u001b[A"
     ]
    },
    {
     "name": "stdout",
     "output_type": "stream",
     "text": [
      "Stock: MAS\n",
      "            macd_signal    macd  macd_hist      rsi   chaikin_a/d\n",
      "date                                                             \n",
      "2020-12-07      -0.5824 -0.8414    -0.2590  41.3180  5.008039e+07\n",
      "2020-12-08      -0.6407 -0.8739    -0.2331  39.1539  4.860729e+07\n"
     ]
    },
    {
     "name": "stderr",
     "output_type": "stream",
     "text": [
      "\n",
      "\n",
      " 59%|█████▉    | 300/505 [16:49<16:36,  4.86s/it]\u001b[A\u001b[A"
     ]
    },
    {
     "name": "stdout",
     "output_type": "stream",
     "text": [
      "Stock: MA\n",
      "              macd  macd_hist  macd_signal      rsi   chaikin_a/d\n",
      "date                                                             \n",
      "2020-12-07  3.9974     0.7243       3.2731  55.6335  2.146034e+09\n",
      "2020-12-08  3.9602     0.5497       3.4105  55.4931  2.146778e+09\n"
     ]
    },
    {
     "name": "stderr",
     "output_type": "stream",
     "text": [
      "\n",
      "\n",
      " 60%|█████▉    | 301/505 [16:55<17:44,  5.22s/it]\u001b[A\u001b[A"
     ]
    },
    {
     "name": "stdout",
     "output_type": "stream",
     "text": [
      "Stock: MAT\n",
      "            macd_hist  macd_signal    macd      rsi   chaikin_a/d\n",
      "date                                                             \n",
      "2020-12-07    -0.0373       0.6074  0.5701  62.7343  3.440672e+08\n",
      "2020-12-08    -0.0123       0.6043  0.5920  70.1870  3.477206e+08\n"
     ]
    },
    {
     "name": "stderr",
     "output_type": "stream",
     "text": [
      "\n",
      "\n",
      " 60%|█████▉    | 302/505 [17:00<17:34,  5.19s/it]\u001b[A\u001b[A"
     ]
    },
    {
     "name": "stdout",
     "output_type": "stream",
     "text": [
      "Stock: MKC\n",
      "            macd_hist    macd  macd_signal      rsi   chaikin_a/d\n",
      "date                                                             \n",
      "2020-12-07     0.2695 -0.4080      -0.6775  47.7440  4.551948e+08\n",
      "2020-12-08     0.2816 -0.3255      -0.6071  50.7143  4.555818e+08\n"
     ]
    },
    {
     "name": "stderr",
     "output_type": "stream",
     "text": [
      "\n",
      "\n",
      " 60%|██████    | 303/505 [17:10<22:23,  6.65s/it]\u001b[A\u001b[A"
     ]
    },
    {
     "name": "stdout",
     "output_type": "stream",
     "text": [
      "Stock: MCD\n",
      "            macd_hist    macd  macd_signal      rsi   chaikin_a/d\n",
      "date                                                             \n",
      "2020-12-07    -0.4758 -1.5203      -1.0445  36.8020  6.166946e+08\n",
      "2020-12-08    -0.6023 -1.7974      -1.1951  36.0069  6.179738e+08\n"
     ]
    },
    {
     "name": "stderr",
     "output_type": "stream",
     "text": [
      "\n",
      "\n",
      " 60%|██████    | 304/505 [17:15<20:32,  6.13s/it]\u001b[A\u001b[A"
     ]
    },
    {
     "name": "stdout",
     "output_type": "stream",
     "text": [
      "Stock: MCK\n",
      "              macd  macd_hist  macd_signal     rsi   chaikin_a/d\n",
      "date                                                            \n",
      "2020-12-07  4.7444    -0.6283       5.3727  57.669  3.486181e+08\n",
      "2020-12-08  4.5889    -0.6270       5.2159  60.126  3.493441e+08\n"
     ]
    },
    {
     "name": "stderr",
     "output_type": "stream",
     "text": [
      "\n",
      "\n",
      " 60%|██████    | 305/505 [17:20<19:30,  5.85s/it]\u001b[A\u001b[A"
     ]
    },
    {
     "name": "stdout",
     "output_type": "stream",
     "text": [
      "Stock: MDT\n",
      "            macd_hist  macd_signal    macd      rsi   chaikin_a/d\n",
      "date                                                             \n",
      "2020-12-07    -0.0558       1.6549  1.5990  54.6614  4.986160e+08\n",
      "2020-12-08    -0.2214       1.5995  1.3781  50.9797  4.987477e+08\n"
     ]
    },
    {
     "name": "stderr",
     "output_type": "stream",
     "text": [
      "\n",
      "\n",
      " 61%|██████    | 306/505 [17:25<18:13,  5.49s/it]\u001b[A\u001b[A"
     ]
    },
    {
     "name": "stdout",
     "output_type": "stream",
     "text": [
      "Stock: MRK\n",
      "              macd  macd_hist  macd_signal      rsi   chaikin_a/d\n",
      "date                                                             \n",
      "2020-12-07  0.5291     0.2215       0.3077  62.2511  2.921626e+08\n",
      "2020-12-08  0.6501     0.2740       0.3762  65.2791  2.941737e+08\n"
     ]
    },
    {
     "name": "stderr",
     "output_type": "stream",
     "text": [
      "\n",
      "\n",
      " 61%|██████    | 307/505 [17:29<17:08,  5.20s/it]\u001b[A\u001b[A"
     ]
    },
    {
     "name": "stdout",
     "output_type": "stream",
     "text": [
      "Stock: MET\n",
      "              macd  macd_signal  macd_hist      rsi   chaikin_a/d\n",
      "date                                                             \n",
      "2020-12-07  1.8493       1.9546    -0.1053  61.5393  1.021446e+09\n",
      "2020-12-08  1.7542       1.9145    -0.1603  61.2074  1.022371e+09\n"
     ]
    },
    {
     "name": "stderr",
     "output_type": "stream",
     "text": [
      "\n",
      "\n",
      " 61%|██████    | 308/505 [17:34<16:36,  5.06s/it]\u001b[A\u001b[A"
     ]
    },
    {
     "name": "stdout",
     "output_type": "stream",
     "text": [
      "Stock: MTD\n",
      "               macd  macd_hist  macd_signal      rsi   chaikin_a/d\n",
      "date                                                              \n",
      "2020-12-07  15.2827    -7.4785      22.7612  51.6099  2.986245e+07\n",
      "2020-12-08  16.1389    -5.2979      21.4367  60.0073  2.996273e+07\n"
     ]
    },
    {
     "name": "stderr",
     "output_type": "stream",
     "text": [
      "\n",
      "\n",
      " 61%|██████    | 309/505 [17:38<16:10,  4.95s/it]\u001b[A\u001b[A"
     ]
    },
    {
     "name": "stdout",
     "output_type": "stream",
     "text": [
      "Stock: MGM\n",
      "              macd  macd_hist  macd_signal      rsi   chaikin_a/d\n",
      "date                                                             \n",
      "2020-12-07  1.8792     0.2017       1.6775  68.4887 -2.098121e+08\n",
      "2020-12-08  1.8478     0.1362       1.7116  68.7008 -2.103291e+08\n"
     ]
    },
    {
     "name": "stderr",
     "output_type": "stream",
     "text": [
      "\n",
      "\n",
      " 61%|██████▏   | 310/505 [17:42<14:48,  4.55s/it]\u001b[A\u001b[A"
     ]
    },
    {
     "name": "stdout",
     "output_type": "stream",
     "text": [
      "Stock: KORS\n",
      "              macd  macd_hist  macd_signal      rsi   chaikin_a/d\n",
      "date                                                             \n",
      "2020-12-07  3.7607     0.1986       3.5621  81.1937 -5.442773e+07\n",
      "2020-12-08  3.6816     0.0956       3.5860  77.0015 -5.601427e+07\n"
     ]
    },
    {
     "name": "stderr",
     "output_type": "stream",
     "text": [
      "\n",
      "\n",
      " 62%|██████▏   | 311/505 [17:47<14:58,  4.63s/it]\u001b[A\u001b[A"
     ]
    },
    {
     "name": "stdout",
     "output_type": "stream",
     "text": [
      "Stock: MCHP\n",
      "            macd_hist    macd  macd_signal      rsi   chaikin_a/d\n",
      "date                                                             \n",
      "2020-12-07     0.8941  7.0938       6.1997  77.5566  3.082583e+08\n",
      "2020-12-08     0.8536  7.2667       6.4131  76.9396  3.089240e+08\n"
     ]
    },
    {
     "name": "stderr",
     "output_type": "stream",
     "text": [
      "\n",
      "\n",
      " 62%|██████▏   | 312/505 [17:52<14:59,  4.66s/it]\u001b[A\u001b[A"
     ]
    },
    {
     "name": "stdout",
     "output_type": "stream",
     "text": [
      "Stock: MU\n",
      "              macd  macd_hist  macd_signal      rsi   chaikin_a/d\n",
      "date                                                             \n",
      "2020-12-07  4.5998     0.8562       3.7437  82.0879 -9.580980e+08\n",
      "2020-12-08  4.7622     0.8148       3.9474  82.6969 -9.496676e+08\n"
     ]
    },
    {
     "name": "stderr",
     "output_type": "stream",
     "text": [
      "\n",
      "\n",
      " 62%|██████▏   | 313/505 [17:56<14:59,  4.69s/it]\u001b[A\u001b[A"
     ]
    },
    {
     "name": "stdout",
     "output_type": "stream",
     "text": [
      "Stock: MSFT\n",
      "              macd  macd_hist  macd_signal      rsi   chaikin_a/d\n",
      "date                                                             \n",
      "2020-12-07  0.5476     0.0159       0.5317  51.2936 -2.415719e+09\n",
      "2020-12-08  0.6516     0.0959       0.5557  54.2930 -2.403217e+09\n"
     ]
    },
    {
     "name": "stderr",
     "output_type": "stream",
     "text": [
      "\n",
      "\n",
      " 62%|██████▏   | 314/505 [18:01<15:00,  4.72s/it]\u001b[A\u001b[A"
     ]
    },
    {
     "name": "stdout",
     "output_type": "stream",
     "text": [
      "Stock: MAA\n",
      "            macd_signal    macd  macd_hist      rsi   chaikin_a/d\n",
      "date                                                             \n",
      "2020-12-07       1.0973  0.5818    -0.5155  52.2088  1.208644e+08\n",
      "2020-12-08       0.9663  0.4422    -0.5241  48.6396  1.204731e+08\n"
     ]
    },
    {
     "name": "stderr",
     "output_type": "stream",
     "text": [
      "\n",
      "\n",
      " 62%|██████▏   | 315/505 [18:06<14:53,  4.70s/it]\u001b[A\u001b[A"
     ]
    },
    {
     "name": "stdout",
     "output_type": "stream",
     "text": [
      "Stock: MHK\n",
      "              macd  macd_hist  macd_signal      rsi   chaikin_a/d\n",
      "date                                                             \n",
      "2020-12-07  5.3589    -0.3895       5.7484  64.6759  4.166207e+07\n",
      "2020-12-08  5.2301    -0.4146       5.6447  61.6449  4.165597e+07\n"
     ]
    },
    {
     "name": "stderr",
     "output_type": "stream",
     "text": [
      "\n",
      "\n",
      " 63%|██████▎   | 316/505 [18:10<14:43,  4.68s/it]\u001b[A\u001b[A"
     ]
    },
    {
     "name": "stdout",
     "output_type": "stream",
     "text": [
      "Stock: TAP\n",
      "            macd_signal  macd_hist    macd      rsi   chaikin_a/d\n",
      "date                                                             \n",
      "2020-12-07       2.3786    -0.0196  2.3590  69.5766  1.480587e+08\n",
      "2020-12-08       2.3730    -0.0223  2.3507  70.3031  1.481506e+08\n"
     ]
    },
    {
     "name": "stderr",
     "output_type": "stream",
     "text": [
      "\n",
      "\n",
      " 63%|██████▎   | 317/505 [18:17<16:10,  5.16s/it]\u001b[A\u001b[A"
     ]
    },
    {
     "name": "stdout",
     "output_type": "stream",
     "text": [
      "Stock: MDLZ\n",
      "              macd  macd_signal  macd_hist      rsi   chaikin_a/d\n",
      "date                                                             \n",
      "2020-12-07  0.5445       0.4549     0.0896  57.9950  1.175591e+09\n",
      "2020-12-08  0.5240       0.4687     0.0553  56.8359  1.175125e+09\n"
     ]
    },
    {
     "name": "stderr",
     "output_type": "stream",
     "text": [
      "\n",
      "\n",
      " 63%|██████▎   | 318/505 [18:21<15:13,  4.88s/it]\u001b[A\u001b[A"
     ]
    },
    {
     "name": "stdout",
     "output_type": "stream",
     "text": [
      "Stock: MON\n",
      "              macd  macd_signal  macd_hist      rsi   chaikin_a/d\n",
      "date                                                             \n",
      "2018-06-07  0.9859       0.9017     0.0841  76.6452  3.400147e+08\n",
      "2018-06-08  0.9732       0.9160     0.0572  76.6452  3.400147e+08\n"
     ]
    },
    {
     "name": "stderr",
     "output_type": "stream",
     "text": [
      "\n",
      "\n",
      " 63%|██████▎   | 319/505 [18:26<15:03,  4.86s/it]\u001b[A\u001b[A"
     ]
    },
    {
     "name": "stdout",
     "output_type": "stream",
     "text": [
      "Stock: MNST\n",
      "              macd  macd_hist  macd_signal      rsi   chaikin_a/d\n",
      "date                                                             \n",
      "2020-12-07  1.4528     0.2394       1.2135  64.5998  1.784537e+09\n",
      "2020-12-08  1.5563     0.2742       1.2820  67.6889  1.785256e+09\n"
     ]
    },
    {
     "name": "stderr",
     "output_type": "stream",
     "text": [
      "\n",
      "\n",
      " 63%|██████▎   | 320/505 [18:30<14:42,  4.77s/it]\u001b[A\u001b[A"
     ]
    },
    {
     "name": "stdout",
     "output_type": "stream",
     "text": [
      "Stock: MCO\n",
      "            macd_signal    macd  macd_hist      rsi   chaikin_a/d\n",
      "date                                                             \n",
      "2020-12-07      -0.0770  1.2046     1.2816  56.3035  2.489801e+08\n",
      "2020-12-08       0.1566  1.0908     0.9342  50.9820  2.483242e+08\n"
     ]
    },
    {
     "name": "stderr",
     "output_type": "stream",
     "text": [
      "\n",
      "\n",
      " 64%|██████▎   | 321/505 [18:35<14:18,  4.67s/it]\u001b[A\u001b[A"
     ]
    },
    {
     "name": "stdout",
     "output_type": "stream",
     "text": [
      "Stock: MS\n",
      "              macd  macd_signal  macd_hist      rsi   chaikin_a/d\n",
      "date                                                             \n",
      "2020-12-07  3.2347       3.0563     0.1784  70.6095  8.270045e+08\n",
      "2020-12-08  3.1190       3.0688     0.0502  68.7467  8.272020e+08\n"
     ]
    },
    {
     "name": "stderr",
     "output_type": "stream",
     "text": [
      "\n",
      "\n",
      " 64%|██████▍   | 322/505 [18:39<14:04,  4.61s/it]\u001b[A\u001b[A"
     ]
    },
    {
     "name": "stdout",
     "output_type": "stream",
     "text": [
      "Stock: MSI\n",
      "            macd_signal    macd  macd_hist      rsi   chaikin_a/d\n",
      "date                                                             \n",
      "2020-12-07       1.6463  1.4217    -0.2246  53.1449  1.720333e+08\n",
      "2020-12-08       1.6120  1.4749    -0.1372  56.7855  1.730835e+08\n"
     ]
    },
    {
     "name": "stderr",
     "output_type": "stream",
     "text": [
      "\n",
      "\n",
      " 64%|██████▍   | 323/505 [18:44<14:12,  4.69s/it]\u001b[A\u001b[A"
     ]
    },
    {
     "name": "stdout",
     "output_type": "stream",
     "text": [
      "Stock: MYL\n",
      "            macd_signal  macd_hist    macd      rsi   chaikin_a/d\n",
      "date                                                             \n",
      "2020-11-16      -0.0097     0.1056  0.0959  58.9502  2.291677e+08\n",
      "2020-11-19       0.0177     0.1098  0.1275  58.9502  2.291677e+08\n"
     ]
    },
    {
     "name": "stderr",
     "output_type": "stream",
     "text": [
      "\n",
      "\n",
      " 64%|██████▍   | 324/505 [18:49<13:54,  4.61s/it]\u001b[A\u001b[A"
     ]
    },
    {
     "name": "stdout",
     "output_type": "stream",
     "text": [
      "Stock: NDAQ\n",
      "            macd_hist    macd  macd_signal      rsi   chaikin_a/d\n",
      "date                                                             \n",
      "2020-12-07     0.1134  0.2859       0.1725  54.8458  1.475250e+08\n",
      "2020-12-08     0.1904  0.4105       0.2201  55.0384  1.477866e+08\n"
     ]
    },
    {
     "name": "stderr",
     "output_type": "stream",
     "text": [
      "\n",
      "\n",
      " 64%|██████▍   | 325/505 [18:53<14:03,  4.69s/it]\u001b[A\u001b[A"
     ]
    },
    {
     "name": "stdout",
     "output_type": "stream",
     "text": [
      "Stock: NOV\n",
      "              macd  macd_signal  macd_hist      rsi   chaikin_a/d\n",
      "date                                                             \n",
      "2020-12-07  1.0209       0.9245     0.0964  65.0672  7.844611e+08\n",
      "2020-12-08  1.0448       0.9486     0.0962  66.7286  7.870705e+08\n"
     ]
    },
    {
     "name": "stderr",
     "output_type": "stream",
     "text": [
      "\n",
      "\n",
      " 65%|██████▍   | 326/505 [18:57<12:47,  4.29s/it]\u001b[A\u001b[A"
     ]
    },
    {
     "name": "stdout",
     "output_type": "stream",
     "text": [
      "Stock: NAVI\n",
      "              macd  macd_hist  macd_signal      rsi   chaikin_a/d\n",
      "date                                                             \n",
      "2020-12-07  0.0832    -0.0705       0.1538  50.4535 -1.253585e+08\n",
      "2020-12-08  0.0612    -0.0740       0.1353  48.1713 -1.239138e+08\n"
     ]
    },
    {
     "name": "stderr",
     "output_type": "stream",
     "text": [
      "\n",
      "\n",
      " 65%|██████▍   | 327/505 [19:01<13:00,  4.38s/it]\u001b[A\u001b[A"
     ]
    },
    {
     "name": "stdout",
     "output_type": "stream",
     "text": [
      "Stock: NKTR\n",
      "            macd_hist    macd  macd_signal      rsi   chaikin_a/d\n",
      "date                                                             \n",
      "2020-12-07     0.0858  0.0037      -0.0820  53.9908 -3.354682e+07\n",
      "2020-12-08     0.0865  0.0261      -0.0604  53.2398 -3.351371e+07\n"
     ]
    },
    {
     "name": "stderr",
     "output_type": "stream",
     "text": [
      "\n",
      "\n",
      " 65%|██████▍   | 328/505 [19:06<13:11,  4.47s/it]\u001b[A\u001b[A"
     ]
    },
    {
     "name": "stdout",
     "output_type": "stream",
     "text": [
      "Stock: NTAP\n",
      "            macd_signal    macd  macd_hist      rsi   chaikin_a/d\n",
      "date                                                             \n",
      "2020-12-07       2.5099  3.1855     0.6756  75.7646  7.121875e+08\n",
      "2020-12-08       2.6716  3.3187     0.6471  76.0494  7.121961e+08\n"
     ]
    },
    {
     "name": "stderr",
     "output_type": "stream",
     "text": [
      "\n",
      "\n",
      " 65%|██████▌   | 329/505 [19:11<13:05,  4.46s/it]\u001b[A\u001b[A"
     ]
    },
    {
     "name": "stdout",
     "output_type": "stream",
     "text": [
      "Stock: NFLX\n",
      "            macd_signal  macd_hist    macd      rsi   chaikin_a/d\n",
      "date                                                             \n",
      "2020-12-07      -1.5062     3.5410  2.0348  60.7113  1.804060e+09\n",
      "2020-12-08      -0.5751     3.7245  3.1494  58.8363  1.803603e+09\n"
     ]
    },
    {
     "name": "stderr",
     "output_type": "stream",
     "text": [
      "\n",
      "\n",
      " 65%|██████▌   | 330/505 [19:15<13:13,  4.53s/it]\u001b[A\u001b[A"
     ]
    },
    {
     "name": "stdout",
     "output_type": "stream",
     "text": [
      "Stock: NWL\n",
      "              macd  macd_signal  macd_hist      rsi   chaikin_a/d\n",
      "date                                                             \n",
      "2020-12-07  0.9030       0.8462     0.0568  66.4710  1.734175e+08\n",
      "2020-12-08  0.8299       0.8429    -0.0130  58.8127  1.760715e+08\n"
     ]
    },
    {
     "name": "stderr",
     "output_type": "stream",
     "text": [
      "\n",
      "\n",
      " 66%|██████▌   | 331/505 [19:20<13:01,  4.49s/it]\u001b[A\u001b[A"
     ]
    },
    {
     "name": "stdout",
     "output_type": "stream",
     "text": [
      "Stock: NFX\n",
      "            macd_hist  macd_signal    macd      rsi   chaikin_a/d\n",
      "date                                                             \n",
      "2019-02-13    -0.2522       0.1690 -0.0832  47.3468  8.363868e+07\n",
      "2019-02-14    -0.2083       0.1169 -0.0914  47.3468  8.363868e+07\n"
     ]
    },
    {
     "name": "stderr",
     "output_type": "stream",
     "text": [
      "\n",
      "\n",
      " 66%|██████▌   | 332/505 [19:24<13:03,  4.53s/it]\u001b[A\u001b[A"
     ]
    },
    {
     "name": "stdout",
     "output_type": "stream",
     "text": [
      "Stock: NEM\n",
      "            macd_signal  macd_hist    macd      rsi   chaikin_a/d\n",
      "date                                                             \n",
      "2020-12-07      -0.9862    -0.0202 -1.0065  50.1149 -2.159888e+08\n",
      "2020-12-08      -0.9569     0.1175 -0.8394  50.3690 -2.159456e+08\n",
      "NEM\n"
     ]
    },
    {
     "name": "stderr",
     "output_type": "stream",
     "text": [
      "\n",
      "\n",
      " 66%|██████▌   | 333/505 [19:28<12:06,  4.22s/it]\u001b[A\u001b[A"
     ]
    },
    {
     "name": "stdout",
     "output_type": "stream",
     "text": [
      "Stock: NWSA\n",
      "            macd_signal  macd_hist    macd      rsi   chaikin_a/d\n",
      "date                                                             \n",
      "2020-12-07       0.9363     0.0087  0.9450  71.6239  1.559712e+08\n",
      "2020-12-08       0.9306    -0.0230  0.9076  69.2721  1.564237e+08\n"
     ]
    },
    {
     "name": "stderr",
     "output_type": "stream",
     "text": [
      "\n",
      "\n",
      " 66%|██████▌   | 334/505 [19:31<11:19,  3.97s/it]\u001b[A\u001b[A"
     ]
    },
    {
     "name": "stdout",
     "output_type": "stream",
     "text": [
      "Stock: NWS\n",
      "            macd_signal  macd_hist   macd      rsi   chaikin_a/d\n",
      "date                                                            \n",
      "2020-12-07       0.9625    -0.0095  0.953  72.0840  2.102566e+07\n",
      "2020-12-08       0.9532    -0.0372  0.916  71.4362  2.117621e+07\n"
     ]
    },
    {
     "name": "stderr",
     "output_type": "stream",
     "text": [
      "\n",
      "\n",
      " 66%|██████▋   | 335/505 [19:36<12:10,  4.30s/it]\u001b[A\u001b[A"
     ]
    },
    {
     "name": "stdout",
     "output_type": "stream",
     "text": [
      "Stock: NEE\n",
      "            macd_signal    macd  macd_hist      rsi   chaikin_a/d\n",
      "date                                                             \n",
      "2020-12-07       0.0561 -0.3064    -0.3625  44.7243  2.125849e+09\n",
      "2020-12-08      -0.0190 -0.3195    -0.3004  46.7195  2.129442e+09\n"
     ]
    },
    {
     "name": "stderr",
     "output_type": "stream",
     "text": [
      "\n",
      "\n",
      " 67%|██████▋   | 336/505 [19:40<11:37,  4.13s/it]\u001b[A\u001b[A"
     ]
    },
    {
     "name": "stdout",
     "output_type": "stream",
     "text": [
      "Stock: NLSN\n",
      "              macd  macd_signal  macd_hist      rsi   chaikin_a/d\n",
      "date                                                             \n",
      "2020-12-07  0.6738       0.5761     0.0977  62.8730 -5.833135e+07\n",
      "2020-12-08  0.6960       0.6001     0.0959  64.6998 -5.695012e+07\n"
     ]
    },
    {
     "name": "stderr",
     "output_type": "stream",
     "text": [
      "\n",
      "\n",
      " 67%|██████▋   | 337/505 [19:45<12:11,  4.35s/it]\u001b[A\u001b[A"
     ]
    },
    {
     "name": "stdout",
     "output_type": "stream",
     "text": [
      "Stock: NKE\n",
      "            macd_signal  macd_hist    macd      rsi   chaikin_a/d\n",
      "date                                                             \n",
      "2020-12-07       2.4024     0.3993  2.8017  73.9693  1.701428e+09\n",
      "2020-12-08       2.5075     0.4203  2.9277  74.6326  1.701809e+09\n"
     ]
    },
    {
     "name": "stderr",
     "output_type": "stream",
     "text": [
      "\n",
      "\n",
      " 67%|██████▋   | 338/505 [19:50<12:28,  4.48s/it]\u001b[A\u001b[A"
     ]
    },
    {
     "name": "stdout",
     "output_type": "stream",
     "text": [
      "Stock: NI\n",
      "            macd_signal    macd  macd_hist      rsi   chaikin_a/d\n",
      "date                                                             \n",
      "2020-12-07       0.2824  0.1823    -0.1001  48.2959  5.832093e+08\n",
      "2020-12-08       0.2428  0.0846    -0.1582  41.4102  5.791656e+08\n"
     ]
    },
    {
     "name": "stderr",
     "output_type": "stream",
     "text": [
      "\n",
      "\n",
      " 67%|██████▋   | 339/505 [19:54<12:37,  4.56s/it]\u001b[A\u001b[A"
     ]
    },
    {
     "name": "stdout",
     "output_type": "stream",
     "text": [
      "Stock: NBL\n",
      "              macd  macd_hist  macd_signal      rsi   chaikin_a/d\n",
      "date                                                             \n",
      "2020-10-05 -0.3696    -0.0149      -0.3547  33.6092  1.360716e+08\n",
      "2020-10-06 -0.3589    -0.0033      -0.3556  33.6092  1.360716e+08\n"
     ]
    },
    {
     "name": "stderr",
     "output_type": "stream",
     "text": [
      "\n",
      "\n",
      " 67%|██████▋   | 340/505 [19:59<12:56,  4.70s/it]\u001b[A\u001b[A"
     ]
    },
    {
     "name": "stdout",
     "output_type": "stream",
     "text": [
      "Stock: JWN\n",
      "            macd_hist  macd_signal    macd     rsi   chaikin_a/d\n",
      "date                                                            \n",
      "2020-12-07     0.7254       3.3825  4.1079  80.538  2.834362e+08\n",
      "2020-12-08     0.6429       3.5432  4.1861  81.314  2.841378e+08\n"
     ]
    },
    {
     "name": "stderr",
     "output_type": "stream",
     "text": [
      "\n",
      "\n",
      " 68%|██████▊   | 341/505 [20:04<12:56,  4.74s/it]\u001b[A\u001b[A"
     ]
    },
    {
     "name": "stdout",
     "output_type": "stream",
     "text": [
      "Stock: NSC\n",
      "              macd  macd_signal  macd_hist      rsi   chaikin_a/d\n",
      "date                                                             \n",
      "2020-12-07  4.5606       5.7172    -1.1565  56.8569  3.290367e+08\n",
      "2020-12-08  4.2069       5.4151    -1.2082  56.2661  3.292667e+08\n"
     ]
    },
    {
     "name": "stderr",
     "output_type": "stream",
     "text": [
      "\n",
      "\n",
      " 68%|██████▊   | 342/505 [20:09<12:52,  4.74s/it]\u001b[A\u001b[A"
     ]
    },
    {
     "name": "stdout",
     "output_type": "stream",
     "text": [
      "Stock: NTRS\n",
      "            macd_hist    macd  macd_signal      rsi   chaikin_a/d\n",
      "date                                                             \n",
      "2020-12-07    -0.2757  2.5057       2.7814  58.6014  2.745587e+08\n",
      "2020-12-08    -0.2998  2.4066       2.7064  59.0190  2.750920e+08\n"
     ]
    },
    {
     "name": "stderr",
     "output_type": "stream",
     "text": [
      "\n",
      "\n",
      " 68%|██████▊   | 343/505 [20:14<12:52,  4.77s/it]\u001b[A\u001b[A"
     ]
    },
    {
     "name": "stdout",
     "output_type": "stream",
     "text": [
      "Stock: NOC\n",
      "            macd_signal    macd  macd_hist      rsi   chaikin_a/d\n",
      "date                                                             \n",
      "2020-12-07      -1.2788 -1.4889    -0.2101  44.9394  2.072004e+08\n",
      "2020-12-08      -1.3363 -1.5665    -0.2302  46.0028  2.067255e+08\n"
     ]
    },
    {
     "name": "stderr",
     "output_type": "stream",
     "text": [
      "\n",
      "\n",
      " 68%|██████▊   | 344/505 [20:17<11:46,  4.39s/it]\u001b[A\u001b[A"
     ]
    },
    {
     "name": "stdout",
     "output_type": "stream",
     "text": [
      "Stock: NCLH\n",
      "            macd_signal  macd_hist    macd      rsi   chaikin_a/d\n",
      "date                                                             \n",
      "2020-12-07       1.5707     0.4132  1.9839  72.1172 -1.187960e+08\n",
      "2020-12-08       1.6963     0.5022  2.1985  75.6884 -9.185381e+07\n"
     ]
    },
    {
     "name": "stderr",
     "output_type": "stream",
     "text": [
      "\n",
      "\n",
      " 68%|██████▊   | 345/505 [20:22<11:46,  4.42s/it]\u001b[A\u001b[A"
     ]
    },
    {
     "name": "stdout",
     "output_type": "stream",
     "text": [
      "Stock: NRG\n",
      "            macd_signal  macd_hist    macd      rsi   chaikin_a/d\n",
      "date                                                             \n",
      "2020-12-07       0.2018     0.2682  0.4700  59.2645  5.872074e+07\n",
      "2020-12-08       0.2651     0.2533  0.5184  59.9529  5.969874e+07\n"
     ]
    },
    {
     "name": "stderr",
     "output_type": "stream",
     "text": [
      "\n",
      "\n",
      " 69%|██████▊   | 346/505 [20:27<12:08,  4.58s/it]\u001b[A\u001b[A"
     ]
    },
    {
     "name": "stdout",
     "output_type": "stream",
     "text": [
      "Stock: NUE\n",
      "            macd_hist    macd  macd_signal      rsi   chaikin_a/d\n",
      "date                                                             \n",
      "2020-12-07     0.0795  1.6756       1.5960  61.6098  5.512765e+08\n",
      "2020-12-08     0.0875  1.7054       1.6179  63.2569  5.514346e+08\n"
     ]
    },
    {
     "name": "stderr",
     "output_type": "stream",
     "text": [
      "\n",
      "\n",
      " 69%|██████▊   | 347/505 [20:31<12:02,  4.58s/it]\u001b[A\u001b[A"
     ]
    },
    {
     "name": "stdout",
     "output_type": "stream",
     "text": [
      "Stock: NVDA\n",
      "            macd_signal    macd  macd_hist      rsi   chaikin_a/d\n",
      "date                                                             \n",
      "2020-12-07       0.3240  1.5756     1.2517  54.2798  9.876238e+08\n",
      "2020-12-08       0.5091  1.2496     0.7405  49.6147  9.837614e+08\n"
     ]
    },
    {
     "name": "stderr",
     "output_type": "stream",
     "text": [
      "\n",
      "\n",
      " 69%|██████▉   | 348/505 [20:36<11:46,  4.50s/it]\u001b[A\u001b[A"
     ]
    },
    {
     "name": "stdout",
     "output_type": "stream",
     "text": [
      "Stock: ORLY\n",
      "            macd_signal    macd  macd_hist      rsi   chaikin_a/d\n",
      "date                                                             \n",
      "2020-12-07      -2.1776 -1.9934     0.1842  48.7244  1.833318e+08\n",
      "2020-12-08      -2.2407 -2.4928    -0.2522  42.8947  1.830051e+08\n"
     ]
    },
    {
     "name": "stderr",
     "output_type": "stream",
     "text": [
      "\n",
      "\n",
      " 69%|██████▉   | 349/505 [20:40<11:35,  4.46s/it]\u001b[A\u001b[A"
     ]
    },
    {
     "name": "stdout",
     "output_type": "stream",
     "text": [
      "Stock: OXY\n",
      "            macd_hist    macd  macd_signal      rsi   chaikin_a/d\n",
      "date                                                             \n",
      "2020-12-07     0.3095  1.7316       1.4221  73.4021  7.017799e+08\n",
      "2020-12-08     0.3449  1.8533       1.5084  76.0328  7.269674e+08\n"
     ]
    },
    {
     "name": "stderr",
     "output_type": "stream",
     "text": [
      "\n",
      "\n",
      " 69%|██████▉   | 350/505 [20:46<13:05,  5.07s/it]\u001b[A\u001b[A"
     ]
    },
    {
     "name": "stdout",
     "output_type": "stream",
     "text": [
      "Stock: OMC\n",
      "            macd_signal  macd_hist    macd      rsi   chaikin_a/d\n",
      "date                                                             \n",
      "2020-12-07       2.9859     0.1124  3.0983  67.0583  4.375242e+08\n",
      "2020-12-08       2.9925     0.0265  3.0190  67.8571  4.389610e+08\n"
     ]
    },
    {
     "name": "stderr",
     "output_type": "stream",
     "text": [
      "\n",
      "\n",
      " 70%|██████▉   | 351/505 [20:51<12:34,  4.90s/it]\u001b[A\u001b[A"
     ]
    },
    {
     "name": "stdout",
     "output_type": "stream",
     "text": [
      "Stock: OKE\n",
      "            macd_hist    macd  macd_signal      rsi   chaikin_a/d\n",
      "date                                                             \n",
      "2020-12-07     0.4398  2.6333       2.1935  73.0661  4.072638e+08\n",
      "2020-12-08     0.4322  2.7338       2.3015  74.0246  4.076589e+08\n"
     ]
    },
    {
     "name": "stderr",
     "output_type": "stream",
     "text": [
      "\n",
      "\n",
      " 70%|██████▉   | 352/505 [20:55<12:05,  4.74s/it]\u001b[A\u001b[A"
     ]
    },
    {
     "name": "stdout",
     "output_type": "stream",
     "text": [
      "Stock: ORCL\n",
      "            macd_hist  macd_signal    macd      rsi   chaikin_a/d\n",
      "date                                                             \n",
      "2020-12-07     0.4202       0.0513  0.4715  65.6934 -1.842644e+09\n",
      "2020-12-08     0.3461       0.1379  0.4840  58.0805 -1.841315e+09\n"
     ]
    },
    {
     "name": "stderr",
     "output_type": "stream",
     "text": [
      "\n",
      "\n",
      " 70%|██████▉   | 353/505 [21:00<12:03,  4.76s/it]\u001b[A\u001b[A"
     ]
    },
    {
     "name": "stdout",
     "output_type": "stream",
     "text": [
      "Stock: PCAR\n",
      "              macd  macd_signal  macd_hist      rsi   chaikin_a/d\n",
      "date                                                             \n",
      "2020-12-07 -0.5763      -0.1746    -0.4017  41.7001  7.053529e+08\n",
      "2020-12-08 -0.6313      -0.2659    -0.3654  42.2029  7.051758e+08\n"
     ]
    },
    {
     "name": "stderr",
     "output_type": "stream",
     "text": [
      "\n",
      "\n",
      " 70%|███████   | 354/505 [21:05<12:06,  4.81s/it]\u001b[A\u001b[A"
     ]
    },
    {
     "name": "stdout",
     "output_type": "stream",
     "text": [
      "Stock: PKG\n",
      "              macd  macd_hist  macd_signal     rsi   chaikin_a/d\n",
      "date                                                            \n",
      "2020-12-07  3.3834    -0.3797       3.7631  63.268  1.226536e+08\n",
      "2020-12-08  3.5475    -0.1725       3.7200  66.140  1.230481e+08\n"
     ]
    },
    {
     "name": "stderr",
     "output_type": "stream",
     "text": [
      "\n",
      "\n",
      " 70%|███████   | 355/505 [21:10<12:09,  4.86s/it]\u001b[A\u001b[A"
     ]
    },
    {
     "name": "stdout",
     "output_type": "stream",
     "text": [
      "Stock: PH\n",
      "               macd  macd_signal  macd_hist      rsi   chaikin_a/d\n",
      "date                                                              \n",
      "2020-12-07  10.8128      12.2451    -1.4323  62.4086  2.528447e+08\n",
      "2020-12-08  10.4328      11.8827    -1.4499  64.1086  2.534003e+08\n"
     ]
    },
    {
     "name": "stderr",
     "output_type": "stream",
     "text": [
      "\n",
      "\n",
      " 70%|███████   | 356/505 [21:15<12:17,  4.95s/it]\u001b[A\u001b[A"
     ]
    },
    {
     "name": "stdout",
     "output_type": "stream",
     "text": [
      "Stock: PAYX\n",
      "              macd  macd_signal  macd_hist      rsi   chaikin_a/d\n",
      "date                                                             \n",
      "2020-12-07  2.2398       2.4944    -0.2546  62.7817  6.250607e+08\n",
      "2020-12-08  2.1115       2.4178    -0.3063  61.6616  6.252287e+08\n"
     ]
    },
    {
     "name": "stderr",
     "output_type": "stream",
     "text": [
      "\n",
      "\n",
      " 71%|███████   | 357/505 [21:18<10:52,  4.41s/it]\u001b[A\u001b[A"
     ]
    },
    {
     "name": "stdout",
     "output_type": "stream",
     "text": [
      "Stock: PYPL\n",
      "            macd_hist    macd  macd_signal      rsi   chaikin_a/d\n",
      "date                                                             \n",
      "2020-12-07     2.0238  6.1426       4.1188  63.9189  7.040358e+08\n",
      "2020-12-08     1.6904  6.2318       4.5414  62.7038  7.033304e+08\n"
     ]
    },
    {
     "name": "stderr",
     "output_type": "stream",
     "text": [
      "\n",
      "\n",
      " 71%|███████   | 358/505 [21:23<11:14,  4.59s/it]\u001b[A\u001b[A"
     ]
    },
    {
     "name": "stdout",
     "output_type": "stream",
     "text": [
      "Stock: PNR\n",
      "            macd_signal    macd  macd_hist      rsi   chaikin_a/d\n",
      "date                                                             \n",
      "2020-12-07       0.5183  0.1095    -0.4088  45.6490  2.448262e+08\n",
      "2020-12-08       0.4241  0.0471    -0.3770  47.1935  2.452444e+08\n"
     ]
    },
    {
     "name": "stderr",
     "output_type": "stream",
     "text": [
      "\n",
      "\n",
      " 71%|███████   | 359/505 [21:28<11:29,  4.72s/it]\u001b[A\u001b[A"
     ]
    },
    {
     "name": "stdout",
     "output_type": "stream",
     "text": [
      "Stock: PBCT\n",
      "              macd  macd_hist  macd_signal      rsi   chaikin_a/d\n",
      "date                                                             \n",
      "2020-12-07  0.4611    -0.0447       0.5058  60.7490  3.429899e+08\n",
      "2020-12-08  0.4446    -0.0490       0.4936  58.1223  3.422357e+08\n"
     ]
    },
    {
     "name": "stderr",
     "output_type": "stream",
     "text": [
      "\n",
      "\n",
      " 71%|███████▏  | 360/505 [21:33<11:13,  4.64s/it]\u001b[A\u001b[A"
     ]
    },
    {
     "name": "stdout",
     "output_type": "stream",
     "text": [
      "Stock: PEP\n",
      "            macd_signal  macd_hist    macd      rsi   chaikin_a/d\n",
      "date                                                             \n",
      "2020-12-07       1.6132     0.1009  1.7142  63.5573  1.291633e+09\n",
      "2020-12-08       1.6346     0.0854  1.7200  63.9967  1.292776e+09\n"
     ]
    },
    {
     "name": "stderr",
     "output_type": "stream",
     "text": [
      "\n",
      "\n",
      " 71%|███████▏  | 361/505 [21:37<10:55,  4.55s/it]\u001b[A\u001b[A"
     ]
    },
    {
     "name": "stdout",
     "output_type": "stream",
     "text": [
      "Stock: PKI\n",
      "              macd  macd_signal  macd_hist      rsi   chaikin_a/d\n",
      "date                                                             \n",
      "2020-12-07  3.1508       1.9345     1.2163  69.2049  2.413175e+08\n",
      "2020-12-08  3.8738       2.3224     1.5515  72.9103  2.422817e+08\n"
     ]
    },
    {
     "name": "stderr",
     "output_type": "stream",
     "text": [
      "\n",
      "\n",
      " 72%|███████▏  | 362/505 [21:41<10:41,  4.48s/it]\u001b[A\u001b[A"
     ]
    },
    {
     "name": "stdout",
     "output_type": "stream",
     "text": [
      "Stock: PRGO\n",
      "              macd  macd_signal  macd_hist      rsi   chaikin_a/d\n",
      "date                                                             \n",
      "2020-12-07  0.7361       0.6759     0.0602  55.6895  1.844024e+08\n",
      "2020-12-08  0.7145       0.6836     0.0309  55.6363  1.845118e+08\n"
     ]
    },
    {
     "name": "stderr",
     "output_type": "stream",
     "text": [
      "\n",
      "\n",
      " 72%|███████▏  | 363/505 [21:46<10:39,  4.50s/it]\u001b[A\u001b[A"
     ]
    },
    {
     "name": "stdout",
     "output_type": "stream",
     "text": [
      "Stock: PFE\n",
      "            macd_signal  macd_hist    macd      rsi   chaikin_a/d\n",
      "date                                                             \n",
      "2020-12-07       0.9759     0.4361  1.4119  73.5256 -1.753976e+09\n",
      "2020-12-08       1.1018     0.5039  1.6057  77.1323 -1.692681e+09\n"
     ]
    },
    {
     "name": "stderr",
     "output_type": "stream",
     "text": [
      "\n",
      "\n",
      " 72%|███████▏  | 364/505 [21:51<10:42,  4.56s/it]\u001b[A\u001b[A"
     ]
    },
    {
     "name": "stdout",
     "output_type": "stream",
     "text": [
      "Stock: PCG\n",
      "            macd_signal  macd_hist    macd      rsi   chaikin_a/d\n",
      "date                                                             \n",
      "2020-12-07       0.6137    -0.0391  0.5746  66.6789  5.082126e+08\n",
      "2020-12-08       0.5962    -0.0702  0.5260  60.9455  5.007858e+08\n"
     ]
    },
    {
     "name": "stderr",
     "output_type": "stream",
     "text": [
      "\n",
      "\n",
      " 72%|███████▏  | 365/505 [21:59<13:14,  5.68s/it]\u001b[A\u001b[A"
     ]
    },
    {
     "name": "stdout",
     "output_type": "stream",
     "text": [
      "Stock: PM\n",
      "              macd  macd_hist  macd_signal      rsi   chaikin_a/d\n",
      "date                                                             \n",
      "2020-12-07  1.3059     0.5041       0.8019  69.2941  3.156406e+08\n",
      "2020-12-08  1.5687     0.6134       0.9553  71.4519  3.189050e+08\n"
     ]
    },
    {
     "name": "stderr",
     "output_type": "stream",
     "text": [
      "\n",
      "\n",
      " 72%|███████▏  | 366/505 [22:04<12:52,  5.56s/it]\u001b[A\u001b[A"
     ]
    },
    {
     "name": "stdout",
     "output_type": "stream",
     "text": [
      "Stock: PSX\n",
      "            macd_signal    macd  macd_hist      rsi   chaikin_a/d\n",
      "date                                                             \n",
      "2020-12-07       3.4156  3.6499     0.2343  61.6757  7.512274e+07\n",
      "2020-12-08       3.4598  3.6368     0.1769  62.1230  7.475907e+07\n"
     ]
    },
    {
     "name": "stderr",
     "output_type": "stream",
     "text": [
      "\n",
      "\n",
      " 73%|███████▎  | 367/505 [22:12<14:21,  6.24s/it]\u001b[A\u001b[A"
     ]
    },
    {
     "name": "stdout",
     "output_type": "stream",
     "text": [
      "Stock: PNW\n",
      "            macd_signal    macd  macd_hist      rsi   chaikin_a/d\n",
      "date                                                             \n",
      "2020-12-07       0.3799 -0.2465    -0.6264  46.7692  1.757062e+08\n",
      "2020-12-08       0.2325 -0.3570    -0.5895  44.7046  1.752832e+08\n"
     ]
    },
    {
     "name": "stderr",
     "output_type": "stream",
     "text": [
      "\n",
      "\n",
      " 73%|███████▎  | 368/505 [22:19<14:59,  6.56s/it]\u001b[A\u001b[A"
     ]
    },
    {
     "name": "stdout",
     "output_type": "stream",
     "text": [
      "Stock: PXD\n",
      "              macd  macd_signal  macd_hist      rsi   chaikin_a/d\n",
      "date                                                             \n",
      "2020-12-07  5.5713       4.6625     0.9088  62.7265  3.204608e+08\n",
      "2020-12-08  5.9596       4.9220     1.0376  65.6610  3.219048e+08\n"
     ]
    },
    {
     "name": "stderr",
     "output_type": "stream",
     "text": [
      "\n",
      "\n",
      " 73%|███████▎  | 369/505 [22:27<15:18,  6.76s/it]\u001b[A\u001b[A"
     ]
    },
    {
     "name": "stdout",
     "output_type": "stream",
     "text": [
      "Stock: PNC\n",
      "            macd_hist  macd_signal    macd      rsi   chaikin_a/d\n",
      "date                                                             \n",
      "2020-12-07     0.3957       6.3377  6.7334  69.9219  2.879956e+08\n",
      "2020-12-08     0.1533       6.3760  6.5294  68.9891  2.883226e+08\n"
     ]
    },
    {
     "name": "stderr",
     "output_type": "stream",
     "text": [
      "\n",
      "\n",
      " 73%|███████▎  | 370/505 [22:33<14:35,  6.49s/it]\u001b[A\u001b[A"
     ]
    },
    {
     "name": "stdout",
     "output_type": "stream",
     "text": [
      "Stock: RL\n",
      "            macd_signal    macd  macd_hist      rsi   chaikin_a/d\n",
      "date                                                             \n",
      "2020-12-07       4.0098  5.2213     1.2114  68.4208  8.473127e+07\n",
      "2020-12-08       4.3022  5.4717     1.1695  69.9760  8.541436e+07\n"
     ]
    },
    {
     "name": "stderr",
     "output_type": "stream",
     "text": [
      "\n",
      "\n",
      " 73%|███████▎  | 371/505 [22:37<12:57,  5.80s/it]\u001b[A\u001b[A"
     ]
    },
    {
     "name": "stdout",
     "output_type": "stream",
     "text": [
      "Stock: PPG\n",
      "            macd_signal  macd_hist    macd      rsi   chaikin_a/d\n",
      "date                                                             \n",
      "2020-12-07       3.6073    -0.4673  3.1399  55.9636  4.927713e+08\n",
      "2020-12-08       3.4568    -0.6018  2.8550  55.9149  4.927493e+08\n"
     ]
    },
    {
     "name": "stderr",
     "output_type": "stream",
     "text": [
      "\n",
      "\n",
      " 74%|███████▎  | 372/505 [22:41<11:53,  5.37s/it]\u001b[A\u001b[A"
     ]
    },
    {
     "name": "stdout",
     "output_type": "stream",
     "text": [
      "Stock: PPL\n",
      "            macd_hist  macd_signal    macd      rsi   chaikin_a/d\n",
      "date                                                             \n",
      "2020-12-07    -0.1396       0.1719  0.0323  50.0546  9.595607e+08\n",
      "2020-12-08    -0.1032       0.1461  0.0429  51.8219  9.611062e+08\n"
     ]
    },
    {
     "name": "stderr",
     "output_type": "stream",
     "text": [
      "\n",
      "\n",
      " 74%|███████▍  | 373/505 [22:45<11:00,  5.00s/it]\u001b[A\u001b[A"
     ]
    },
    {
     "name": "stdout",
     "output_type": "stream",
     "text": [
      "Stock: PX\n",
      "            macd_signal  macd_hist    macd      rsi   chaikin_a/d\n",
      "date                                                             \n",
      "2018-10-29       0.4376     0.4595  0.8971  56.1114  3.569911e+08\n",
      "2018-10-30       0.5392     0.4067  0.9460  54.1714  3.405814e+08\n"
     ]
    },
    {
     "name": "stderr",
     "output_type": "stream",
     "text": [
      "\n",
      "\n",
      " 74%|███████▍  | 374/505 [22:50<10:35,  4.85s/it]\u001b[A\u001b[A"
     ]
    },
    {
     "name": "stdout",
     "output_type": "stream",
     "text": [
      "Stock: PFG\n",
      "              macd  macd_signal  macd_hist      rsi   chaikin_a/d\n",
      "date                                                             \n",
      "2020-12-07  2.2556       2.2498     0.0058  61.1897  3.145329e+08\n",
      "2020-12-08  2.1465       2.2292    -0.0827  61.3595  3.151361e+08\n"
     ]
    },
    {
     "name": "stderr",
     "output_type": "stream",
     "text": [
      "\n",
      "\n",
      " 74%|███████▍  | 375/505 [22:54<10:12,  4.71s/it]\u001b[A\u001b[A"
     ]
    },
    {
     "name": "stdout",
     "output_type": "stream",
     "text": [
      "Stock: PG\n",
      "              macd  macd_hist  macd_signal      rsi   chaikin_a/d\n",
      "date                                                             \n",
      "2020-12-07 -0.7193    -0.2878      -0.4315  42.4964  1.895564e+09\n",
      "2020-12-08 -0.7128    -0.2251      -0.4878  44.3209  1.898024e+09\n"
     ]
    },
    {
     "name": "stderr",
     "output_type": "stream",
     "text": [
      "\n",
      "\n",
      " 74%|███████▍  | 376/505 [22:59<09:59,  4.64s/it]\u001b[A\u001b[A"
     ]
    },
    {
     "name": "stdout",
     "output_type": "stream",
     "text": [
      "Stock: PGR\n",
      "            macd_hist    macd  macd_signal      rsi   chaikin_a/d\n",
      "date                                                             \n",
      "2020-12-07    -0.1762 -1.4767      -1.3005  45.1737  1.285568e+09\n",
      "2020-12-08     0.1152 -1.1565      -1.2717  53.0290  1.287474e+09\n",
      "PGR\n"
     ]
    },
    {
     "name": "stderr",
     "output_type": "stream",
     "text": [
      "\n",
      "\n",
      " 75%|███████▍  | 377/505 [23:03<09:41,  4.54s/it]\u001b[A\u001b[A"
     ]
    },
    {
     "name": "stdout",
     "output_type": "stream",
     "text": [
      "Stock: PLD\n",
      "            macd_signal  macd_hist    macd      rsi   chaikin_a/d\n",
      "date                                                             \n",
      "2020-12-07      -0.8372    -0.3087 -1.1460  40.7488  5.823219e+08\n",
      "2020-12-08      -0.9185    -0.3251 -1.2436  39.1795  5.811357e+08\n"
     ]
    },
    {
     "name": "stderr",
     "output_type": "stream",
     "text": [
      "\n",
      "\n",
      " 75%|███████▍  | 378/505 [23:07<09:25,  4.45s/it]\u001b[A\u001b[A"
     ]
    },
    {
     "name": "stdout",
     "output_type": "stream",
     "text": [
      "Stock: PRU\n",
      "              macd  macd_signal  macd_hist      rsi   chaikin_a/d\n",
      "date                                                             \n",
      "2020-12-07  3.2369       3.0354     0.2015  63.7287  4.943827e+08\n",
      "2020-12-08  3.2082       3.0700     0.1382  64.1867  4.951548e+08\n"
     ]
    },
    {
     "name": "stderr",
     "output_type": "stream",
     "text": [
      "\n",
      "\n",
      " 75%|███████▌  | 379/505 [23:12<09:22,  4.46s/it]\u001b[A\u001b[A"
     ]
    },
    {
     "name": "stdout",
     "output_type": "stream",
     "text": [
      "Stock: PEG\n",
      "              macd  macd_hist  macd_signal      rsi   chaikin_a/d\n",
      "date                                                             \n",
      "2020-12-07 -0.2186    -0.2422       0.0236  43.6266  8.179679e+08\n",
      "2020-12-08 -0.2799    -0.2428      -0.0371  41.8099  8.193165e+08\n"
     ]
    },
    {
     "name": "stderr",
     "output_type": "stream",
     "text": [
      "\n",
      "\n",
      " 75%|███████▌  | 380/505 [23:16<09:22,  4.50s/it]\u001b[A\u001b[A"
     ]
    },
    {
     "name": "stdout",
     "output_type": "stream",
     "text": [
      "Stock: PSA\n",
      "              macd  macd_hist  macd_signal      rsi   chaikin_a/d\n",
      "date                                                             \n",
      "2020-12-07 -1.5998    -0.1831      -1.4167  46.3314  2.708119e+08\n",
      "2020-12-08 -1.7556    -0.2712      -1.4845  42.4976  2.702909e+08\n"
     ]
    },
    {
     "name": "stderr",
     "output_type": "stream",
     "text": [
      "\n",
      "\n",
      " 75%|███████▌  | 381/505 [23:21<09:26,  4.57s/it]\u001b[A\u001b[A"
     ]
    },
    {
     "name": "stdout",
     "output_type": "stream",
     "text": [
      "Stock: PHM\n",
      "            macd_signal  macd_hist    macd      rsi   chaikin_a/d\n",
      "date                                                             \n",
      "2020-12-07      -0.3057    -0.0097 -0.3153  50.3367  2.949399e+08\n",
      "2020-12-08      -0.3213    -0.0626 -0.3839  44.9947  2.943885e+08\n"
     ]
    },
    {
     "name": "stderr",
     "output_type": "stream",
     "text": [
      "\n",
      "\n",
      " 76%|███████▌  | 382/505 [23:26<09:31,  4.65s/it]\u001b[A\u001b[A"
     ]
    },
    {
     "name": "stdout",
     "output_type": "stream",
     "text": [
      "Stock: PVH\n",
      "            macd_signal    macd  macd_hist      rsi  chaikin_a/d\n",
      "date                                                            \n",
      "2020-12-07       5.2588  6.2148      0.956  71.0906 -223941.1883\n",
      "2020-12-08       5.4800  6.3651      0.885  69.9332  -90342.0908\n"
     ]
    },
    {
     "name": "stderr",
     "output_type": "stream",
     "text": [
      "\n",
      "\n",
      " 76%|███████▌  | 383/505 [23:29<08:38,  4.25s/it]\u001b[A\u001b[A"
     ]
    },
    {
     "name": "stdout",
     "output_type": "stream",
     "text": [
      "Stock: QRVO\n",
      "            macd_signal  macd_hist    macd      rsi   chaikin_a/d\n",
      "date                                                             \n",
      "2020-12-07       5.3325     1.3338  6.6664  73.1831  5.766261e+07\n",
      "2020-12-08       5.7116     1.5164  7.2280  75.1975  5.818258e+07\n"
     ]
    },
    {
     "name": "stderr",
     "output_type": "stream",
     "text": [
      "\n",
      "\n",
      " 76%|███████▌  | 384/505 [23:34<08:51,  4.39s/it]\u001b[A\u001b[A"
     ]
    },
    {
     "name": "stdout",
     "output_type": "stream",
     "text": [
      "Stock: QCOM\n",
      "            macd_hist  macd_signal    macd      rsi   chaikin_a/d\n",
      "date                                                             \n",
      "2020-12-07     0.5168       5.3012  5.8180  73.1694  1.509716e+09\n",
      "2020-12-08     0.6569       5.4654  6.1223  73.8163  1.514058e+09\n"
     ]
    },
    {
     "name": "stderr",
     "output_type": "stream",
     "text": [
      "\n",
      "\n",
      " 76%|███████▌  | 385/505 [23:38<08:42,  4.35s/it]\u001b[A\u001b[A"
     ]
    },
    {
     "name": "stdout",
     "output_type": "stream",
     "text": [
      "Stock: PWR\n",
      "            macd_signal  macd_hist    macd      rsi   chaikin_a/d\n",
      "date                                                             \n",
      "2020-12-07       2.0934    -0.1155  1.9778  64.4240  2.534009e+08\n",
      "2020-12-08       2.0783    -0.0602  2.0181  64.9473  2.532965e+08\n"
     ]
    },
    {
     "name": "stderr",
     "output_type": "stream",
     "text": [
      "\n",
      "\n",
      " 76%|███████▋  | 386/505 [23:43<08:52,  4.47s/it]\u001b[A\u001b[A"
     ]
    },
    {
     "name": "stdout",
     "output_type": "stream",
     "text": [
      "Stock: DGX\n",
      "            macd_signal    macd  macd_hist      rsi   chaikin_a/d\n",
      "date                                                             \n",
      "2020-12-07       0.8059  0.4705    -0.3355  48.7910  1.438768e+08\n",
      "2020-12-08       0.7360  0.4562    -0.2798  52.2218  1.445216e+08\n"
     ]
    },
    {
     "name": "stderr",
     "output_type": "stream",
     "text": [
      "\n",
      "\n",
      " 77%|███████▋  | 387/505 [23:47<08:54,  4.53s/it]\u001b[A\u001b[A"
     ]
    },
    {
     "name": "stdout",
     "output_type": "stream",
     "text": [
      "Stock: RRC\n",
      "            macd_signal    macd  macd_hist      rsi   chaikin_a/d\n",
      "date                                                             \n",
      "2020-12-07      -0.0338 -0.0585    -0.0247  43.0498 -4.128103e+08\n",
      "2020-12-08      -0.0439 -0.0842    -0.0404  44.1171 -4.140035e+08\n"
     ]
    },
    {
     "name": "stderr",
     "output_type": "stream",
     "text": [
      "\n",
      "\n",
      " 77%|███████▋  | 388/505 [23:52<08:49,  4.53s/it]\u001b[A\u001b[A"
     ]
    },
    {
     "name": "stdout",
     "output_type": "stream",
     "text": [
      "Stock: RJF\n",
      "            macd_signal  macd_hist    macd      rsi   chaikin_a/d\n",
      "date                                                             \n",
      "2020-12-07       3.6630     0.1611  3.8241  65.6449  2.306573e+08\n",
      "2020-12-08       3.6474    -0.0623  3.5852  60.7897  2.302629e+08\n"
     ]
    },
    {
     "name": "stderr",
     "output_type": "stream",
     "text": [
      "\n",
      "\n",
      " 77%|███████▋  | 389/505 [23:56<08:43,  4.51s/it]\u001b[A\u001b[A"
     ]
    },
    {
     "name": "stdout",
     "output_type": "stream",
     "text": [
      "Stock: RTN\n",
      "            macd_signal  macd_hist     macd      rsi   chaikin_a/d\n",
      "date                                                              \n",
      "2020-04-02     -18.1574     1.2712 -16.8862  33.2281  3.125916e+08\n",
      "2020-04-03     -17.9348     0.8903 -17.0444  33.2281  3.125916e+08\n"
     ]
    },
    {
     "name": "stderr",
     "output_type": "stream",
     "text": [
      "\n",
      "\n",
      " 77%|███████▋  | 390/505 [24:01<08:48,  4.59s/it]\u001b[A\u001b[A"
     ]
    },
    {
     "name": "stdout",
     "output_type": "stream",
     "text": [
      "Stock: O\n",
      "            macd_signal    macd  macd_hist      rsi   chaikin_a/d\n",
      "date                                                             \n",
      "2020-12-07       0.1885  0.0951    -0.0934  49.2679  3.215368e+08\n",
      "2020-12-08       0.1585  0.0387    -0.1198  47.7920  3.189414e+08\n"
     ]
    },
    {
     "name": "stderr",
     "output_type": "stream",
     "text": [
      "\n",
      "\n",
      " 77%|███████▋  | 391/505 [24:06<08:50,  4.66s/it]\u001b[A\u001b[A"
     ]
    },
    {
     "name": "stdout",
     "output_type": "stream",
     "text": [
      "Stock: RHT\n",
      "              macd  macd_hist  macd_signal      rsi   chaikin_a/d\n",
      "date                                                             \n",
      "2019-07-05  0.7860    -0.0009       0.7870  59.0406  5.868344e+07\n",
      "2019-07-08  0.7433    -0.0349       0.7783  59.0406  5.873103e+07\n"
     ]
    },
    {
     "name": "stderr",
     "output_type": "stream",
     "text": [
      "\n",
      "\n",
      " 78%|███████▊  | 392/505 [24:11<08:54,  4.73s/it]\u001b[A\u001b[A"
     ]
    },
    {
     "name": "stdout",
     "output_type": "stream",
     "text": [
      "Stock: REG\n",
      "              macd  macd_hist  macd_signal      rsi   chaikin_a/d\n",
      "date                                                             \n",
      "2020-12-07  2.0158    -0.1326       2.1484  59.6465  1.842306e+08\n",
      "2020-12-08  1.9020    -0.1971       2.0992  58.3050  1.838591e+08\n"
     ]
    },
    {
     "name": "stderr",
     "output_type": "stream",
     "text": [
      "\n",
      "\n",
      " 78%|███████▊  | 393/505 [24:16<08:54,  4.77s/it]\u001b[A\u001b[A"
     ]
    },
    {
     "name": "stdout",
     "output_type": "stream",
     "text": [
      "Stock: REGN\n",
      "            macd_signal  macd_hist     macd      rsi   chaikin_a/d\n",
      "date                                                              \n",
      "2020-12-07     -16.6838    -1.9588 -18.6427  32.4543  7.270262e+07\n",
      "2020-12-08     -17.0280    -1.3767 -18.4047  33.5823  7.358167e+07\n"
     ]
    },
    {
     "name": "stderr",
     "output_type": "stream",
     "text": [
      "\n",
      "\n",
      " 78%|███████▊  | 394/505 [24:21<08:53,  4.81s/it]\u001b[A\u001b[A"
     ]
    },
    {
     "name": "stdout",
     "output_type": "stream",
     "text": [
      "Stock: RF\n",
      "              macd  macd_hist  macd_signal      rsi   chaikin_a/d\n",
      "date                                                             \n",
      "2020-12-07  0.6653    -0.0129       0.6782  62.0141  6.717944e+08\n",
      "2020-12-08  0.6420    -0.0290       0.6710  61.7329  6.727557e+08\n"
     ]
    },
    {
     "name": "stderr",
     "output_type": "stream",
     "text": [
      "\n",
      "\n",
      " 78%|███████▊  | 395/505 [24:26<09:11,  5.01s/it]\u001b[A\u001b[A"
     ]
    },
    {
     "name": "stdout",
     "output_type": "stream",
     "text": [
      "Stock: RSG\n",
      "            macd_signal  macd_hist    macd      rsi   chaikin_a/d\n",
      "date                                                             \n",
      "2020-12-07       0.7635    -0.6997  0.0638  42.8809  4.701940e+08\n",
      "2020-12-08       0.5923    -0.6851 -0.0928  42.2529  4.705262e+08\n"
     ]
    },
    {
     "name": "stderr",
     "output_type": "stream",
     "text": [
      "\n",
      "\n",
      " 78%|███████▊  | 396/505 [24:32<09:23,  5.17s/it]\u001b[A\u001b[A"
     ]
    },
    {
     "name": "stdout",
     "output_type": "stream",
     "text": [
      "Stock: RMD\n",
      "            macd_signal    macd  macd_hist      rsi   chaikin_a/d\n",
      "date                                                             \n",
      "2020-12-07       5.1083  3.6501    -1.4581  56.7193  3.200662e+08\n",
      "2020-12-08       4.8087  3.6105    -1.1982  60.5766  3.204469e+08\n"
     ]
    },
    {
     "name": "stderr",
     "output_type": "stream",
     "text": [
      "\n",
      "\n",
      " 79%|███████▊  | 397/505 [24:36<08:59,  5.00s/it]\u001b[A\u001b[A"
     ]
    },
    {
     "name": "stdout",
     "output_type": "stream",
     "text": [
      "Stock: RHI\n",
      "            macd_hist  macd_signal    macd      rsi   chaikin_a/d\n",
      "date                                                             \n",
      "2020-12-07    -0.2207       2.5530  2.3323  57.8489  2.666914e+08\n",
      "2020-12-08    -0.2709       2.4853  2.2143  58.9169  2.680395e+08\n"
     ]
    },
    {
     "name": "stderr",
     "output_type": "stream",
     "text": [
      "\n",
      "\n",
      " 79%|███████▉  | 398/505 [24:41<08:57,  5.02s/it]\u001b[A\u001b[A"
     ]
    },
    {
     "name": "stdout",
     "output_type": "stream",
     "text": [
      "Stock: ROK\n",
      "            macd_signal  macd_hist    macd      rsi   chaikin_a/d\n",
      "date                                                             \n",
      "2020-12-07       3.0277    -1.0041  2.0236  49.0062  1.522425e+08\n",
      "2020-12-08       2.8194    -0.8335  1.9858  53.8311  1.526421e+08\n"
     ]
    },
    {
     "name": "stderr",
     "output_type": "stream",
     "text": [
      "\n",
      "\n",
      " 79%|███████▉  | 399/505 [24:46<08:39,  4.90s/it]\u001b[A\u001b[A"
     ]
    },
    {
     "name": "stdout",
     "output_type": "stream",
     "text": [
      "Stock: COL\n",
      "            macd_hist  macd_signal    macd      rsi   chaikin_a/d\n",
      "date                                                             \n",
      "2018-11-23     0.8422      -0.6530  0.1891  68.8238  1.827181e+08\n",
      "2018-11-26     1.2006      -0.3529  0.8477  67.1969  1.672769e+08\n"
     ]
    },
    {
     "name": "stderr",
     "output_type": "stream",
     "text": [
      "\n",
      "\n",
      " 79%|███████▉  | 400/505 [24:51<08:37,  4.93s/it]\u001b[A\u001b[A"
     ]
    },
    {
     "name": "stdout",
     "output_type": "stream",
     "text": [
      "Stock: ROP\n",
      "            macd_hist    macd  macd_signal      rsi   chaikin_a/d\n",
      "date                                                             \n",
      "2020-12-07     0.9252  4.7624       3.8371  56.7146  1.319136e+08\n",
      "2020-12-08     0.7338  4.7544       4.0206  56.8165  1.318573e+08\n"
     ]
    },
    {
     "name": "stderr",
     "output_type": "stream",
     "text": [
      "\n",
      "\n",
      " 79%|███████▉  | 401/505 [24:56<08:34,  4.95s/it]\u001b[A\u001b[A"
     ]
    },
    {
     "name": "stdout",
     "output_type": "stream",
     "text": [
      "Stock: ROST\n",
      "            macd_signal  macd_hist    macd      rsi   chaikin_a/d\n",
      "date                                                             \n",
      "2020-12-07       4.1500    -0.0045  4.1455  62.3643  9.468535e+08\n",
      "2020-12-08       4.1272    -0.0911  4.0361  62.0795  9.480650e+08\n"
     ]
    },
    {
     "name": "stderr",
     "output_type": "stream",
     "text": [
      "\n",
      "\n",
      " 80%|███████▉  | 402/505 [25:01<08:33,  4.99s/it]\u001b[A\u001b[A"
     ]
    },
    {
     "name": "stdout",
     "output_type": "stream",
     "text": [
      "Stock: RCL\n",
      "            macd_signal    macd  macd_hist      rsi   chaikin_a/d\n",
      "date                                                             \n",
      "2020-12-07       4.3215  4.6542     0.3326  62.0573  2.315706e+08\n",
      "2020-12-08       4.3777  4.6024     0.2247  63.5022  2.332731e+08\n"
     ]
    },
    {
     "name": "stderr",
     "output_type": "stream",
     "text": [
      "\n",
      "\n",
      " 80%|███████▉  | 403/505 [25:06<08:24,  4.95s/it]\u001b[A\u001b[A"
     ]
    },
    {
     "name": "stdout",
     "output_type": "stream",
     "text": [
      "Stock: SPGI\n",
      "            macd_hist  macd_signal    macd      rsi   chaikin_a/d\n",
      "date                                                             \n",
      "2020-12-07    -0.1036      -1.5347 -1.6383  48.1120  4.211061e+08\n",
      "2020-12-08    -0.1980      -1.5842 -1.7822  46.3666  4.199600e+08\n"
     ]
    },
    {
     "name": "stderr",
     "output_type": "stream",
     "text": [
      "\n",
      "\n",
      " 80%|████████  | 404/505 [25:11<08:13,  4.89s/it]\u001b[A\u001b[A"
     ]
    },
    {
     "name": "stdout",
     "output_type": "stream",
     "text": [
      "Stock: CRM\n",
      "            macd_hist    macd  macd_signal      rsi   chaikin_a/d\n",
      "date                                                             \n",
      "2020-12-07    -3.5306 -6.1063      -2.5757  37.3358  1.761171e+09\n",
      "2020-12-08    -3.0984 -6.4486      -3.3503  37.4901  1.762938e+09\n"
     ]
    },
    {
     "name": "stderr",
     "output_type": "stream",
     "text": [
      "\n",
      "\n",
      " 80%|████████  | 405/505 [25:16<08:08,  4.88s/it]\u001b[A\u001b[A"
     ]
    },
    {
     "name": "stdout",
     "output_type": "stream",
     "text": [
      "Stock: SBAC\n",
      "            macd_signal    macd  macd_hist      rsi   chaikin_a/d\n",
      "date                                                             \n",
      "2020-12-07      -4.1779 -4.2961    -0.1182  40.8390  3.539782e+08\n",
      "2020-12-08      -4.2452 -4.5143    -0.2692  38.3627  3.538962e+08\n"
     ]
    },
    {
     "name": "stderr",
     "output_type": "stream",
     "text": [
      "\n",
      "\n",
      " 80%|████████  | 406/505 [25:20<07:56,  4.82s/it]\u001b[A\u001b[A"
     ]
    },
    {
     "name": "stdout",
     "output_type": "stream",
     "text": [
      "Stock: SCG\n",
      "            macd_signal    macd  macd_hist      rsi   chaikin_a/d\n",
      "date                                                             \n",
      "2018-12-28       1.6694  1.3933    -0.2761  59.7261  1.561938e+08\n",
      "2018-12-31       1.5839  1.2418    -0.3421  53.9232  1.459704e+08\n"
     ]
    },
    {
     "name": "stderr",
     "output_type": "stream",
     "text": [
      "\n",
      "\n",
      " 81%|████████  | 407/505 [25:26<08:08,  4.99s/it]\u001b[A\u001b[A"
     ]
    },
    {
     "name": "stdout",
     "output_type": "stream",
     "text": [
      "Stock: SLB\n",
      "            macd_signal    macd  macd_hist     rsi   chaikin_a/d\n",
      "date                                                            \n",
      "2020-12-08       1.4296  1.5787     0.1491  70.108  7.014805e+08\n",
      "Stock: SLB - error\n"
     ]
    },
    {
     "name": "stderr",
     "output_type": "stream",
     "text": [
      "\n",
      "\n",
      " 81%|████████  | 408/505 [25:31<08:11,  5.07s/it]\u001b[A\u001b[A"
     ]
    },
    {
     "name": "stdout",
     "output_type": "stream",
     "text": [
      "Stock: STX\n",
      "              macd  macd_hist  macd_signal      rsi   chaikin_a/d\n",
      "date                                                             \n",
      "2020-12-08  3.0206     0.5199       2.5007  79.7792  8.342712e+08\n",
      "2020-12-09  3.0347     0.4272       2.6075  77.4695  8.324190e+08\n"
     ]
    },
    {
     "name": "stderr",
     "output_type": "stream",
     "text": [
      "\n",
      "\n",
      " 81%|████████  | 409/505 [25:36<08:11,  5.12s/it]\u001b[A\u001b[A"
     ]
    },
    {
     "name": "stdout",
     "output_type": "stream",
     "text": [
      "Stock: SEE\n",
      "            macd_hist    macd  macd_signal      rsi   chaikin_a/d\n",
      "date                                                             \n",
      "2020-12-08    -0.1094  0.9107       1.0200  54.7888  7.955310e+07\n",
      "2020-12-09    -0.0755  0.9256       1.0012  60.4257  8.035351e+07\n"
     ]
    },
    {
     "name": "stderr",
     "output_type": "stream",
     "text": [
      "\n",
      "\n",
      " 81%|████████  | 410/505 [25:41<08:02,  5.08s/it]\u001b[A\u001b[A"
     ]
    },
    {
     "name": "stdout",
     "output_type": "stream",
     "text": [
      "Stock: SRE\n",
      "            macd_hist  macd_signal    macd      rsi   chaikin_a/d\n",
      "date                                                             \n",
      "2020-12-08    -0.5210       0.5967  0.0756  48.8049  3.774046e+08\n",
      "2020-12-09    -0.4837       0.4757 -0.0080  48.0464  3.770936e+08\n"
     ]
    },
    {
     "name": "stderr",
     "output_type": "stream",
     "text": [
      "\n",
      "\n",
      " 81%|████████▏ | 411/505 [25:46<07:58,  5.09s/it]\u001b[A\u001b[A"
     ]
    },
    {
     "name": "stdout",
     "output_type": "stream",
     "text": [
      "Stock: SHW\n",
      "            macd_signal    macd  macd_hist      rsi   chaikin_a/d\n",
      "date                                                             \n",
      "2020-12-08       6.6315  2.8928    -3.7388  50.7052  2.035132e+08\n",
      "2020-12-09       5.8354  2.6506    -3.1847  51.3166  2.034937e+08\n"
     ]
    },
    {
     "name": "stderr",
     "output_type": "stream",
     "text": [
      "\n",
      "\n",
      " 82%|████████▏ | 412/505 [25:52<08:00,  5.17s/it]\u001b[A\u001b[A"
     ]
    },
    {
     "name": "stdout",
     "output_type": "stream",
     "text": [
      "Stock: SPG\n",
      "            macd_hist    macd  macd_signal      rsi   chaikin_a/d\n",
      "date                                                             \n",
      "2020-12-08     0.4001  5.5433       5.1432  63.3505  4.897626e+08\n",
      "2020-12-09     0.2678  5.4779       5.2102  64.0910  4.902442e+08\n"
     ]
    },
    {
     "name": "stderr",
     "output_type": "stream",
     "text": [
      "\n",
      "\n",
      " 82%|████████▏ | 413/505 [25:56<07:47,  5.08s/it]\u001b[A\u001b[A"
     ]
    },
    {
     "name": "stdout",
     "output_type": "stream",
     "text": [
      "Stock: SWKS\n",
      "              macd  macd_hist  macd_signal      rsi   chaikin_a/d\n",
      "date                                                             \n",
      "2020-12-08  1.8571     1.9765      -0.1194  66.9059  1.629379e+08\n",
      "2020-12-09  1.9039     1.6187       0.2852  54.9931  1.610726e+08\n"
     ]
    },
    {
     "name": "stderr",
     "output_type": "stream",
     "text": [
      "\n",
      "\n",
      " 82%|████████▏ | 414/505 [26:02<07:48,  5.14s/it]\u001b[A\u001b[A"
     ]
    },
    {
     "name": "stdout",
     "output_type": "stream",
     "text": [
      "Stock: SLG\n",
      "            macd_signal  macd_hist    macd      rsi   chaikin_a/d\n",
      "date                                                             \n",
      "2020-12-08       3.2303     0.0178  3.2481  60.3740  1.670948e+08\n",
      "2020-12-09       3.2138    -0.0660  3.1478  60.9408  1.674696e+08\n"
     ]
    },
    {
     "name": "stderr",
     "output_type": "stream",
     "text": [
      "\n",
      "\n",
      " 82%|████████▏ | 415/505 [26:07<07:52,  5.25s/it]\u001b[A\u001b[A"
     ]
    },
    {
     "name": "stdout",
     "output_type": "stream",
     "text": [
      "Stock: SNA\n",
      "              macd  macd_hist  macd_signal     rsi   chaikin_a/d\n",
      "date                                                            \n",
      "2020-12-08  4.8007     0.0654       4.7353  65.724  8.609455e+07\n",
      "2020-12-09  4.8589     0.0989       4.7600  67.039  8.616467e+07\n"
     ]
    },
    {
     "name": "stderr",
     "output_type": "stream",
     "text": [
      "\n",
      "\n",
      " 82%|████████▏ | 416/505 [26:12<07:38,  5.15s/it]\u001b[A\u001b[A"
     ]
    },
    {
     "name": "stdout",
     "output_type": "stream",
     "text": [
      "Stock: SO\n",
      "            macd_signal    macd  macd_hist      rsi   chaikin_a/d\n",
      "date                                                             \n",
      "2020-12-08       0.6900  0.5099    -0.1800  51.8689  1.338386e+09\n",
      "2020-12-09       0.6384  0.4324    -0.2061  50.4041  1.337739e+09\n"
     ]
    },
    {
     "name": "stderr",
     "output_type": "stream",
     "text": [
      "\n",
      "\n",
      " 83%|████████▎ | 417/505 [26:17<07:28,  5.09s/it]\u001b[A\u001b[A"
     ]
    },
    {
     "name": "stdout",
     "output_type": "stream",
     "text": [
      "Stock: LUV\n",
      "            macd_hist    macd  macd_signal      rsi   chaikin_a/d\n",
      "date                                                             \n",
      "2020-12-08    -0.1180  1.6736       1.7916  60.3851  1.062906e+08\n",
      "2020-12-09    -0.2705  1.4535       1.7240  52.4884  9.537898e+07\n"
     ]
    },
    {
     "name": "stderr",
     "output_type": "stream",
     "text": [
      "\n",
      "\n",
      " 83%|████████▎ | 418/505 [26:22<07:17,  5.03s/it]\u001b[A\u001b[A"
     ]
    },
    {
     "name": "stdout",
     "output_type": "stream",
     "text": [
      "Stock: SWK\n",
      "              macd  macd_signal  macd_hist      rsi   chaikin_a/d\n",
      "date                                                             \n",
      "2020-12-08  1.1773       2.5934    -1.4161  45.6805  2.732904e+08\n",
      "2020-12-09  0.8735       2.2494    -1.3759  47.6560  2.733916e+08\n"
     ]
    },
    {
     "name": "stderr",
     "output_type": "stream",
     "text": [
      "\n",
      "\n",
      " 83%|████████▎ | 419/505 [26:28<07:26,  5.19s/it]\u001b[A\u001b[A"
     ]
    },
    {
     "name": "stdout",
     "output_type": "stream",
     "text": [
      "Stock: SBUX\n",
      "            macd_hist  macd_signal    macd      rsi   chaikin_a/d\n",
      "date                                                             \n",
      "2020-12-08     0.0885       2.6085  2.6970  68.7165  2.542565e+09\n",
      "2020-12-09    -0.0198       2.6035  2.5837  64.6042  2.538293e+09\n"
     ]
    },
    {
     "name": "stderr",
     "output_type": "stream",
     "text": [
      "\n",
      "\n",
      " 83%|████████▎ | 420/505 [26:33<07:25,  5.24s/it]\u001b[A\u001b[A"
     ]
    },
    {
     "name": "stdout",
     "output_type": "stream",
     "text": [
      "Stock: STT\n",
      "              macd  macd_signal  macd_hist      rsi   chaikin_a/d\n",
      "date                                                             \n",
      "2020-12-08  2.7528       2.3606     0.3922  66.1577  2.508891e+08\n",
      "2020-12-09  2.5167       2.3918     0.1248  56.1377  2.475837e+08\n"
     ]
    },
    {
     "name": "stderr",
     "output_type": "stream",
     "text": [
      "\n",
      "\n",
      " 83%|████████▎ | 421/505 [26:38<07:19,  5.23s/it]\u001b[A\u001b[A"
     ]
    },
    {
     "name": "stdout",
     "output_type": "stream",
     "text": [
      "Stock: SRCL\n",
      "            macd_hist    macd  macd_signal      rsi   chaikin_a/d\n",
      "date                                                             \n",
      "2020-12-08    -0.3867  0.5386       0.9253  51.4253  1.678573e+08\n",
      "2020-12-09    -0.3952  0.4312       0.8265  48.9467  1.677761e+08\n"
     ]
    },
    {
     "name": "stderr",
     "output_type": "stream",
     "text": [
      "\n",
      "\n",
      " 84%|████████▎ | 422/505 [26:43<06:58,  5.04s/it]\u001b[A\u001b[A"
     ]
    },
    {
     "name": "stdout",
     "output_type": "stream",
     "text": [
      "Stock: SYK\n",
      "            macd_hist    macd  macd_signal      rsi   chaikin_a/d\n",
      "date                                                             \n",
      "2020-12-08    -0.3096  4.5571       4.8666  57.7298  3.254789e+08\n",
      "2020-12-09    -0.4078  4.3568       4.7647  58.2367  3.251282e+08\n"
     ]
    },
    {
     "name": "stderr",
     "output_type": "stream",
     "text": [
      "\n",
      "\n",
      " 84%|████████▍ | 423/505 [26:49<07:11,  5.26s/it]\u001b[A\u001b[A"
     ]
    },
    {
     "name": "stdout",
     "output_type": "stream",
     "text": [
      "Stock: STI\n",
      "            macd_hist    macd  macd_signal      rsi   chaikin_a/d\n",
      "date                                                             \n",
      "2019-12-05    -0.3335  0.2176       0.5511  46.4447  3.338423e+08\n",
      "2019-12-06    -0.2715  0.2117       0.4832  52.4852  3.226523e+08\n"
     ]
    },
    {
     "name": "stderr",
     "output_type": "stream",
     "text": [
      "\n",
      "\n",
      " 84%|████████▍ | 424/505 [26:55<07:31,  5.57s/it]\u001b[A\u001b[A"
     ]
    },
    {
     "name": "stdout",
     "output_type": "stream",
     "text": [
      "Stock: SIVB\n",
      "            macd_hist     macd  macd_signal      rsi   chaikin_a/d\n",
      "date                                                              \n",
      "2020-12-08    -2.5250  13.7316      16.2567  61.7076  1.016421e+08\n",
      "2020-12-09    -3.0787  12.4083      15.4870  56.9261  1.014170e+08\n"
     ]
    },
    {
     "name": "stderr",
     "output_type": "stream",
     "text": [
      "\n",
      "\n",
      " 84%|████████▍ | 425/505 [27:01<07:38,  5.74s/it]\u001b[A\u001b[A"
     ]
    },
    {
     "name": "stdout",
     "output_type": "stream",
     "text": [
      "Stock: SYMC\n",
      "            macd_hist    macd  macd_signal      rsi   chaikin_a/d\n",
      "date                                                             \n",
      "2020-12-07     0.1847 -0.3421      -0.5268  55.8925  9.321424e+08\n",
      "2020-12-08     0.1922 -0.2865      -0.4787  50.1033  9.259983e+08\n"
     ]
    },
    {
     "name": "stderr",
     "output_type": "stream",
     "text": [
      "\n",
      "\n",
      " 84%|████████▍ | 426/505 [27:05<06:45,  5.13s/it]\u001b[A\u001b[A"
     ]
    },
    {
     "name": "stdout",
     "output_type": "stream",
     "text": [
      "Stock: SYF\n",
      "            macd_hist    macd  macd_signal      rsi   chaikin_a/d\n",
      "date                                                             \n",
      "2020-12-08     0.0924  1.2093       1.1169  62.7603 -2.572401e+08\n",
      "2020-12-09     0.0473  1.1759       1.1287  62.4457 -2.583999e+08\n"
     ]
    },
    {
     "name": "stderr",
     "output_type": "stream",
     "text": [
      "\n",
      "\n",
      " 85%|████████▍ | 427/505 [27:10<06:37,  5.09s/it]\u001b[A\u001b[A"
     ]
    },
    {
     "name": "stdout",
     "output_type": "stream",
     "text": [
      "Stock: SNPS\n",
      "              macd  macd_hist  macd_signal      rsi   chaikin_a/d\n",
      "date                                                             \n",
      "2020-12-08  3.6295     1.8838       1.7457  62.7252  4.294699e+08\n",
      "2020-12-09  3.5523     1.4453       2.1070  55.7578  4.290307e+08\n"
     ]
    },
    {
     "name": "stderr",
     "output_type": "stream",
     "text": [
      "\n",
      "\n",
      " 85%|████████▍ | 428/505 [27:15<06:34,  5.12s/it]\u001b[A\u001b[A"
     ]
    },
    {
     "name": "stdout",
     "output_type": "stream",
     "text": [
      "Stock: SYY\n",
      "            macd_signal    macd  macd_hist      rsi   chaikin_a/d\n",
      "date                                                             \n",
      "2020-12-08       2.5663  2.8566     0.2903  63.8183  5.542839e+08\n",
      "2020-12-09       2.6236  2.8527     0.2292  62.9101  5.546157e+08\n"
     ]
    },
    {
     "name": "stderr",
     "output_type": "stream",
     "text": [
      "\n",
      "\n",
      " 85%|████████▍ | 429/505 [27:20<06:37,  5.24s/it]\u001b[A\u001b[A"
     ]
    },
    {
     "name": "stdout",
     "output_type": "stream",
     "text": [
      "Stock: TROW\n",
      "              macd  macd_hist  macd_signal      rsi   chaikin_a/d\n",
      "date                                                             \n",
      "2020-12-08  3.5451     1.1055       2.4396  66.9337  3.980821e+08\n",
      "2020-12-09  3.6226     0.9464       2.6762  63.3510  3.979923e+08\n"
     ]
    },
    {
     "name": "stderr",
     "output_type": "stream",
     "text": [
      "\n",
      "\n",
      " 85%|████████▌ | 430/505 [27:26<06:37,  5.31s/it]\u001b[A\u001b[A"
     ]
    },
    {
     "name": "stdout",
     "output_type": "stream",
     "text": [
      "Stock: TTWO\n",
      "            macd_signal    macd  macd_hist      rsi   chaikin_a/d\n",
      "date                                                             \n",
      "2020-12-08       3.8284  5.1674     1.3391  68.8561  2.311061e+08\n",
      "2020-12-09       4.1154  5.2638     1.1483  68.9388  2.314809e+08\n"
     ]
    },
    {
     "name": "stderr",
     "output_type": "stream",
     "text": [
      "\n",
      "\n",
      " 85%|████████▌ | 431/505 [27:31<06:36,  5.36s/it]\u001b[A\u001b[A"
     ]
    },
    {
     "name": "stdout",
     "output_type": "stream",
     "text": [
      "Stock: TPR\n",
      "            macd_signal    macd  macd_hist      rsi   chaikin_a/d\n",
      "date                                                             \n",
      "2020-12-08       1.9036  1.7008    -0.2028  69.8635  5.036605e+08\n",
      "2020-12-09       1.8513  1.6420    -0.2093  70.4641  5.031827e+08\n"
     ]
    },
    {
     "name": "stderr",
     "output_type": "stream",
     "text": [
      "\n",
      "\n",
      " 86%|████████▌ | 432/505 [27:39<07:15,  5.96s/it]\u001b[A\u001b[A"
     ]
    },
    {
     "name": "stdout",
     "output_type": "stream",
     "text": [
      "Stock: TGT\n",
      "            macd_signal    macd  macd_hist      rsi   chaikin_a/d\n",
      "date                                                             \n",
      "2020-12-08       4.6720  4.1212    -0.5508  57.5255  3.081013e+08\n",
      "2020-12-09       4.5042  3.8330    -0.6712  60.0191  3.088747e+08\n"
     ]
    },
    {
     "name": "stderr",
     "output_type": "stream",
     "text": [
      "\n",
      "\n",
      " 86%|████████▌ | 433/505 [27:43<06:36,  5.50s/it]\u001b[A\u001b[A"
     ]
    },
    {
     "name": "stdout",
     "output_type": "stream",
     "text": [
      "Stock: TEL\n",
      "            macd_signal    macd  macd_hist      rsi   chaikin_a/d\n",
      "date                                                             \n",
      "2020-12-08       3.4080  3.7835     0.3755  69.6354  1.297775e+08\n",
      "2020-12-09       3.4753  3.7445     0.2692  68.9955  1.285491e+08\n"
     ]
    },
    {
     "name": "stderr",
     "output_type": "stream",
     "text": [
      "\n",
      "\n",
      " 86%|████████▌ | 434/505 [27:48<06:17,  5.31s/it]\u001b[A\u001b[A"
     ]
    },
    {
     "name": "stdout",
     "output_type": "stream",
     "text": [
      "Stock: FTI\n",
      "            macd_signal    macd  macd_hist      rsi   chaikin_a/d\n",
      "date                                                             \n",
      "2020-12-08       0.6487  0.7560     0.1073  65.2144  2.725880e+08\n",
      "2020-12-09       0.6691  0.7509     0.0818  64.0617  2.721885e+08\n"
     ]
    },
    {
     "name": "stderr",
     "output_type": "stream",
     "text": [
      "\n",
      "\n",
      " 86%|████████▌ | 435/505 [27:53<06:02,  5.18s/it]\u001b[A\u001b[A"
     ]
    },
    {
     "name": "stdout",
     "output_type": "stream",
     "text": [
      "Stock: TXN\n",
      "            macd_hist  macd_signal    macd      rsi   chaikin_a/d\n",
      "date                                                             \n",
      "2020-12-08     0.5397       3.5144  4.0541  67.9177  8.358063e+08\n",
      "2020-12-09     0.2276       3.5713  3.7989  58.5532  8.329082e+08\n"
     ]
    },
    {
     "name": "stderr",
     "output_type": "stream",
     "text": [
      "\n",
      "\n",
      " 86%|████████▋ | 436/505 [27:58<05:54,  5.13s/it]\u001b[A\u001b[A"
     ]
    },
    {
     "name": "stdout",
     "output_type": "stream",
     "text": [
      "Stock: TXT\n",
      "              macd  macd_hist  macd_signal      rsi   chaikin_a/d\n",
      "date                                                             \n",
      "2020-12-08  2.2229    -0.0805       2.3034  66.5049  2.554323e+08\n",
      "2020-12-09  2.1798    -0.0989       2.2787  66.0117  2.546483e+08\n"
     ]
    },
    {
     "name": "stderr",
     "output_type": "stream",
     "text": [
      "\n",
      "\n",
      " 87%|████████▋ | 437/505 [28:02<05:30,  4.87s/it]\u001b[A\u001b[A"
     ]
    },
    {
     "name": "stdout",
     "output_type": "stream",
     "text": [
      "Stock: BK\n",
      "            macd_signal    macd  macd_hist      rsi   chaikin_a/d\n",
      "date                                                             \n",
      "2020-12-08       0.9200  0.9653     0.0453  61.8055  3.180969e+08\n",
      "2020-12-09       0.9298  0.9691     0.0393  61.8515  3.137136e+08\n"
     ]
    },
    {
     "name": "stderr",
     "output_type": "stream",
     "text": [
      "\n",
      "\n",
      " 87%|████████▋ | 438/505 [28:07<05:27,  4.89s/it]\u001b[A\u001b[A"
     ]
    },
    {
     "name": "stdout",
     "output_type": "stream",
     "text": [
      "Stock: CLX\n",
      "              macd  macd_signal  macd_hist      rsi   chaikin_a/d\n",
      "date                                                             \n",
      "2020-12-08 -2.0403      -2.1849     0.1446  46.9595  2.128572e+08\n",
      "2020-12-09 -2.0342      -2.1547     0.1205  43.1410  2.122971e+08\n"
     ]
    },
    {
     "name": "stderr",
     "output_type": "stream",
     "text": [
      "\n",
      "\n",
      " 87%|████████▋ | 439/505 [28:12<05:16,  4.79s/it]\u001b[A\u001b[A"
     ]
    },
    {
     "name": "stdout",
     "output_type": "stream",
     "text": [
      "Stock: COO\n",
      "            macd_hist    macd  macd_signal      rsi   chaikin_a/d\n",
      "date                                                             \n",
      "2020-12-08     1.5623  1.0801      -0.4822  57.4082  1.359822e+08\n",
      "2020-12-09     1.4411  1.3192      -0.1219  54.3322  1.358609e+08\n"
     ]
    },
    {
     "name": "stderr",
     "output_type": "stream",
     "text": [
      "\n",
      "\n",
      " 87%|████████▋ | 440/505 [28:16<05:06,  4.72s/it]\u001b[A\u001b[A"
     ]
    },
    {
     "name": "stdout",
     "output_type": "stream",
     "text": [
      "Stock: HSY\n",
      "            macd_signal    macd  macd_hist      rsi   chaikin_a/d\n",
      "date                                                             \n",
      "2020-12-08       1.1339  1.0550    -0.0789  57.5664  3.189618e+08\n",
      "2020-12-09       1.1440  1.1846     0.0406  61.5173  3.197545e+08\n",
      "HSY\n"
     ]
    },
    {
     "name": "stderr",
     "output_type": "stream",
     "text": [
      "\n",
      "\n",
      " 87%|████████▋ | 441/505 [28:21<05:00,  4.70s/it]\u001b[A\u001b[A"
     ]
    },
    {
     "name": "stdout",
     "output_type": "stream",
     "text": [
      "Stock: MOS\n",
      "            macd_hist    macd  macd_signal      rsi   chaikin_a/d\n",
      "date                                                             \n",
      "2020-12-08     0.1389  1.0349        0.896  63.4633 -2.807713e+07\n",
      "2020-12-09     0.1083  1.0313        0.923  63.6123 -2.807713e+07\n"
     ]
    },
    {
     "name": "stderr",
     "output_type": "stream",
     "text": [
      "\n",
      "\n",
      " 88%|████████▊ | 442/505 [28:26<05:04,  4.83s/it]\u001b[A\u001b[A"
     ]
    },
    {
     "name": "stdout",
     "output_type": "stream",
     "text": [
      "Stock: TRV\n",
      "            macd_signal    macd  macd_hist      rsi   chaikin_a/d\n",
      "date                                                             \n",
      "2020-12-08       3.1683  2.5735    -0.5948  58.1035  2.459623e+08\n",
      "2020-12-09       3.0226  2.4397    -0.5829  57.2597  2.455742e+08\n"
     ]
    },
    {
     "name": "stderr",
     "output_type": "stream",
     "text": [
      "\n",
      "\n",
      " 88%|████████▊ | 443/505 [28:33<05:40,  5.49s/it]\u001b[A\u001b[A"
     ]
    },
    {
     "name": "stdout",
     "output_type": "stream",
     "text": [
      "Stock: DIS\n",
      "              macd  macd_signal  macd_hist      rsi   chaikin_a/d\n",
      "date                                                             \n",
      "2020-12-08  6.0182       5.7219     0.2963  69.1746  2.234604e+09\n",
      "2020-12-09  5.9370       5.7649     0.1721  69.9742  2.228537e+09\n"
     ]
    },
    {
     "name": "stderr",
     "output_type": "stream",
     "text": [
      "\n",
      "\n",
      " 88%|████████▊ | 444/505 [28:38<05:26,  5.36s/it]\u001b[A\u001b[A"
     ]
    },
    {
     "name": "stdout",
     "output_type": "stream",
     "text": [
      "Stock: TMO\n",
      "            macd_signal  macd_hist    macd      rsi   chaikin_a/d\n",
      "date                                                             \n",
      "2020-12-08      -1.0337     1.3180  0.2844  52.7892  4.259766e+08\n",
      "2020-12-09      -0.9064     0.5092 -0.3972  45.9395  4.242880e+08\n"
     ]
    },
    {
     "name": "stderr",
     "output_type": "stream",
     "text": [
      "\n",
      "\n",
      " 88%|████████▊ | 445/505 [28:43<05:15,  5.25s/it]\u001b[A\u001b[A"
     ]
    },
    {
     "name": "stdout",
     "output_type": "stream",
     "text": [
      "Stock: TIF\n",
      "            macd_signal  macd_hist    macd      rsi   chaikin_a/d\n",
      "date                                                             \n",
      "2020-12-08       1.6041    -0.3553  1.2488  77.6124  3.682101e+08\n",
      "2020-12-09       1.5171    -0.3479  1.1692  77.0613  3.691605e+08\n"
     ]
    },
    {
     "name": "stderr",
     "output_type": "stream",
     "text": [
      "\n",
      "\n",
      " 88%|████████▊ | 446/505 [28:49<05:21,  5.44s/it]\u001b[A\u001b[A"
     ]
    },
    {
     "name": "stdout",
     "output_type": "stream",
     "text": [
      "Stock: TWX\n",
      "            macd_signal  macd_hist    macd      rsi   chaikin_a/d\n",
      "date                                                             \n",
      "2018-06-14       0.2904     0.5108  0.8012  73.8239  8.033222e+08\n",
      "2018-06-15       0.4265     0.5447  0.9713  73.8239  8.033222e+08\n"
     ]
    },
    {
     "name": "stderr",
     "output_type": "stream",
     "text": [
      "\n",
      "\n",
      " 89%|████████▊ | 447/505 [28:54<05:00,  5.19s/it]\u001b[A\u001b[A"
     ]
    },
    {
     "name": "stdout",
     "output_type": "stream",
     "text": [
      "Stock: TJX\n",
      "            macd_signal    macd  macd_hist      rsi   chaikin_a/d\n",
      "date                                                             \n",
      "2020-12-08       2.1691  2.3501     0.1811  64.2469  9.968555e+08\n",
      "2020-12-09       2.2105  2.3762     0.1657  67.5085  1.000942e+09\n"
     ]
    },
    {
     "name": "stderr",
     "output_type": "stream",
     "text": [
      "\n",
      "\n",
      " 89%|████████▊ | 448/505 [28:59<05:07,  5.39s/it]\u001b[A\u001b[A"
     ]
    },
    {
     "name": "stdout",
     "output_type": "stream",
     "text": [
      "Stock: TMK\n",
      "              macd  macd_signal  macd_hist      rsi   chaikin_a/d\n",
      "date                                                             \n",
      "2020-12-07  2.5117       2.7688    -0.2571  58.1243  2.063792e+08\n",
      "2020-12-08  2.3305       2.6811    -0.3506  57.1268  2.066415e+08\n"
     ]
    },
    {
     "name": "stderr",
     "output_type": "stream",
     "text": [
      "\n",
      "\n",
      " 89%|████████▉ | 449/505 [29:06<05:30,  5.90s/it]\u001b[A\u001b[A"
     ]
    },
    {
     "name": "stdout",
     "output_type": "stream",
     "text": [
      "Stock: TSS\n",
      "            macd_hist    macd  macd_signal      rsi   chaikin_a/d\n",
      "date                                                             \n",
      "2019-09-16    -0.0913  1.5937       1.6851  52.7733  2.568706e+08\n",
      "2019-09-17    -0.2788  1.3365       1.6154  49.8944  2.532950e+08\n"
     ]
    },
    {
     "name": "stderr",
     "output_type": "stream",
     "text": [
      "\n",
      "\n",
      " 89%|████████▉ | 450/505 [29:12<05:12,  5.68s/it]\u001b[A\u001b[A"
     ]
    },
    {
     "name": "stdout",
     "output_type": "stream",
     "text": [
      "Stock: TSCO\n",
      "            macd_signal  macd_hist    macd      rsi   chaikin_a/d\n",
      "date                                                             \n",
      "2020-12-08      -0.6408     0.6127 -0.0281  51.2698  3.929826e+08\n",
      "2020-12-09      -0.5216     0.4770 -0.0446  49.4203  3.928948e+08\n"
     ]
    },
    {
     "name": "stderr",
     "output_type": "stream",
     "text": [
      "\n",
      "\n",
      " 89%|████████▉ | 451/505 [29:16<04:49,  5.37s/it]\u001b[A\u001b[A"
     ]
    },
    {
     "name": "stdout",
     "output_type": "stream",
     "text": [
      "Stock: TDG\n",
      "               macd  macd_hist  macd_signal      rsi   chaikin_a/d\n",
      "date                                                              \n",
      "2020-12-08  20.9992    -1.7761      22.7752  63.1195  9.719430e+07\n",
      "2020-12-09  19.6459    -2.5035      22.1494  59.8327  9.719597e+07\n"
     ]
    },
    {
     "name": "stderr",
     "output_type": "stream",
     "text": [
      "\n",
      "\n",
      " 90%|████████▉ | 452/505 [29:20<04:16,  4.84s/it]\u001b[A\u001b[A"
     ]
    },
    {
     "name": "stdout",
     "output_type": "stream",
     "text": [
      "Stock: TRIP\n",
      "            macd_signal    macd  macd_hist      rsi   chaikin_a/d\n",
      "date                                                             \n",
      "2020-12-08       1.8329  2.0079     0.1749  65.0151  1.641554e+07\n",
      "2020-12-09       1.8581  1.9587     0.1006  64.4571  1.513224e+07\n"
     ]
    },
    {
     "name": "stderr",
     "output_type": "stream",
     "text": [
      "\n",
      "\n",
      " 90%|████████▉ | 453/505 [29:22<03:34,  4.13s/it]\u001b[A\u001b[A"
     ]
    },
    {
     "name": "stdout",
     "output_type": "stream",
     "text": [
      "Stock: FOXA\n",
      "              macd  macd_hist  macd_signal      rsi   chaikin_a/d\n",
      "date                                                             \n",
      "2020-12-08  0.7611     0.0877       0.6734  55.6051 -1.789828e+07\n",
      "2020-12-09  0.7021     0.0230       0.6791  55.4856 -2.063795e+07\n"
     ]
    },
    {
     "name": "stderr",
     "output_type": "stream",
     "text": [
      "\n",
      "\n",
      " 90%|████████▉ | 454/505 [29:26<03:17,  3.87s/it]\u001b[A\u001b[A"
     ]
    },
    {
     "name": "stdout",
     "output_type": "stream",
     "text": [
      "Stock: FOX\n",
      "            macd_signal    macd  macd_hist      rsi  chaikin_a/d\n",
      "date                                                            \n",
      "2020-12-08       0.5834  0.6882     0.1048  55.6373  817925.5276\n",
      "2020-12-09       0.5924  0.6285     0.0360  54.3328   76487.9414\n"
     ]
    },
    {
     "name": "stderr",
     "output_type": "stream",
     "text": [
      "\n",
      "\n",
      " 90%|█████████ | 455/505 [29:31<03:39,  4.39s/it]\u001b[A\u001b[A"
     ]
    },
    {
     "name": "stdout",
     "output_type": "stream",
     "text": [
      "Stock: TSN\n",
      "            macd_signal    macd  macd_hist      rsi   chaikin_a/d\n",
      "date                                                             \n",
      "2020-12-08       1.9595  2.4588     0.4993  66.6971  4.858463e+08\n",
      "2020-12-09       2.0671  2.4973     0.4302  68.4197  4.874243e+08\n"
     ]
    },
    {
     "name": "stderr",
     "output_type": "stream",
     "text": [
      "\n",
      "\n",
      " 90%|█████████ | 456/505 [29:36<03:37,  4.44s/it]\u001b[A\u001b[A"
     ]
    },
    {
     "name": "stdout",
     "output_type": "stream",
     "text": [
      "Stock: USB\n",
      "              macd  macd_hist  macd_signal      rsi   chaikin_a/d\n",
      "date                                                             \n",
      "2020-12-08  1.1760    -0.0648       1.2408  59.7586  1.921407e+09\n",
      "2020-12-09  1.2073    -0.0268       1.2341  63.1048  1.924423e+09\n"
     ]
    },
    {
     "name": "stderr",
     "output_type": "stream",
     "text": [
      "\n",
      "\n",
      " 90%|█████████ | 457/505 [29:41<03:48,  4.75s/it]\u001b[A\u001b[A"
     ]
    },
    {
     "name": "stdout",
     "output_type": "stream",
     "text": [
      "Stock: UDR\n",
      "            macd_signal  macd_hist    macd      rsi   chaikin_a/d\n",
      "date                                                             \n",
      "2020-12-08       1.3697    -0.0723  1.2973  61.4890  5.207076e+08\n",
      "2020-12-09       1.3366    -0.1323  1.2043  57.7334  5.192958e+08\n"
     ]
    },
    {
     "name": "stderr",
     "output_type": "stream",
     "text": [
      "\n",
      "\n",
      " 91%|█████████ | 458/505 [29:45<03:33,  4.55s/it]\u001b[A\u001b[A"
     ]
    },
    {
     "name": "stdout",
     "output_type": "stream",
     "text": [
      "Stock: ULTA\n",
      "               macd  macd_signal  macd_hist      rsi   chaikin_a/d\n",
      "date                                                              \n",
      "2020-12-08  10.4569      12.2689    -1.8120  55.2003  5.913899e+07\n",
      "2020-12-09   9.6879      11.7527    -2.0648  57.3486  5.967686e+07\n"
     ]
    },
    {
     "name": "stderr",
     "output_type": "stream",
     "text": [
      "\n",
      "\n",
      " 91%|█████████ | 459/505 [29:49<03:22,  4.41s/it]\u001b[A\u001b[A"
     ]
    },
    {
     "name": "stdout",
     "output_type": "stream",
     "text": [
      "Stock: UAA\n",
      "            macd_signal  macd_hist    macd      rsi   chaikin_a/d\n",
      "date                                                             \n",
      "2020-12-08       0.7957    -0.0434  0.7523  68.1941  7.771992e+07\n",
      "2020-12-09       0.7904    -0.0212  0.7693  70.7272  7.665585e+07\n"
     ]
    },
    {
     "name": "stderr",
     "output_type": "stream",
     "text": [
      "\n",
      "\n",
      " 91%|█████████ | 460/505 [29:53<03:03,  4.07s/it]\u001b[A\u001b[A"
     ]
    },
    {
     "name": "stdout",
     "output_type": "stream",
     "text": [
      "Stock: UA\n",
      "              macd  macd_signal  macd_hist      rsi   chaikin_a/d\n",
      "date                                                             \n",
      "2020-12-08  0.6768       0.7153    -0.0384  69.1347 -7.677834e+07\n",
      "2020-12-09  0.6831       0.7089    -0.0257  70.7445 -7.820191e+07\n"
     ]
    },
    {
     "name": "stderr",
     "output_type": "stream",
     "text": [
      "\n",
      "\n",
      " 91%|█████████▏| 461/505 [30:00<03:46,  5.15s/it]\u001b[A\u001b[A"
     ]
    },
    {
     "name": "stdout",
     "output_type": "stream",
     "text": [
      "Stock: UNP\n",
      "            macd_hist  macd_signal    macd      rsi   chaikin_a/d\n",
      "date                                                             \n",
      "2020-12-08    -0.1956       2.8538  2.6582  57.6954  1.121323e+09\n",
      "2020-12-09    -0.1877       2.8069  2.6192  58.7268  1.121843e+09\n"
     ]
    },
    {
     "name": "stderr",
     "output_type": "stream",
     "text": [
      "\n",
      "\n",
      " 91%|█████████▏| 462/505 [30:05<03:28,  4.85s/it]\u001b[A\u001b[A"
     ]
    },
    {
     "name": "stdout",
     "output_type": "stream",
     "text": [
      "Stock: UAL\n",
      "            macd_signal    macd  macd_hist      rsi   chaikin_a/d\n",
      "date                                                             \n",
      "2020-12-08       2.6851  3.2289     0.5438  71.6598  6.932078e+07\n",
      "2020-12-09       2.7746  3.1326     0.3580  66.8971  6.402245e+07\n"
     ]
    },
    {
     "name": "stderr",
     "output_type": "stream",
     "text": [
      "\n",
      "\n",
      " 92%|█████████▏| 463/505 [30:09<03:24,  4.88s/it]\u001b[A\u001b[A"
     ]
    },
    {
     "name": "stdout",
     "output_type": "stream",
     "text": [
      "Stock: UNH\n",
      "            macd_hist    macd  macd_signal      rsi   chaikin_a/d\n",
      "date                                                             \n",
      "2020-12-08     0.1138  4.1768       4.0629  59.2941  3.578504e+08\n",
      "2020-12-09    -0.1130  3.9217       4.0347  55.1911  3.571687e+08\n"
     ]
    },
    {
     "name": "stderr",
     "output_type": "stream",
     "text": [
      "\n",
      "\n",
      " 92%|█████████▏| 464/505 [30:14<03:20,  4.88s/it]\u001b[A\u001b[A"
     ]
    },
    {
     "name": "stdout",
     "output_type": "stream",
     "text": [
      "Stock: UPS\n",
      "            macd_signal    macd  macd_hist      rsi   chaikin_a/d\n",
      "date                                                             \n",
      "2020-12-08       0.7627  0.5697    -0.1929  48.7168  7.633967e+08\n",
      "2020-12-09       0.7395  0.6466    -0.0929  53.6109  7.650564e+08\n"
     ]
    },
    {
     "name": "stderr",
     "output_type": "stream",
     "text": [
      "\n",
      "\n",
      " 92%|█████████▏| 465/505 [30:19<03:14,  4.86s/it]\u001b[A\u001b[A"
     ]
    },
    {
     "name": "stdout",
     "output_type": "stream",
     "text": [
      "Stock: URI\n",
      "            macd_signal  macd_hist     macd      rsi   chaikin_a/d\n",
      "date                                                              \n",
      "2020-12-08      11.5126     1.0954  12.6079  66.5878  2.399627e+07\n",
      "2020-12-09      11.7541     0.9661  12.7201  68.3237  2.398410e+07\n"
     ]
    },
    {
     "name": "stderr",
     "output_type": "stream",
     "text": [
      "\n",
      "\n",
      " 92%|█████████▏| 466/505 [30:25<03:24,  5.24s/it]\u001b[A\u001b[A"
     ]
    },
    {
     "name": "stdout",
     "output_type": "stream",
     "text": [
      "Stock: UTX\n",
      "              macd  macd_hist  macd_signal     rsi   chaikin_a/d\n",
      "date                                                            \n",
      "2020-12-07  3.2118    -0.0450       3.2569  63.957  4.759330e+08\n",
      "2020-12-08  3.1951    -0.0494       3.2445  66.779  4.801456e+08\n"
     ]
    },
    {
     "name": "stderr",
     "output_type": "stream",
     "text": [
      "\n",
      "\n",
      " 92%|█████████▏| 467/505 [30:31<03:21,  5.31s/it]\u001b[A\u001b[A"
     ]
    },
    {
     "name": "stdout",
     "output_type": "stream",
     "text": [
      "Stock: UHS\n",
      "            macd_hist    macd  macd_signal      rsi   chaikin_a/d\n",
      "date                                                             \n",
      "2020-12-08    -0.6795  3.5792       4.2587  58.4285  1.912136e+08\n",
      "2020-12-09    -0.6168  3.4877       4.1045  60.1707  1.914116e+08\n"
     ]
    },
    {
     "name": "stderr",
     "output_type": "stream",
     "text": [
      "\n",
      "\n",
      " 93%|█████████▎| 468/505 [30:36<03:16,  5.31s/it]\u001b[A\u001b[A"
     ]
    },
    {
     "name": "stdout",
     "output_type": "stream",
     "text": [
      "Stock: UNM\n",
      "              macd  macd_hist  macd_signal      rsi   chaikin_a/d\n",
      "date                                                             \n",
      "2020-12-08  1.1517     0.0443       1.1074  62.6159  2.913216e+08\n",
      "2020-12-09  1.1250     0.0141       1.1109  63.0139  2.907703e+08\n"
     ]
    },
    {
     "name": "stderr",
     "output_type": "stream",
     "text": [
      "\n",
      "\n",
      " 93%|█████████▎| 469/505 [30:41<03:11,  5.32s/it]\u001b[A\u001b[A"
     ]
    },
    {
     "name": "stdout",
     "output_type": "stream",
     "text": [
      "Stock: VFC\n",
      "            macd_hist    macd  macd_signal      rsi   chaikin_a/d\n",
      "date                                                             \n",
      "2020-12-08     0.0956  3.4270       3.3315  66.9347  6.226771e+08\n",
      "2020-12-09    -0.0013  3.3299       3.3312  63.3329  6.214109e+08\n"
     ]
    },
    {
     "name": "stderr",
     "output_type": "stream",
     "text": [
      "\n",
      "\n",
      " 93%|█████████▎| 470/505 [30:46<03:02,  5.21s/it]\u001b[A\u001b[A"
     ]
    },
    {
     "name": "stdout",
     "output_type": "stream",
     "text": [
      "Stock: VLO\n",
      "            macd_hist    macd  macd_signal      rsi   chaikin_a/d\n",
      "date                                                             \n",
      "2020-12-08     0.2710  3.9554       3.6844  63.7403  1.031684e+09\n",
      "2020-12-09     0.1245  3.8401       3.7156  63.2641  1.029963e+09\n"
     ]
    },
    {
     "name": "stderr",
     "output_type": "stream",
     "text": [
      "\n",
      "\n",
      " 93%|█████████▎| 471/505 [30:52<03:02,  5.38s/it]\u001b[A\u001b[A"
     ]
    },
    {
     "name": "stdout",
     "output_type": "stream",
     "text": [
      "Stock: VAR\n",
      "              macd  macd_signal  macd_hist      rsi   chaikin_a/d\n",
      "date                                                             \n",
      "2020-12-08  0.4918       0.4642     0.0276  67.2365  2.312214e+08\n",
      "2020-12-09  0.4889       0.4691     0.0198  67.6002  2.314555e+08\n"
     ]
    },
    {
     "name": "stderr",
     "output_type": "stream",
     "text": [
      "\n",
      "\n",
      " 93%|█████████▎| 472/505 [30:57<02:57,  5.37s/it]\u001b[A\u001b[A"
     ]
    },
    {
     "name": "stdout",
     "output_type": "stream",
     "text": [
      "Stock: VTR\n",
      "            macd_signal  macd_hist    macd      rsi   chaikin_a/d\n",
      "date                                                             \n",
      "2020-12-08       1.3913    -0.1814  1.2100  58.2687  4.815737e+08\n",
      "2020-12-09       1.3521    -0.1568  1.1954  59.8065  4.825622e+08\n"
     ]
    },
    {
     "name": "stderr",
     "output_type": "stream",
     "text": [
      "\n",
      "\n",
      " 94%|█████████▎| 473/505 [31:03<02:57,  5.54s/it]\u001b[A\u001b[A"
     ]
    },
    {
     "name": "stdout",
     "output_type": "stream",
     "text": [
      "Stock: VRSN\n",
      "            macd_signal    macd  macd_hist      rsi   chaikin_a/d\n",
      "date                                                             \n",
      "2020-12-08      -0.1104  1.0201     1.1305  63.2917  3.672767e+08\n",
      "2020-12-09       0.1424  1.1535     1.0111  57.0955  3.668856e+08\n"
     ]
    },
    {
     "name": "stderr",
     "output_type": "stream",
     "text": [
      "\n",
      "\n",
      " 94%|█████████▍| 474/505 [31:07<02:37,  5.09s/it]\u001b[A\u001b[A"
     ]
    },
    {
     "name": "stdout",
     "output_type": "stream",
     "text": [
      "Stock: VRSK\n",
      "              macd  macd_signal  macd_hist      rsi   chaikin_a/d\n",
      "date                                                             \n",
      "2020-12-08  0.7324       1.8544    -1.1219  48.4683  1.284817e+08\n",
      "2020-12-09  0.4243       1.5684    -1.1441  46.0328  1.283708e+08\n"
     ]
    },
    {
     "name": "stderr",
     "output_type": "stream",
     "text": [
      "\n",
      "\n",
      " 94%|█████████▍| 475/505 [31:13<02:36,  5.21s/it]\u001b[A\u001b[A"
     ]
    },
    {
     "name": "stdout",
     "output_type": "stream",
     "text": [
      "Stock: VZ\n",
      "            macd_signal    macd  macd_hist      rsi   chaikin_a/d\n",
      "date                                                             \n",
      "2020-12-08       0.6213  0.6585     0.0372  63.9983  2.078181e+09\n",
      "2020-12-09       0.6268  0.6488     0.0220  64.0838  2.078376e+09\n"
     ]
    },
    {
     "name": "stderr",
     "output_type": "stream",
     "text": [
      "\n",
      "\n",
      " 94%|█████████▍| 476/505 [31:19<02:35,  5.36s/it]\u001b[A\u001b[A"
     ]
    },
    {
     "name": "stdout",
     "output_type": "stream",
     "text": [
      "Stock: VRTX\n",
      "            macd_hist  macd_signal    macd      rsi   chaikin_a/d\n",
      "date                                                             \n",
      "2020-12-08     1.8644      -1.1876  0.6767  56.1776  4.126560e+08\n",
      "2020-12-09     1.3886      -0.8405  0.5481  49.4878  4.119650e+08\n"
     ]
    },
    {
     "name": "stderr",
     "output_type": "stream",
     "text": [
      "\n",
      "\n",
      " 94%|█████████▍| 477/505 [31:24<02:32,  5.44s/it]\u001b[A\u001b[A"
     ]
    },
    {
     "name": "stdout",
     "output_type": "stream",
     "text": [
      "Stock: VIAB\n",
      "            macd_signal    macd  macd_hist      rsi   chaikin_a/d\n",
      "date                                                             \n",
      "2019-12-03       0.2312  0.3159     0.0847  53.0555  9.432557e+07\n",
      "2019-12-04       0.2540  0.3452     0.0912  60.7891  9.741664e+07\n"
     ]
    },
    {
     "name": "stderr",
     "output_type": "stream",
     "text": [
      "\n",
      "\n",
      " 95%|█████████▍| 478/505 [31:29<02:22,  5.27s/it]\u001b[A\u001b[A"
     ]
    },
    {
     "name": "stdout",
     "output_type": "stream",
     "text": [
      "Stock: V\n",
      "              macd  macd_signal  macd_hist      rsi   chaikin_a/d\n",
      "date                                                             \n",
      "2020-12-08  2.9653       2.9677    -0.0024  60.2308  8.095344e+08\n",
      "2020-12-09  2.6850       2.9111    -0.2262  53.9083  8.053457e+08\n"
     ]
    },
    {
     "name": "stderr",
     "output_type": "stream",
     "text": [
      "\n",
      "\n",
      " 95%|█████████▍| 479/505 [31:35<02:19,  5.35s/it]\u001b[A\u001b[A"
     ]
    },
    {
     "name": "stdout",
     "output_type": "stream",
     "text": [
      "Stock: VNO\n",
      "            macd_hist    macd  macd_signal      rsi   chaikin_a/d\n",
      "date                                                             \n",
      "2020-12-08    -0.1615  1.4522       1.6137  56.0016  4.092318e+08\n",
      "2020-12-09    -0.2335  1.3218       1.5553  54.5753  4.091105e+08\n"
     ]
    },
    {
     "name": "stderr",
     "output_type": "stream",
     "text": [
      "\n",
      "\n",
      " 95%|█████████▌| 480/505 [31:40<02:16,  5.47s/it]\u001b[A\u001b[A"
     ]
    },
    {
     "name": "stdout",
     "output_type": "stream",
     "text": [
      "Stock: VMC\n",
      "              macd  macd_signal  macd_hist      rsi   chaikin_a/d\n",
      "date                                                             \n",
      "2020-12-08  1.1827       0.7324     0.4503  54.1160  6.657321e+07\n",
      "2020-12-09  0.9713       0.7802     0.1911  49.5356  6.630032e+07\n"
     ]
    },
    {
     "name": "stderr",
     "output_type": "stream",
     "text": [
      "\n",
      "\n",
      " 95%|█████████▌| 481/505 [31:54<03:06,  7.77s/it]\u001b[A\u001b[A"
     ]
    },
    {
     "name": "stdout",
     "output_type": "stream",
     "text": [
      "Stock: WMT\n",
      "              macd  macd_signal  macd_hist      rsi   chaikin_a/d\n",
      "date                                                             \n",
      "2020-12-08  1.3556       1.9385     -0.583  53.4394 -8.318048e+08\n",
      "2020-12-09  1.1310       1.7770     -0.646  49.7581 -8.358970e+08\n"
     ]
    },
    {
     "name": "stderr",
     "output_type": "stream",
     "text": [
      "\n",
      "\n",
      " 95%|█████████▌| 482/505 [32:01<02:53,  7.56s/it]\u001b[A\u001b[A"
     ]
    },
    {
     "name": "stdout",
     "output_type": "stream",
     "text": [
      "Stock: WBA\n",
      "            macd_signal  macd_hist    macd      rsi   chaikin_a/d\n",
      "date                                                             \n",
      "2020-12-08       0.8581     0.3081  1.1661  59.6558  3.752898e+08\n",
      "2020-12-09       0.9201     0.2482  1.1683  58.6805  3.724998e+08\n"
     ]
    },
    {
     "name": "stderr",
     "output_type": "stream",
     "text": [
      "\n",
      "\n",
      " 96%|█████████▌| 483/505 [32:10<02:57,  8.06s/it]\u001b[A\u001b[A"
     ]
    },
    {
     "name": "stdout",
     "output_type": "stream",
     "text": [
      "Stock: WM\n",
      "              macd  macd_signal  macd_hist      rsi   chaikin_a/d\n",
      "date                                                             \n",
      "2020-12-08  0.2467       0.8299    -0.5831  46.1265  3.811415e+08\n",
      "2020-12-09  0.1222       0.6883    -0.5662  45.4349  3.813910e+08\n"
     ]
    },
    {
     "name": "stderr",
     "output_type": "stream",
     "text": [
      "\n",
      "\n",
      " 96%|█████████▌| 484/505 [32:18<02:51,  8.17s/it]\u001b[A\u001b[A"
     ]
    },
    {
     "name": "stdout",
     "output_type": "stream",
     "text": [
      "Stock: WAT\n",
      "            macd_signal    macd  macd_hist      rsi   chaikin_a/d\n",
      "date                                                             \n",
      "2020-12-08       4.3278  4.6942     0.3664  64.1684  1.897312e+08\n",
      "2020-12-09       4.4243  4.8105     0.3862  64.0023  1.898851e+08\n"
     ]
    },
    {
     "name": "stderr",
     "output_type": "stream",
     "text": [
      "\n",
      "\n",
      " 96%|█████████▌| 485/505 [32:26<02:39,  7.97s/it]\u001b[A\u001b[A"
     ]
    },
    {
     "name": "stdout",
     "output_type": "stream",
     "text": [
      "Stock: WEC\n",
      "            macd_hist  macd_signal    macd      rsi   chaikin_a/d\n",
      "date                                                             \n",
      "2020-12-08    -0.4415      -1.2564 -1.6979  33.9270  6.335886e+08\n",
      "2020-12-09    -0.4179      -1.3609 -1.7787  31.9889  6.333548e+08\n"
     ]
    },
    {
     "name": "stderr",
     "output_type": "stream",
     "text": [
      "\n",
      "\n",
      " 96%|█████████▌| 486/505 [32:33<02:25,  7.68s/it]\u001b[A\u001b[A"
     ]
    },
    {
     "name": "stdout",
     "output_type": "stream",
     "text": [
      "Stock: WFC\n",
      "            macd_signal  macd_hist    macd      rsi   chaikin_a/d\n",
      "date                                                             \n",
      "2020-12-08       1.3243     0.1946  1.5190  67.3004  7.399753e+08\n",
      "2020-12-09       1.3561     0.1271  1.4833  67.8011  7.523915e+08\n"
     ]
    },
    {
     "name": "stderr",
     "output_type": "stream",
     "text": [
      "\n",
      "\n",
      " 96%|█████████▋| 487/505 [32:39<02:12,  7.33s/it]\u001b[A\u001b[A"
     ]
    },
    {
     "name": "stdout",
     "output_type": "stream",
     "text": [
      "Stock: WELL\n",
      "              macd  macd_signal  macd_hist      rsi   chaikin_a/d\n",
      "date                                                             \n",
      "2020-12-08  1.4602       1.7451    -0.2849  57.0614  4.949849e+08\n",
      "2020-12-09  1.4239       1.6809    -0.2570  57.2375  4.945821e+08\n"
     ]
    },
    {
     "name": "stderr",
     "output_type": "stream",
     "text": [
      "\n",
      "\n",
      " 97%|█████████▋| 488/505 [32:46<02:02,  7.18s/it]\u001b[A\u001b[A"
     ]
    },
    {
     "name": "stdout",
     "output_type": "stream",
     "text": [
      "Stock: WDC\n",
      "            macd_hist    macd  macd_signal      rsi   chaikin_a/d\n",
      "date                                                             \n",
      "2020-12-08     0.7482  2.8933       2.1451  76.4546  4.718816e+08\n",
      "2020-12-09     0.6329  2.9363       2.3033  70.0060  4.690410e+08\n"
     ]
    },
    {
     "name": "stderr",
     "output_type": "stream",
     "text": [
      "\n",
      "\n",
      " 97%|█████████▋| 489/505 [32:53<01:52,  7.05s/it]\u001b[A\u001b[A"
     ]
    },
    {
     "name": "stdout",
     "output_type": "stream",
     "text": [
      "Stock: WU\n",
      "            macd_signal  macd_hist    macd      rsi   chaikin_a/d\n",
      "date                                                             \n",
      "2020-12-08       0.1792    -0.0193  0.1600  50.5965  2.071717e+08\n",
      "2020-12-09       0.1787    -0.0019  0.1769  56.0032  2.120488e+08\n"
     ]
    },
    {
     "name": "stderr",
     "output_type": "stream",
     "text": [
      "\n",
      "\n",
      " 97%|█████████▋| 490/505 [32:59<01:39,  6.64s/it]\u001b[A\u001b[A"
     ]
    },
    {
     "name": "stdout",
     "output_type": "stream",
     "text": [
      "Stock: WRK\n",
      "            macd_signal  macd_hist    macd      rsi   chaikin_a/d\n",
      "date                                                             \n",
      "2020-12-08       1.3618    -0.0063  1.3555  62.3498 -1.848566e+07\n",
      "2020-12-09       1.3610    -0.0033  1.3577  61.2243 -1.883770e+07\n"
     ]
    },
    {
     "name": "stderr",
     "output_type": "stream",
     "text": [
      "\n",
      "\n",
      " 97%|█████████▋| 491/505 [33:05<01:30,  6.43s/it]\u001b[A\u001b[A"
     ]
    },
    {
     "name": "stdout",
     "output_type": "stream",
     "text": [
      "Stock: WY\n",
      "            macd_hist    macd  macd_signal      rsi   chaikin_a/d\n",
      "date                                                             \n",
      "2020-12-08     0.2158  0.4486       0.2328  63.4918  4.960087e+08\n",
      "2020-12-09     0.2835  0.5872       0.3037  68.0746  5.016642e+08\n"
     ]
    },
    {
     "name": "stderr",
     "output_type": "stream",
     "text": [
      "\n",
      "\n",
      " 97%|█████████▋| 492/505 [33:12<01:29,  6.85s/it]\u001b[A\u001b[A"
     ]
    },
    {
     "name": "stdout",
     "output_type": "stream",
     "text": [
      "Stock: WHR\n",
      "            macd_hist  macd_signal    macd      rsi   chaikin_a/d\n",
      "date                                                             \n",
      "2020-12-08    -1.1506       0.3155 -0.8351  44.0647  5.344368e+07\n",
      "2020-12-09    -1.1707       0.0228 -1.1479  43.9584  5.287358e+07\n"
     ]
    },
    {
     "name": "stderr",
     "output_type": "stream",
     "text": [
      "\n",
      "\n",
      " 98%|█████████▊| 493/505 [33:20<01:24,  7.01s/it]\u001b[A\u001b[A"
     ]
    },
    {
     "name": "stdout",
     "output_type": "stream",
     "text": [
      "Stock: WMB\n",
      "            macd_signal    macd  macd_hist      rsi   chaikin_a/d\n",
      "date                                                             \n",
      "2020-12-08       0.4936  0.5946     0.1010  60.3102  8.465668e+08\n",
      "2020-12-09       0.5205  0.6283     0.1078  62.1165  8.407896e+08\n"
     ]
    },
    {
     "name": "stderr",
     "output_type": "stream",
     "text": [
      "\n",
      "\n",
      " 98%|█████████▊| 494/505 [33:26<01:13,  6.65s/it]\u001b[A\u001b[A"
     ]
    },
    {
     "name": "stdout",
     "output_type": "stream",
     "text": [
      "Stock: WLTW\n",
      "            macd_signal  macd_hist    macd      rsi   chaikin_a/d\n",
      "date                                                             \n",
      "2020-12-08       2.4027     0.4954  2.8981  55.9706  3.694316e+07\n",
      "2020-12-09       2.4255     0.0910  2.5164  51.1988  3.647925e+07\n"
     ]
    },
    {
     "name": "stderr",
     "output_type": "stream",
     "text": [
      "\n",
      "\n",
      " 98%|█████████▊| 495/505 [33:34<01:11,  7.16s/it]\u001b[A\u001b[A"
     ]
    },
    {
     "name": "stdout",
     "output_type": "stream",
     "text": [
      "Stock: WYN\n",
      "            macd_hist   macd  macd_signal      rsi   chaikin_a/d\n",
      "date                                                            \n",
      "2018-05-30     0.0910 -0.951      -1.0420  51.0251  2.010017e+08\n",
      "2018-05-31     0.0624 -0.964      -1.0264  44.1954  1.989785e+08\n"
     ]
    },
    {
     "name": "stderr",
     "output_type": "stream",
     "text": [
      "\n",
      "\n",
      " 98%|█████████▊| 496/505 [33:40<01:00,  6.73s/it]\u001b[A\u001b[A"
     ]
    },
    {
     "name": "stdout",
     "output_type": "stream",
     "text": [
      "Stock: WYNN\n",
      "              macd  macd_signal  macd_hist      rsi   chaikin_a/d\n",
      "date                                                             \n",
      "2020-12-08  7.5070       6.6958     0.8112  70.0474 -1.104667e+07\n",
      "2020-12-09  7.4628       6.8492     0.6136  69.7579 -1.132166e+07\n"
     ]
    },
    {
     "name": "stderr",
     "output_type": "stream",
     "text": [
      "\n",
      "\n",
      " 98%|█████████▊| 497/505 [33:48<00:56,  7.10s/it]\u001b[A\u001b[A"
     ]
    },
    {
     "name": "stdout",
     "output_type": "stream",
     "text": [
      "Stock: XEL\n",
      "              macd  macd_signal  macd_hist      rsi   chaikin_a/d\n",
      "date                                                             \n",
      "2020-12-08 -1.4404      -1.0564    -0.3840  33.5476  9.678249e+08\n",
      "2020-12-09 -1.5179      -1.1487    -0.3692  32.0276  9.674439e+08\n"
     ]
    },
    {
     "name": "stderr",
     "output_type": "stream",
     "text": [
      "\n",
      "\n",
      " 99%|█████████▊| 498/505 [33:54<00:49,  7.03s/it]\u001b[A\u001b[A"
     ]
    },
    {
     "name": "stdout",
     "output_type": "stream",
     "text": [
      "Stock: XRX\n",
      "            macd_hist    macd  macd_signal      rsi   chaikin_a/d\n",
      "date                                                             \n",
      "2020-12-08    -0.0454  0.7961       0.8415  59.0705  3.115208e+08\n",
      "2020-12-09    -0.0665  0.7584       0.8249  59.0705  3.116396e+08\n"
     ]
    },
    {
     "name": "stderr",
     "output_type": "stream",
     "text": [
      "\n",
      "\n",
      " 99%|█████████▉| 499/505 [34:04<00:46,  7.69s/it]\u001b[A\u001b[A"
     ]
    },
    {
     "name": "stdout",
     "output_type": "stream",
     "text": [
      "Stock: XLNX\n",
      "            macd_signal    macd  macd_hist      rsi   chaikin_a/d\n",
      "date                                                             \n",
      "2020-12-08       6.3531  6.9567     0.6036  68.3620  8.446252e+07\n",
      "2020-12-09       6.3604  6.3895     0.0291  59.3067  8.259472e+07\n"
     ]
    },
    {
     "name": "stderr",
     "output_type": "stream",
     "text": [
      "\n",
      "\n",
      " 99%|█████████▉| 500/505 [34:12<00:39,  7.96s/it]\u001b[A\u001b[A"
     ]
    },
    {
     "name": "stdout",
     "output_type": "stream",
     "text": [
      "Stock: XL\n",
      "            macd_signal    macd  macd_hist      rsi   chaikin_a/d\n",
      "date                                                             \n",
      "2018-09-12       0.2301  0.2445     0.0144  69.0363  2.663345e+08\n",
      "2018-09-13       0.2384  0.2715     0.0331  72.7868  2.663345e+08\n"
     ]
    },
    {
     "name": "stderr",
     "output_type": "stream",
     "text": [
      "\n",
      "\n",
      " 99%|█████████▉| 501/505 [34:18<00:28,  7.16s/it]\u001b[A\u001b[A"
     ]
    },
    {
     "name": "stdout",
     "output_type": "stream",
     "text": [
      "Stock: XYL\n",
      "            macd_signal    macd  macd_hist      rsi   chaikin_a/d\n",
      "date                                                             \n",
      "2020-12-08       1.9421  1.9581      0.016  63.2131  1.429548e+08\n",
      "2020-12-09       1.9432  1.9472      0.004  62.7849  1.429058e+08\n"
     ]
    },
    {
     "name": "stderr",
     "output_type": "stream",
     "text": [
      "\n",
      "\n",
      " 99%|█████████▉| 502/505 [34:24<00:20,  6.93s/it]\u001b[A\u001b[A"
     ]
    },
    {
     "name": "stdout",
     "output_type": "stream",
     "text": [
      "Stock: YUM\n",
      "              macd  macd_hist  macd_signal      rsi   chaikin_a/d\n",
      "date                                                             \n",
      "2020-12-08  1.8120    -0.3218       2.1338  57.7114  4.968340e+08\n",
      "2020-12-09  1.8003    -0.2668       2.0671  61.7742  4.976347e+08\n"
     ]
    },
    {
     "name": "stderr",
     "output_type": "stream",
     "text": [
      "\n",
      "\n",
      "100%|█████████▉| 503/505 [34:32<00:14,  7.20s/it]\u001b[A\u001b[A"
     ]
    },
    {
     "name": "stdout",
     "output_type": "stream",
     "text": [
      "Stock: ZBH\n",
      "            macd_signal  macd_hist    macd      rsi   chaikin_a/d\n",
      "date                                                             \n",
      "2020-12-08       1.5602    -0.5293  1.0309  50.6287  3.013875e+08\n",
      "2020-12-09       1.4368    -0.4934  0.9435  51.7551  3.020239e+08\n"
     ]
    },
    {
     "name": "stderr",
     "output_type": "stream",
     "text": [
      "\n",
      "\n",
      "100%|█████████▉| 504/505 [34:38<00:06,  6.97s/it]\u001b[A\u001b[A"
     ]
    },
    {
     "name": "stdout",
     "output_type": "stream",
     "text": [
      "Stock: ZION\n",
      "              macd  macd_hist  macd_signal      rsi   chaikin_a/d\n",
      "date                                                             \n",
      "2020-12-08  2.3331     0.1460       2.1871  64.1943  1.616833e+08\n",
      "2020-12-09  2.2835     0.0771       2.2064  63.1829  1.604453e+08\n"
     ]
    },
    {
     "name": "stderr",
     "output_type": "stream",
     "text": [
      "\n",
      "\n",
      "100%|██████████| 505/505 [34:45<00:00,  6.98s/it]\u001b[A\u001b[A"
     ]
    },
    {
     "name": "stdout",
     "output_type": "stream",
     "text": [
      "Stock: ZTS\n",
      "            macd_signal    macd  macd_hist      rsi   chaikin_a/d\n",
      "date                                                             \n",
      "2020-12-08      -0.8332 -1.4464    -0.6133  43.4434  2.355375e+08\n",
      "2020-12-09      -0.9592 -1.4635    -0.5043  42.8519  2.353030e+08\n"
     ]
    }
   ],
   "source": [
    "stocks_to_buy_ti, stocks_to_buy = identify_stocks_to_buy(ti, sp_500_symbols)"
   ]
  },
  {
   "cell_type": "code",
   "execution_count": null,
   "metadata": {},
   "outputs": [],
   "source": []
  }
 ],
 "metadata": {
  "kernelspec": {
   "display_name": "Python 3",
   "language": "python",
   "name": "python3"
  },
  "language_info": {
   "codemirror_mode": {
    "name": "ipython",
    "version": 3
   },
   "file_extension": ".py",
   "mimetype": "text/x-python",
   "name": "python",
   "nbconvert_exporter": "python",
   "pygments_lexer": "ipython3",
   "version": "3.6.9"
  }
 },
 "nbformat": 4,
 "nbformat_minor": 2
}
