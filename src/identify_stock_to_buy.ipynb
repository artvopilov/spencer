{
 "cells": [
  {
   "cell_type": "code",
   "execution_count": 1,
   "metadata": {},
   "outputs": [],
   "source": [
    "import os\n",
    "import time\n",
    "import importlib\n",
    "import tqdm\n",
    "\n",
    "import alpha_vantage\n",
    "from alpha_vantage.timeseries import TimeSeries\n",
    "from alpha_vantage.techindicators import TechIndicators\n",
    "\n",
    "import catboost\n",
    "from catboost import CatBoostClassifier\n",
    "import pandas as pd\n",
    "\n",
    "import common\n",
    "importlib.reload(common)\n",
    "from common import get_technical_indicators_to_predict"
   ]
  },
  {
   "cell_type": "markdown",
   "metadata": {},
   "source": [
    "# Prepare API"
   ]
  },
  {
   "cell_type": "code",
   "execution_count": 2,
   "metadata": {},
   "outputs": [],
   "source": [
    "key = 'W79HC61KBLPCXW6C'"
   ]
  },
  {
   "cell_type": "code",
   "execution_count": 3,
   "metadata": {},
   "outputs": [],
   "source": [
    "ti = TechIndicators(key, output_format='pandas')\n",
    "ts = TimeSeries(key, output_format='pandas')"
   ]
  },
  {
   "cell_type": "markdown",
   "metadata": {},
   "source": [
    "# Get S&P 500 companies' symbols"
   ]
  },
  {
   "cell_type": "code",
   "execution_count": 4,
   "metadata": {},
   "outputs": [],
   "source": [
    "with open('../sp_500_symbols.txt', 'r') as f:\n",
    "    sp_500_symbols = f.read().split('\\n')[:-1]"
   ]
  },
  {
   "cell_type": "code",
   "execution_count": 5,
   "metadata": {},
   "outputs": [
    {
     "name": "stdout",
     "output_type": "stream",
     "text": [
      "505\n",
      "['MMM', 'AOS', 'ABT', 'ABBV', 'ACN']\n"
     ]
    }
   ],
   "source": [
    "print(len(sp_500_symbols))\n",
    "print(sp_500_symbols[:5])"
   ]
  },
  {
   "cell_type": "code",
   "execution_count": 6,
   "metadata": {},
   "outputs": [
    {
     "name": "stdout",
     "output_type": "stream",
     "text": [
      "503\n"
     ]
    }
   ],
   "source": [
    "sp_500_symbols_filtered = list(filter(lambda x: x not in ['BF.B', 'CBS'], sp_500_symbols))\n",
    "print(len(sp_500_symbols_filtered))"
   ]
  },
  {
   "cell_type": "markdown",
   "metadata": {},
   "source": [
    "# Identify stocks to buy "
   ]
  },
  {
   "cell_type": "code",
   "execution_count": 7,
   "metadata": {},
   "outputs": [
    {
     "data": {
      "text/plain": [
       "<catboost.core.CatBoostClassifier at 0x7fd9efd411d0>"
      ]
     },
     "execution_count": 7,
     "metadata": {},
     "output_type": "execute_result"
    }
   ],
   "source": [
    "classifier = CatBoostClassifier()\n",
    "models_path = 'models'\n",
    "model_path = os.path.join(models_path, 'model_v4')\n",
    "classifier.load_model(model_path)"
   ]
  },
  {
   "cell_type": "code",
   "execution_count": 8,
   "metadata": {},
   "outputs": [],
   "source": [
    "tech_ind_df_offset = pd.read_csv(os.path.join(models_path, 'model_v4_offset'), header = None, \n",
    "                                 index_col = 0, squeeze = True).drop('target')\n",
    "tech_ind_df_scale = pd.read_csv(os.path.join(models_path, 'model_v4_scale'), header = None, \n",
    "                                index_col = 0, squeeze = True).drop('target')"
   ]
  },
  {
   "cell_type": "code",
   "execution_count": 9,
   "metadata": {},
   "outputs": [
    {
     "data": {
      "text/plain": [
       "0\n",
       "rsi_7         52.791121\n",
       "cci_7          9.330885\n",
       "slowk         55.274583\n",
       "aroon_down    44.287380\n",
       "cci_14        13.820388\n",
       "rsi_14        52.628647\n",
       "aroon_up      54.386452\n",
       "slowd         55.277047\n",
       "adx_7         33.577770\n",
       "dema_13       53.700543\n",
       "sma_26        53.387167\n",
       "mom_8          0.202034\n",
       "mom_15         0.377887\n",
       "mfi_7         52.502343\n",
       "adx_14        24.181494\n",
       "Name: 1, dtype: float64"
      ]
     },
     "execution_count": 9,
     "metadata": {},
     "output_type": "execute_result"
    }
   ],
   "source": [
    "tech_ind_df_offset"
   ]
  },
  {
   "cell_type": "code",
   "execution_count": 10,
   "metadata": {},
   "outputs": [
    {
     "data": {
      "text/plain": [
       "0\n",
       "rsi_7          16.665293\n",
       "cci_7         100.020979\n",
       "slowk          27.869879\n",
       "aroon_down     36.120299\n",
       "cci_14        108.348189\n",
       "rsi_14         11.872438\n",
       "aroon_up       36.382896\n",
       "slowd          27.033350\n",
       "adx_7          12.749709\n",
       "dema_13        96.847344\n",
       "sma_26         95.905038\n",
       "mom_8           5.749648\n",
       "mom_15          7.776611\n",
       "mfi_7          22.034706\n",
       "adx_14          9.557651\n",
       "Name: 1, dtype: float64"
      ]
     },
     "execution_count": 10,
     "metadata": {},
     "output_type": "execute_result"
    }
   ],
   "source": [
    "tech_ind_df_scale"
   ]
  },
  {
   "cell_type": "code",
   "execution_count": 11,
   "metadata": {},
   "outputs": [
    {
     "data": {
      "text/plain": [
       "['rsi_7',\n",
       " 'cci_7',\n",
       " 'slowk',\n",
       " 'aroon_down',\n",
       " 'cci_14',\n",
       " 'rsi_14',\n",
       " 'aroon_up',\n",
       " 'slowd',\n",
       " 'adx_7',\n",
       " 'dema_13',\n",
       " 'sma_26',\n",
       " 'mom_8',\n",
       " 'mom_15',\n",
       " 'mfi_7',\n",
       " 'adx_14']"
      ]
     },
     "execution_count": 11,
     "metadata": {},
     "output_type": "execute_result"
    }
   ],
   "source": [
    "classifier.feature_names_"
   ]
  },
  {
   "cell_type": "code",
   "execution_count": 12,
   "metadata": {},
   "outputs": [],
   "source": [
    "def identify_stocks_to_buy_with_model(ti, symbols, model, tech_ind_df_offset, tech_ind_df_scale):\n",
    "    should_process = True\n",
    "    first_stock_to_process = None\n",
    "#     first_stock_to_process = 'CBS'\n",
    "    \n",
    "    stocks_to_buy_ti = []\n",
    "    stocks_to_buy = []\n",
    "    predictions = []\n",
    "    for stock in tqdm.tqdm(symbols):\n",
    "        start = time.time()\n",
    "        print('Stock: {}'.format(stock))\n",
    "        \n",
    "        if not should_process or stock == 'BF.B':\n",
    "            if stock == first_stock_to_process:\n",
    "                should_process = True\n",
    "            print('Cannot process')\n",
    "            continue\n",
    "            \n",
    "        try:\n",
    "            tech_ind = get_technical_indicators_to_predict(ti, stock)\n",
    "        except:\n",
    "            print('Cannot process coz of API')\n",
    "            continue\n",
    "        data_x = (tech_ind.iloc[-1:] - tech_ind_df_offset) / tech_ind_df_scale\n",
    "#         print(data_x)\n",
    "        \n",
    "        pred = classifier.predict_proba(data_x)[0][1]\n",
    "        print('Prediction: {}'.format(pred))\n",
    "        \n",
    "        should_buy = True if pred > 0.9 else False\n",
    "        if should_buy:\n",
    "            stocks_to_buy_ti.append(data_x)\n",
    "            stocks_to_buy.append(stock)\n",
    "            predictions.append(pred)\n",
    "            \n",
    "        end = time.time()\n",
    "        process_time = end - start\n",
    "        print('Time: {}'.format(process_time))\n",
    "        time.sleep(max(31 - process_time, 1))  # API calls frequency restrictions\n",
    "        \n",
    "    return stocks_to_buy_ti, stocks_to_buy, predictions"
   ]
  },
  {
   "cell_type": "code",
   "execution_count": null,
   "metadata": {
    "scrolled": false
   },
   "outputs": [
    {
     "name": "stderr",
     "output_type": "stream",
     "text": [
      "\r",
      "  0%|          | 0/503 [00:00<?, ?it/s]"
     ]
    },
    {
     "name": "stdout",
     "output_type": "stream",
     "text": [
      "Stock: MMM\n",
      "Prediction: 0.9999281894148857\n",
      "Time: 18.08909559249878\n"
     ]
    },
    {
     "name": "stderr",
     "output_type": "stream",
     "text": [
      "\r",
      "  0%|          | 1/503 [00:31<4:19:28, 31.01s/it]"
     ]
    },
    {
     "name": "stdout",
     "output_type": "stream",
     "text": [
      "Stock: AOS\n",
      "Prediction: 2.1260268955806566e-05\n",
      "Time: 17.32096219062805\n"
     ]
    },
    {
     "name": "stderr",
     "output_type": "stream",
     "text": [
      "\r",
      "  0%|          | 2/503 [01:02<4:18:58, 31.01s/it]"
     ]
    },
    {
     "name": "stdout",
     "output_type": "stream",
     "text": [
      "Stock: ABT\n",
      "Prediction: 0.6762700349402165\n",
      "Time: 18.196187257766724\n"
     ]
    },
    {
     "name": "stderr",
     "output_type": "stream",
     "text": [
      "\r",
      "  1%|          | 3/503 [01:33<4:18:27, 31.01s/it]"
     ]
    },
    {
     "name": "stdout",
     "output_type": "stream",
     "text": [
      "Stock: ABBV\n",
      "Prediction: 0.000991631601341328\n",
      "Time: 15.299904823303223\n"
     ]
    },
    {
     "name": "stderr",
     "output_type": "stream",
     "text": [
      "\r",
      "  1%|          | 4/503 [02:04<4:17:55, 31.01s/it]"
     ]
    },
    {
     "name": "stdout",
     "output_type": "stream",
     "text": [
      "Stock: ACN\n",
      "Prediction: 0.4678385369238357\n",
      "Time: 18.768832445144653\n"
     ]
    },
    {
     "name": "stderr",
     "output_type": "stream",
     "text": [
      "\r",
      "  1%|          | 5/503 [02:35<4:17:24, 31.01s/it]"
     ]
    },
    {
     "name": "stdout",
     "output_type": "stream",
     "text": [
      "Stock: ATVI\n",
      "Prediction: 0.04564922510198955\n",
      "Time: 17.971877574920654\n"
     ]
    },
    {
     "name": "stderr",
     "output_type": "stream",
     "text": [
      "\r",
      "  1%|          | 6/503 [03:06<4:16:54, 31.01s/it]"
     ]
    },
    {
     "name": "stdout",
     "output_type": "stream",
     "text": [
      "Stock: AYI\n",
      "Prediction: 0.38410476927117415\n",
      "Time: 17.786844968795776\n"
     ]
    },
    {
     "name": "stderr",
     "output_type": "stream",
     "text": [
      "\r",
      "  1%|▏         | 7/503 [03:37<4:16:23, 31.01s/it]"
     ]
    },
    {
     "name": "stdout",
     "output_type": "stream",
     "text": [
      "Stock: ADBE\n",
      "Prediction: 0.6148595479550745\n",
      "Time: 17.976797103881836\n"
     ]
    },
    {
     "name": "stderr",
     "output_type": "stream",
     "text": [
      "\r",
      "  2%|▏         | 8/503 [04:08<4:15:52, 31.02s/it]"
     ]
    },
    {
     "name": "stdout",
     "output_type": "stream",
     "text": [
      "Stock: AAP\n",
      "Prediction: 0.002997285193990514\n",
      "Time: 17.940058708190918\n"
     ]
    },
    {
     "name": "stderr",
     "output_type": "stream",
     "text": [
      "\r",
      "  2%|▏         | 9/503 [04:39<4:15:21, 31.02s/it]"
     ]
    },
    {
     "name": "stdout",
     "output_type": "stream",
     "text": [
      "Stock: AMD\n",
      "Prediction: 0.8587000839697354\n",
      "Time: 17.637305736541748\n"
     ]
    },
    {
     "name": "stderr",
     "output_type": "stream",
     "text": [
      "\r",
      "  2%|▏         | 10/503 [05:10<4:14:50, 31.02s/it]"
     ]
    },
    {
     "name": "stdout",
     "output_type": "stream",
     "text": [
      "Stock: AES\n",
      "Prediction: 1.680218638492919e-05\n",
      "Time: 16.321987867355347\n"
     ]
    },
    {
     "name": "stderr",
     "output_type": "stream",
     "text": [
      "\r",
      "  2%|▏         | 11/503 [05:41<4:14:20, 31.02s/it]"
     ]
    },
    {
     "name": "stdout",
     "output_type": "stream",
     "text": [
      "Stock: AET\n",
      "Prediction: 0.8962683578163803\n",
      "Time: 18.64296793937683\n"
     ]
    },
    {
     "name": "stderr",
     "output_type": "stream",
     "text": [
      "\r",
      "  2%|▏         | 12/503 [06:12<4:13:48, 31.02s/it]"
     ]
    },
    {
     "name": "stdout",
     "output_type": "stream",
     "text": [
      "Stock: AMG\n",
      "Prediction: 0.9822706682526908\n",
      "Time: 16.144492864608765\n"
     ]
    },
    {
     "name": "stderr",
     "output_type": "stream",
     "text": [
      "\r",
      "  3%|▎         | 13/503 [06:43<4:13:18, 31.02s/it]"
     ]
    },
    {
     "name": "stdout",
     "output_type": "stream",
     "text": [
      "Stock: AFL\n",
      "Prediction: 0.4196418140098576\n",
      "Time: 15.422943353652954\n"
     ]
    },
    {
     "name": "stderr",
     "output_type": "stream",
     "text": [
      "\r",
      "  3%|▎         | 14/503 [07:14<4:12:47, 31.02s/it]"
     ]
    },
    {
     "name": "stdout",
     "output_type": "stream",
     "text": [
      "Stock: A\n",
      "Prediction: 0.003309741809603256\n",
      "Time: 18.97693657875061\n"
     ]
    },
    {
     "name": "stderr",
     "output_type": "stream",
     "text": [
      "\r",
      "  3%|▎         | 15/503 [07:45<4:12:16, 31.02s/it]"
     ]
    },
    {
     "name": "stdout",
     "output_type": "stream",
     "text": [
      "Stock: APD\n",
      "Prediction: 0.030995379711578817\n",
      "Time: 18.958450078964233\n"
     ]
    },
    {
     "name": "stderr",
     "output_type": "stream",
     "text": [
      "\r",
      "  3%|▎         | 16/503 [08:16<4:11:44, 31.02s/it]"
     ]
    },
    {
     "name": "stdout",
     "output_type": "stream",
     "text": [
      "Stock: AKAM\n",
      "Prediction: 0.9998359825697031\n",
      "Time: 16.975314140319824\n"
     ]
    },
    {
     "name": "stderr",
     "output_type": "stream",
     "text": [
      "\r",
      "  3%|▎         | 17/503 [08:47<4:11:13, 31.02s/it]"
     ]
    },
    {
     "name": "stdout",
     "output_type": "stream",
     "text": [
      "Stock: ALK\n",
      "Prediction: 0.04161877722492525\n",
      "Time: 16.715471744537354\n"
     ]
    },
    {
     "name": "stderr",
     "output_type": "stream",
     "text": [
      "\r",
      "  4%|▎         | 18/503 [09:18<4:10:42, 31.02s/it]"
     ]
    },
    {
     "name": "stdout",
     "output_type": "stream",
     "text": [
      "Stock: ALB\n",
      "Prediction: 0.4789467844128448\n",
      "Time: 17.675712823867798\n"
     ]
    },
    {
     "name": "stderr",
     "output_type": "stream",
     "text": [
      "\r",
      "  4%|▍         | 19/503 [09:49<4:10:11, 31.02s/it]"
     ]
    },
    {
     "name": "stdout",
     "output_type": "stream",
     "text": [
      "Stock: ARE\n",
      "Prediction: 0.537145402642058\n",
      "Time: 16.17422580718994\n"
     ]
    },
    {
     "name": "stderr",
     "output_type": "stream",
     "text": [
      "\r",
      "  4%|▍         | 20/503 [10:20<4:09:41, 31.02s/it]"
     ]
    },
    {
     "name": "stdout",
     "output_type": "stream",
     "text": [
      "Stock: ALXN\n",
      "Prediction: 0.8993244771759603\n",
      "Time: 16.55740451812744\n"
     ]
    },
    {
     "name": "stderr",
     "output_type": "stream",
     "text": [
      "\r",
      "  4%|▍         | 21/503 [10:51<4:09:10, 31.02s/it]"
     ]
    },
    {
     "name": "stdout",
     "output_type": "stream",
     "text": [
      "Stock: ALGN\n",
      "Prediction: 0.17424743281158286\n",
      "Time: 17.627124786376953\n"
     ]
    },
    {
     "name": "stderr",
     "output_type": "stream",
     "text": [
      "\r",
      "  4%|▍         | 22/503 [11:22<4:08:39, 31.02s/it]"
     ]
    },
    {
     "name": "stdout",
     "output_type": "stream",
     "text": [
      "Stock: ALLE\n"
     ]
    },
    {
     "name": "stderr",
     "output_type": "stream",
     "text": [
      "\r",
      "  5%|▍         | 23/503 [11:29<3:10:35, 23.82s/it]"
     ]
    },
    {
     "name": "stdout",
     "output_type": "stream",
     "text": [
      "Cannot process coz of API\n",
      "Stock: AGN\n"
     ]
    },
    {
     "name": "stderr",
     "output_type": "stream",
     "text": [
      "\r",
      "  5%|▍         | 24/503 [11:30<2:14:52, 16.89s/it]"
     ]
    },
    {
     "name": "stdout",
     "output_type": "stream",
     "text": [
      "Cannot process coz of API\n",
      "Stock: ADS\n"
     ]
    },
    {
     "name": "stderr",
     "output_type": "stream",
     "text": [
      "\r",
      "  5%|▍         | 25/503 [11:30<1:35:12, 11.95s/it]"
     ]
    },
    {
     "name": "stdout",
     "output_type": "stream",
     "text": [
      "Cannot process coz of API\n",
      "Stock: LNT\n",
      "Prediction: 0.11132476743235928\n",
      "Time: 17.107842683792114\n"
     ]
    },
    {
     "name": "stderr",
     "output_type": "stream",
     "text": [
      "\r",
      "  5%|▌         | 26/503 [12:01<2:20:29, 17.67s/it]"
     ]
    },
    {
     "name": "stdout",
     "output_type": "stream",
     "text": [
      "Stock: ALL\n",
      "Prediction: 0.0009420625806353372\n",
      "Time: 17.486918687820435\n"
     ]
    },
    {
     "name": "stderr",
     "output_type": "stream",
     "text": [
      "\r",
      "  5%|▌         | 27/503 [12:32<2:51:57, 21.67s/it]"
     ]
    },
    {
     "name": "stdout",
     "output_type": "stream",
     "text": [
      "Stock: GOOGL\n",
      "Prediction: 0.6742434883727767\n",
      "Time: 15.712848901748657\n"
     ]
    },
    {
     "name": "stderr",
     "output_type": "stream",
     "text": [
      "\r",
      "  6%|▌         | 28/503 [13:03<3:13:47, 24.48s/it]"
     ]
    },
    {
     "name": "stdout",
     "output_type": "stream",
     "text": [
      "Stock: GOOG\n",
      "Prediction: 0.7031555408022337\n",
      "Time: 13.243172645568848\n"
     ]
    },
    {
     "name": "stderr",
     "output_type": "stream",
     "text": [
      "\r",
      "  6%|▌         | 29/503 [13:34<3:28:52, 26.44s/it]"
     ]
    },
    {
     "name": "stdout",
     "output_type": "stream",
     "text": [
      "Stock: MO\n",
      "Prediction: 0.9471543730240573\n",
      "Time: 17.887190580368042\n"
     ]
    },
    {
     "name": "stderr",
     "output_type": "stream",
     "text": [
      "\r",
      "  6%|▌         | 30/503 [14:05<3:39:15, 27.81s/it]"
     ]
    },
    {
     "name": "stdout",
     "output_type": "stream",
     "text": [
      "Stock: AMZN\n",
      "Prediction: 0.2626500026106431\n",
      "Time: 16.906938791275024\n"
     ]
    },
    {
     "name": "stderr",
     "output_type": "stream",
     "text": [
      "\r",
      "  6%|▌         | 31/503 [14:36<3:46:21, 28.77s/it]"
     ]
    },
    {
     "name": "stdout",
     "output_type": "stream",
     "text": [
      "Stock: AEE\n",
      "Prediction: 0.8577974400199481\n",
      "Time: 17.332826852798462\n"
     ]
    },
    {
     "name": "stderr",
     "output_type": "stream",
     "text": [
      "\r",
      "  6%|▋         | 32/503 [15:07<3:51:09, 29.45s/it]"
     ]
    },
    {
     "name": "stdout",
     "output_type": "stream",
     "text": [
      "Stock: AAL\n",
      "Prediction: 0.2431297315991978\n",
      "Time: 15.067771911621094\n"
     ]
    },
    {
     "name": "stderr",
     "output_type": "stream",
     "text": [
      "\r",
      "  7%|▋         | 33/503 [15:38<3:54:21, 29.92s/it]"
     ]
    },
    {
     "name": "stdout",
     "output_type": "stream",
     "text": [
      "Stock: AEP\n",
      "Prediction: 0.05981712801594891\n",
      "Time: 18.059735536575317\n"
     ]
    },
    {
     "name": "stderr",
     "output_type": "stream",
     "text": [
      "\r",
      "  7%|▋         | 34/503 [16:09<3:56:26, 30.25s/it]"
     ]
    },
    {
     "name": "stdout",
     "output_type": "stream",
     "text": [
      "Stock: AXP\n",
      "Prediction: 0.012651184557469192\n",
      "Time: 17.67369556427002\n"
     ]
    },
    {
     "name": "stderr",
     "output_type": "stream",
     "text": [
      "\r",
      "  7%|▋         | 35/503 [16:40<3:57:43, 30.48s/it]"
     ]
    },
    {
     "name": "stdout",
     "output_type": "stream",
     "text": [
      "Stock: AIG\n",
      "Prediction: 0.1594043664297691\n",
      "Time: 20.529254913330078\n"
     ]
    },
    {
     "name": "stderr",
     "output_type": "stream",
     "text": [
      "\r",
      "  7%|▋         | 36/503 [17:11<3:58:28, 30.64s/it]"
     ]
    },
    {
     "name": "stdout",
     "output_type": "stream",
     "text": [
      "Stock: AMT\n",
      "Prediction: 0.9718141713133946\n",
      "Time: 17.46104073524475\n"
     ]
    },
    {
     "name": "stderr",
     "output_type": "stream",
     "text": [
      "\r",
      "  7%|▋         | 37/503 [17:42<3:58:50, 30.75s/it]"
     ]
    },
    {
     "name": "stdout",
     "output_type": "stream",
     "text": [
      "Stock: AWK\n",
      "Prediction: 0.017350384671417456\n",
      "Time: 15.535425424575806\n"
     ]
    },
    {
     "name": "stderr",
     "output_type": "stream",
     "text": [
      "\r",
      "  8%|▊         | 38/503 [18:13<3:58:56, 30.83s/it]"
     ]
    },
    {
     "name": "stdout",
     "output_type": "stream",
     "text": [
      "Stock: AMP\n",
      "Prediction: 0.4552372345701419\n",
      "Time: 16.47639560699463\n"
     ]
    },
    {
     "name": "stderr",
     "output_type": "stream",
     "text": [
      "\r",
      "  8%|▊         | 39/503 [18:44<3:58:51, 30.89s/it]"
     ]
    },
    {
     "name": "stdout",
     "output_type": "stream",
     "text": [
      "Stock: ABC\n",
      "Prediction: 0.9224619699962788\n",
      "Time: 17.095276832580566\n"
     ]
    },
    {
     "name": "stderr",
     "output_type": "stream",
     "text": [
      "\r",
      "  8%|▊         | 40/503 [19:15<3:58:38, 30.93s/it]"
     ]
    },
    {
     "name": "stdout",
     "output_type": "stream",
     "text": [
      "Stock: AME\n",
      "Prediction: 0.002435399342372345\n",
      "Time: 16.242193937301636\n"
     ]
    },
    {
     "name": "stderr",
     "output_type": "stream",
     "text": [
      "\r",
      "  8%|▊         | 41/503 [19:46<3:58:20, 30.95s/it]"
     ]
    },
    {
     "name": "stdout",
     "output_type": "stream",
     "text": [
      "Stock: AMGN\n",
      "Prediction: 0.9911518018410841\n",
      "Time: 18.555926084518433\n"
     ]
    },
    {
     "name": "stderr",
     "output_type": "stream",
     "text": [
      "\r",
      "  8%|▊         | 42/503 [20:17<3:57:58, 30.97s/it]"
     ]
    },
    {
     "name": "stdout",
     "output_type": "stream",
     "text": [
      "Stock: APH\n",
      "Prediction: 0.021121046504027977\n",
      "Time: 16.598435163497925\n"
     ]
    },
    {
     "name": "stderr",
     "output_type": "stream",
     "text": [
      "\r",
      "  9%|▊         | 43/503 [20:48<3:57:33, 30.99s/it]"
     ]
    },
    {
     "name": "stdout",
     "output_type": "stream",
     "text": [
      "Stock: APC\n",
      "Prediction: 0.9492968992873541\n",
      "Time: 18.34370470046997\n"
     ]
    },
    {
     "name": "stderr",
     "output_type": "stream",
     "text": [
      "\r",
      "  9%|▊         | 44/503 [21:19<3:57:06, 30.99s/it]"
     ]
    },
    {
     "name": "stdout",
     "output_type": "stream",
     "text": [
      "Stock: ADI\n",
      "Prediction: 0.43156601577640724\n",
      "Time: 17.56788730621338\n"
     ]
    },
    {
     "name": "stderr",
     "output_type": "stream",
     "text": [
      "\r",
      "  9%|▉         | 45/503 [21:50<3:56:38, 31.00s/it]"
     ]
    },
    {
     "name": "stdout",
     "output_type": "stream",
     "text": [
      "Stock: ANDV\n",
      "Prediction: 0.1201688949448486\n",
      "Time: 18.620964527130127\n"
     ]
    },
    {
     "name": "stderr",
     "output_type": "stream",
     "text": [
      "\r",
      "  9%|▉         | 46/503 [22:21<3:56:09, 31.01s/it]"
     ]
    },
    {
     "name": "stdout",
     "output_type": "stream",
     "text": [
      "Stock: ANSS\n",
      "Prediction: 0.343176199774579\n",
      "Time: 17.668092489242554\n"
     ]
    },
    {
     "name": "stderr",
     "output_type": "stream",
     "text": [
      "\r",
      "  9%|▉         | 47/503 [22:52<3:55:39, 31.01s/it]"
     ]
    },
    {
     "name": "stdout",
     "output_type": "stream",
     "text": [
      "Stock: ANTM\n",
      "Prediction: 0.038233982898177414\n",
      "Time: 17.42272138595581\n"
     ]
    },
    {
     "name": "stderr",
     "output_type": "stream",
     "text": [
      "\r",
      " 10%|▉         | 48/503 [23:23<3:55:09, 31.01s/it]"
     ]
    },
    {
     "name": "stdout",
     "output_type": "stream",
     "text": [
      "Stock: AON\n",
      "Prediction: 0.9249367695894963\n",
      "Time: 16.767585515975952\n"
     ]
    },
    {
     "name": "stderr",
     "output_type": "stream",
     "text": [
      "\r",
      " 10%|▉         | 49/503 [23:54<3:54:39, 31.01s/it]"
     ]
    },
    {
     "name": "stdout",
     "output_type": "stream",
     "text": [
      "Stock: APA\n",
      "Prediction: 0.04089092097164384\n",
      "Time: 17.865951776504517\n"
     ]
    },
    {
     "name": "stderr",
     "output_type": "stream",
     "text": [
      "\r",
      " 10%|▉         | 50/503 [24:25<3:54:09, 31.01s/it]"
     ]
    },
    {
     "name": "stdout",
     "output_type": "stream",
     "text": [
      "Stock: AIV\n",
      "Prediction: 0.00766975479768255\n",
      "Time: 17.93058943748474\n"
     ]
    },
    {
     "name": "stderr",
     "output_type": "stream",
     "text": [
      "\r",
      " 10%|█         | 51/503 [24:56<3:53:38, 31.01s/it]"
     ]
    },
    {
     "name": "stdout",
     "output_type": "stream",
     "text": [
      "Stock: AAPL\n",
      "Prediction: 0.6066996166228701\n",
      "Time: 17.359154224395752\n"
     ]
    },
    {
     "name": "stderr",
     "output_type": "stream",
     "text": [
      "\r",
      " 10%|█         | 52/503 [25:27<3:53:07, 31.02s/it]"
     ]
    },
    {
     "name": "stdout",
     "output_type": "stream",
     "text": [
      "Stock: AMAT\n",
      "Prediction: 0.015380109011093731\n",
      "Time: 16.104501247406006\n"
     ]
    },
    {
     "name": "stderr",
     "output_type": "stream",
     "text": [
      "\r",
      " 11%|█         | 53/503 [25:59<3:52:37, 31.02s/it]"
     ]
    },
    {
     "name": "stdout",
     "output_type": "stream",
     "text": [
      "Stock: APTV\n",
      "Prediction: 0.06060149032080127\n",
      "Time: 14.727708101272583\n"
     ]
    },
    {
     "name": "stderr",
     "output_type": "stream",
     "text": [
      "\r",
      " 11%|█         | 54/503 [26:30<3:52:06, 31.02s/it]"
     ]
    },
    {
     "name": "stdout",
     "output_type": "stream",
     "text": [
      "Stock: ADM\n",
      "Prediction: 0.02976604123406924\n",
      "Time: 17.825902938842773\n"
     ]
    },
    {
     "name": "stderr",
     "output_type": "stream",
     "text": [
      "\r",
      " 11%|█         | 55/503 [27:01<3:51:35, 31.02s/it]"
     ]
    },
    {
     "name": "stdout",
     "output_type": "stream",
     "text": [
      "Stock: ARNC\n",
      "Prediction: 0.05108618625778583\n",
      "Time: 8.20259141921997\n"
     ]
    },
    {
     "name": "stderr",
     "output_type": "stream",
     "text": [
      "\r",
      " 11%|█         | 56/503 [27:32<3:51:05, 31.02s/it]"
     ]
    },
    {
     "name": "stdout",
     "output_type": "stream",
     "text": [
      "Stock: AJG\n",
      "Prediction: 0.05754806041366014\n",
      "Time: 17.273568153381348\n"
     ]
    },
    {
     "name": "stderr",
     "output_type": "stream",
     "text": [
      "\r",
      " 11%|█▏        | 57/503 [28:03<3:50:33, 31.02s/it]"
     ]
    },
    {
     "name": "stdout",
     "output_type": "stream",
     "text": [
      "Stock: AIZ\n",
      "Prediction: 0.05177105837393956\n",
      "Time: 16.248332977294922\n"
     ]
    },
    {
     "name": "stderr",
     "output_type": "stream",
     "text": [
      "\r",
      " 12%|█▏        | 58/503 [28:34<3:50:02, 31.02s/it]"
     ]
    },
    {
     "name": "stdout",
     "output_type": "stream",
     "text": [
      "Stock: T\n",
      "Prediction: 0.9999537873629805\n",
      "Time: 17.315108060836792\n"
     ]
    },
    {
     "name": "stderr",
     "output_type": "stream",
     "text": [
      "\r",
      " 12%|█▏        | 59/503 [29:05<3:49:31, 31.02s/it]"
     ]
    },
    {
     "name": "stdout",
     "output_type": "stream",
     "text": [
      "Stock: ADSK\n",
      "Prediction: 0.1432359787389268\n",
      "Time: 17.650156497955322\n"
     ]
    },
    {
     "name": "stderr",
     "output_type": "stream",
     "text": [
      "\r",
      " 12%|█▏        | 60/503 [29:36<3:49:00, 31.02s/it]"
     ]
    },
    {
     "name": "stdout",
     "output_type": "stream",
     "text": [
      "Stock: ADP\n",
      "Prediction: 0.6989211197341855\n",
      "Time: 16.90262222290039\n"
     ]
    },
    {
     "name": "stderr",
     "output_type": "stream",
     "text": [
      "\r",
      " 12%|█▏        | 61/503 [30:07<3:48:29, 31.02s/it]"
     ]
    },
    {
     "name": "stdout",
     "output_type": "stream",
     "text": [
      "Stock: AZO\n",
      "Prediction: 0.010155786335444353\n",
      "Time: 17.64512014389038\n"
     ]
    },
    {
     "name": "stderr",
     "output_type": "stream",
     "text": [
      "\r",
      " 12%|█▏        | 62/503 [30:38<3:47:58, 31.02s/it]"
     ]
    },
    {
     "name": "stdout",
     "output_type": "stream",
     "text": [
      "Stock: AVB\n",
      "Prediction: 0.9914275179980299\n",
      "Time: 17.4514319896698\n"
     ]
    },
    {
     "name": "stderr",
     "output_type": "stream",
     "text": [
      "\r",
      " 13%|█▎        | 63/503 [31:09<3:47:27, 31.02s/it]"
     ]
    },
    {
     "name": "stdout",
     "output_type": "stream",
     "text": [
      "Stock: AVY\n",
      "Prediction: 0.06139486880917969\n",
      "Time: 17.973915100097656\n"
     ]
    },
    {
     "name": "stderr",
     "output_type": "stream",
     "text": [
      "\r",
      " 13%|█▎        | 64/503 [31:40<3:46:56, 31.02s/it]"
     ]
    },
    {
     "name": "stdout",
     "output_type": "stream",
     "text": [
      "Stock: BHGE\n",
      "Prediction: 0.002591873207569573\n",
      "Time: 12.042101383209229\n"
     ]
    },
    {
     "name": "stderr",
     "output_type": "stream",
     "text": [
      "\r",
      " 13%|█▎        | 65/503 [32:11<3:46:25, 31.02s/it]"
     ]
    },
    {
     "name": "stdout",
     "output_type": "stream",
     "text": [
      "Stock: BLL\n",
      "Prediction: 0.33441695710716624\n",
      "Time: 18.3201687335968\n"
     ]
    },
    {
     "name": "stderr",
     "output_type": "stream",
     "text": [
      "\r",
      " 13%|█▎        | 66/503 [32:42<3:45:54, 31.02s/it]"
     ]
    },
    {
     "name": "stdout",
     "output_type": "stream",
     "text": [
      "Stock: BAC\n",
      "Prediction: 0.054609291740112496\n",
      "Time: 19.63867449760437\n"
     ]
    },
    {
     "name": "stderr",
     "output_type": "stream",
     "text": [
      "\r",
      " 13%|█▎        | 67/503 [33:13<3:45:22, 31.02s/it]"
     ]
    },
    {
     "name": "stdout",
     "output_type": "stream",
     "text": [
      "Stock: BAX\n",
      "Prediction: 0.9986903123415314\n",
      "Time: 18.8325936794281\n"
     ]
    },
    {
     "name": "stderr",
     "output_type": "stream",
     "text": [
      "\r",
      " 14%|█▎        | 68/503 [33:44<3:44:51, 31.02s/it]"
     ]
    },
    {
     "name": "stdout",
     "output_type": "stream",
     "text": [
      "Stock: BBT\n",
      "Prediction: 0.04589633942913286\n",
      "Time: 16.543232679367065\n"
     ]
    },
    {
     "name": "stderr",
     "output_type": "stream",
     "text": [
      "\r",
      " 14%|█▎        | 69/503 [34:15<3:44:20, 31.02s/it]"
     ]
    },
    {
     "name": "stdout",
     "output_type": "stream",
     "text": [
      "Stock: BDX\n",
      "Prediction: 0.2959943142610324\n",
      "Time: 21.046604871749878\n"
     ]
    },
    {
     "name": "stderr",
     "output_type": "stream",
     "text": [
      "\r",
      " 14%|█▍        | 70/503 [34:46<3:43:49, 31.02s/it]"
     ]
    },
    {
     "name": "stdout",
     "output_type": "stream",
     "text": [
      "Stock: BRK.B\n",
      "Prediction: 0.020575025838056007\n",
      "Time: 16.230215549468994\n"
     ]
    },
    {
     "name": "stderr",
     "output_type": "stream",
     "text": [
      "\r",
      " 14%|█▍        | 71/503 [35:17<3:43:18, 31.02s/it]"
     ]
    },
    {
     "name": "stdout",
     "output_type": "stream",
     "text": [
      "Stock: BBY\n",
      "Prediction: 0.7319387012430086\n",
      "Time: 17.940301179885864\n"
     ]
    },
    {
     "name": "stderr",
     "output_type": "stream",
     "text": [
      "\r",
      " 14%|█▍        | 72/503 [35:48<3:42:47, 31.02s/it]"
     ]
    },
    {
     "name": "stdout",
     "output_type": "stream",
     "text": [
      "Stock: BIIB\n",
      "Prediction: 0.16280500142350512\n",
      "Time: 16.141867876052856\n"
     ]
    },
    {
     "name": "stderr",
     "output_type": "stream",
     "text": [
      "\r",
      " 15%|█▍        | 73/503 [36:19<3:42:17, 31.02s/it]"
     ]
    },
    {
     "name": "stdout",
     "output_type": "stream",
     "text": [
      "Stock: BLK\n",
      "Prediction: 0.03415767509760315\n",
      "Time: 21.032867431640625\n"
     ]
    },
    {
     "name": "stderr",
     "output_type": "stream",
     "text": [
      "\r",
      " 15%|█▍        | 74/503 [36:50<3:41:45, 31.02s/it]"
     ]
    },
    {
     "name": "stdout",
     "output_type": "stream",
     "text": [
      "Stock: HRB\n",
      "Prediction: 0.9999853100171219\n",
      "Time: 18.314516305923462\n"
     ]
    },
    {
     "name": "stderr",
     "output_type": "stream",
     "text": [
      "\r",
      " 15%|█▍        | 75/503 [37:21<3:41:14, 31.02s/it]"
     ]
    },
    {
     "name": "stdout",
     "output_type": "stream",
     "text": [
      "Stock: BA\n",
      "Prediction: 0.17566754713308505\n",
      "Time: 17.937902688980103\n"
     ]
    },
    {
     "name": "stderr",
     "output_type": "stream",
     "text": [
      "\r",
      " 15%|█▌        | 76/503 [37:52<3:40:43, 31.02s/it]"
     ]
    },
    {
     "name": "stdout",
     "output_type": "stream",
     "text": [
      "Stock: BKNG\n",
      "Prediction: 0.5598993330363483\n",
      "Time: 16.98375916481018\n"
     ]
    },
    {
     "name": "stderr",
     "output_type": "stream",
     "text": [
      "\r",
      " 15%|█▌        | 77/503 [38:23<3:40:12, 31.02s/it]"
     ]
    },
    {
     "name": "stdout",
     "output_type": "stream",
     "text": [
      "Stock: BWA\n",
      "Prediction: 0.7350880159499077\n",
      "Time: 26.52503204345703\n"
     ]
    },
    {
     "name": "stderr",
     "output_type": "stream",
     "text": [
      "\r",
      " 16%|█▌        | 78/503 [38:54<3:39:40, 31.01s/it]"
     ]
    },
    {
     "name": "stdout",
     "output_type": "stream",
     "text": [
      "Stock: BXP\n",
      "Prediction: 0.8371445308661584\n",
      "Time: 18.493237018585205\n"
     ]
    },
    {
     "name": "stderr",
     "output_type": "stream",
     "text": [
      "\r",
      " 16%|█▌        | 79/503 [39:25<3:39:09, 31.01s/it]"
     ]
    },
    {
     "name": "stdout",
     "output_type": "stream",
     "text": [
      "Stock: BSX\n",
      "Prediction: 0.3707225212343528\n",
      "Time: 17.681098461151123\n"
     ]
    },
    {
     "name": "stderr",
     "output_type": "stream",
     "text": [
      "\r",
      " 16%|█▌        | 80/503 [39:56<3:38:38, 31.01s/it]"
     ]
    },
    {
     "name": "stdout",
     "output_type": "stream",
     "text": [
      "Stock: BHF\n",
      "Prediction: 0.004407974320268823\n",
      "Time: 10.645738363265991\n"
     ]
    },
    {
     "name": "stderr",
     "output_type": "stream",
     "text": [
      "\r",
      " 16%|█▌        | 81/503 [40:27<3:38:08, 31.02s/it]"
     ]
    },
    {
     "name": "stdout",
     "output_type": "stream",
     "text": [
      "Stock: BMY\n",
      "Prediction: 0.008924668716332445\n",
      "Time: 18.938515186309814\n"
     ]
    },
    {
     "name": "stderr",
     "output_type": "stream",
     "text": [
      "\r",
      " 16%|█▋        | 82/503 [40:58<3:37:37, 31.02s/it]"
     ]
    },
    {
     "name": "stdout",
     "output_type": "stream",
     "text": [
      "Stock: AVGO\n",
      "Prediction: 0.6361754468141119\n",
      "Time: 14.72799277305603\n"
     ]
    },
    {
     "name": "stderr",
     "output_type": "stream",
     "text": [
      "\r",
      " 17%|█▋        | 83/503 [41:29<3:37:07, 31.02s/it]"
     ]
    },
    {
     "name": "stdout",
     "output_type": "stream",
     "text": [
      "Stock: CHRW\n",
      "Prediction: 0.004226831172405667\n",
      "Time: 16.12407612800598\n"
     ]
    },
    {
     "name": "stderr",
     "output_type": "stream",
     "text": [
      "\r",
      " 17%|█▋        | 84/503 [42:00<3:36:36, 31.02s/it]"
     ]
    },
    {
     "name": "stdout",
     "output_type": "stream",
     "text": [
      "Stock: CA\n",
      "Prediction: 0.33881114466782714\n",
      "Time: 16.08564305305481\n"
     ]
    },
    {
     "name": "stderr",
     "output_type": "stream",
     "text": [
      "\r",
      " 17%|█▋        | 85/503 [42:31<3:36:05, 31.02s/it]"
     ]
    },
    {
     "name": "stdout",
     "output_type": "stream",
     "text": [
      "Stock: COG\n",
      "Prediction: 0.044767551586172315\n",
      "Time: 17.227971076965332\n"
     ]
    },
    {
     "name": "stderr",
     "output_type": "stream",
     "text": [
      "\r",
      " 17%|█▋        | 86/503 [43:02<3:35:34, 31.02s/it]"
     ]
    },
    {
     "name": "stdout",
     "output_type": "stream",
     "text": [
      "Stock: CDNS\n",
      "Prediction: 0.025051798739634378\n",
      "Time: 17.098414182662964\n"
     ]
    },
    {
     "name": "stderr",
     "output_type": "stream",
     "text": [
      "\r",
      " 17%|█▋        | 87/503 [43:33<3:35:03, 31.02s/it]"
     ]
    },
    {
     "name": "stdout",
     "output_type": "stream",
     "text": [
      "Stock: CPB\n",
      "Prediction: 0.9998950144639965\n",
      "Time: 18.327033758163452\n"
     ]
    },
    {
     "name": "stderr",
     "output_type": "stream",
     "text": [
      "\r",
      " 17%|█▋        | 88/503 [44:04<3:34:31, 31.02s/it]"
     ]
    },
    {
     "name": "stdout",
     "output_type": "stream",
     "text": [
      "Stock: COF\n",
      "Prediction: 0.06471292369067533\n",
      "Time: 17.178240299224854\n"
     ]
    },
    {
     "name": "stderr",
     "output_type": "stream",
     "text": [
      "\r",
      " 18%|█▊        | 89/503 [44:35<3:34:00, 31.02s/it]"
     ]
    },
    {
     "name": "stdout",
     "output_type": "stream",
     "text": [
      "Stock: CAH\n",
      "Prediction: 0.8579339083583162\n",
      "Time: 16.897061347961426\n"
     ]
    },
    {
     "name": "stderr",
     "output_type": "stream",
     "text": [
      "\r",
      " 18%|█▊        | 90/503 [45:06<3:33:30, 31.02s/it]"
     ]
    },
    {
     "name": "stdout",
     "output_type": "stream",
     "text": [
      "Stock: KMX\n",
      "Prediction: 0.9248519232232789\n",
      "Time: 17.041022300720215\n"
     ]
    },
    {
     "name": "stderr",
     "output_type": "stream",
     "text": [
      "\r",
      " 18%|█▊        | 91/503 [45:37<3:32:59, 31.02s/it]"
     ]
    },
    {
     "name": "stdout",
     "output_type": "stream",
     "text": [
      "Stock: CCL\n",
      "Prediction: 0.0028921761647904077\n",
      "Time: 17.262786388397217\n"
     ]
    },
    {
     "name": "stderr",
     "output_type": "stream",
     "text": [
      "\r",
      " 18%|█▊        | 92/503 [46:08<3:32:27, 31.02s/it]"
     ]
    },
    {
     "name": "stdout",
     "output_type": "stream",
     "text": [
      "Stock: CAT\n",
      "Prediction: 0.015365861039231451\n",
      "Time: 16.625894784927368\n"
     ]
    },
    {
     "name": "stderr",
     "output_type": "stream",
     "text": [
      "\r",
      " 18%|█▊        | 93/503 [46:39<3:31:57, 31.02s/it]"
     ]
    },
    {
     "name": "stdout",
     "output_type": "stream",
     "text": [
      "Stock: CBOE\n",
      "Prediction: 0.3115373147754175\n",
      "Time: 14.019028663635254\n"
     ]
    },
    {
     "name": "stderr",
     "output_type": "stream",
     "text": [
      "\r",
      " 19%|█▊        | 94/503 [47:10<3:31:26, 31.02s/it]"
     ]
    },
    {
     "name": "stdout",
     "output_type": "stream",
     "text": [
      "Stock: CBRE\n",
      "Prediction: 6.140404520116777e-07\n",
      "Time: 15.65648603439331\n"
     ]
    },
    {
     "name": "stderr",
     "output_type": "stream",
     "text": [
      "\r",
      " 19%|█▉        | 95/503 [47:41<3:30:55, 31.02s/it]"
     ]
    },
    {
     "name": "stdout",
     "output_type": "stream",
     "text": [
      "Stock: CELG\n",
      "Prediction: 0.21711008434823145\n",
      "Time: 17.40516495704651\n"
     ]
    },
    {
     "name": "stderr",
     "output_type": "stream",
     "text": [
      "\r",
      " 19%|█▉        | 96/503 [48:12<3:30:24, 31.02s/it]"
     ]
    },
    {
     "name": "stdout",
     "output_type": "stream",
     "text": [
      "Stock: CNC\n",
      "Prediction: 0.009734181159554128\n",
      "Time: 16.045413970947266\n"
     ]
    },
    {
     "name": "stderr",
     "output_type": "stream",
     "text": [
      "\r",
      " 19%|█▉        | 97/503 [48:43<3:29:53, 31.02s/it]"
     ]
    },
    {
     "name": "stdout",
     "output_type": "stream",
     "text": [
      "Stock: CNP\n",
      "Prediction: 0.9952548833574955\n",
      "Time: 18.549509286880493\n"
     ]
    },
    {
     "name": "stderr",
     "output_type": "stream",
     "text": [
      "\r",
      " 19%|█▉        | 98/503 [49:14<3:29:21, 31.02s/it]"
     ]
    },
    {
     "name": "stdout",
     "output_type": "stream",
     "text": [
      "Stock: CTL\n",
      "Prediction: 0.9999974020155895\n",
      "Time: 16.893601417541504\n"
     ]
    },
    {
     "name": "stderr",
     "output_type": "stream",
     "text": [
      "\r",
      " 20%|█▉        | 99/503 [49:45<3:28:50, 31.02s/it]"
     ]
    },
    {
     "name": "stdout",
     "output_type": "stream",
     "text": [
      "Stock: CERN\n",
      "Prediction: 0.9880337261423604\n",
      "Time: 17.954248428344727\n"
     ]
    },
    {
     "name": "stderr",
     "output_type": "stream",
     "text": [
      "\r",
      " 20%|█▉        | 100/503 [50:16<3:28:19, 31.02s/it]"
     ]
    },
    {
     "name": "stdout",
     "output_type": "stream",
     "text": [
      "Stock: CF\n",
      "Prediction: 0.0011900924661097806\n",
      "Time: 15.74156641960144\n"
     ]
    },
    {
     "name": "stderr",
     "output_type": "stream",
     "text": [
      "\r",
      " 20%|██        | 101/503 [50:47<3:27:48, 31.02s/it]"
     ]
    },
    {
     "name": "stdout",
     "output_type": "stream",
     "text": [
      "Stock: SCHW\n",
      "Prediction: 0.004299345320018304\n",
      "Time: 17.28273916244507\n"
     ]
    },
    {
     "name": "stderr",
     "output_type": "stream",
     "text": [
      "\r",
      " 20%|██        | 102/503 [51:18<3:27:17, 31.02s/it]"
     ]
    },
    {
     "name": "stdout",
     "output_type": "stream",
     "text": [
      "Stock: CHTR\n",
      "Prediction: 0.21973719337989206\n",
      "Time: 14.224940299987793\n"
     ]
    },
    {
     "name": "stderr",
     "output_type": "stream",
     "text": [
      "\r",
      " 20%|██        | 103/503 [51:49<3:26:46, 31.02s/it]"
     ]
    },
    {
     "name": "stdout",
     "output_type": "stream",
     "text": [
      "Stock: CVX\n",
      "Prediction: 0.028169307386999513\n",
      "Time: 20.79865312576294\n"
     ]
    },
    {
     "name": "stderr",
     "output_type": "stream",
     "text": [
      "\r",
      " 21%|██        | 104/503 [52:20<3:26:15, 31.02s/it]"
     ]
    },
    {
     "name": "stdout",
     "output_type": "stream",
     "text": [
      "Stock: CMG\n",
      "Prediction: 0.19252873394603573\n",
      "Time: 15.428648948669434\n"
     ]
    },
    {
     "name": "stderr",
     "output_type": "stream",
     "text": [
      "\r",
      " 21%|██        | 105/503 [52:51<3:25:44, 31.02s/it]"
     ]
    },
    {
     "name": "stdout",
     "output_type": "stream",
     "text": [
      "Stock: CB\n",
      "Prediction: 0.06463341948984015\n",
      "Time: 17.780595541000366\n"
     ]
    },
    {
     "name": "stderr",
     "output_type": "stream",
     "text": [
      "\r",
      " 21%|██        | 106/503 [53:22<3:25:13, 31.02s/it]"
     ]
    },
    {
     "name": "stdout",
     "output_type": "stream",
     "text": [
      "Stock: CHD\n",
      "Prediction: 0.9107388004697805\n",
      "Time: 17.470365047454834\n"
     ]
    },
    {
     "name": "stderr",
     "output_type": "stream",
     "text": [
      "\r",
      " 21%|██▏       | 107/503 [53:53<3:24:42, 31.02s/it]"
     ]
    },
    {
     "name": "stdout",
     "output_type": "stream",
     "text": [
      "Stock: CI\n",
      "Prediction: 0.002250413265501043\n",
      "Time: 17.788342714309692\n"
     ]
    },
    {
     "name": "stderr",
     "output_type": "stream",
     "text": [
      "\r",
      " 21%|██▏       | 108/503 [54:24<3:24:11, 31.02s/it]"
     ]
    },
    {
     "name": "stdout",
     "output_type": "stream",
     "text": [
      "Stock: XEC\n",
      "Prediction: 0.040207535463047325\n",
      "Time: 19.29667329788208\n"
     ]
    },
    {
     "name": "stderr",
     "output_type": "stream",
     "text": [
      "\r",
      " 22%|██▏       | 109/503 [54:55<3:23:40, 31.02s/it]"
     ]
    },
    {
     "name": "stdout",
     "output_type": "stream",
     "text": [
      "Stock: CINF\n",
      "Prediction: 0.03402543529635077\n",
      "Time: 16.32702374458313\n"
     ]
    },
    {
     "name": "stderr",
     "output_type": "stream",
     "text": [
      "\r",
      " 22%|██▏       | 110/503 [55:26<3:23:09, 31.02s/it]"
     ]
    },
    {
     "name": "stdout",
     "output_type": "stream",
     "text": [
      "Stock: CTAS\n",
      "Prediction: 0.28092592328103266\n",
      "Time: 18.446603536605835\n"
     ]
    },
    {
     "name": "stderr",
     "output_type": "stream",
     "text": [
      "\r",
      " 22%|██▏       | 111/503 [55:57<3:22:38, 31.02s/it]"
     ]
    },
    {
     "name": "stdout",
     "output_type": "stream",
     "text": [
      "Stock: CSCO\n",
      "Prediction: 0.8564427299278344\n",
      "Time: 15.695020198822021\n"
     ]
    },
    {
     "name": "stderr",
     "output_type": "stream",
     "text": [
      "\r",
      " 22%|██▏       | 112/503 [56:28<3:22:07, 31.02s/it]"
     ]
    },
    {
     "name": "stdout",
     "output_type": "stream",
     "text": [
      "Stock: C\n",
      "Prediction: 0.6188967859111315\n",
      "Time: 19.603058338165283\n"
     ]
    },
    {
     "name": "stderr",
     "output_type": "stream",
     "text": [
      "\r",
      " 22%|██▏       | 113/503 [56:59<3:21:36, 31.02s/it]"
     ]
    },
    {
     "name": "stdout",
     "output_type": "stream",
     "text": [
      "Stock: CFG\n",
      "Prediction: 0.012243059494630809\n",
      "Time: 11.44898533821106\n"
     ]
    },
    {
     "name": "stderr",
     "output_type": "stream",
     "text": [
      "\r",
      " 23%|██▎       | 114/503 [57:31<3:21:06, 31.02s/it]"
     ]
    },
    {
     "name": "stdout",
     "output_type": "stream",
     "text": [
      "Stock: CTXS\n",
      "Prediction: 0.983702513519047\n",
      "Time: 18.087679386138916\n"
     ]
    },
    {
     "name": "stderr",
     "output_type": "stream",
     "text": [
      "\r",
      " 23%|██▎       | 115/503 [58:02<3:20:34, 31.02s/it]"
     ]
    },
    {
     "name": "stdout",
     "output_type": "stream",
     "text": [
      "Stock: CME\n",
      "Prediction: 0.05503033733327372\n",
      "Time: 15.754047632217407\n"
     ]
    },
    {
     "name": "stderr",
     "output_type": "stream",
     "text": [
      "\r",
      " 23%|██▎       | 116/503 [58:33<3:20:02, 31.01s/it]"
     ]
    },
    {
     "name": "stdout",
     "output_type": "stream",
     "text": [
      "Stock: CMS\n",
      "Prediction: 0.05815896090033271\n",
      "Time: 17.51227617263794\n"
     ]
    },
    {
     "name": "stderr",
     "output_type": "stream",
     "text": [
      "\r",
      " 23%|██▎       | 117/503 [59:04<3:19:31, 31.01s/it]"
     ]
    },
    {
     "name": "stdout",
     "output_type": "stream",
     "text": [
      "Stock: KO\n",
      "Prediction: 0.9984780145603221\n",
      "Time: 16.737163543701172\n"
     ]
    },
    {
     "name": "stderr",
     "output_type": "stream",
     "text": [
      "\r",
      " 23%|██▎       | 118/503 [59:35<3:19:00, 31.02s/it]"
     ]
    },
    {
     "name": "stdout",
     "output_type": "stream",
     "text": [
      "Stock: CTSH\n",
      "Prediction: 0.07255513394378679\n",
      "Time: 18.061166524887085\n"
     ]
    },
    {
     "name": "stderr",
     "output_type": "stream",
     "text": [
      "\r",
      " 24%|██▎       | 119/503 [1:00:06<3:18:30, 31.02s/it]"
     ]
    },
    {
     "name": "stdout",
     "output_type": "stream",
     "text": [
      "Stock: CL\n",
      "Prediction: 0.5270922144647242\n",
      "Time: 16.928359270095825\n"
     ]
    },
    {
     "name": "stderr",
     "output_type": "stream",
     "text": [
      "\r",
      " 24%|██▍       | 120/503 [1:00:37<3:17:59, 31.02s/it]"
     ]
    },
    {
     "name": "stdout",
     "output_type": "stream",
     "text": [
      "Stock: CMCSA\n",
      "Prediction: 0.9997239151551748\n",
      "Time: 18.400726079940796\n"
     ]
    },
    {
     "name": "stderr",
     "output_type": "stream",
     "text": [
      "\r",
      " 24%|██▍       | 121/503 [1:01:08<3:17:28, 31.02s/it]"
     ]
    },
    {
     "name": "stdout",
     "output_type": "stream",
     "text": [
      "Stock: CMA\n",
      "Prediction: 0.020195183071646323\n",
      "Time: 16.197611093521118\n"
     ]
    },
    {
     "name": "stderr",
     "output_type": "stream",
     "text": [
      "\r",
      " 24%|██▍       | 122/503 [1:01:39<3:16:57, 31.02s/it]"
     ]
    },
    {
     "name": "stdout",
     "output_type": "stream",
     "text": [
      "Stock: CAG\n",
      "Prediction: 0.9980550250870246\n",
      "Time: 18.15817427635193\n"
     ]
    },
    {
     "name": "stderr",
     "output_type": "stream",
     "text": [
      "\r",
      " 24%|██▍       | 123/503 [1:02:10<3:16:26, 31.02s/it]"
     ]
    },
    {
     "name": "stdout",
     "output_type": "stream",
     "text": [
      "Stock: CXO\n",
      "Prediction: 6.152332874984172e-05\n",
      "Time: 13.24284315109253\n"
     ]
    },
    {
     "name": "stderr",
     "output_type": "stream",
     "text": [
      "\r",
      " 25%|██▍       | 124/503 [1:02:41<3:15:55, 31.02s/it]"
     ]
    },
    {
     "name": "stdout",
     "output_type": "stream",
     "text": [
      "Stock: COP\n",
      "Prediction: 0.07511504625466481\n",
      "Time: 18.32729959487915\n"
     ]
    },
    {
     "name": "stderr",
     "output_type": "stream",
     "text": [
      "\r",
      " 25%|██▍       | 125/503 [1:03:12<3:15:24, 31.02s/it]"
     ]
    },
    {
     "name": "stdout",
     "output_type": "stream",
     "text": [
      "Stock: ED\n",
      "Prediction: 0.3200926718806263\n",
      "Time: 15.373522758483887\n"
     ]
    },
    {
     "name": "stderr",
     "output_type": "stream",
     "text": [
      "\r",
      " 25%|██▌       | 126/503 [1:03:43<3:14:53, 31.02s/it]"
     ]
    },
    {
     "name": "stdout",
     "output_type": "stream",
     "text": [
      "Stock: STZ\n",
      "Prediction: 0.1988308134925168\n",
      "Time: 23.460999965667725\n"
     ]
    },
    {
     "name": "stderr",
     "output_type": "stream",
     "text": [
      "\r",
      " 25%|██▌       | 127/503 [1:04:14<3:14:21, 31.02s/it]"
     ]
    },
    {
     "name": "stdout",
     "output_type": "stream",
     "text": [
      "Stock: GLW\n"
     ]
    },
    {
     "name": "stderr",
     "output_type": "stream",
     "text": [
      "\r",
      " 25%|██▌       | 128/503 [1:04:28<2:42:48, 26.05s/it]"
     ]
    },
    {
     "name": "stdout",
     "output_type": "stream",
     "text": [
      "Cannot process coz of API\n",
      "Stock: COST\n",
      "Prediction: 0.9851570916178493\n",
      "Time: 19.02742886543274\n"
     ]
    },
    {
     "name": "stderr",
     "output_type": "stream",
     "text": [
      "\r",
      " 26%|██▌       | 129/503 [1:04:59<2:51:39, 27.54s/it]"
     ]
    },
    {
     "name": "stdout",
     "output_type": "stream",
     "text": [
      "Stock: COTY\n",
      "Prediction: 0.49144613399771936\n",
      "Time: 13.993210315704346\n"
     ]
    },
    {
     "name": "stderr",
     "output_type": "stream",
     "text": [
      "\r",
      " 26%|██▌       | 130/503 [1:05:30<2:57:41, 28.58s/it]"
     ]
    },
    {
     "name": "stdout",
     "output_type": "stream",
     "text": [
      "Stock: CCI\n",
      "Prediction: 0.9993726092435187\n",
      "Time: 19.17396092414856\n"
     ]
    },
    {
     "name": "stderr",
     "output_type": "stream",
     "text": [
      "\r",
      " 26%|██▌       | 131/503 [1:06:01<3:01:44, 29.31s/it]"
     ]
    },
    {
     "name": "stdout",
     "output_type": "stream",
     "text": [
      "Stock: CSRA\n",
      "Prediction: 0.46123047251363297\n",
      "Time: 9.760482788085938\n"
     ]
    },
    {
     "name": "stderr",
     "output_type": "stream",
     "text": [
      "\r",
      " 26%|██▌       | 132/503 [1:06:32<3:04:25, 29.83s/it]"
     ]
    },
    {
     "name": "stdout",
     "output_type": "stream",
     "text": [
      "Stock: CSX\n",
      "Prediction: 0.14396176457351795\n",
      "Time: 17.690588235855103\n"
     ]
    },
    {
     "name": "stderr",
     "output_type": "stream",
     "text": [
      "\r",
      " 26%|██▋       | 133/503 [1:07:03<3:06:07, 30.18s/it]"
     ]
    },
    {
     "name": "stdout",
     "output_type": "stream",
     "text": [
      "Stock: CMI\n",
      "Prediction: 0.8971138710053265\n",
      "Time: 15.873708724975586\n"
     ]
    },
    {
     "name": "stderr",
     "output_type": "stream",
     "text": [
      "\r",
      " 27%|██▋       | 134/503 [1:07:34<3:07:10, 30.43s/it]"
     ]
    },
    {
     "name": "stdout",
     "output_type": "stream",
     "text": [
      "Stock: CVS\n",
      "Prediction: 0.8220801690771576\n",
      "Time: 19.85546565055847\n"
     ]
    },
    {
     "name": "stderr",
     "output_type": "stream",
     "text": [
      "\r",
      " 27%|██▋       | 135/503 [1:08:05<3:07:43, 30.61s/it]"
     ]
    },
    {
     "name": "stdout",
     "output_type": "stream",
     "text": [
      "Stock: DHI\n",
      "Prediction: 0.6317498541168871\n",
      "Time: 17.566314220428467\n"
     ]
    },
    {
     "name": "stderr",
     "output_type": "stream",
     "text": [
      "\r",
      " 27%|██▋       | 136/503 [1:08:36<3:07:57, 30.73s/it]"
     ]
    },
    {
     "name": "stdout",
     "output_type": "stream",
     "text": [
      "Stock: DHR\n",
      "Prediction: 0.022379896373652217\n",
      "Time: 18.047160148620605\n"
     ]
    },
    {
     "name": "stderr",
     "output_type": "stream",
     "text": [
      "\r",
      " 27%|██▋       | 137/503 [1:09:07<3:07:58, 30.82s/it]"
     ]
    },
    {
     "name": "stdout",
     "output_type": "stream",
     "text": [
      "Stock: DRI\n",
      "Prediction: 0.10593687410509363\n",
      "Time: 14.915260791778564\n"
     ]
    },
    {
     "name": "stderr",
     "output_type": "stream",
     "text": [
      "\r",
      " 27%|██▋       | 138/503 [1:09:38<3:07:50, 30.88s/it]"
     ]
    },
    {
     "name": "stdout",
     "output_type": "stream",
     "text": [
      "Stock: DVA\n",
      "Prediction: 0.49781312485239915\n",
      "Time: 17.55593991279602\n"
     ]
    },
    {
     "name": "stderr",
     "output_type": "stream",
     "text": [
      "\r",
      " 28%|██▊       | 139/503 [1:10:09<3:07:34, 30.92s/it]"
     ]
    },
    {
     "name": "stdout",
     "output_type": "stream",
     "text": [
      "Stock: DE\n",
      "Prediction: 0.044813345845241936\n",
      "Time: 15.45210886001587\n"
     ]
    },
    {
     "name": "stderr",
     "output_type": "stream",
     "text": [
      "\r",
      " 28%|██▊       | 140/503 [1:10:40<3:07:14, 30.95s/it]"
     ]
    },
    {
     "name": "stdout",
     "output_type": "stream",
     "text": [
      "Stock: DAL\n",
      "Prediction: 0.9772355086365984\n",
      "Time: 16.5255184173584\n"
     ]
    },
    {
     "name": "stderr",
     "output_type": "stream",
     "text": [
      "\r",
      " 28%|██▊       | 141/503 [1:11:11<3:06:50, 30.97s/it]"
     ]
    },
    {
     "name": "stdout",
     "output_type": "stream",
     "text": [
      "Stock: XRAY\n",
      "Prediction: 0.44664088145675507\n",
      "Time: 16.791994094848633\n"
     ]
    },
    {
     "name": "stderr",
     "output_type": "stream",
     "text": [
      "\r",
      " 28%|██▊       | 142/503 [1:11:42<3:06:24, 30.98s/it]"
     ]
    },
    {
     "name": "stdout",
     "output_type": "stream",
     "text": [
      "Stock: DVN\n",
      "Prediction: 0.10395476927794212\n",
      "Time: 18.533992767333984\n"
     ]
    },
    {
     "name": "stderr",
     "output_type": "stream",
     "text": [
      "\r",
      " 28%|██▊       | 143/503 [1:12:13<3:05:57, 30.99s/it]"
     ]
    },
    {
     "name": "stdout",
     "output_type": "stream",
     "text": [
      "Stock: DLR\n",
      "Prediction: 0.97129563916888\n",
      "Time: 15.80257272720337\n"
     ]
    },
    {
     "name": "stderr",
     "output_type": "stream",
     "text": [
      "\r",
      " 29%|██▊       | 144/503 [1:12:44<3:05:29, 31.00s/it]"
     ]
    },
    {
     "name": "stdout",
     "output_type": "stream",
     "text": [
      "Stock: DFS\n",
      "Prediction: 0.014749483135642347\n",
      "Time: 16.429994583129883\n"
     ]
    },
    {
     "name": "stderr",
     "output_type": "stream",
     "text": [
      "\r",
      " 29%|██▉       | 145/503 [1:13:15<3:05:00, 31.01s/it]"
     ]
    },
    {
     "name": "stdout",
     "output_type": "stream",
     "text": [
      "Stock: DISCA\n",
      "Prediction: 0.9998866125779922\n",
      "Time: 16.447386741638184\n"
     ]
    },
    {
     "name": "stderr",
     "output_type": "stream",
     "text": [
      "\r",
      " 29%|██▉       | 146/503 [1:13:46<3:04:30, 31.01s/it]"
     ]
    },
    {
     "name": "stdout",
     "output_type": "stream",
     "text": [
      "Stock: DISCK\n",
      "Prediction: 0.9997306457430758\n",
      "Time: 16.389343738555908\n"
     ]
    },
    {
     "name": "stderr",
     "output_type": "stream",
     "text": [
      "\r",
      " 29%|██▉       | 147/503 [1:14:18<3:04:00, 31.01s/it]"
     ]
    },
    {
     "name": "stdout",
     "output_type": "stream",
     "text": [
      "Stock: DISH\n",
      "Prediction: 0.9787441715419352\n",
      "Time: 17.11498212814331\n"
     ]
    },
    {
     "name": "stderr",
     "output_type": "stream",
     "text": [
      "\r",
      " 29%|██▉       | 148/503 [1:14:49<3:03:29, 31.01s/it]"
     ]
    },
    {
     "name": "stdout",
     "output_type": "stream",
     "text": [
      "Stock: DG\n",
      "Prediction: 0.19884515038854245\n",
      "Time: 14.858253002166748\n"
     ]
    },
    {
     "name": "stderr",
     "output_type": "stream",
     "text": [
      "\r",
      " 30%|██▉       | 149/503 [1:15:20<3:02:59, 31.01s/it]"
     ]
    },
    {
     "name": "stdout",
     "output_type": "stream",
     "text": [
      "Stock: DLTR\n",
      "Prediction: 0.007593001261330757\n",
      "Time: 18.049304008483887\n"
     ]
    },
    {
     "name": "stderr",
     "output_type": "stream",
     "text": [
      "\r",
      " 30%|██▉       | 150/503 [1:15:51<3:02:28, 31.02s/it]"
     ]
    },
    {
     "name": "stdout",
     "output_type": "stream",
     "text": [
      "Stock: D\n",
      "Prediction: 0.9449662739217177\n",
      "Time: 17.80814504623413\n"
     ]
    },
    {
     "name": "stderr",
     "output_type": "stream",
     "text": [
      "\r",
      " 30%|███       | 151/503 [1:16:22<3:01:57, 31.02s/it]"
     ]
    },
    {
     "name": "stdout",
     "output_type": "stream",
     "text": [
      "Stock: DOV\n",
      "Prediction: 0.026344206674853838\n",
      "Time: 22.35413360595703\n"
     ]
    },
    {
     "name": "stderr",
     "output_type": "stream",
     "text": [
      "\r",
      " 30%|███       | 152/503 [1:16:53<3:01:26, 31.01s/it]"
     ]
    },
    {
     "name": "stdout",
     "output_type": "stream",
     "text": [
      "Stock: DWDP\n",
      "Prediction: 0.3614773995672127\n",
      "Time: 10.591287612915039\n"
     ]
    },
    {
     "name": "stderr",
     "output_type": "stream",
     "text": [
      "\r",
      " 30%|███       | 153/503 [1:17:24<3:00:56, 31.02s/it]"
     ]
    },
    {
     "name": "stdout",
     "output_type": "stream",
     "text": [
      "Stock: DPS\n",
      "Prediction: 0.1409490130146342\n",
      "Time: 14.804362535476685\n"
     ]
    },
    {
     "name": "stderr",
     "output_type": "stream",
     "text": [
      "\r",
      " 31%|███       | 154/503 [1:17:55<3:00:25, 31.02s/it]"
     ]
    },
    {
     "name": "stdout",
     "output_type": "stream",
     "text": [
      "Stock: DTE\n",
      "Prediction: 0.5920318627928319\n",
      "Time: 16.870945692062378\n"
     ]
    },
    {
     "name": "stderr",
     "output_type": "stream",
     "text": [
      "\r",
      " 31%|███       | 155/503 [1:18:26<2:59:54, 31.02s/it]"
     ]
    },
    {
     "name": "stdout",
     "output_type": "stream",
     "text": [
      "Stock: DUK\n",
      "Prediction: 0.791416833841158\n",
      "Time: 17.500458240509033\n"
     ]
    },
    {
     "name": "stderr",
     "output_type": "stream",
     "text": [
      "\r",
      " 31%|███       | 156/503 [1:18:57<2:59:22, 31.02s/it]"
     ]
    },
    {
     "name": "stdout",
     "output_type": "stream",
     "text": [
      "Stock: DRE\n",
      "Prediction: 0.8337774782445487\n",
      "Time: 16.584986209869385\n"
     ]
    },
    {
     "name": "stderr",
     "output_type": "stream",
     "text": [
      "\r",
      " 31%|███       | 157/503 [1:19:28<2:58:51, 31.02s/it]"
     ]
    },
    {
     "name": "stdout",
     "output_type": "stream",
     "text": [
      "Stock: DXC\n",
      "Prediction: 0.8054313060629217\n",
      "Time: 13.106568813323975\n"
     ]
    },
    {
     "name": "stderr",
     "output_type": "stream",
     "text": [
      "\r",
      " 31%|███▏      | 158/503 [1:19:59<2:58:21, 31.02s/it]"
     ]
    },
    {
     "name": "stdout",
     "output_type": "stream",
     "text": [
      "Stock: ETFC\n",
      "Prediction: 0.27189252997041563\n",
      "Time: 16.83513569831848\n"
     ]
    },
    {
     "name": "stderr",
     "output_type": "stream",
     "text": [
      "\r",
      " 32%|███▏      | 159/503 [1:20:30<2:57:50, 31.02s/it]"
     ]
    },
    {
     "name": "stdout",
     "output_type": "stream",
     "text": [
      "Stock: EMN\n",
      "Prediction: 0.03448357642448021\n",
      "Time: 17.95741605758667\n"
     ]
    },
    {
     "name": "stderr",
     "output_type": "stream",
     "text": [
      "\r",
      " 32%|███▏      | 160/503 [1:21:01<2:57:18, 31.02s/it]"
     ]
    },
    {
     "name": "stdout",
     "output_type": "stream",
     "text": [
      "Stock: ETN\n",
      "Prediction: 0.09872971914951606\n",
      "Time: 18.775447845458984\n"
     ]
    },
    {
     "name": "stderr",
     "output_type": "stream",
     "text": [
      "\r",
      " 32%|███▏      | 161/503 [1:21:32<2:56:47, 31.02s/it]"
     ]
    },
    {
     "name": "stdout",
     "output_type": "stream",
     "text": [
      "Stock: EBAY\n",
      "Prediction: 0.9977982953544687\n",
      "Time: 19.880685806274414\n"
     ]
    },
    {
     "name": "stderr",
     "output_type": "stream",
     "text": [
      "\r",
      " 32%|███▏      | 162/503 [1:22:03<2:56:16, 31.02s/it]"
     ]
    },
    {
     "name": "stdout",
     "output_type": "stream",
     "text": [
      "Stock: ECL\n",
      "Prediction: 0.35821437168516096\n",
      "Time: 17.61854386329651\n"
     ]
    },
    {
     "name": "stderr",
     "output_type": "stream",
     "text": [
      "\r",
      " 32%|███▏      | 163/503 [1:22:34<2:55:45, 31.02s/it]"
     ]
    },
    {
     "name": "stdout",
     "output_type": "stream",
     "text": [
      "Stock: EIX\n",
      "Prediction: 0.07661369917058787\n",
      "Time: 18.94507670402527\n"
     ]
    },
    {
     "name": "stderr",
     "output_type": "stream",
     "text": [
      "\r",
      " 33%|███▎      | 164/503 [1:23:05<2:55:14, 31.02s/it]"
     ]
    },
    {
     "name": "stdout",
     "output_type": "stream",
     "text": [
      "Stock: EW\n",
      "Prediction: 0.8744932443241304\n",
      "Time: 17.21727418899536\n"
     ]
    },
    {
     "name": "stderr",
     "output_type": "stream",
     "text": [
      "\r",
      " 33%|███▎      | 165/503 [1:23:36<2:54:43, 31.02s/it]"
     ]
    },
    {
     "name": "stdout",
     "output_type": "stream",
     "text": [
      "Stock: EA\n",
      "Prediction: 0.37880100363379643\n",
      "Time: 17.830310344696045\n"
     ]
    },
    {
     "name": "stderr",
     "output_type": "stream",
     "text": [
      "\r",
      " 33%|███▎      | 166/503 [1:24:07<2:54:12, 31.02s/it]"
     ]
    },
    {
     "name": "stdout",
     "output_type": "stream",
     "text": [
      "Stock: EMR\n",
      "Prediction: 0.05887385402350282\n",
      "Time: 17.521358251571655\n"
     ]
    },
    {
     "name": "stderr",
     "output_type": "stream",
     "text": [
      "\r",
      " 33%|███▎      | 167/503 [1:24:38<2:53:41, 31.02s/it]"
     ]
    },
    {
     "name": "stdout",
     "output_type": "stream",
     "text": [
      "Stock: ETR\n",
      "Prediction: 0.547841355025616\n",
      "Time: 17.937267065048218\n"
     ]
    },
    {
     "name": "stderr",
     "output_type": "stream",
     "text": [
      "\r",
      " 33%|███▎      | 168/503 [1:25:09<2:53:10, 31.02s/it]"
     ]
    },
    {
     "name": "stdout",
     "output_type": "stream",
     "text": [
      "Stock: EVHC\n",
      "Prediction: 4.06647029435144e-05\n",
      "Time: 16.538153409957886\n"
     ]
    },
    {
     "name": "stderr",
     "output_type": "stream",
     "text": [
      "\r",
      " 34%|███▎      | 169/503 [1:25:40<2:52:39, 31.02s/it]"
     ]
    },
    {
     "name": "stdout",
     "output_type": "stream",
     "text": [
      "Stock: EOG\n",
      "Prediction: 0.14243291899251634\n",
      "Time: 18.400110006332397\n"
     ]
    },
    {
     "name": "stderr",
     "output_type": "stream",
     "text": [
      "\r",
      " 34%|███▍      | 170/503 [1:26:11<2:52:08, 31.02s/it]"
     ]
    },
    {
     "name": "stdout",
     "output_type": "stream",
     "text": [
      "Stock: EQT\n",
      "Prediction: 0.020179800385665064\n",
      "Time: 17.947672367095947\n"
     ]
    },
    {
     "name": "stderr",
     "output_type": "stream",
     "text": [
      "\r",
      " 34%|███▍      | 171/503 [1:26:42<2:51:37, 31.02s/it]"
     ]
    },
    {
     "name": "stdout",
     "output_type": "stream",
     "text": [
      "Stock: EFX\n",
      "Prediction: 0.8352413323811025\n",
      "Time: 17.679682970046997\n"
     ]
    },
    {
     "name": "stderr",
     "output_type": "stream",
     "text": [
      "\r",
      " 34%|███▍      | 172/503 [1:27:13<2:51:06, 31.02s/it]"
     ]
    },
    {
     "name": "stdout",
     "output_type": "stream",
     "text": [
      "Stock: EQIX\n",
      "Prediction: 0.9496275691503515\n",
      "Time: 14.732937097549438\n"
     ]
    },
    {
     "name": "stderr",
     "output_type": "stream",
     "text": [
      "\r",
      " 34%|███▍      | 173/503 [1:27:44<2:50:35, 31.02s/it]"
     ]
    },
    {
     "name": "stdout",
     "output_type": "stream",
     "text": [
      "Stock: EQR\n",
      "Prediction: 0.9940357976904094\n",
      "Time: 17.898682355880737\n"
     ]
    },
    {
     "name": "stderr",
     "output_type": "stream",
     "text": [
      "\r",
      " 35%|███▍      | 174/503 [1:28:15<2:50:04, 31.02s/it]"
     ]
    },
    {
     "name": "stdout",
     "output_type": "stream",
     "text": [
      "Stock: ESS\n",
      "Prediction: 0.5735135177294649\n",
      "Time: 15.878485441207886\n"
     ]
    },
    {
     "name": "stderr",
     "output_type": "stream",
     "text": [
      "\r",
      " 35%|███▍      | 175/503 [1:28:46<2:49:33, 31.02s/it]"
     ]
    },
    {
     "name": "stdout",
     "output_type": "stream",
     "text": [
      "Stock: EL\n",
      "Prediction: 0.024270766551667072\n",
      "Time: 17.558747053146362\n"
     ]
    },
    {
     "name": "stderr",
     "output_type": "stream",
     "text": [
      "\r",
      " 35%|███▍      | 176/503 [1:29:17<2:49:02, 31.02s/it]"
     ]
    },
    {
     "name": "stdout",
     "output_type": "stream",
     "text": [
      "Stock: RE\n",
      "Prediction: 0.015818070321595525\n",
      "Time: 18.169093370437622\n"
     ]
    },
    {
     "name": "stderr",
     "output_type": "stream",
     "text": [
      "\r",
      " 35%|███▌      | 177/503 [1:29:48<2:48:31, 31.02s/it]"
     ]
    },
    {
     "name": "stdout",
     "output_type": "stream",
     "text": [
      "Stock: ES\n",
      "Prediction: 0.883661688967749\n",
      "Time: 19.59753918647766\n"
     ]
    },
    {
     "name": "stderr",
     "output_type": "stream",
     "text": [
      "\r",
      " 35%|███▌      | 178/503 [1:30:19<2:48:00, 31.02s/it]"
     ]
    },
    {
     "name": "stdout",
     "output_type": "stream",
     "text": [
      "Stock: EXC\n",
      "Prediction: 0.02736982383771792\n",
      "Time: 17.86568260192871\n"
     ]
    },
    {
     "name": "stderr",
     "output_type": "stream",
     "text": [
      "\r",
      " 36%|███▌      | 179/503 [1:30:50<2:47:29, 31.02s/it]"
     ]
    },
    {
     "name": "stdout",
     "output_type": "stream",
     "text": [
      "Stock: EXPE\n",
      "Prediction: 0.19467858042014097\n",
      "Time: 15.944077730178833\n"
     ]
    },
    {
     "name": "stderr",
     "output_type": "stream",
     "text": [
      "\r",
      " 36%|███▌      | 180/503 [1:31:21<2:46:58, 31.02s/it]"
     ]
    },
    {
     "name": "stdout",
     "output_type": "stream",
     "text": [
      "Stock: EXPD\n",
      "Prediction: 0.5426339936539012\n",
      "Time: 23.627562761306763\n"
     ]
    },
    {
     "name": "stderr",
     "output_type": "stream",
     "text": [
      "\r",
      " 36%|███▌      | 181/503 [1:31:52<2:46:26, 31.01s/it]"
     ]
    },
    {
     "name": "stdout",
     "output_type": "stream",
     "text": [
      "Stock: ESRX\n",
      "Prediction: 0.0012582189797980283\n",
      "Time: 18.097245931625366\n"
     ]
    },
    {
     "name": "stderr",
     "output_type": "stream",
     "text": [
      "\r",
      " 36%|███▌      | 182/503 [1:32:23<2:45:55, 31.02s/it]"
     ]
    },
    {
     "name": "stdout",
     "output_type": "stream",
     "text": [
      "Stock: EXR\n",
      "Prediction: 0.78081623948459\n",
      "Time: 16.072354316711426\n"
     ]
    },
    {
     "name": "stderr",
     "output_type": "stream",
     "text": [
      "\r",
      " 36%|███▋      | 183/503 [1:32:54<2:45:25, 31.02s/it]"
     ]
    },
    {
     "name": "stdout",
     "output_type": "stream",
     "text": [
      "Stock: XOM\n",
      "Prediction: 0.06031102132549431\n",
      "Time: 17.16360569000244\n"
     ]
    },
    {
     "name": "stderr",
     "output_type": "stream",
     "text": [
      "\r",
      " 37%|███▋      | 184/503 [1:33:25<2:44:54, 31.02s/it]"
     ]
    },
    {
     "name": "stdout",
     "output_type": "stream",
     "text": [
      "Stock: FFIV\n",
      "Prediction: 0.7289584080115048\n",
      "Time: 17.48251175880432\n"
     ]
    },
    {
     "name": "stderr",
     "output_type": "stream",
     "text": [
      "\r",
      " 37%|███▋      | 185/503 [1:33:56<2:44:23, 31.02s/it]"
     ]
    },
    {
     "name": "stdout",
     "output_type": "stream",
     "text": [
      "Stock: FB\n",
      "Prediction: 0.9013272762974605\n",
      "Time: 13.052934169769287\n"
     ]
    },
    {
     "name": "stderr",
     "output_type": "stream",
     "text": [
      "\r",
      " 37%|███▋      | 186/503 [1:34:27<2:43:51, 31.01s/it]"
     ]
    },
    {
     "name": "stdout",
     "output_type": "stream",
     "text": [
      "Stock: FAST\n",
      "Prediction: 0.22879479191887023\n",
      "Time: 18.031203269958496\n"
     ]
    },
    {
     "name": "stderr",
     "output_type": "stream",
     "text": [
      "\r",
      " 37%|███▋      | 187/503 [1:34:58<2:43:20, 31.01s/it]"
     ]
    },
    {
     "name": "stdout",
     "output_type": "stream",
     "text": [
      "Stock: FRT\n",
      "Prediction: 0.6092955656603901\n",
      "Time: 18.514894247055054\n"
     ]
    },
    {
     "name": "stderr",
     "output_type": "stream",
     "text": [
      "\r",
      " 37%|███▋      | 188/503 [1:35:29<2:42:49, 31.01s/it]"
     ]
    },
    {
     "name": "stdout",
     "output_type": "stream",
     "text": [
      "Stock: FDX\n",
      "Prediction: 0.08469695129824109\n",
      "Time: 17.48547863960266\n"
     ]
    },
    {
     "name": "stderr",
     "output_type": "stream",
     "text": [
      "\r",
      " 38%|███▊      | 189/503 [1:36:00<2:42:17, 31.01s/it]"
     ]
    },
    {
     "name": "stdout",
     "output_type": "stream",
     "text": [
      "Stock: FIS\n",
      "Prediction: 0.8078991275871755\n",
      "Time: 16.95737648010254\n"
     ]
    },
    {
     "name": "stderr",
     "output_type": "stream",
     "text": [
      "\r",
      " 38%|███▊      | 190/503 [1:36:31<2:41:47, 31.01s/it]"
     ]
    },
    {
     "name": "stdout",
     "output_type": "stream",
     "text": [
      "Stock: FITB\n",
      "Prediction: 0.012059053096700917\n",
      "Time: 18.157091856002808\n"
     ]
    },
    {
     "name": "stderr",
     "output_type": "stream",
     "text": [
      "\r",
      " 38%|███▊      | 191/503 [1:37:02<2:41:16, 31.01s/it]"
     ]
    },
    {
     "name": "stdout",
     "output_type": "stream",
     "text": [
      "Stock: FE\n",
      "Prediction: 0.985710810865193\n",
      "Time: 16.701426029205322\n"
     ]
    },
    {
     "name": "stderr",
     "output_type": "stream",
     "text": [
      "\r",
      " 38%|███▊      | 192/503 [1:37:33<2:40:45, 31.02s/it]"
     ]
    },
    {
     "name": "stdout",
     "output_type": "stream",
     "text": [
      "Stock: FISV\n",
      "Prediction: 0.17780704494371702\n",
      "Time: 17.92630434036255\n"
     ]
    },
    {
     "name": "stderr",
     "output_type": "stream",
     "text": [
      "\r",
      " 38%|███▊      | 193/503 [1:38:04<2:40:14, 31.02s/it]"
     ]
    },
    {
     "name": "stdout",
     "output_type": "stream",
     "text": [
      "Stock: FLIR\n",
      "Prediction: 0.22184620674958247\n",
      "Time: 15.216926574707031\n"
     ]
    },
    {
     "name": "stderr",
     "output_type": "stream",
     "text": [
      "\r",
      " 39%|███▊      | 194/503 [1:38:35<2:39:44, 31.02s/it]"
     ]
    },
    {
     "name": "stdout",
     "output_type": "stream",
     "text": [
      "Stock: FLS\n",
      "Prediction: 0.013734777712437998\n",
      "Time: 19.389249801635742\n"
     ]
    },
    {
     "name": "stderr",
     "output_type": "stream",
     "text": [
      "\r",
      " 39%|███▉      | 195/503 [1:39:06<2:39:12, 31.02s/it]"
     ]
    },
    {
     "name": "stdout",
     "output_type": "stream",
     "text": [
      "Stock: FLR\n",
      "Prediction: 0.0019731208105370286\n",
      "Time: 18.06691551208496\n"
     ]
    },
    {
     "name": "stderr",
     "output_type": "stream",
     "text": [
      "\r",
      " 39%|███▉      | 196/503 [1:39:37<2:38:41, 31.02s/it]"
     ]
    },
    {
     "name": "stdout",
     "output_type": "stream",
     "text": [
      "Stock: FMC\n",
      "Prediction: 0.009077844113854221\n",
      "Time: 17.00716757774353\n"
     ]
    },
    {
     "name": "stderr",
     "output_type": "stream",
     "text": [
      "\r",
      " 39%|███▉      | 197/503 [1:40:08<2:38:11, 31.02s/it]"
     ]
    },
    {
     "name": "stdout",
     "output_type": "stream",
     "text": [
      "Stock: FL\n",
      "Prediction: 0.004038432244279281\n",
      "Time: 18.203915119171143\n"
     ]
    },
    {
     "name": "stderr",
     "output_type": "stream",
     "text": [
      "\r",
      " 39%|███▉      | 198/503 [1:40:39<2:37:39, 31.02s/it]"
     ]
    },
    {
     "name": "stdout",
     "output_type": "stream",
     "text": [
      "Stock: F\n",
      "Prediction: 0.8062483142785456\n",
      "Time: 17.860224962234497\n"
     ]
    },
    {
     "name": "stderr",
     "output_type": "stream",
     "text": [
      "\r",
      " 40%|███▉      | 199/503 [1:41:10<2:37:08, 31.02s/it]"
     ]
    },
    {
     "name": "stdout",
     "output_type": "stream",
     "text": [
      "Stock: FTV\n",
      "Prediction: 0.00964551899876175\n",
      "Time: 13.187519550323486\n"
     ]
    },
    {
     "name": "stderr",
     "output_type": "stream",
     "text": [
      "\r",
      " 40%|███▉      | 200/503 [1:41:41<2:36:38, 31.02s/it]"
     ]
    },
    {
     "name": "stdout",
     "output_type": "stream",
     "text": [
      "Stock: FBHS\n",
      "Prediction: 2.0340470094333227e-05\n",
      "Time: 13.661802291870117\n"
     ]
    },
    {
     "name": "stderr",
     "output_type": "stream",
     "text": [
      "\r",
      " 40%|███▉      | 201/503 [1:42:12<2:36:07, 31.02s/it]"
     ]
    },
    {
     "name": "stdout",
     "output_type": "stream",
     "text": [
      "Stock: BEN\n",
      "Prediction: 0.9919616583160161\n",
      "Time: 17.546350717544556\n"
     ]
    },
    {
     "name": "stderr",
     "output_type": "stream",
     "text": [
      "\r",
      " 40%|████      | 202/503 [1:42:43<2:35:36, 31.02s/it]"
     ]
    },
    {
     "name": "stdout",
     "output_type": "stream",
     "text": [
      "Stock: FCX\n",
      "Prediction: 0.0002710921038134949\n",
      "Time: 16.840149879455566\n"
     ]
    },
    {
     "name": "stderr",
     "output_type": "stream",
     "text": [
      "\r",
      " 40%|████      | 203/503 [1:43:14<2:35:05, 31.02s/it]"
     ]
    },
    {
     "name": "stdout",
     "output_type": "stream",
     "text": [
      "Stock: GPS\n",
      "Prediction: 0.028401557522411646\n",
      "Time: 17.333730459213257\n"
     ]
    },
    {
     "name": "stderr",
     "output_type": "stream",
     "text": [
      "\r",
      " 41%|████      | 204/503 [1:43:45<2:34:34, 31.02s/it]"
     ]
    },
    {
     "name": "stdout",
     "output_type": "stream",
     "text": [
      "Stock: GRMN\n",
      "Prediction: 2.993911936925647e-05\n",
      "Time: 20.40354037284851\n"
     ]
    },
    {
     "name": "stderr",
     "output_type": "stream",
     "text": [
      "\r",
      " 41%|████      | 205/503 [1:44:16<2:34:02, 31.02s/it]"
     ]
    },
    {
     "name": "stdout",
     "output_type": "stream",
     "text": [
      "Stock: IT\n",
      "Prediction: 0.026337738668651096\n",
      "Time: 16.464639902114868\n"
     ]
    },
    {
     "name": "stderr",
     "output_type": "stream",
     "text": [
      "\r",
      " 41%|████      | 206/503 [1:44:47<2:33:31, 31.02s/it]"
     ]
    },
    {
     "name": "stdout",
     "output_type": "stream",
     "text": [
      "Stock: GD\n",
      "Prediction: 0.0014780847492078552\n",
      "Time: 17.332857370376587\n"
     ]
    },
    {
     "name": "stderr",
     "output_type": "stream",
     "text": [
      "\r",
      " 41%|████      | 207/503 [1:45:18<2:33:00, 31.02s/it]"
     ]
    },
    {
     "name": "stdout",
     "output_type": "stream",
     "text": [
      "Stock: GE\n",
      "Prediction: 0.9445315219092615\n",
      "Time: 17.57809281349182\n"
     ]
    },
    {
     "name": "stderr",
     "output_type": "stream",
     "text": [
      "\r",
      " 41%|████▏     | 208/503 [1:45:50<2:32:29, 31.02s/it]"
     ]
    },
    {
     "name": "stdout",
     "output_type": "stream",
     "text": [
      "Stock: GGP\n",
      "Prediction: 0.8794439303178309\n",
      "Time: 17.148099184036255\n"
     ]
    },
    {
     "name": "stderr",
     "output_type": "stream",
     "text": [
      "\r",
      " 42%|████▏     | 209/503 [1:46:21<2:31:58, 31.02s/it]"
     ]
    },
    {
     "name": "stdout",
     "output_type": "stream",
     "text": [
      "Stock: GIS\n",
      "Prediction: 0.9988302151360489\n",
      "Time: 19.740877866744995\n"
     ]
    },
    {
     "name": "stderr",
     "output_type": "stream",
     "text": [
      "\r",
      " 42%|████▏     | 210/503 [1:46:52<2:31:27, 31.02s/it]"
     ]
    },
    {
     "name": "stdout",
     "output_type": "stream",
     "text": [
      "Stock: GM\n",
      "Prediction: 0.002872640131572384\n",
      "Time: 13.451709747314453\n"
     ]
    },
    {
     "name": "stderr",
     "output_type": "stream",
     "text": [
      "\r",
      " 42%|████▏     | 211/503 [1:47:23<2:30:57, 31.02s/it]"
     ]
    },
    {
     "name": "stdout",
     "output_type": "stream",
     "text": [
      "Stock: GPC\n",
      "Prediction: 0.2450018261925324\n",
      "Time: 16.591686725616455\n"
     ]
    },
    {
     "name": "stderr",
     "output_type": "stream",
     "text": [
      "\r",
      " 42%|████▏     | 212/503 [1:47:54<2:30:25, 31.01s/it]"
     ]
    },
    {
     "name": "stdout",
     "output_type": "stream",
     "text": [
      "Stock: GILD\n",
      "Prediction: 0.012002126845062137\n",
      "Time: 16.258565664291382\n"
     ]
    },
    {
     "name": "stderr",
     "output_type": "stream",
     "text": [
      "\r",
      " 42%|████▏     | 213/503 [1:48:25<2:29:54, 31.01s/it]"
     ]
    },
    {
     "name": "stdout",
     "output_type": "stream",
     "text": [
      "Stock: GPN\n",
      "Prediction: 0.730731495591694\n",
      "Time: 18.338947296142578\n"
     ]
    },
    {
     "name": "stderr",
     "output_type": "stream",
     "text": [
      "\r",
      " 43%|████▎     | 214/503 [1:48:56<2:29:23, 31.02s/it]"
     ]
    },
    {
     "name": "stdout",
     "output_type": "stream",
     "text": [
      "Stock: GS\n",
      "Prediction: 0.004219556434334381\n",
      "Time: 17.635786533355713\n"
     ]
    },
    {
     "name": "stderr",
     "output_type": "stream",
     "text": [
      "\r",
      " 43%|████▎     | 215/503 [1:49:27<2:28:52, 31.02s/it]"
     ]
    },
    {
     "name": "stdout",
     "output_type": "stream",
     "text": [
      "Stock: GT\n",
      "Prediction: 0.08159129990763371\n",
      "Time: 19.527384996414185\n"
     ]
    },
    {
     "name": "stderr",
     "output_type": "stream",
     "text": [
      "\r",
      " 43%|████▎     | 216/503 [1:49:58<2:28:21, 31.02s/it]"
     ]
    },
    {
     "name": "stdout",
     "output_type": "stream",
     "text": [
      "Stock: GWW\n",
      "Prediction: 0.00451529757933081\n",
      "Time: 16.726142406463623\n"
     ]
    },
    {
     "name": "stderr",
     "output_type": "stream",
     "text": [
      "\r",
      " 43%|████▎     | 217/503 [1:50:29<2:27:50, 31.02s/it]"
     ]
    },
    {
     "name": "stdout",
     "output_type": "stream",
     "text": [
      "Stock: HAL\n",
      "Prediction: 0.06623598312925065\n",
      "Time: 16.87414813041687\n"
     ]
    },
    {
     "name": "stderr",
     "output_type": "stream",
     "text": [
      "\r",
      " 43%|████▎     | 218/503 [1:51:00<2:27:19, 31.02s/it]"
     ]
    },
    {
     "name": "stdout",
     "output_type": "stream",
     "text": [
      "Stock: HBI\n",
      "Prediction: 0.8763601791045913\n",
      "Time: 15.892493724822998\n"
     ]
    },
    {
     "name": "stderr",
     "output_type": "stream",
     "text": [
      "\r",
      " 44%|████▎     | 219/503 [1:51:31<2:26:48, 31.02s/it]"
     ]
    },
    {
     "name": "stdout",
     "output_type": "stream",
     "text": [
      "Stock: HOG\n",
      "Prediction: 0.9838049234882498\n",
      "Time: 18.42658543586731\n"
     ]
    },
    {
     "name": "stderr",
     "output_type": "stream",
     "text": [
      "\r",
      " 44%|████▎     | 220/503 [1:52:02<2:26:17, 31.02s/it]"
     ]
    },
    {
     "name": "stdout",
     "output_type": "stream",
     "text": [
      "Stock: HRS\n",
      "Prediction: 0.06055456476600967\n",
      "Time: 16.377771854400635\n"
     ]
    },
    {
     "name": "stderr",
     "output_type": "stream",
     "text": [
      "\r",
      " 44%|████▍     | 221/503 [1:52:33<2:25:46, 31.02s/it]"
     ]
    },
    {
     "name": "stdout",
     "output_type": "stream",
     "text": [
      "Stock: HIG\n",
      "Prediction: 0.15305366849960744\n",
      "Time: 17.34212374687195\n"
     ]
    },
    {
     "name": "stderr",
     "output_type": "stream",
     "text": [
      "\r",
      " 44%|████▍     | 222/503 [1:53:04<2:25:15, 31.02s/it]"
     ]
    },
    {
     "name": "stdout",
     "output_type": "stream",
     "text": [
      "Stock: HAS\n",
      "Prediction: 0.11752541849943446\n",
      "Time: 16.55562973022461\n"
     ]
    },
    {
     "name": "stderr",
     "output_type": "stream",
     "text": [
      "\r",
      " 44%|████▍     | 223/503 [1:53:35<2:24:44, 31.02s/it]"
     ]
    },
    {
     "name": "stdout",
     "output_type": "stream",
     "text": [
      "Stock: HCA\n",
      "Prediction: 0.002137171174502407\n",
      "Time: 14.801398754119873\n"
     ]
    },
    {
     "name": "stderr",
     "output_type": "stream",
     "text": [
      "\r",
      " 45%|████▍     | 224/503 [1:54:06<2:24:13, 31.02s/it]"
     ]
    },
    {
     "name": "stdout",
     "output_type": "stream",
     "text": [
      "Stock: HCP\n",
      "Prediction: 0.03453415158029044\n",
      "Time: 16.138529777526855\n"
     ]
    },
    {
     "name": "stderr",
     "output_type": "stream",
     "text": [
      "\r",
      " 45%|████▍     | 225/503 [1:54:37<2:23:42, 31.02s/it]"
     ]
    },
    {
     "name": "stdout",
     "output_type": "stream",
     "text": [
      "Stock: HP\n",
      "Prediction: 0.03991791726595069\n",
      "Time: 17.70366907119751\n"
     ]
    },
    {
     "name": "stderr",
     "output_type": "stream",
     "text": [
      "\r",
      " 45%|████▍     | 226/503 [1:55:08<2:23:11, 31.02s/it]"
     ]
    },
    {
     "name": "stdout",
     "output_type": "stream",
     "text": [
      "Stock: HSIC\n",
      "Prediction: 0.258131923653172\n",
      "Time: 17.591180562973022\n"
     ]
    },
    {
     "name": "stderr",
     "output_type": "stream",
     "text": [
      "\r",
      " 45%|████▌     | 227/503 [1:55:39<2:22:40, 31.02s/it]"
     ]
    },
    {
     "name": "stdout",
     "output_type": "stream",
     "text": [
      "Stock: HES\n",
      "Prediction: 0.11005826743697278\n",
      "Time: 16.234084606170654\n"
     ]
    },
    {
     "name": "stderr",
     "output_type": "stream",
     "text": [
      "\r",
      " 45%|████▌     | 228/503 [1:56:10<2:22:09, 31.02s/it]"
     ]
    },
    {
     "name": "stdout",
     "output_type": "stream",
     "text": [
      "Stock: HPE\n",
      "Prediction: 0.535399968823831\n",
      "Time: 11.93775486946106\n"
     ]
    },
    {
     "name": "stderr",
     "output_type": "stream",
     "text": [
      "\r",
      " 46%|████▌     | 229/503 [1:56:41<2:21:39, 31.02s/it]"
     ]
    },
    {
     "name": "stdout",
     "output_type": "stream",
     "text": [
      "Stock: HLT\n",
      "Prediction: 0.20139898302788664\n",
      "Time: 13.417370319366455\n"
     ]
    },
    {
     "name": "stderr",
     "output_type": "stream",
     "text": [
      "\r",
      " 46%|████▌     | 230/503 [1:57:12<2:21:08, 31.02s/it]"
     ]
    },
    {
     "name": "stdout",
     "output_type": "stream",
     "text": [
      "Stock: HOLX\n",
      "Prediction: 0.0080817580003677\n",
      "Time: 15.398119688034058\n"
     ]
    },
    {
     "name": "stderr",
     "output_type": "stream",
     "text": [
      "\r",
      " 46%|████▌     | 231/503 [1:57:43<2:20:37, 31.02s/it]"
     ]
    },
    {
     "name": "stdout",
     "output_type": "stream",
     "text": [
      "Stock: HD\n",
      "Prediction: 0.030860321502925298\n",
      "Time: 16.158817291259766\n"
     ]
    },
    {
     "name": "stderr",
     "output_type": "stream",
     "text": [
      "\r",
      " 46%|████▌     | 232/503 [1:58:14<2:20:06, 31.02s/it]"
     ]
    },
    {
     "name": "stdout",
     "output_type": "stream",
     "text": [
      "Stock: HON\n",
      "Prediction: 0.7154154027091937\n",
      "Time: 15.767398357391357\n"
     ]
    },
    {
     "name": "stderr",
     "output_type": "stream",
     "text": [
      "\r",
      " 46%|████▋     | 233/503 [1:58:45<2:19:35, 31.02s/it]"
     ]
    },
    {
     "name": "stdout",
     "output_type": "stream",
     "text": [
      "Stock: HRL\n",
      "Prediction: 0.9999814252252863\n",
      "Time: 17.850364208221436\n"
     ]
    },
    {
     "name": "stderr",
     "output_type": "stream",
     "text": [
      "\r",
      " 47%|████▋     | 234/503 [1:59:16<2:19:03, 31.02s/it]"
     ]
    },
    {
     "name": "stdout",
     "output_type": "stream",
     "text": [
      "Stock: HST\n",
      "Prediction: 0.0008653748774674043\n",
      "Time: 17.30665397644043\n"
     ]
    },
    {
     "name": "stderr",
     "output_type": "stream",
     "text": [
      "\r",
      " 47%|████▋     | 235/503 [1:59:47<2:18:32, 31.02s/it]"
     ]
    },
    {
     "name": "stdout",
     "output_type": "stream",
     "text": [
      "Stock: HPQ\n",
      "Prediction: 0.0012908598980994927\n",
      "Time: 18.313732147216797\n"
     ]
    },
    {
     "name": "stderr",
     "output_type": "stream",
     "text": [
      "\r",
      " 47%|████▋     | 236/503 [2:00:18<2:18:01, 31.02s/it]"
     ]
    },
    {
     "name": "stdout",
     "output_type": "stream",
     "text": [
      "Stock: HUM\n",
      "Prediction: 0.0031187678208506593\n",
      "Time: 16.278565168380737\n"
     ]
    },
    {
     "name": "stderr",
     "output_type": "stream",
     "text": [
      "\r",
      " 47%|████▋     | 237/503 [2:00:49<2:17:30, 31.02s/it]"
     ]
    },
    {
     "name": "stdout",
     "output_type": "stream",
     "text": [
      "Stock: HBAN\n",
      "Prediction: 0.2847309256843513\n",
      "Time: 17.48479175567627\n"
     ]
    },
    {
     "name": "stderr",
     "output_type": "stream",
     "text": [
      "\r",
      " 47%|████▋     | 238/503 [2:01:20<2:16:59, 31.02s/it]"
     ]
    },
    {
     "name": "stdout",
     "output_type": "stream",
     "text": [
      "Stock: HII\n",
      "Prediction: 0.0004137481831365425\n",
      "Time: 18.083858966827393\n"
     ]
    },
    {
     "name": "stderr",
     "output_type": "stream",
     "text": [
      "\r",
      " 48%|████▊     | 239/503 [2:01:51<2:16:28, 31.02s/it]"
     ]
    },
    {
     "name": "stdout",
     "output_type": "stream",
     "text": [
      "Stock: IDXX\n",
      "Prediction: 0.011164184264592765\n",
      "Time: 17.552448987960815\n"
     ]
    },
    {
     "name": "stderr",
     "output_type": "stream",
     "text": [
      "\r",
      " 48%|████▊     | 240/503 [2:02:22<2:15:57, 31.02s/it]"
     ]
    },
    {
     "name": "stdout",
     "output_type": "stream",
     "text": [
      "Stock: INFO\n",
      "Prediction: 0.9362504304861318\n",
      "Time: 11.936461210250854\n"
     ]
    },
    {
     "name": "stderr",
     "output_type": "stream",
     "text": [
      "\r",
      " 48%|████▊     | 241/503 [2:02:53<2:15:26, 31.02s/it]"
     ]
    },
    {
     "name": "stdout",
     "output_type": "stream",
     "text": [
      "Stock: ITW\n",
      "Prediction: 0.006890063041716791\n",
      "Time: 17.668147325515747\n"
     ]
    },
    {
     "name": "stderr",
     "output_type": "stream",
     "text": [
      "\r",
      " 48%|████▊     | 242/503 [2:03:24<2:14:55, 31.02s/it]"
     ]
    },
    {
     "name": "stdout",
     "output_type": "stream",
     "text": [
      "Stock: ILMN\n",
      "Prediction: 0.9025015910211891\n",
      "Time: 16.843957901000977\n"
     ]
    },
    {
     "name": "stderr",
     "output_type": "stream",
     "text": [
      "\r",
      " 48%|████▊     | 243/503 [2:03:55<2:14:24, 31.02s/it]"
     ]
    },
    {
     "name": "stdout",
     "output_type": "stream",
     "text": [
      "Stock: INCY\n",
      "Prediction: 0.045816258235735784\n",
      "Time: 17.096060276031494\n"
     ]
    },
    {
     "name": "stderr",
     "output_type": "stream",
     "text": [
      "\r",
      " 49%|████▊     | 244/503 [2:04:26<2:13:53, 31.02s/it]"
     ]
    },
    {
     "name": "stdout",
     "output_type": "stream",
     "text": [
      "Stock: IR\n",
      "Prediction: 0.017324376365906363\n",
      "Time: 12.278662919998169\n"
     ]
    },
    {
     "name": "stderr",
     "output_type": "stream",
     "text": [
      "\r",
      " 49%|████▊     | 245/503 [2:04:57<2:13:22, 31.02s/it]"
     ]
    },
    {
     "name": "stdout",
     "output_type": "stream",
     "text": [
      "Stock: INTC\n",
      "Prediction: 0.2860020084868798\n",
      "Time: 15.638954401016235\n"
     ]
    },
    {
     "name": "stderr",
     "output_type": "stream",
     "text": [
      "\r",
      " 49%|████▉     | 246/503 [2:05:28<2:12:51, 31.02s/it]"
     ]
    },
    {
     "name": "stdout",
     "output_type": "stream",
     "text": [
      "Stock: ICE\n",
      "Prediction: 0.49325177097366374\n",
      "Time: 15.594347476959229\n"
     ]
    },
    {
     "name": "stderr",
     "output_type": "stream",
     "text": [
      "\r",
      " 49%|████▉     | 247/503 [2:05:59<2:12:20, 31.02s/it]"
     ]
    },
    {
     "name": "stdout",
     "output_type": "stream",
     "text": [
      "Stock: IBM\n",
      "Prediction: 0.9839478995551842\n",
      "Time: 16.641862392425537\n"
     ]
    },
    {
     "name": "stderr",
     "output_type": "stream",
     "text": [
      "\r",
      " 49%|████▉     | 248/503 [2:06:30<2:11:49, 31.02s/it]"
     ]
    },
    {
     "name": "stdout",
     "output_type": "stream",
     "text": [
      "Stock: IP\n",
      "Prediction: 0.3704499134711736\n",
      "Time: 17.58575940132141\n"
     ]
    },
    {
     "name": "stderr",
     "output_type": "stream",
     "text": [
      "\r",
      " 50%|████▉     | 249/503 [2:07:01<2:11:18, 31.02s/it]"
     ]
    },
    {
     "name": "stdout",
     "output_type": "stream",
     "text": [
      "Stock: IPG\n",
      "Prediction: 0.9974396019482642\n",
      "Time: 17.000697135925293\n"
     ]
    },
    {
     "name": "stderr",
     "output_type": "stream",
     "text": [
      "\r",
      " 50%|████▉     | 250/503 [2:07:32<2:10:47, 31.02s/it]"
     ]
    },
    {
     "name": "stdout",
     "output_type": "stream",
     "text": [
      "Stock: IFF\n",
      "Prediction: 0.04836698550919665\n",
      "Time: 18.913217782974243\n"
     ]
    },
    {
     "name": "stderr",
     "output_type": "stream",
     "text": [
      "\r",
      " 50%|████▉     | 251/503 [2:08:03<2:10:16, 31.02s/it]"
     ]
    },
    {
     "name": "stdout",
     "output_type": "stream",
     "text": [
      "Stock: INTU\n",
      "Prediction: 0.8567628561390499\n",
      "Time: 16.419250011444092\n"
     ]
    },
    {
     "name": "stderr",
     "output_type": "stream",
     "text": [
      "\r",
      " 50%|█████     | 252/503 [2:08:34<2:09:45, 31.02s/it]"
     ]
    },
    {
     "name": "stdout",
     "output_type": "stream",
     "text": [
      "Stock: ISRG\n",
      "Prediction: 0.9977194382266793\n",
      "Time: 17.042698621749878\n"
     ]
    },
    {
     "name": "stderr",
     "output_type": "stream",
     "text": [
      "\r",
      " 50%|█████     | 253/503 [2:09:05<2:09:14, 31.02s/it]"
     ]
    },
    {
     "name": "stdout",
     "output_type": "stream",
     "text": [
      "Stock: IVZ\n",
      "Prediction: 0.8764319376219878\n",
      "Time: 16.666132926940918\n"
     ]
    },
    {
     "name": "stderr",
     "output_type": "stream",
     "text": [
      "\r",
      " 50%|█████     | 254/503 [2:09:36<2:08:43, 31.02s/it]"
     ]
    },
    {
     "name": "stdout",
     "output_type": "stream",
     "text": [
      "Stock: IPGP\n",
      "Prediction: 0.012181552535294446\n",
      "Time: 16.47319746017456\n"
     ]
    },
    {
     "name": "stderr",
     "output_type": "stream",
     "text": [
      "\r",
      " 51%|█████     | 255/503 [2:10:07<2:08:12, 31.02s/it]"
     ]
    },
    {
     "name": "stdout",
     "output_type": "stream",
     "text": [
      "Stock: IQV\n",
      "Prediction: 0.015364259389268033\n",
      "Time: 12.493551969528198\n"
     ]
    },
    {
     "name": "stderr",
     "output_type": "stream",
     "text": [
      "\r",
      " 51%|█████     | 256/503 [2:10:38<2:07:41, 31.02s/it]"
     ]
    },
    {
     "name": "stdout",
     "output_type": "stream",
     "text": [
      "Stock: IRM\n",
      "Prediction: 0.9924083803412351\n",
      "Time: 17.06485652923584\n"
     ]
    },
    {
     "name": "stderr",
     "output_type": "stream",
     "text": [
      "\r",
      " 51%|█████     | 257/503 [2:11:09<2:07:10, 31.02s/it]"
     ]
    },
    {
     "name": "stdout",
     "output_type": "stream",
     "text": [
      "Stock: JBHT\n",
      "Prediction: 0.02190981119700715\n",
      "Time: 17.045120239257812\n"
     ]
    },
    {
     "name": "stderr",
     "output_type": "stream",
     "text": [
      "\r",
      " 51%|█████▏    | 258/503 [2:11:40<2:06:39, 31.02s/it]"
     ]
    },
    {
     "name": "stdout",
     "output_type": "stream",
     "text": [
      "Stock: JEC\n",
      "Prediction: 0.006262471056323046\n",
      "Time: 17.720009803771973\n"
     ]
    },
    {
     "name": "stderr",
     "output_type": "stream",
     "text": [
      "\r",
      " 51%|█████▏    | 259/503 [2:12:11<2:06:07, 31.02s/it]"
     ]
    },
    {
     "name": "stdout",
     "output_type": "stream",
     "text": [
      "Stock: SJM\n",
      "Prediction: 0.9998567724584685\n",
      "Time: 18.39442753791809\n"
     ]
    },
    {
     "name": "stderr",
     "output_type": "stream",
     "text": [
      "\r",
      " 52%|█████▏    | 260/503 [2:12:42<2:05:37, 31.02s/it]"
     ]
    },
    {
     "name": "stdout",
     "output_type": "stream",
     "text": [
      "Stock: JNJ\n",
      "Prediction: 0.9999339493372341\n",
      "Time: 17.261237859725952\n"
     ]
    },
    {
     "name": "stderr",
     "output_type": "stream",
     "text": [
      "\r",
      " 52%|█████▏    | 261/503 [2:13:13<2:05:06, 31.02s/it]"
     ]
    },
    {
     "name": "stdout",
     "output_type": "stream",
     "text": [
      "Stock: JCI\n",
      "Prediction: 6.504391640378423e-05\n",
      "Time: 16.681300163269043\n"
     ]
    },
    {
     "name": "stderr",
     "output_type": "stream",
     "text": [
      "\r",
      " 52%|█████▏    | 262/503 [2:13:44<2:04:35, 31.02s/it]"
     ]
    },
    {
     "name": "stdout",
     "output_type": "stream",
     "text": [
      "Stock: JPM\n",
      "Prediction: 0.011720575128745659\n",
      "Time: 17.60634160041809\n"
     ]
    },
    {
     "name": "stderr",
     "output_type": "stream",
     "text": [
      "\r",
      " 52%|█████▏    | 263/503 [2:14:15<2:04:04, 31.02s/it]"
     ]
    },
    {
     "name": "stdout",
     "output_type": "stream",
     "text": [
      "Stock: JNPR\n",
      "Prediction: 0.9784201563877889\n",
      "Time: 15.86243748664856\n"
     ]
    },
    {
     "name": "stderr",
     "output_type": "stream",
     "text": [
      "\r",
      " 52%|█████▏    | 264/503 [2:14:46<2:03:32, 31.01s/it]"
     ]
    },
    {
     "name": "stdout",
     "output_type": "stream",
     "text": [
      "Stock: KSU\n",
      "Prediction: 0.0014632613733989732\n",
      "Time: 17.39343571662903\n"
     ]
    },
    {
     "name": "stderr",
     "output_type": "stream",
     "text": [
      "\r",
      " 53%|█████▎    | 265/503 [2:15:17<2:03:01, 31.01s/it]"
     ]
    },
    {
     "name": "stdout",
     "output_type": "stream",
     "text": [
      "Stock: K\n",
      "Prediction: 0.997909021009285\n",
      "Time: 18.564700603485107\n"
     ]
    },
    {
     "name": "stderr",
     "output_type": "stream",
     "text": [
      "\r",
      " 53%|█████▎    | 266/503 [2:15:48<2:02:30, 31.01s/it]"
     ]
    },
    {
     "name": "stdout",
     "output_type": "stream",
     "text": [
      "Stock: KEY\n"
     ]
    }
   ],
   "source": [
    "stocks_to_buy_ti, stocks_to_buy, predictions = identify_stocks_to_buy_with_model(\n",
    "    ti, \n",
    "    sp_500_symbols_filtered, \n",
    "    classifier, \n",
    "    tech_ind_df_offset, \n",
    "    tech_ind_df_scale\n",
    ")"
   ]
  },
  {
   "cell_type": "code",
   "execution_count": null,
   "metadata": {},
   "outputs": [],
   "source": [
    "stock_pred = sorted(zip(stocks_to_buy, predictions), key=lambda x: x[1], reverse=True)\n",
    "for s, p in stock_pred:\n",
    "    print('Stock: {} | Pred: {}'.format(s, p))"
   ]
  },
  {
   "cell_type": "code",
   "execution_count": null,
   "metadata": {},
   "outputs": [],
   "source": []
  }
 ],
 "metadata": {
  "kernelspec": {
   "display_name": "Python 3",
   "language": "python",
   "name": "python3"
  },
  "language_info": {
   "codemirror_mode": {
    "name": "ipython",
    "version": 3
   },
   "file_extension": ".py",
   "mimetype": "text/x-python",
   "name": "python",
   "nbconvert_exporter": "python",
   "pygments_lexer": "ipython3",
   "version": "3.6.9"
  }
 },
 "nbformat": 4,
 "nbformat_minor": 2
}
